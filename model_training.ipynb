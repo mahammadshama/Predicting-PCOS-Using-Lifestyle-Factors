{
 "cells": [
  {
   "cell_type": "code",
   "execution_count": 8,
   "id": "19433d77",
   "metadata": {},
   "outputs": [],
   "source": [
    "import numpy as np\n",
    "import pandas as pd\n",
    "import matplotlib.pyplot as plt\n",
    "import seaborn as sns"
   ]
  },
  {
   "cell_type": "code",
   "execution_count": 9,
   "id": "0c9ce288",
   "metadata": {},
   "outputs": [],
   "source": [
    "#loading datasets\n",
    "train = pd.read_csv('train.csv')\n",
    "test = pd.read_csv('test.csv')"
   ]
  },
  {
   "cell_type": "code",
   "execution_count": 10,
   "id": "bb0619c6",
   "metadata": {},
   "outputs": [
    {
     "data": {
      "text/html": [
       "<div>\n",
       "<style scoped>\n",
       "    .dataframe tbody tr th:only-of-type {\n",
       "        vertical-align: middle;\n",
       "    }\n",
       "\n",
       "    .dataframe tbody tr th {\n",
       "        vertical-align: top;\n",
       "    }\n",
       "\n",
       "    .dataframe thead th {\n",
       "        text-align: right;\n",
       "    }\n",
       "</style>\n",
       "<table border=\"1\" class=\"dataframe\">\n",
       "  <thead>\n",
       "    <tr style=\"text-align: right;\">\n",
       "      <th></th>\n",
       "      <th>ID</th>\n",
       "      <th>Age</th>\n",
       "      <th>Weight_kg</th>\n",
       "      <th>PCOS</th>\n",
       "      <th>Hormonal_Imbalance</th>\n",
       "      <th>Hyperandrogenism</th>\n",
       "      <th>Hirsutism</th>\n",
       "      <th>Conception_Difficulty</th>\n",
       "      <th>Insulin_Resistance</th>\n",
       "      <th>Exercise_Frequency</th>\n",
       "      <th>Exercise_Type</th>\n",
       "      <th>Exercise_Duration</th>\n",
       "      <th>Sleep_Hours</th>\n",
       "      <th>Exercise_Benefit</th>\n",
       "    </tr>\n",
       "  </thead>\n",
       "  <tbody>\n",
       "    <tr>\n",
       "      <th>0</th>\n",
       "      <td>0</td>\n",
       "      <td>20-25</td>\n",
       "      <td>64.0</td>\n",
       "      <td>No</td>\n",
       "      <td>No</td>\n",
       "      <td>No</td>\n",
       "      <td>No</td>\n",
       "      <td>No</td>\n",
       "      <td>No</td>\n",
       "      <td>Rarely</td>\n",
       "      <td>Cardio (e.g., running, cycling, swimming)</td>\n",
       "      <td>30 minutes</td>\n",
       "      <td>Less than 6 hours</td>\n",
       "      <td>Somewhat</td>\n",
       "    </tr>\n",
       "    <tr>\n",
       "      <th>1</th>\n",
       "      <td>1</td>\n",
       "      <td>15-20</td>\n",
       "      <td>55.0</td>\n",
       "      <td>No</td>\n",
       "      <td>No</td>\n",
       "      <td>No</td>\n",
       "      <td>No</td>\n",
       "      <td>No</td>\n",
       "      <td>No</td>\n",
       "      <td>6-8 Times a Week</td>\n",
       "      <td>No Exercise</td>\n",
       "      <td>Less than 30 minutes</td>\n",
       "      <td>6-8 hours</td>\n",
       "      <td>Somewhat</td>\n",
       "    </tr>\n",
       "    <tr>\n",
       "      <th>2</th>\n",
       "      <td>2</td>\n",
       "      <td>15-20</td>\n",
       "      <td>91.0</td>\n",
       "      <td>No</td>\n",
       "      <td>No</td>\n",
       "      <td>No</td>\n",
       "      <td>Yes</td>\n",
       "      <td>No</td>\n",
       "      <td>No</td>\n",
       "      <td>Rarely</td>\n",
       "      <td>Cardio (e.g., running, cycling, swimming)</td>\n",
       "      <td>Less than 30 minutes</td>\n",
       "      <td>6-8 hours</td>\n",
       "      <td>Somewhat</td>\n",
       "    </tr>\n",
       "    <tr>\n",
       "      <th>3</th>\n",
       "      <td>3</td>\n",
       "      <td>15-20</td>\n",
       "      <td>56.0</td>\n",
       "      <td>No</td>\n",
       "      <td>No</td>\n",
       "      <td>No</td>\n",
       "      <td>No</td>\n",
       "      <td>No</td>\n",
       "      <td>No</td>\n",
       "      <td>6-8 Times a Week</td>\n",
       "      <td>Cardio (e.g., running, cycling, swimming)</td>\n",
       "      <td>45 minutes</td>\n",
       "      <td>6-8 hours</td>\n",
       "      <td>Not at All</td>\n",
       "    </tr>\n",
       "    <tr>\n",
       "      <th>4</th>\n",
       "      <td>4</td>\n",
       "      <td>15-20</td>\n",
       "      <td>47.0</td>\n",
       "      <td>No</td>\n",
       "      <td>Yes</td>\n",
       "      <td>No</td>\n",
       "      <td>No</td>\n",
       "      <td>No</td>\n",
       "      <td>No</td>\n",
       "      <td>Rarely</td>\n",
       "      <td>No Exercise</td>\n",
       "      <td>Not Applicable</td>\n",
       "      <td>6-8 hours</td>\n",
       "      <td>Not Much</td>\n",
       "    </tr>\n",
       "    <tr>\n",
       "      <th>...</th>\n",
       "      <td>...</td>\n",
       "      <td>...</td>\n",
       "      <td>...</td>\n",
       "      <td>...</td>\n",
       "      <td>...</td>\n",
       "      <td>...</td>\n",
       "      <td>...</td>\n",
       "      <td>...</td>\n",
       "      <td>...</td>\n",
       "      <td>...</td>\n",
       "      <td>...</td>\n",
       "      <td>...</td>\n",
       "      <td>...</td>\n",
       "      <td>...</td>\n",
       "    </tr>\n",
       "    <tr>\n",
       "      <th>205</th>\n",
       "      <td>205</td>\n",
       "      <td>20-25</td>\n",
       "      <td>57.0</td>\n",
       "      <td>No</td>\n",
       "      <td>No</td>\n",
       "      <td>No</td>\n",
       "      <td>No</td>\n",
       "      <td>No</td>\n",
       "      <td>No</td>\n",
       "      <td>Rarely</td>\n",
       "      <td>No Exercise</td>\n",
       "      <td>Not Applicable</td>\n",
       "      <td>Less than 6 hours</td>\n",
       "      <td>Somewhat</td>\n",
       "    </tr>\n",
       "    <tr>\n",
       "      <th>206</th>\n",
       "      <td>206</td>\n",
       "      <td>Less than 20</td>\n",
       "      <td>53.6</td>\n",
       "      <td>No</td>\n",
       "      <td>Yes</td>\n",
       "      <td>Yes</td>\n",
       "      <td>Yes</td>\n",
       "      <td>No</td>\n",
       "      <td>No</td>\n",
       "      <td>Rarely</td>\n",
       "      <td>No Exercise</td>\n",
       "      <td>Not Applicable</td>\n",
       "      <td>6-8 hours</td>\n",
       "      <td>Somewhat</td>\n",
       "    </tr>\n",
       "    <tr>\n",
       "      <th>207</th>\n",
       "      <td>207</td>\n",
       "      <td>30-35</td>\n",
       "      <td>30.0</td>\n",
       "      <td>No</td>\n",
       "      <td>No</td>\n",
       "      <td>No</td>\n",
       "      <td>No</td>\n",
       "      <td>No</td>\n",
       "      <td>No</td>\n",
       "      <td>1-2 Times a Week</td>\n",
       "      <td>Cardio (e.g.</td>\n",
       "      <td>30 minutes</td>\n",
       "      <td>6-8 hours</td>\n",
       "      <td>Somewhat</td>\n",
       "    </tr>\n",
       "    <tr>\n",
       "      <th>208</th>\n",
       "      <td>208</td>\n",
       "      <td>20-25</td>\n",
       "      <td>65.0</td>\n",
       "      <td>No</td>\n",
       "      <td>No</td>\n",
       "      <td>No</td>\n",
       "      <td>Yes</td>\n",
       "      <td>No</td>\n",
       "      <td>No</td>\n",
       "      <td>1-2 Times a Week</td>\n",
       "      <td>No Exercise</td>\n",
       "      <td>Less than 30 minutes</td>\n",
       "      <td>Less than 6 hours</td>\n",
       "      <td>Somewhat</td>\n",
       "    </tr>\n",
       "    <tr>\n",
       "      <th>209</th>\n",
       "      <td>209</td>\n",
       "      <td>20-25</td>\n",
       "      <td>60.0</td>\n",
       "      <td>Yes</td>\n",
       "      <td>Yes</td>\n",
       "      <td>No</td>\n",
       "      <td>Yes</td>\n",
       "      <td>No</td>\n",
       "      <td>No</td>\n",
       "      <td>3-4 Times a Week</td>\n",
       "      <td>Cardio (e.g.</td>\n",
       "      <td>Not Applicable</td>\n",
       "      <td>Less than 6 hours</td>\n",
       "      <td>Somewhat</td>\n",
       "    </tr>\n",
       "  </tbody>\n",
       "</table>\n",
       "<p>210 rows × 14 columns</p>\n",
       "</div>"
      ],
      "text/plain": [
       "      ID           Age  Weight_kg PCOS Hormonal_Imbalance Hyperandrogenism  \\\n",
       "0      0         20-25       64.0   No                 No               No   \n",
       "1      1         15-20       55.0   No                 No               No   \n",
       "2      2         15-20       91.0   No                 No               No   \n",
       "3      3         15-20       56.0   No                 No               No   \n",
       "4      4         15-20       47.0   No                Yes               No   \n",
       "..   ...           ...        ...  ...                ...              ...   \n",
       "205  205         20-25       57.0   No                 No               No   \n",
       "206  206  Less than 20       53.6   No                Yes              Yes   \n",
       "207  207         30-35       30.0   No                 No               No   \n",
       "208  208         20-25       65.0   No                 No               No   \n",
       "209  209         20-25       60.0  Yes                Yes               No   \n",
       "\n",
       "    Hirsutism Conception_Difficulty Insulin_Resistance Exercise_Frequency  \\\n",
       "0          No                    No                 No             Rarely   \n",
       "1          No                    No                 No   6-8 Times a Week   \n",
       "2         Yes                    No                 No             Rarely   \n",
       "3          No                    No                 No   6-8 Times a Week   \n",
       "4          No                    No                 No             Rarely   \n",
       "..        ...                   ...                ...                ...   \n",
       "205        No                    No                 No             Rarely   \n",
       "206       Yes                    No                 No             Rarely   \n",
       "207        No                    No                 No   1-2 Times a Week   \n",
       "208       Yes                    No                 No   1-2 Times a Week   \n",
       "209       Yes                    No                 No   3-4 Times a Week   \n",
       "\n",
       "                                 Exercise_Type     Exercise_Duration  \\\n",
       "0    Cardio (e.g., running, cycling, swimming)            30 minutes   \n",
       "1                                  No Exercise  Less than 30 minutes   \n",
       "2    Cardio (e.g., running, cycling, swimming)  Less than 30 minutes   \n",
       "3    Cardio (e.g., running, cycling, swimming)            45 minutes   \n",
       "4                                  No Exercise        Not Applicable   \n",
       "..                                         ...                   ...   \n",
       "205                                No Exercise        Not Applicable   \n",
       "206                                No Exercise        Not Applicable   \n",
       "207                               Cardio (e.g.            30 minutes   \n",
       "208                                No Exercise  Less than 30 minutes   \n",
       "209                               Cardio (e.g.        Not Applicable   \n",
       "\n",
       "           Sleep_Hours Exercise_Benefit  \n",
       "0    Less than 6 hours         Somewhat  \n",
       "1            6-8 hours         Somewhat  \n",
       "2            6-8 hours         Somewhat  \n",
       "3            6-8 hours       Not at All  \n",
       "4            6-8 hours         Not Much  \n",
       "..                 ...              ...  \n",
       "205  Less than 6 hours         Somewhat  \n",
       "206          6-8 hours         Somewhat  \n",
       "207          6-8 hours         Somewhat  \n",
       "208  Less than 6 hours         Somewhat  \n",
       "209  Less than 6 hours         Somewhat  \n",
       "\n",
       "[210 rows x 14 columns]"
      ]
     },
     "execution_count": 10,
     "metadata": {},
     "output_type": "execute_result"
    }
   ],
   "source": [
    "train"
   ]
  },
  {
   "cell_type": "code",
   "execution_count": 11,
   "id": "214767c2",
   "metadata": {},
   "outputs": [
    {
     "data": {
      "text/html": [
       "<div>\n",
       "<style scoped>\n",
       "    .dataframe tbody tr th:only-of-type {\n",
       "        vertical-align: middle;\n",
       "    }\n",
       "\n",
       "    .dataframe tbody tr th {\n",
       "        vertical-align: top;\n",
       "    }\n",
       "\n",
       "    .dataframe thead th {\n",
       "        text-align: right;\n",
       "    }\n",
       "</style>\n",
       "<table border=\"1\" class=\"dataframe\">\n",
       "  <thead>\n",
       "    <tr style=\"text-align: right;\">\n",
       "      <th></th>\n",
       "      <th>ID</th>\n",
       "      <th>Age</th>\n",
       "      <th>Weight_kg</th>\n",
       "      <th>Hormonal_Imbalance</th>\n",
       "      <th>Hyperandrogenism</th>\n",
       "      <th>Hirsutism</th>\n",
       "      <th>Conception_Difficulty</th>\n",
       "      <th>Insulin_Resistance</th>\n",
       "      <th>Exercise_Frequency</th>\n",
       "      <th>Exercise_Type</th>\n",
       "      <th>Exercise_Duration</th>\n",
       "      <th>Sleep_Hours</th>\n",
       "      <th>Exercise_Benefit</th>\n",
       "    </tr>\n",
       "  </thead>\n",
       "  <tbody>\n",
       "    <tr>\n",
       "      <th>0</th>\n",
       "      <td>0</td>\n",
       "      <td>20-25</td>\n",
       "      <td>54.0</td>\n",
       "      <td>No</td>\n",
       "      <td>No</td>\n",
       "      <td>No</td>\n",
       "      <td>No</td>\n",
       "      <td>No</td>\n",
       "      <td>Rarely</td>\n",
       "      <td>No Exercise</td>\n",
       "      <td>Less than 30 minutes</td>\n",
       "      <td>6-8 hours</td>\n",
       "      <td>Somewhat</td>\n",
       "    </tr>\n",
       "    <tr>\n",
       "      <th>1</th>\n",
       "      <td>1</td>\n",
       "      <td>20-25</td>\n",
       "      <td>65.0</td>\n",
       "      <td>Yes</td>\n",
       "      <td>No</td>\n",
       "      <td>No</td>\n",
       "      <td>No</td>\n",
       "      <td>No</td>\n",
       "      <td>3-4 Times a Week</td>\n",
       "      <td>No Exercise</td>\n",
       "      <td>Not Applicable</td>\n",
       "      <td>6-8 hours</td>\n",
       "      <td>Somewhat</td>\n",
       "    </tr>\n",
       "    <tr>\n",
       "      <th>2</th>\n",
       "      <td>2</td>\n",
       "      <td>20-25</td>\n",
       "      <td>64.0</td>\n",
       "      <td>Yes</td>\n",
       "      <td>No</td>\n",
       "      <td>No</td>\n",
       "      <td>No</td>\n",
       "      <td>No</td>\n",
       "      <td>6-8 Times a Week</td>\n",
       "      <td>Cardio (e.g.</td>\n",
       "      <td>Not Applicable</td>\n",
       "      <td>6-8 hours</td>\n",
       "      <td>Somewhat</td>\n",
       "    </tr>\n",
       "    <tr>\n",
       "      <th>3</th>\n",
       "      <td>3</td>\n",
       "      <td>Less than 20</td>\n",
       "      <td>57.0</td>\n",
       "      <td>Yes</td>\n",
       "      <td>No</td>\n",
       "      <td>Yes</td>\n",
       "      <td>No</td>\n",
       "      <td>Yes</td>\n",
       "      <td>Rarely</td>\n",
       "      <td>No Exercise</td>\n",
       "      <td>6-8 hours</td>\n",
       "      <td>6-8 hours</td>\n",
       "      <td>Somewhat</td>\n",
       "    </tr>\n",
       "    <tr>\n",
       "      <th>4</th>\n",
       "      <td>4</td>\n",
       "      <td>Less than 20</td>\n",
       "      <td>6.0</td>\n",
       "      <td>Yes</td>\n",
       "      <td>No</td>\n",
       "      <td>Yes</td>\n",
       "      <td>No</td>\n",
       "      <td>No</td>\n",
       "      <td>Rarely</td>\n",
       "      <td>Cardio (e.g.</td>\n",
       "      <td>30 minutes</td>\n",
       "      <td>6-8 hours</td>\n",
       "      <td>Somewhat</td>\n",
       "    </tr>\n",
       "    <tr>\n",
       "      <th>...</th>\n",
       "      <td>...</td>\n",
       "      <td>...</td>\n",
       "      <td>...</td>\n",
       "      <td>...</td>\n",
       "      <td>...</td>\n",
       "      <td>...</td>\n",
       "      <td>...</td>\n",
       "      <td>...</td>\n",
       "      <td>...</td>\n",
       "      <td>...</td>\n",
       "      <td>...</td>\n",
       "      <td>...</td>\n",
       "      <td>...</td>\n",
       "    </tr>\n",
       "    <tr>\n",
       "      <th>140</th>\n",
       "      <td>140</td>\n",
       "      <td>20-25</td>\n",
       "      <td>52.0</td>\n",
       "      <td>Yes</td>\n",
       "      <td>No</td>\n",
       "      <td>No</td>\n",
       "      <td>No</td>\n",
       "      <td>No</td>\n",
       "      <td>Rarely</td>\n",
       "      <td>Cardio (e.g.</td>\n",
       "      <td>Less than 30 minutes</td>\n",
       "      <td>6-8 hours</td>\n",
       "      <td>Somewhat</td>\n",
       "    </tr>\n",
       "    <tr>\n",
       "      <th>141</th>\n",
       "      <td>141</td>\n",
       "      <td>20-25</td>\n",
       "      <td>67.0</td>\n",
       "      <td>No</td>\n",
       "      <td>No</td>\n",
       "      <td>No</td>\n",
       "      <td>No</td>\n",
       "      <td>No</td>\n",
       "      <td>Rarely</td>\n",
       "      <td>Strength training (e.g.</td>\n",
       "      <td>Less than 30 minutes</td>\n",
       "      <td>6-8 hours</td>\n",
       "      <td>Not at All</td>\n",
       "    </tr>\n",
       "    <tr>\n",
       "      <th>142</th>\n",
       "      <td>142</td>\n",
       "      <td>20-25</td>\n",
       "      <td>55.0</td>\n",
       "      <td>Yes</td>\n",
       "      <td>Yes</td>\n",
       "      <td>Yes</td>\n",
       "      <td>Yes</td>\n",
       "      <td>No</td>\n",
       "      <td>Rarely</td>\n",
       "      <td>Cardio (e.g.</td>\n",
       "      <td>Less than 20 minutes</td>\n",
       "      <td>6-8 hours</td>\n",
       "      <td>Yes Significantly</td>\n",
       "    </tr>\n",
       "    <tr>\n",
       "      <th>143</th>\n",
       "      <td>143</td>\n",
       "      <td>Less than 20</td>\n",
       "      <td>49.0</td>\n",
       "      <td>No</td>\n",
       "      <td>No</td>\n",
       "      <td>Yes</td>\n",
       "      <td>No</td>\n",
       "      <td>No</td>\n",
       "      <td>1/2 Times a Week</td>\n",
       "      <td>Cardio (e.g.</td>\n",
       "      <td>Less than 30 minutes</td>\n",
       "      <td>6-8 hours</td>\n",
       "      <td>Not Much</td>\n",
       "    </tr>\n",
       "    <tr>\n",
       "      <th>144</th>\n",
       "      <td>144</td>\n",
       "      <td>20-25</td>\n",
       "      <td>55.0</td>\n",
       "      <td>Yes</td>\n",
       "      <td>No</td>\n",
       "      <td>No</td>\n",
       "      <td>No</td>\n",
       "      <td>No</td>\n",
       "      <td>1-2 Times a Week</td>\n",
       "      <td>Flexibility and balance (e.g.</td>\n",
       "      <td>Less than 30 minutes</td>\n",
       "      <td>6-8 hours</td>\n",
       "      <td>Somewhat</td>\n",
       "    </tr>\n",
       "  </tbody>\n",
       "</table>\n",
       "<p>145 rows × 13 columns</p>\n",
       "</div>"
      ],
      "text/plain": [
       "      ID           Age  Weight_kg Hormonal_Imbalance Hyperandrogenism  \\\n",
       "0      0         20-25       54.0                 No               No   \n",
       "1      1         20-25       65.0                Yes               No   \n",
       "2      2         20-25       64.0                Yes               No   \n",
       "3      3  Less than 20       57.0                Yes               No   \n",
       "4      4  Less than 20        6.0                Yes               No   \n",
       "..   ...           ...        ...                ...              ...   \n",
       "140  140         20-25       52.0                Yes               No   \n",
       "141  141         20-25       67.0                 No               No   \n",
       "142  142         20-25       55.0                Yes              Yes   \n",
       "143  143  Less than 20       49.0                 No               No   \n",
       "144  144         20-25       55.0                Yes               No   \n",
       "\n",
       "    Hirsutism Conception_Difficulty Insulin_Resistance Exercise_Frequency  \\\n",
       "0          No                    No                 No             Rarely   \n",
       "1          No                    No                 No   3-4 Times a Week   \n",
       "2          No                    No                 No   6-8 Times a Week   \n",
       "3         Yes                    No                Yes             Rarely   \n",
       "4         Yes                    No                 No             Rarely   \n",
       "..        ...                   ...                ...                ...   \n",
       "140        No                    No                 No             Rarely   \n",
       "141        No                    No                 No             Rarely   \n",
       "142       Yes                   Yes                 No             Rarely   \n",
       "143       Yes                    No                 No   1/2 Times a Week   \n",
       "144        No                    No                 No   1-2 Times a Week   \n",
       "\n",
       "                     Exercise_Type     Exercise_Duration Sleep_Hours  \\\n",
       "0                      No Exercise  Less than 30 minutes   6-8 hours   \n",
       "1                      No Exercise        Not Applicable   6-8 hours   \n",
       "2                     Cardio (e.g.        Not Applicable   6-8 hours   \n",
       "3                      No Exercise             6-8 hours   6-8 hours   \n",
       "4                     Cardio (e.g.            30 minutes   6-8 hours   \n",
       "..                             ...                   ...         ...   \n",
       "140                   Cardio (e.g.  Less than 30 minutes   6-8 hours   \n",
       "141        Strength training (e.g.  Less than 30 minutes   6-8 hours   \n",
       "142                   Cardio (e.g.  Less than 20 minutes   6-8 hours   \n",
       "143                   Cardio (e.g.  Less than 30 minutes   6-8 hours   \n",
       "144  Flexibility and balance (e.g.  Less than 30 minutes   6-8 hours   \n",
       "\n",
       "      Exercise_Benefit  \n",
       "0             Somewhat  \n",
       "1             Somewhat  \n",
       "2             Somewhat  \n",
       "3             Somewhat  \n",
       "4             Somewhat  \n",
       "..                 ...  \n",
       "140           Somewhat  \n",
       "141         Not at All  \n",
       "142  Yes Significantly  \n",
       "143           Not Much  \n",
       "144           Somewhat  \n",
       "\n",
       "[145 rows x 13 columns]"
      ]
     },
     "execution_count": 11,
     "metadata": {},
     "output_type": "execute_result"
    }
   ],
   "source": [
    "test"
   ]
  },
  {
   "cell_type": "markdown",
   "id": "08919f1a",
   "metadata": {},
   "source": [
    "# Business Case"
   ]
  },
  {
   "cell_type": "markdown",
   "id": "ea7428d1",
   "metadata": {},
   "source": [
    "The primary purpose of this dataset is to facilitate research and analysis on the impact of lifestyle choices on PCOS. It is designed for:            \n",
    "\n",
    "- Exploratory Data Analysis (EDA): Understanding trends, correlations, and patterns in the data.         \n",
    "- Predictive Modeling: Building machine learning models to predict PCOS based on health metrics.          \n",
    "- Health Research: Supporting studies on how diet, exercise, and stress levels contribute to PCOS prevalence.       \n",
    "- Awareness:Educating individuals and healthcare providers about the importance of lifestyle in managing reproductive health.    \n",
    "    \n",
    "    \n",
    "**The aim is to use data-driven methods to deeply analyze the impact of lifestyle choices on PCOS, and provide scientific basis for clinical intervention and health management.**"
   ]
  },
  {
   "cell_type": "markdown",
   "id": "8d1cc272",
   "metadata": {},
   "source": [
    "# Domain Analysis"
   ]
  },
  {
   "cell_type": "markdown",
   "id": "271840d0",
   "metadata": {},
   "source": [
    "**1.ID** :   no effect on pcos, should be dropped         \n",
    "**2.Age** :  PCOS is more common in reprpductive age women, typically between 15-45 years. younger women(below 20) might have\n",
    " undiagnosed PCOS, while older women might have better hormonal regulation.                       \n",
    "**3.Weight_kg** : Obesity is a major risk factor for PCOS. Higher weight can lead to insulin resisitance and hormonal imbalances, wosening PCOS symptoms.\n",
    "**4.PCOS** :     This is what we are predicting      \n",
    "**5.Hormonal_Imbalance**: PCOS is fundamentally a hormal disorder, so this feature is highly correlated with PCOS.   \n",
    "**6.Hyperandrogenism**:       High levels of androgens (male hormones) cause symptoms like acne, excessive hair growth, and irregular periods-key markers of pCOS.\n",
    "**7.Hirsutism**:  Hirsutism(excess facial/body hair) is a direct symptom of PCOS caused by high androgen levels                \n",
    "**8.Conception_Difficuly**: PCOS is a leading cause of infertility due to irregular ovulation. High correlation with PCOS.     \n",
    "**9.Insulin_Resistance**: PCOS is strongly linked to insulin, leading to weight gain and metabolic issues.           \n",
    "**10.Exercise_Frequency**:     Regular exercise helps improve insulin sensitivity and hormone balance, potentially reducing PCOS symtoms.       \n",
    "**11.Exercise_Type**:  Strength training and mixed workouts may have a greater positive effect on insulin sensitivity then cardio alone.                             \n",
    "**12.Exercise_duration**:  Longer exercise sessions can help regulate weight and insulin levels, reducing pCOS .   \n",
    "**13.Sleep_Hours**:        poor sleep(<6 hours) is linked to hormonal imbalance and metabolic issues , increasing PCOS.       \n",
    "**14.Exercise_Benefit**:   helps measure the impact of exercise on pCOS. if many PCOS patients see improvement, exercise could be a key intervention.    \n"
   ]
  },
  {
   "cell_type": "code",
   "execution_count": 12,
   "id": "3bde0544",
   "metadata": {},
   "outputs": [
    {
     "data": {
      "text/plain": [
       "(210, 14)"
      ]
     },
     "execution_count": 12,
     "metadata": {},
     "output_type": "execute_result"
    }
   ],
   "source": [
    "train.shape"
   ]
  },
  {
   "cell_type": "code",
   "execution_count": 13,
   "id": "2a0b22ba",
   "metadata": {},
   "outputs": [
    {
     "data": {
      "text/plain": [
       "(145, 13)"
      ]
     },
     "execution_count": 13,
     "metadata": {},
     "output_type": "execute_result"
    }
   ],
   "source": [
    "test.shape"
   ]
  },
  {
   "cell_type": "markdown",
   "id": "7872f35e",
   "metadata": {},
   "source": [
    "# Data Cleaning"
   ]
  },
  {
   "cell_type": "markdown",
   "id": "e26a7a74",
   "metadata": {},
   "source": [
    "# 1. AGe"
   ]
  },
  {
   "cell_type": "code",
   "execution_count": 14,
   "id": "8c2b21d1",
   "metadata": {},
   "outputs": [],
   "source": [
    "train['Age'] = train['Age'].replace({\n",
    "    'Less than 20': '15-20',\n",
    "    '30-25': '25-30',\n",
    "    '30-40' : '35-45',\n",
    "    '35-44' : '35-45',\n",
    "    'Less than 20-25': '15-20'\n",
    "})"
   ]
  },
  {
   "cell_type": "code",
   "execution_count": 15,
   "id": "6d82665b",
   "metadata": {},
   "outputs": [],
   "source": [
    "test['Age'] = test['Age'].replace({\n",
    "    'Less than 20': '15-20',\n",
    "    'Less than 20)': '15-20',\n",
    "    '30-30': '25-30',\n",
    "    '25-25' : '25-30',\n",
    "    '30-40' : '35-45',\n",
    "    '50-60' : '45 and above',\n",
    "    '22-25' : '25-30',\n",
    "    '20' : '15-20',\n",
    "    '45-49' : '45 and above',\n",
    "    '35-44' : '35-45',\n",
    "    'Less than 20-25': '15-20'\n",
    "})"
   ]
  },
  {
   "cell_type": "code",
   "execution_count": 16,
   "id": "0cc8d0eb",
   "metadata": {},
   "outputs": [
    {
     "data": {
      "text/plain": [
       "Age\n",
       "20-25           125\n",
       "15-20            69\n",
       "35-45             5\n",
       "25-30             5\n",
       "45 and above      3\n",
       "30-35             2\n",
       "Name: count, dtype: int64"
      ]
     },
     "execution_count": 16,
     "metadata": {},
     "output_type": "execute_result"
    }
   ],
   "source": [
    "train.Age.value_counts()"
   ]
  },
  {
   "cell_type": "code",
   "execution_count": 17,
   "id": "f124a2a9",
   "metadata": {},
   "outputs": [
    {
     "data": {
      "text/plain": [
       "Age\n",
       "20-25           95\n",
       "15-20           40\n",
       "25-30            3\n",
       "35-45            2\n",
       "30-35            2\n",
       "45 and above     2\n",
       "Name: count, dtype: int64"
      ]
     },
     "execution_count": 17,
     "metadata": {},
     "output_type": "execute_result"
    }
   ],
   "source": [
    "test.Age.value_counts()"
   ]
  },
  {
   "cell_type": "code",
   "execution_count": null,
   "id": "2d882e38",
   "metadata": {},
   "outputs": [],
   "source": []
  },
  {
   "cell_type": "markdown",
   "id": "93f57146",
   "metadata": {},
   "source": [
    "# HOrmonal"
   ]
  },
  {
   "cell_type": "code",
   "execution_count": 18,
   "id": "d5abb84e",
   "metadata": {},
   "outputs": [],
   "source": [
    "train['Hormonal_Imbalance'] = train['Hormonal_Imbalance'].replace({\n",
    "   'No, Yes, not diagnosed by a doctor' : 'No',\n",
    "    'Yes Significantly' : 'Yes'\n",
    "})"
   ]
  },
  {
   "cell_type": "code",
   "execution_count": 19,
   "id": "6433af94",
   "metadata": {},
   "outputs": [
    {
     "data": {
      "text/plain": [
       "Hormonal_Imbalance\n",
       "Yes    112\n",
       "No      96\n",
       "Name: count, dtype: int64"
      ]
     },
     "execution_count": 19,
     "metadata": {},
     "output_type": "execute_result"
    }
   ],
   "source": [
    "train.Hormonal_Imbalance.value_counts()"
   ]
  },
  {
   "cell_type": "code",
   "execution_count": 20,
   "id": "2590f446",
   "metadata": {},
   "outputs": [
    {
     "data": {
      "text/plain": [
       "Hormonal_Imbalance\n",
       "Yes    79\n",
       "No     63\n",
       "Name: count, dtype: int64"
      ]
     },
     "execution_count": 20,
     "metadata": {},
     "output_type": "execute_result"
    }
   ],
   "source": [
    "test.Hormonal_Imbalance.value_counts()"
   ]
  },
  {
   "cell_type": "markdown",
   "id": "fef79338",
   "metadata": {},
   "source": [
    "# Hirsutism"
   ]
  },
  {
   "cell_type": "code",
   "execution_count": 21,
   "id": "52b85211",
   "metadata": {},
   "outputs": [],
   "source": [
    "train['Hirsutism'] = train['Hirsutism'].replace({\n",
    "   'No, Yes, not diagnosed by a doctor' : 'No'\n",
    "})"
   ]
  },
  {
   "cell_type": "code",
   "execution_count": 22,
   "id": "162bd045",
   "metadata": {},
   "outputs": [
    {
     "data": {
      "text/plain": [
       "Hirsutism\n",
       "No     150\n",
       "Yes     55\n",
       "Name: count, dtype: int64"
      ]
     },
     "execution_count": 22,
     "metadata": {},
     "output_type": "execute_result"
    }
   ],
   "source": [
    "train.Hirsutism.value_counts()"
   ]
  },
  {
   "cell_type": "code",
   "execution_count": 23,
   "id": "4d1e2b21",
   "metadata": {},
   "outputs": [
    {
     "data": {
      "text/plain": [
       "Hirsutism\n",
       "No     113\n",
       "Yes     30\n",
       "Name: count, dtype: int64"
      ]
     },
     "execution_count": 23,
     "metadata": {},
     "output_type": "execute_result"
    }
   ],
   "source": [
    "test.Hirsutism.value_counts()"
   ]
  },
  {
   "cell_type": "markdown",
   "id": "ef77cf33",
   "metadata": {},
   "source": [
    "# Conception_Difficulty"
   ]
  },
  {
   "cell_type": "code",
   "execution_count": 24,
   "id": "92a81af9",
   "metadata": {},
   "outputs": [],
   "source": [
    "test['Conception_Difficulty'] = test['Conception_Difficulty'].replace({\n",
    "   'Somewhat': 'Yes'\n",
    "})"
   ]
  },
  {
   "cell_type": "code",
   "execution_count": 25,
   "id": "a0d356b1",
   "metadata": {},
   "outputs": [],
   "source": [
    "train['Conception_Difficulty'] = train['Conception_Difficulty'].replace({\n",
    "   'No, Yes, not diagnosed by a doctor' : 'No',\n",
    "    'Yes, diagnosed by a doctor' : 'Yes'\n",
    "})"
   ]
  },
  {
   "cell_type": "code",
   "execution_count": 26,
   "id": "8ca4aada",
   "metadata": {},
   "outputs": [
    {
     "data": {
      "text/plain": [
       "Conception_Difficulty\n",
       "No     202\n",
       "Yes      7\n",
       "Name: count, dtype: int64"
      ]
     },
     "execution_count": 26,
     "metadata": {},
     "output_type": "execute_result"
    }
   ],
   "source": [
    "train.Conception_Difficulty.value_counts()"
   ]
  },
  {
   "cell_type": "code",
   "execution_count": 27,
   "id": "3cb023a0",
   "metadata": {},
   "outputs": [
    {
     "data": {
      "text/plain": [
       "Conception_Difficulty\n",
       "No     137\n",
       "Yes      6\n",
       "Name: count, dtype: int64"
      ]
     },
     "execution_count": 27,
     "metadata": {},
     "output_type": "execute_result"
    }
   ],
   "source": [
    "test.Conception_Difficulty.value_counts()"
   ]
  },
  {
   "cell_type": "code",
   "execution_count": null,
   "id": "1843f23c",
   "metadata": {},
   "outputs": [],
   "source": []
  },
  {
   "cell_type": "markdown",
   "id": "bde917e6",
   "metadata": {},
   "source": [
    "# Exercise_Frequency"
   ]
  },
  {
   "cell_type": "code",
   "execution_count": 28,
   "id": "be9be184",
   "metadata": {},
   "outputs": [],
   "source": [
    "test['Exercise_Frequency'] = test['Exercise_Frequency'].replace({\n",
    "   'Daily' : '6-8 Times a Week',\n",
    "    'Less than 6-8 Times a Week' : '3-4 Times a Week',\n",
    "    'Less than 6 hours' : 'Unknown',\n",
    "    '30-35' : 'Unknown',\n",
    "    'Somewhat' : 'Unknown',\n",
    "    '6-8 hours' : 'Unknown',\n",
    "    '1/2 Times a Week' : '1-2 Times a Week'\n",
    "})"
   ]
  },
  {
   "cell_type": "code",
   "execution_count": 29,
   "id": "06c26fc9",
   "metadata": {},
   "outputs": [],
   "source": [
    "train['Exercise_Frequency'] = train['Exercise_Frequency'].replace({\n",
    "   '6-8 hours' : 'Unknown',\n",
    "    'Less than usual' : 'Rarely',\n",
    "    'Less than 6 hours' : 'Unknown'\n",
    "})"
   ]
  },
  {
   "cell_type": "code",
   "execution_count": 30,
   "id": "328536a3",
   "metadata": {},
   "outputs": [
    {
     "data": {
      "text/plain": [
       "Exercise_Frequency\n",
       "Rarely              82\n",
       "1-2 Times a Week    33\n",
       "Never               10\n",
       "3-4 Times a Week     8\n",
       "6-8 Times a Week     7\n",
       "Unknown              4\n",
       "Name: count, dtype: int64"
      ]
     },
     "execution_count": 30,
     "metadata": {},
     "output_type": "execute_result"
    }
   ],
   "source": [
    "test.Exercise_Frequency.value_counts()"
   ]
  },
  {
   "cell_type": "code",
   "execution_count": 31,
   "id": "c790de9a",
   "metadata": {},
   "outputs": [
    {
     "data": {
      "text/plain": [
       "Exercise_Frequency\n",
       "Rarely              103\n",
       "1-2 Times a Week     35\n",
       "Never                28\n",
       "3-4 Times a Week     23\n",
       "6-8 Times a Week     17\n",
       "Unknown               2\n",
       "Name: count, dtype: int64"
      ]
     },
     "execution_count": 31,
     "metadata": {},
     "output_type": "execute_result"
    }
   ],
   "source": [
    "train.Exercise_Frequency.value_counts()"
   ]
  },
  {
   "cell_type": "markdown",
   "id": "2c99fe46",
   "metadata": {},
   "source": [
    "# Exercise_Duration"
   ]
  },
  {
   "cell_type": "code",
   "execution_count": 32,
   "id": "2353483d",
   "metadata": {},
   "outputs": [],
   "source": [
    "test['Exercise_Duration'] = test['Exercise_Duration'].replace({\n",
    "   '6-8 hours' : 'unknown',\n",
    "    'Less than 20 minutes' : 'Less than 30 minutes',\n",
    "    '3-4 Times a Week' : 'unknown',\n",
    "    '20 minutes' : 'Less than 30 minutes',\n",
    "    'Less than 6 hours' : 'unknown',\n",
    "    'Not Much' : 'unknown',\n",
    "    '1-2 Times a Week' : 'unknown',\n",
    "    '40 minutes' : '30 minutes to 1 hour' })"
   ]
  },
  {
   "cell_type": "code",
   "execution_count": 33,
   "id": "0eb22f7a",
   "metadata": {},
   "outputs": [],
   "source": [
    "train['Exercise_Duration'] = train['Exercise_Duration'].replace({\n",
    "   'More than 30 minutes' : '30 minutes to 1 hour',\n",
    "    '20 minutes' : 'Less than 30 minutes',\n",
    "    'Less than 6 hours' : 'unknown',\n",
    "    '45 minutes' : '30 minutes to 1 hour'\n",
    "})"
   ]
  },
  {
   "cell_type": "code",
   "execution_count": 34,
   "id": "f6d3535b",
   "metadata": {},
   "outputs": [
    {
     "data": {
      "text/plain": [
       "Exercise_Duration\n",
       "Not Applicable          58\n",
       "Less than 30 minutes    53\n",
       "30 minutes              20\n",
       "unknown                  7\n",
       "30 minutes to 1 hour     7\n",
       "Name: count, dtype: int64"
      ]
     },
     "execution_count": 34,
     "metadata": {},
     "output_type": "execute_result"
    }
   ],
   "source": [
    "test.Exercise_Duration.value_counts()"
   ]
  },
  {
   "cell_type": "code",
   "execution_count": 35,
   "id": "66dd0d10",
   "metadata": {},
   "outputs": [
    {
     "data": {
      "text/plain": [
       "Exercise_Duration\n",
       "Not Applicable          86\n",
       "Less than 30 minutes    63\n",
       "30 minutes              33\n",
       "30 minutes to 1 hour    25\n",
       "unknown                  1\n",
       "Name: count, dtype: int64"
      ]
     },
     "execution_count": 35,
     "metadata": {},
     "output_type": "execute_result"
    }
   ],
   "source": [
    "train.Exercise_Duration.value_counts()"
   ]
  },
  {
   "cell_type": "markdown",
   "id": "72bc1c7c",
   "metadata": {},
   "source": [
    "# Exercise_Type"
   ]
  },
  {
   "cell_type": "code",
   "execution_count": 36,
   "id": "ecca6f7a",
   "metadata": {},
   "outputs": [],
   "source": [
    "test['Exercise_Type'] = test['Exercise_Type'].replace({\n",
    "    'Cardio (e.g.' : 'Cardio',\n",
    "    'Flexibility and balance (e.g.' : 'Flexibility',\n",
    "    'Strength training (e.g.' : 'Strength training',\n",
    "    'Strength (e.g.' : 'Strength training',\n",
    "    'No' : 'No Exercise',\n",
    "    'Not Applicable' : 'No Exercise',\n",
    "    'Yes Significantly' : 'No Exercise',\n",
    "    'Sleep_Benefit' : 'No Exercise',\n",
    "    'Somewhat' : 'No Exercise'\n",
    "})\n",
    "    "
   ]
  },
  {
   "cell_type": "code",
   "execution_count": 37,
   "id": "b0c5603e",
   "metadata": {},
   "outputs": [],
   "source": [
    "train['Exercise_Type'] = train['Exercise_Type'].replace({\n",
    "    'Cardio (e.g., running, cycling, swimming)' : 'Cardio',\n",
    "    'Cardio (e.g.' : 'Cardio',\n",
    "    'Flexibility and balance (e.g., yoga, pilates)' : 'Flexibility',\n",
    "    'Strength training (e.g., weightlifting, resistance exercises)' : 'Strength training',\n",
    "    'Cardio (e.g., running, cycling, swimming), Strength training (e.g., weightlifting, resistance exercises)' : 'Cardio',\n",
    "    'Cardio (e.g., running, cycling, swimming), Flexibility and balance (e.g., yoga, pilates)' : 'Cardio',\n",
    "    'Cardio (e.g., running, cycling, swimming), Strength training (e.g., weightlifting, resistance exercises), Flexibility and balance (e.g., yoga, pilates)' :'Cardio',\n",
    "    'Strength training (e.g., weightlifting, resistance exercises), Flexibility and balance (e.g., yoga, pilates)' : 'Strength training',\n",
    "    'Flexibility and balance (e.g., yoga, pilates), None' : 'Flexibility',\n",
    "    'Cardio (e.g., running, cycling, swimming), None' : 'Cardio',\n",
    "    'Strength training (e.g.' : 'Strength training',\n",
    "    'Somewhat' : 'No Exercise',\n",
    "    'Flexibility and balance (e.g.' : 'Flexibility',\n",
    "     'High-intensity interval training (HIIT)' : 'Cardio' })"
   ]
  },
  {
   "cell_type": "code",
   "execution_count": 38,
   "id": "cd594e49",
   "metadata": {},
   "outputs": [
    {
     "data": {
      "text/plain": [
       "Exercise_Type\n",
       "No Exercise          68\n",
       "Cardio               65\n",
       "Flexibility           7\n",
       "Strength training     4\n",
       "Name: count, dtype: int64"
      ]
     },
     "execution_count": 38,
     "metadata": {},
     "output_type": "execute_result"
    }
   ],
   "source": [
    "test.Exercise_Type.value_counts()"
   ]
  },
  {
   "cell_type": "code",
   "execution_count": 39,
   "id": "74aa16f4",
   "metadata": {},
   "outputs": [
    {
     "data": {
      "text/plain": [
       "Exercise_Type\n",
       "No Exercise          91\n",
       "Cardio               90\n",
       "Flexibility          18\n",
       "Strength training     9\n",
       "Name: count, dtype: int64"
      ]
     },
     "execution_count": 39,
     "metadata": {},
     "output_type": "execute_result"
    }
   ],
   "source": [
    "train.Exercise_Type.value_counts()"
   ]
  },
  {
   "cell_type": "code",
   "execution_count": null,
   "id": "db13bd89",
   "metadata": {},
   "outputs": [],
   "source": []
  },
  {
   "cell_type": "markdown",
   "id": "1155465f",
   "metadata": {},
   "source": [
    "# Sleep_Hours"
   ]
  },
  {
   "cell_type": "code",
   "execution_count": 40,
   "id": "8e7a456a",
   "metadata": {},
   "outputs": [],
   "source": [
    "train['Sleep_Hours'] = train['Sleep_Hours'].replace({\n",
    "  '3-4 hours' : 'Less than 6 hours'\n",
    "})"
   ]
  },
  {
   "cell_type": "code",
   "execution_count": 41,
   "id": "cfe9801d",
   "metadata": {},
   "outputs": [],
   "source": [
    "test['Sleep_Hours'] = test['Sleep_Hours'].replace({\n",
    "  '3-4 hours' : 'Less than 6 hours',\n",
    " '6-8 Times a Week' : 'Less than 6 hours',\n",
    "    '6-12 hours' : 'More than 12 hours',\n",
    "    '20 minutes' : 'Less than 6 hours'\n",
    "})"
   ]
  },
  {
   "cell_type": "code",
   "execution_count": 42,
   "id": "be50ddde",
   "metadata": {},
   "outputs": [
    {
     "data": {
      "text/plain": [
       "Sleep_Hours\n",
       "6-8 hours             135\n",
       "Less than 6 hours      59\n",
       "9-12 hours             13\n",
       "More than 12 hours      1\n",
       "Name: count, dtype: int64"
      ]
     },
     "execution_count": 42,
     "metadata": {},
     "output_type": "execute_result"
    }
   ],
   "source": [
    "train.Sleep_Hours.value_counts()"
   ]
  },
  {
   "cell_type": "code",
   "execution_count": 43,
   "id": "27782588",
   "metadata": {},
   "outputs": [
    {
     "data": {
      "text/plain": [
       "Sleep_Hours\n",
       "6-8 hours             100\n",
       "Less than 6 hours      38\n",
       "9-12 hours              5\n",
       "More than 12 hours      1\n",
       "Name: count, dtype: int64"
      ]
     },
     "execution_count": 43,
     "metadata": {},
     "output_type": "execute_result"
    }
   ],
   "source": [
    "test.Sleep_Hours.value_counts()"
   ]
  },
  {
   "cell_type": "markdown",
   "id": "fc08ade6",
   "metadata": {},
   "source": [
    "# Exercise_Benefit"
   ]
  },
  {
   "cell_type": "code",
   "execution_count": 44,
   "id": "4f3b030f",
   "metadata": {},
   "outputs": [],
   "source": [
    "test['Exercise_Benefit'] = test['Exercise_Benefit'].replace({\n",
    "  'Not Much' : 'Somewhat'\n",
    "})"
   ]
  },
  {
   "cell_type": "code",
   "execution_count": 45,
   "id": "1cb623f9",
   "metadata": {},
   "outputs": [],
   "source": [
    "train['Exercise_Benefit'] = train['Exercise_Benefit'].replace({\n",
    "  'Not Much' : 'Somewhat'\n",
    "})"
   ]
  },
  {
   "cell_type": "code",
   "execution_count": 46,
   "id": "0bb7426f",
   "metadata": {},
   "outputs": [
    {
     "data": {
      "text/plain": [
       "Exercise_Benefit\n",
       "Somewhat             158\n",
       "Not at All            26\n",
       "Yes Significantly     25\n",
       "Name: count, dtype: int64"
      ]
     },
     "execution_count": 46,
     "metadata": {},
     "output_type": "execute_result"
    }
   ],
   "source": [
    "train.Exercise_Benefit.value_counts()"
   ]
  },
  {
   "cell_type": "code",
   "execution_count": 47,
   "id": "4794f103",
   "metadata": {},
   "outputs": [
    {
     "data": {
      "text/plain": [
       "Exercise_Benefit\n",
       "Somewhat             119\n",
       "Yes Significantly     15\n",
       "Not at All            10\n",
       "Name: count, dtype: int64"
      ]
     },
     "execution_count": 47,
     "metadata": {},
     "output_type": "execute_result"
    }
   ],
   "source": [
    "test.Exercise_Benefit.value_counts()"
   ]
  },
  {
   "cell_type": "markdown",
   "id": "3d56a7db",
   "metadata": {},
   "source": [
    "## Hyperandrogenism"
   ]
  },
  {
   "cell_type": "code",
   "execution_count": 48,
   "id": "bcd627e2",
   "metadata": {},
   "outputs": [
    {
     "data": {
      "text/plain": [
       "Hyperandrogenism\n",
       "No     175\n",
       "Yes     32\n",
       "Name: count, dtype: int64"
      ]
     },
     "execution_count": 48,
     "metadata": {},
     "output_type": "execute_result"
    }
   ],
   "source": [
    "train.Hyperandrogenism.value_counts()"
   ]
  },
  {
   "cell_type": "code",
   "execution_count": 49,
   "id": "ceb4fba4",
   "metadata": {},
   "outputs": [
    {
     "data": {
      "text/plain": [
       "Hyperandrogenism\n",
       "No     128\n",
       "Yes     16\n",
       "Name: count, dtype: int64"
      ]
     },
     "execution_count": 49,
     "metadata": {},
     "output_type": "execute_result"
    }
   ],
   "source": [
    "test.Hyperandrogenism.value_counts()"
   ]
  },
  {
   "cell_type": "markdown",
   "id": "7b8f3669",
   "metadata": {},
   "source": [
    "## Insulin_Resistance"
   ]
  },
  {
   "cell_type": "code",
   "execution_count": 50,
   "id": "391501af",
   "metadata": {},
   "outputs": [
    {
     "data": {
      "text/plain": [
       "Insulin_Resistance\n",
       "No                                    185\n",
       "Yes                                    23\n",
       "No, Yes, not diagnosed by a doctor      1\n",
       "Name: count, dtype: int64"
      ]
     },
     "execution_count": 50,
     "metadata": {},
     "output_type": "execute_result"
    }
   ],
   "source": [
    "train.Insulin_Resistance.value_counts()"
   ]
  },
  {
   "cell_type": "code",
   "execution_count": 51,
   "id": "5fe6a934",
   "metadata": {},
   "outputs": [
    {
     "data": {
      "text/plain": [
       "Insulin_Resistance\n",
       "No                   126\n",
       "Yes                   16\n",
       "Yes Significantly      2\n",
       "Name: count, dtype: int64"
      ]
     },
     "execution_count": 51,
     "metadata": {},
     "output_type": "execute_result"
    }
   ],
   "source": [
    "test.Insulin_Resistance.value_counts()"
   ]
  },
  {
   "cell_type": "code",
   "execution_count": 52,
   "id": "4f0ca81e",
   "metadata": {},
   "outputs": [],
   "source": [
    "train['Insulin_Resistance'] = train['Insulin_Resistance'].replace({\n",
    " \"No, Yes, not diagnosed by a doctor\"   : 'No'\n",
    "\n",
    "})"
   ]
  },
  {
   "cell_type": "code",
   "execution_count": 53,
   "id": "f99fa64d",
   "metadata": {},
   "outputs": [],
   "source": [
    "test['Insulin_Resistance'] = test['Insulin_Resistance'].replace({\n",
    "     'Yes Significantly' : 'Yes'\n",
    "\n",
    "})"
   ]
  },
  {
   "cell_type": "markdown",
   "id": "ca58551f",
   "metadata": {},
   "source": [
    "# Handling outliers"
   ]
  },
  {
   "cell_type": "code",
   "execution_count": 54,
   "id": "f11a4b14",
   "metadata": {},
   "outputs": [
    {
     "data": {
      "text/html": [
       "<div>\n",
       "<style scoped>\n",
       "    .dataframe tbody tr th:only-of-type {\n",
       "        vertical-align: middle;\n",
       "    }\n",
       "\n",
       "    .dataframe tbody tr th {\n",
       "        vertical-align: top;\n",
       "    }\n",
       "\n",
       "    .dataframe thead th {\n",
       "        text-align: right;\n",
       "    }\n",
       "</style>\n",
       "<table border=\"1\" class=\"dataframe\">\n",
       "  <thead>\n",
       "    <tr style=\"text-align: right;\">\n",
       "      <th></th>\n",
       "      <th>ID</th>\n",
       "      <th>Age</th>\n",
       "      <th>Weight_kg</th>\n",
       "      <th>PCOS</th>\n",
       "      <th>Hormonal_Imbalance</th>\n",
       "      <th>Hyperandrogenism</th>\n",
       "      <th>Hirsutism</th>\n",
       "      <th>Conception_Difficulty</th>\n",
       "      <th>Insulin_Resistance</th>\n",
       "      <th>Exercise_Frequency</th>\n",
       "      <th>Exercise_Type</th>\n",
       "      <th>Exercise_Duration</th>\n",
       "      <th>Sleep_Hours</th>\n",
       "      <th>Exercise_Benefit</th>\n",
       "    </tr>\n",
       "  </thead>\n",
       "  <tbody>\n",
       "    <tr>\n",
       "      <th>33</th>\n",
       "      <td>33</td>\n",
       "      <td>20-25</td>\n",
       "      <td>116.0</td>\n",
       "      <td>No</td>\n",
       "      <td>No</td>\n",
       "      <td>No</td>\n",
       "      <td>No</td>\n",
       "      <td>No</td>\n",
       "      <td>No</td>\n",
       "      <td>1-2 Times a Week</td>\n",
       "      <td>Cardio</td>\n",
       "      <td>30 minutes to 1 hour</td>\n",
       "      <td>9-12 hours</td>\n",
       "      <td>Somewhat</td>\n",
       "    </tr>\n",
       "  </tbody>\n",
       "</table>\n",
       "</div>"
      ],
      "text/plain": [
       "    ID    Age  Weight_kg PCOS Hormonal_Imbalance Hyperandrogenism Hirsutism  \\\n",
       "33  33  20-25      116.0   No                 No               No        No   \n",
       "\n",
       "   Conception_Difficulty Insulin_Resistance Exercise_Frequency Exercise_Type  \\\n",
       "33                    No                 No   1-2 Times a Week        Cardio   \n",
       "\n",
       "       Exercise_Duration Sleep_Hours Exercise_Benefit  \n",
       "33  30 minutes to 1 hour  9-12 hours         Somewhat  "
      ]
     },
     "execution_count": 54,
     "metadata": {},
     "output_type": "execute_result"
    }
   ],
   "source": [
    "train.loc[train['ID'] == 33]"
   ]
  },
  {
   "cell_type": "code",
   "execution_count": 55,
   "id": "975ca43d",
   "metadata": {},
   "outputs": [
    {
     "name": "stdout",
     "output_type": "stream",
     "text": [
      "Lower Bound: 24.0, Upper Bound: 88.0\n",
      "Is Weight 116 an Outlier? True\n"
     ]
    }
   ],
   "source": [
    "import numpy as np\n",
    "\n",
    "# Calculate Q1, Q3, and IQR\n",
    "Q1 = train['Weight_kg'].quantile(0.25)\n",
    "Q3 = train['Weight_kg'].quantile(0.75)\n",
    "IQR = Q3 - Q1\n",
    "\n",
    "# Define lower and upper bounds for outliers\n",
    "lower_bound = Q1 - (1.5 * IQR)\n",
    "upper_bound = Q3 + (1.5 * IQR)\n",
    "\n",
    "print(f\"Lower Bound: {lower_bound}, Upper Bound: {upper_bound}\")\n",
    "\n",
    "# Check if 116 is an outlier\n",
    "is_outlier = 116 > upper_bound or 116 < lower_bound\n",
    "print(f\"Is Weight 116 an Outlier? {is_outlier}\")"
   ]
  },
  {
   "cell_type": "code",
   "execution_count": 56,
   "id": "b2be1a35",
   "metadata": {},
   "outputs": [],
   "source": [
    "train.loc[train['Weight_kg'] > upper_bound, 'Weight_kg'] = train['Weight_kg'].median()"
   ]
  },
  {
   "cell_type": "code",
   "execution_count": 57,
   "id": "a708597e",
   "metadata": {},
   "outputs": [
    {
     "data": {
      "text/html": [
       "<div>\n",
       "<style scoped>\n",
       "    .dataframe tbody tr th:only-of-type {\n",
       "        vertical-align: middle;\n",
       "    }\n",
       "\n",
       "    .dataframe tbody tr th {\n",
       "        vertical-align: top;\n",
       "    }\n",
       "\n",
       "    .dataframe thead th {\n",
       "        text-align: right;\n",
       "    }\n",
       "</style>\n",
       "<table border=\"1\" class=\"dataframe\">\n",
       "  <thead>\n",
       "    <tr style=\"text-align: right;\">\n",
       "      <th></th>\n",
       "      <th>ID</th>\n",
       "      <th>Age</th>\n",
       "      <th>Weight_kg</th>\n",
       "      <th>Hormonal_Imbalance</th>\n",
       "      <th>Hyperandrogenism</th>\n",
       "      <th>Hirsutism</th>\n",
       "      <th>Conception_Difficulty</th>\n",
       "      <th>Insulin_Resistance</th>\n",
       "      <th>Exercise_Frequency</th>\n",
       "      <th>Exercise_Type</th>\n",
       "      <th>Exercise_Duration</th>\n",
       "      <th>Sleep_Hours</th>\n",
       "      <th>Exercise_Benefit</th>\n",
       "    </tr>\n",
       "  </thead>\n",
       "  <tbody>\n",
       "    <tr>\n",
       "      <th>4</th>\n",
       "      <td>4</td>\n",
       "      <td>15-20</td>\n",
       "      <td>6.0</td>\n",
       "      <td>Yes</td>\n",
       "      <td>No</td>\n",
       "      <td>Yes</td>\n",
       "      <td>No</td>\n",
       "      <td>No</td>\n",
       "      <td>Rarely</td>\n",
       "      <td>Cardio</td>\n",
       "      <td>30 minutes</td>\n",
       "      <td>6-8 hours</td>\n",
       "      <td>Somewhat</td>\n",
       "    </tr>\n",
       "  </tbody>\n",
       "</table>\n",
       "</div>"
      ],
      "text/plain": [
       "   ID    Age  Weight_kg Hormonal_Imbalance Hyperandrogenism Hirsutism  \\\n",
       "4   4  15-20        6.0                Yes               No       Yes   \n",
       "\n",
       "  Conception_Difficulty Insulin_Resistance Exercise_Frequency Exercise_Type  \\\n",
       "4                    No                 No             Rarely        Cardio   \n",
       "\n",
       "  Exercise_Duration Sleep_Hours Exercise_Benefit  \n",
       "4        30 minutes   6-8 hours         Somewhat  "
      ]
     },
     "execution_count": 57,
     "metadata": {},
     "output_type": "execute_result"
    }
   ],
   "source": [
    "test.loc[test['ID'] == 4]"
   ]
  },
  {
   "cell_type": "code",
   "execution_count": 58,
   "id": "98565272",
   "metadata": {},
   "outputs": [
    {
     "name": "stdout",
     "output_type": "stream",
     "text": [
      "Lower Bound: 28.25, Upper Bound: 86.25\n",
      "Is Weight 6 an Outlier? True\n"
     ]
    }
   ],
   "source": [
    "# Calculate Q1, Q3, and IQR\n",
    "Q1 = test['Weight_kg'].quantile(0.25)\n",
    "Q3 = test['Weight_kg'].quantile(0.75)\n",
    "IQR = Q3 - Q1\n",
    "\n",
    "# Define lower and upper bounds for outliers\n",
    "lower_bound = Q1 - (1.5 * IQR)\n",
    "upper_bound = Q3 + (1.5 * IQR)\n",
    "\n",
    "print(f\"Lower Bound: {lower_bound}, Upper Bound: {upper_bound}\")\n",
    "\n",
    "# Check if 116 is an outlier\n",
    "is_outlier = 6 > lower_bound or 6 < upper_bound\n",
    "print(f\"Is Weight 6 an Outlier? {is_outlier}\")"
   ]
  },
  {
   "cell_type": "code",
   "execution_count": 59,
   "id": "24971fff",
   "metadata": {},
   "outputs": [],
   "source": [
    "test.loc[test['Weight_kg'] < lower_bound, 'Weight_kg'] = test['Weight_kg'].median()"
   ]
  },
  {
   "cell_type": "markdown",
   "id": "c74540af",
   "metadata": {},
   "source": [
    "### handling null values"
   ]
  },
  {
   "cell_type": "code",
   "execution_count": 60,
   "id": "53f1f648",
   "metadata": {},
   "outputs": [
    {
     "data": {
      "text/plain": [
       "ID                       0\n",
       "Age                      1\n",
       "Weight_kg                2\n",
       "PCOS                     0\n",
       "Hormonal_Imbalance       2\n",
       "Hyperandrogenism         3\n",
       "Hirsutism                5\n",
       "Conception_Difficulty    1\n",
       "Insulin_Resistance       1\n",
       "Exercise_Frequency       2\n",
       "Exercise_Type            2\n",
       "Exercise_Duration        2\n",
       "Sleep_Hours              2\n",
       "Exercise_Benefit         1\n",
       "dtype: int64"
      ]
     },
     "execution_count": 60,
     "metadata": {},
     "output_type": "execute_result"
    }
   ],
   "source": [
    "train.isnull().sum()"
   ]
  },
  {
   "cell_type": "markdown",
   "id": "783a9403",
   "metadata": {},
   "source": [
    "#### age"
   ]
  },
  {
   "cell_type": "code",
   "execution_count": 61,
   "id": "40d701f3",
   "metadata": {},
   "outputs": [
    {
     "data": {
      "text/plain": [
       "'20-25'"
      ]
     },
     "execution_count": 61,
     "metadata": {},
     "output_type": "execute_result"
    }
   ],
   "source": [
    "mostcommonage = train[train['PCOS'] =='No']['Age'].mode()[0]\n",
    "mostcommonage"
   ]
  },
  {
   "cell_type": "code",
   "execution_count": 62,
   "id": "c92dfc70",
   "metadata": {},
   "outputs": [],
   "source": [
    "train.loc[train['Age'].isnull(), 'Age'] =  mostcommonage"
   ]
  },
  {
   "cell_type": "markdown",
   "id": "00260660",
   "metadata": {},
   "source": [
    "#### weight"
   ]
  },
  {
   "cell_type": "code",
   "execution_count": 63,
   "id": "571abaac",
   "metadata": {},
   "outputs": [
    {
     "data": {
      "text/plain": [
       "54.0"
      ]
     },
     "execution_count": 63,
     "metadata": {},
     "output_type": "execute_result"
    }
   ],
   "source": [
    "median_weight  = train[(train['PCOS'] =='No') & (train['Age'] == '20-25')]['Weight_kg'].median()\n",
    "median_weight"
   ]
  },
  {
   "cell_type": "code",
   "execution_count": 64,
   "id": "d18830af",
   "metadata": {},
   "outputs": [],
   "source": [
    "train.loc[train['Weight_kg'].isnull(), 'Weight_kg'] =  median_weight"
   ]
  },
  {
   "cell_type": "markdown",
   "id": "6a2752dd",
   "metadata": {},
   "source": [
    "#### hormonal imbalance"
   ]
  },
  {
   "cell_type": "code",
   "execution_count": 65,
   "id": "ada29dc6",
   "metadata": {},
   "outputs": [],
   "source": [
    "train.loc[train['ID']== 75,'Hormonal_Imbalance'] ='Yes'"
   ]
  },
  {
   "cell_type": "code",
   "execution_count": 66,
   "id": "4daa1eed",
   "metadata": {},
   "outputs": [],
   "source": [
    "train.loc[train['ID']== 145,'Hormonal_Imbalance'] ='Yes'"
   ]
  },
  {
   "cell_type": "code",
   "execution_count": 67,
   "id": "15f6200d",
   "metadata": {},
   "outputs": [
    {
     "data": {
      "text/plain": [
       "Hormonal_Imbalance\n",
       "Yes    22\n",
       "Name: count, dtype: int64"
      ]
     },
     "execution_count": 67,
     "metadata": {},
     "output_type": "execute_result"
    }
   ],
   "source": [
    "train[(train['Hyperandrogenism'] =='Yes') & (train['Hirsutism'] =='Yes')]['Hormonal_Imbalance'].value_counts()"
   ]
  },
  {
   "cell_type": "markdown",
   "id": "5e030eca",
   "metadata": {},
   "source": [
    "#### Hyperandrogenism"
   ]
  },
  {
   "cell_type": "code",
   "execution_count": 68,
   "id": "6f144b40",
   "metadata": {},
   "outputs": [],
   "source": [
    "train.loc[train['ID'] == 44, 'Hyperandrogenism'] = 'No'\n",
    "train.loc[train['ID'] == 92, 'Hyperandrogenism'] = 'No'\n",
    "train.loc[train['ID'] == 164, 'Hyperandrogenism'] = 'No'"
   ]
  },
  {
   "cell_type": "markdown",
   "id": "24013c63",
   "metadata": {},
   "source": [
    "#### Hirsutism"
   ]
  },
  {
   "cell_type": "code",
   "execution_count": 69,
   "id": "c62a1af1",
   "metadata": {},
   "outputs": [],
   "source": [
    "train.loc[train['ID'] == 89, 'Hirsutism'] = 'No'\n",
    "train.loc[train['ID'] == 96, 'Hirsutism'] = 'No'\n",
    "train.loc[train['ID'] == 165, 'Hirsutism'] = 'Yes'\n",
    "train.loc[train['ID'] == 172, 'Hirsutism'] = 'Yes'\n",
    "train.loc[train['ID'] == 192, 'Hirsutism'] = 'No'"
   ]
  },
  {
   "cell_type": "markdown",
   "id": "c036887d",
   "metadata": {},
   "source": [
    "#### Conception_Difficulty"
   ]
  },
  {
   "cell_type": "code",
   "execution_count": 70,
   "id": "0adfc5c4",
   "metadata": {},
   "outputs": [],
   "source": [
    "train.loc[train['ID'] ==41, 'Conception_Difficulty'] ='No'"
   ]
  },
  {
   "cell_type": "markdown",
   "id": "a3577cfa",
   "metadata": {},
   "source": [
    "#### Insulin_Resistance"
   ]
  },
  {
   "cell_type": "code",
   "execution_count": 71,
   "id": "f29361d8",
   "metadata": {},
   "outputs": [
    {
     "data": {
      "text/plain": [
       "Insulin_Resistance\n",
       "No     157\n",
       "Yes      6\n",
       "Name: count, dtype: int64"
      ]
     },
     "execution_count": 71,
     "metadata": {},
     "output_type": "execute_result"
    }
   ],
   "source": [
    "train[train['PCOS'] == 'No']['Insulin_Resistance'].value_counts()"
   ]
  },
  {
   "cell_type": "code",
   "execution_count": 72,
   "id": "cf31fcce",
   "metadata": {},
   "outputs": [
    {
     "data": {
      "text/plain": [
       "Insulin_Resistance\n",
       "No     36\n",
       "Yes     1\n",
       "Name: count, dtype: int64"
      ]
     },
     "execution_count": 72,
     "metadata": {},
     "output_type": "execute_result"
    }
   ],
   "source": [
    "train[(train['PCOS'] == 'No') & \n",
    "   (train['Hormonal_Imbalance'] == 'No') & \n",
    "   (train['Weight_kg'] >= 50) & (train['Weight_kg'] <= 60)]['Insulin_Resistance'].value_counts()"
   ]
  },
  {
   "cell_type": "code",
   "execution_count": 73,
   "id": "88ddb0c3",
   "metadata": {},
   "outputs": [
    {
     "data": {
      "text/html": [
       "<div>\n",
       "<style scoped>\n",
       "    .dataframe tbody tr th:only-of-type {\n",
       "        vertical-align: middle;\n",
       "    }\n",
       "\n",
       "    .dataframe tbody tr th {\n",
       "        vertical-align: top;\n",
       "    }\n",
       "\n",
       "    .dataframe thead th {\n",
       "        text-align: right;\n",
       "    }\n",
       "</style>\n",
       "<table border=\"1\" class=\"dataframe\">\n",
       "  <thead>\n",
       "    <tr style=\"text-align: right;\">\n",
       "      <th></th>\n",
       "      <th>Weight_kg</th>\n",
       "    </tr>\n",
       "    <tr>\n",
       "      <th>Insulin_Resistance</th>\n",
       "      <th></th>\n",
       "    </tr>\n",
       "  </thead>\n",
       "  <tbody>\n",
       "    <tr>\n",
       "      <th>No</th>\n",
       "      <td>54.86129</td>\n",
       "    </tr>\n",
       "    <tr>\n",
       "      <th>Yes</th>\n",
       "      <td>60.73913</td>\n",
       "    </tr>\n",
       "  </tbody>\n",
       "</table>\n",
       "</div>"
      ],
      "text/plain": [
       "                    Weight_kg\n",
       "Insulin_Resistance           \n",
       "No                   54.86129\n",
       "Yes                  60.73913"
      ]
     },
     "execution_count": 73,
     "metadata": {},
     "output_type": "execute_result"
    }
   ],
   "source": [
    "train[['Weight_kg', 'Insulin_Resistance']].groupby('Insulin_Resistance').mean()"
   ]
  },
  {
   "cell_type": "code",
   "execution_count": 74,
   "id": "ae8b8af9",
   "metadata": {},
   "outputs": [],
   "source": [
    "train.loc[train['ID'] ==41, 'Insulin_Resistance'] ='No'"
   ]
  },
  {
   "cell_type": "markdown",
   "id": "7eaa1f2e",
   "metadata": {},
   "source": [
    "#### Exercise_Frequency"
   ]
  },
  {
   "cell_type": "code",
   "execution_count": 75,
   "id": "79a5d1d0",
   "metadata": {},
   "outputs": [],
   "source": [
    "train.loc[train['ID'] ==58, 'Exercise_Frequency'] ='Never'"
   ]
  },
  {
   "cell_type": "code",
   "execution_count": 76,
   "id": "dde85527",
   "metadata": {},
   "outputs": [
    {
     "data": {
      "text/plain": [
       "Exercise_Frequency\n",
       "Rarely    1\n",
       "Name: count, dtype: int64"
      ]
     },
     "execution_count": 76,
     "metadata": {},
     "output_type": "execute_result"
    }
   ],
   "source": [
    "train[(train['Exercise_Type'] == 'Strength training') & \n",
    "   (train['Exercise_Duration'] == 'Not Applicable')]['Exercise_Frequency'].value_counts()"
   ]
  },
  {
   "cell_type": "code",
   "execution_count": 77,
   "id": "58410474",
   "metadata": {},
   "outputs": [],
   "source": [
    "train.loc[train['ID'] ==158, 'Exercise_Frequency'] ='Rarely'"
   ]
  },
  {
   "cell_type": "markdown",
   "id": "3edc7bea",
   "metadata": {},
   "source": [
    "#### Exercise_Type"
   ]
  },
  {
   "cell_type": "code",
   "execution_count": 78,
   "id": "784e7c91",
   "metadata": {},
   "outputs": [
    {
     "data": {
      "text/plain": [
       "Exercise_Type\n",
       "No Exercise          51\n",
       "Cardio               37\n",
       "Flexibility          10\n",
       "Strength training     4\n",
       "Name: count, dtype: int64"
      ]
     },
     "execution_count": 78,
     "metadata": {},
     "output_type": "execute_result"
    }
   ],
   "source": [
    "train[train['Exercise_Frequency'] == 'Rarely']['Exercise_Type'].value_counts()"
   ]
  },
  {
   "cell_type": "code",
   "execution_count": 79,
   "id": "2ac6ebf3",
   "metadata": {},
   "outputs": [],
   "source": [
    "train.loc[train['ID'] == 65, 'Exercise_Type'] = 'No Exercise'\n",
    "train.loc[train['ID'] == 128, 'Exercise_Type'] = 'No Exercise'"
   ]
  },
  {
   "cell_type": "code",
   "execution_count": 80,
   "id": "199b83ed",
   "metadata": {},
   "outputs": [
    {
     "data": {
      "text/plain": [
       "Exercise_Type\n",
       "No Exercise          93\n",
       "Cardio               90\n",
       "Flexibility          18\n",
       "Strength training     9\n",
       "Name: count, dtype: int64"
      ]
     },
     "execution_count": 80,
     "metadata": {},
     "output_type": "execute_result"
    }
   ],
   "source": [
    "train.Exercise_Type.value_counts()"
   ]
  },
  {
   "cell_type": "markdown",
   "id": "a7fba2c0",
   "metadata": {},
   "source": [
    "#### Exercise_Duration"
   ]
  },
  {
   "cell_type": "code",
   "execution_count": 81,
   "id": "efcb28b1",
   "metadata": {},
   "outputs": [],
   "source": [
    "train.loc[train['ID'] == 42, 'Exercise_Duration'] = '30 minutes to 1 hour'\n"
   ]
  },
  {
   "cell_type": "code",
   "execution_count": 82,
   "id": "b82fbd14",
   "metadata": {},
   "outputs": [
    {
     "data": {
      "text/plain": [
       "Exercise_Duration\n",
       "Not Applicable          4\n",
       "Less than 30 minutes    4\n",
       "30 minutes to 1 hour    1\n",
       "Name: count, dtype: int64"
      ]
     },
     "execution_count": 82,
     "metadata": {},
     "output_type": "execute_result"
    }
   ],
   "source": [
    "train[(train['Exercise_Type'].str.contains(\"Flexibility\")) & \n",
    "   (train['Exercise_Frequency'] == \"Rarely\")]['Exercise_Duration'].value_counts()"
   ]
  },
  {
   "cell_type": "code",
   "execution_count": 83,
   "id": "9a25011d",
   "metadata": {},
   "outputs": [],
   "source": [
    "train.loc[train['ID'] == 183, 'Exercise_Duration'] = 'Less than 30 minutes'\n"
   ]
  },
  {
   "cell_type": "markdown",
   "id": "90e5243b",
   "metadata": {},
   "source": [
    "#### Sleep_Hours"
   ]
  },
  {
   "cell_type": "code",
   "execution_count": 84,
   "id": "21b3b919",
   "metadata": {},
   "outputs": [
    {
     "data": {
      "text/plain": [
       "Sleep_Hours\n",
       "6-8 hours            8\n",
       "Less than 6 hours    5\n",
       "9-12 hours           2\n",
       "Name: count, dtype: int64"
      ]
     },
     "execution_count": 84,
     "metadata": {},
     "output_type": "execute_result"
    }
   ],
   "source": [
    "train[(train['Age'] == '20-25') & \n",
    "   (train['Exercise_Frequency'] == '3-4 Times a Week')]['Sleep_Hours'].value_counts()"
   ]
  },
  {
   "cell_type": "code",
   "execution_count": 85,
   "id": "c7483556",
   "metadata": {},
   "outputs": [],
   "source": [
    "train.loc[train['ID'] == 12, 'Sleep_Hours'] = '6-8 hours'\n"
   ]
  },
  {
   "cell_type": "code",
   "execution_count": 86,
   "id": "16f27f6e",
   "metadata": {},
   "outputs": [
    {
     "data": {
      "text/plain": [
       "Sleep_Hours\n",
       "6-8 hours            21\n",
       "Less than 6 hours     9\n",
       "9-12 hours            3\n",
       "Name: count, dtype: int64"
      ]
     },
     "execution_count": 86,
     "metadata": {},
     "output_type": "execute_result"
    }
   ],
   "source": [
    "train[(train['Age'] == '15-20') & \n",
    "   (train['Exercise_Frequency'] == 'Rarely')]['Sleep_Hours'].value_counts()"
   ]
  },
  {
   "cell_type": "code",
   "execution_count": 87,
   "id": "ae082aa2",
   "metadata": {},
   "outputs": [],
   "source": [
    "train.loc[train['ID'] == 105, 'Sleep_Hours'] = '6-8 hours'\n"
   ]
  },
  {
   "cell_type": "markdown",
   "id": "3f4c78aa",
   "metadata": {},
   "source": [
    "#### Exercise_Benefit"
   ]
  },
  {
   "cell_type": "code",
   "execution_count": 88,
   "id": "4f51b173",
   "metadata": {},
   "outputs": [
    {
     "data": {
      "text/plain": [
       "Exercise_Benefit\n",
       "Somewhat      4\n",
       "Not at All    1\n",
       "Name: count, dtype: int64"
      ]
     },
     "execution_count": 88,
     "metadata": {},
     "output_type": "execute_result"
    }
   ],
   "source": [
    "\n",
    "train[(train['Exercise_Frequency'] == '1-2 Times a Week') & \n",
    "   (train['Exercise_Type'] == 'No Exercise')]['Exercise_Benefit'].value_counts()"
   ]
  },
  {
   "cell_type": "code",
   "execution_count": 89,
   "id": "75b1b2fa",
   "metadata": {},
   "outputs": [],
   "source": [
    "train.loc[train['ID'] == 140, 'Exercise_Benefit'] = 'Not at All'\n"
   ]
  },
  {
   "cell_type": "markdown",
   "id": "c348393c",
   "metadata": {},
   "source": [
    "\n",
    "# testing"
   ]
  },
  {
   "cell_type": "code",
   "execution_count": 90,
   "id": "54d48c8f",
   "metadata": {},
   "outputs": [
    {
     "data": {
      "text/plain": [
       "ID                       0\n",
       "Age                      1\n",
       "Weight_kg                2\n",
       "Hormonal_Imbalance       3\n",
       "Hyperandrogenism         1\n",
       "Hirsutism                2\n",
       "Conception_Difficulty    2\n",
       "Insulin_Resistance       1\n",
       "Exercise_Frequency       1\n",
       "Exercise_Type            1\n",
       "Exercise_Duration        0\n",
       "Sleep_Hours              1\n",
       "Exercise_Benefit         1\n",
       "dtype: int64"
      ]
     },
     "execution_count": 90,
     "metadata": {},
     "output_type": "execute_result"
    }
   ],
   "source": [
    "test.isnull().sum()"
   ]
  },
  {
   "cell_type": "markdown",
   "id": "f0a8573f",
   "metadata": {},
   "source": [
    "##### AGE"
   ]
  },
  {
   "cell_type": "code",
   "execution_count": 91,
   "id": "286b85d1",
   "metadata": {},
   "outputs": [
    {
     "data": {
      "text/plain": [
       "'20-25'"
      ]
     },
     "execution_count": 91,
     "metadata": {},
     "output_type": "execute_result"
    }
   ],
   "source": [
    "common_age = train[(train['Weight_kg'] >= 50) & (train['Weight_kg'] <= 55)]['Age'].mode()[0]\n",
    "common_age"
   ]
  },
  {
   "cell_type": "code",
   "execution_count": 92,
   "id": "82de7b62",
   "metadata": {},
   "outputs": [],
   "source": [
    "test.loc[test['Age'].isnull(), 'Age'] =  common_age"
   ]
  },
  {
   "cell_type": "markdown",
   "id": "a7a1e466",
   "metadata": {},
   "source": [
    "#### weight"
   ]
  },
  {
   "cell_type": "code",
   "execution_count": 93,
   "id": "f40702f9",
   "metadata": {},
   "outputs": [],
   "source": [
    "median_weight = train[(train['Age'] == '20-25') & (train['Hormonal_Imbalance'] == 'Yes')]['Weight_kg'].median()"
   ]
  },
  {
   "cell_type": "code",
   "execution_count": 94,
   "id": "cb5cb0c8",
   "metadata": {},
   "outputs": [],
   "source": [
    "test.loc[test['ID'].isin([10, 33]), 'Weight_kg'] = median_weight"
   ]
  },
  {
   "cell_type": "markdown",
   "id": "82071a80",
   "metadata": {},
   "source": [
    "#### Hormonal_Imbalance"
   ]
  },
  {
   "cell_type": "code",
   "execution_count": 95,
   "id": "bc9588e5",
   "metadata": {},
   "outputs": [],
   "source": [
    "test.loc[test['ID'] == 50, 'Hormonal_Imbalance'] = 'No'\n",
    "test.loc[test['ID'] == 62, 'Hormonal_Imbalance'] = 'Yes'  # If trend confirms\n",
    "test.loc[test['ID'] == 119, 'Hormonal_Imbalance'] = 'No'"
   ]
  },
  {
   "cell_type": "markdown",
   "id": "b6fa0175",
   "metadata": {},
   "source": [
    "#### Hyperandrogenism"
   ]
  },
  {
   "cell_type": "code",
   "execution_count": 96,
   "id": "b582d5fe",
   "metadata": {},
   "outputs": [],
   "source": [
    "test.loc[test['ID'] == 46, 'Hyperandrogenism'] = 'Yes'"
   ]
  },
  {
   "cell_type": "markdown",
   "id": "d1355809",
   "metadata": {},
   "source": [
    "#### Hirsutism"
   ]
  },
  {
   "cell_type": "code",
   "execution_count": 97,
   "id": "c70802b6",
   "metadata": {},
   "outputs": [],
   "source": [
    "test.loc[test['ID'] == 63, 'Hirsutism'] = 'No'\n",
    "test.loc[test['ID'] == 96, 'Hirsutism'] = 'No'"
   ]
  },
  {
   "cell_type": "markdown",
   "id": "d8bd81b3",
   "metadata": {},
   "source": [
    "#### Conception"
   ]
  },
  {
   "cell_type": "code",
   "execution_count": 98,
   "id": "003daf7c",
   "metadata": {},
   "outputs": [],
   "source": [
    "test.loc[test['ID'] == 23, 'Conception_Difficulty'] = 'No'\n",
    "test.loc[test['ID'] == 49, 'Conception_Difficulty'] = 'No'"
   ]
  },
  {
   "cell_type": "markdown",
   "id": "269b5705",
   "metadata": {},
   "source": [
    "#### Insulin_Resistance"
   ]
  },
  {
   "cell_type": "code",
   "execution_count": 99,
   "id": "fee7ec7c",
   "metadata": {},
   "outputs": [],
   "source": [
    "test.loc[test['ID'] == 60, 'Insulin_Resistance'] = 'No'"
   ]
  },
  {
   "cell_type": "markdown",
   "id": "b401bbe7",
   "metadata": {},
   "source": [
    "#### Exercise_Frequency"
   ]
  },
  {
   "cell_type": "code",
   "execution_count": 100,
   "id": "4916ddb3",
   "metadata": {},
   "outputs": [
    {
     "data": {
      "text/plain": [
       "Exercise_Frequency\n",
       "Rarely              104\n",
       "1-2 Times a Week     35\n",
       "Never                29\n",
       "3-4 Times a Week     23\n",
       "6-8 Times a Week     17\n",
       "Unknown               2\n",
       "Name: count, dtype: int64"
      ]
     },
     "execution_count": 100,
     "metadata": {},
     "output_type": "execute_result"
    }
   ],
   "source": [
    "train.Exercise_Frequency.value_counts()"
   ]
  },
  {
   "cell_type": "code",
   "execution_count": 101,
   "id": "9b2f5162",
   "metadata": {},
   "outputs": [
    {
     "data": {
      "text/plain": [
       "Exercise_Frequency\n",
       "Rarely              12\n",
       "1-2 Times a Week    11\n",
       "3-4 Times a Week     6\n",
       "6-8 Times a Week     4\n",
       "Name: count, dtype: int64"
      ]
     },
     "execution_count": 101,
     "metadata": {},
     "output_type": "execute_result"
    }
   ],
   "source": [
    "train[(train['Exercise_Duration'] == '30 minutes')]['Exercise_Frequency'].value_counts()"
   ]
  },
  {
   "cell_type": "code",
   "execution_count": 102,
   "id": "469677c4",
   "metadata": {},
   "outputs": [],
   "source": [
    "test.loc[test['ID'] == 46, 'Exercise_Frequency'] = 'Rarely'"
   ]
  },
  {
   "cell_type": "markdown",
   "id": "420a4960",
   "metadata": {},
   "source": [
    "#### Exercise type"
   ]
  },
  {
   "cell_type": "code",
   "execution_count": 103,
   "id": "c82d4ae2",
   "metadata": {},
   "outputs": [
    {
     "data": {
      "text/plain": [
       "Exercise_Type\n",
       "Cardio               25\n",
       "No Exercise           4\n",
       "Flexibility           3\n",
       "Strength training     1\n",
       "Name: count, dtype: int64"
      ]
     },
     "execution_count": 103,
     "metadata": {},
     "output_type": "execute_result"
    }
   ],
   "source": [
    "train[train['Exercise_Duration'] == '30 minutes']['Exercise_Type'].value_counts()"
   ]
  },
  {
   "cell_type": "code",
   "execution_count": 104,
   "id": "fb24851d",
   "metadata": {},
   "outputs": [],
   "source": [
    "test.loc[test['ID'] == 66, 'Exercise_Type'] = 'Cardio'"
   ]
  },
  {
   "cell_type": "markdown",
   "id": "c09b9f96",
   "metadata": {},
   "source": [
    "#### sleep"
   ]
  },
  {
   "cell_type": "code",
   "execution_count": 105,
   "id": "f91d43a3",
   "metadata": {},
   "outputs": [
    {
     "data": {
      "text/plain": [
       "Sleep_Hours\n",
       "6-8 hours            9\n",
       "Less than 6 hours    7\n",
       "9-12 hours           3\n",
       "Name: count, dtype: int64"
      ]
     },
     "execution_count": 105,
     "metadata": {},
     "output_type": "execute_result"
    }
   ],
   "source": [
    "train[(train['Age'] == '20-25') & \n",
    "   (train['Exercise_Frequency'] == '1-2 Times a Week')]['Sleep_Hours'].value_counts()"
   ]
  },
  {
   "cell_type": "code",
   "execution_count": 106,
   "id": "a2c41832",
   "metadata": {},
   "outputs": [],
   "source": [
    "test.loc[test['ID'] == 101, 'Sleep_Hours'] = '6-8 hours'"
   ]
  },
  {
   "cell_type": "markdown",
   "id": "2a6be455",
   "metadata": {},
   "source": [
    "#### benefit"
   ]
  },
  {
   "cell_type": "code",
   "execution_count": 107,
   "id": "d11f70c4",
   "metadata": {},
   "outputs": [
    {
     "data": {
      "text/plain": [
       "Exercise_Benefit\n",
       "Somewhat             158\n",
       "Not at All            27\n",
       "Yes Significantly     25\n",
       "Name: count, dtype: int64"
      ]
     },
     "execution_count": 107,
     "metadata": {},
     "output_type": "execute_result"
    }
   ],
   "source": [
    "train.Exercise_Benefit.value_counts()"
   ]
  },
  {
   "cell_type": "code",
   "execution_count": 108,
   "id": "c6c6c2a3",
   "metadata": {},
   "outputs": [],
   "source": [
    "test.loc[test['ID'] == 96, 'Exercise_Benefit'] = 'Yes Significantly'"
   ]
  },
  {
   "cell_type": "markdown",
   "id": "a2f3fa23",
   "metadata": {},
   "source": [
    "# handling duplicates"
   ]
  },
  {
   "cell_type": "code",
   "execution_count": 109,
   "id": "df8f1cab",
   "metadata": {},
   "outputs": [
    {
     "data": {
      "text/plain": [
       "0"
      ]
     },
     "execution_count": 109,
     "metadata": {},
     "output_type": "execute_result"
    }
   ],
   "source": [
    "train.duplicated().sum()"
   ]
  },
  {
   "cell_type": "code",
   "execution_count": 110,
   "id": "e2ee207f",
   "metadata": {},
   "outputs": [
    {
     "data": {
      "text/plain": [
       "0"
      ]
     },
     "execution_count": 110,
     "metadata": {},
     "output_type": "execute_result"
    }
   ],
   "source": [
    "test.duplicated().sum()"
   ]
  },
  {
   "cell_type": "markdown",
   "id": "1112c1fc",
   "metadata": {},
   "source": [
    "# Feature Engineering"
   ]
  },
  {
   "cell_type": "code",
   "execution_count": 111,
   "id": "bcf39445",
   "metadata": {},
   "outputs": [],
   "source": [
    "train['pcos_severity'] = train[['Hormonal_Imbalance', 'Hyperandrogenism', 'Hirsutism']].apply(lambda x: sum(x == 'Yes'), axis=1)\n",
    "test['pcos_severity'] = test[['Hormonal_Imbalance', 'Hyperandrogenism', 'Hirsutism']].apply(lambda x: sum(x == 'Yes'), axis=1)"
   ]
  },
  {
   "cell_type": "code",
   "execution_count": 112,
   "id": "05eecd10",
   "metadata": {},
   "outputs": [],
   "source": [
    "def lifestyle_score(row):\n",
    "    score = 0\n",
    "    # Assign scores for exercise frequency\n",
    "    if row['Exercise_Frequency'] == 'Never':\n",
    "        score += 0\n",
    "    elif row['Exercise_Frequency'] == 'Rarely':\n",
    "        score += 1\n",
    "    elif row['Exercise_Frequency'] == '1-2 times a week':\n",
    "        score += 2\n",
    "    elif row['Exercise_Frequency'] == '3-4 times a week':\n",
    "        score += 3\n",
    "    elif row['Exercise_Frequency'] == '6-8 times a week':\n",
    "        score += 4\n",
    "    \n",
    "\n",
    "    # Assign scores for sleep hours\n",
    "    if row['Sleep_Hours'] == 'Less than 6 hours':\n",
    "        score -= 2\n",
    "    elif row['Sleep_Hours'] == '6-8 hours':\n",
    "        score += 2\n",
    "    elif row['Sleep_Hours'] == '9-12 hours':\n",
    "        score += 1\n",
    "    elif row['Sleep_Hours'] == 'More than 12 hours':\n",
    "        score -= 1\n",
    "\n",
    "    return score\n",
    "\n",
    "train['lifestyle_score'] = train.apply(lifestyle_score, axis=1)\n",
    "test['lifestyle_score'] = test.apply(lifestyle_score, axis=1)"
   ]
  },
  {
   "cell_type": "code",
   "execution_count": 113,
   "id": "bea85b38",
   "metadata": {},
   "outputs": [],
   "source": [
    "train['reproductive_risk_score'] = train[['Insulin_Resistance', 'Conception_Difficulty']].apply(lambda x: sum(x == 'Yes'), axis=1)\n",
    "test['reproductive_risk_score'] = test[['Insulin_Resistance', 'Conception_Difficulty']].apply(lambda x: sum(x == 'Yes'), axis=1)"
   ]
  },
  {
   "cell_type": "code",
   "execution_count": 114,
   "id": "7f241154",
   "metadata": {},
   "outputs": [],
   "source": [
    "train['Sleep_Deficiency'] = train['Sleep_Hours'].apply(lambda x: 1 if x in ['Less than 6 hours', 'More than 12 hours'] else 0)\n",
    "test['Sleep_Deficiency'] = test['Sleep_Hours'].apply(lambda x: 1 if x in ['Less than 6 hours', 'More than 12 hours'] else 0)"
   ]
  },
  {
   "cell_type": "markdown",
   "id": "307c4b78",
   "metadata": {},
   "source": [
    "# Encoding"
   ]
  },
  {
   "cell_type": "code",
   "execution_count": 115,
   "id": "5fc39e74",
   "metadata": {},
   "outputs": [
    {
     "name": "stdout",
     "output_type": "stream",
     "text": [
      "<class 'pandas.core.frame.DataFrame'>\n",
      "RangeIndex: 210 entries, 0 to 209\n",
      "Data columns (total 18 columns):\n",
      " #   Column                   Non-Null Count  Dtype  \n",
      "---  ------                   --------------  -----  \n",
      " 0   ID                       210 non-null    int64  \n",
      " 1   Age                      210 non-null    object \n",
      " 2   Weight_kg                210 non-null    float64\n",
      " 3   PCOS                     210 non-null    object \n",
      " 4   Hormonal_Imbalance       210 non-null    object \n",
      " 5   Hyperandrogenism         210 non-null    object \n",
      " 6   Hirsutism                210 non-null    object \n",
      " 7   Conception_Difficulty    210 non-null    object \n",
      " 8   Insulin_Resistance       210 non-null    object \n",
      " 9   Exercise_Frequency       210 non-null    object \n",
      " 10  Exercise_Type            210 non-null    object \n",
      " 11  Exercise_Duration        210 non-null    object \n",
      " 12  Sleep_Hours              210 non-null    object \n",
      " 13  Exercise_Benefit         210 non-null    object \n",
      " 14  pcos_severity            210 non-null    int64  \n",
      " 15  lifestyle_score          210 non-null    int64  \n",
      " 16  reproductive_risk_score  210 non-null    int64  \n",
      " 17  Sleep_Deficiency         210 non-null    int64  \n",
      "dtypes: float64(1), int64(5), object(12)\n",
      "memory usage: 29.7+ KB\n"
     ]
    }
   ],
   "source": [
    "train.info()"
   ]
  },
  {
   "cell_type": "code",
   "execution_count": 116,
   "id": "4a944a87",
   "metadata": {},
   "outputs": [
    {
     "name": "stderr",
     "output_type": "stream",
     "text": [
      "C:\\Users\\mdsmb\\AppData\\Local\\Temp\\ipykernel_2960\\3563078860.py:1: FutureWarning: Downcasting behavior in `replace` is deprecated and will be removed in a future version. To retain the old behavior, explicitly call `result.infer_objects(copy=False)`. To opt-in to the future behavior, set `pd.set_option('future.no_silent_downcasting', True)`\n",
      "  train['Age'] = train['Age'].replace({'15-20':0,'20-25':1,'25-30':2,'30-35':3,'35-45' : 4, '45 and above' : 5})\n",
      "C:\\Users\\mdsmb\\AppData\\Local\\Temp\\ipykernel_2960\\3563078860.py:2: FutureWarning: Downcasting behavior in `replace` is deprecated and will be removed in a future version. To retain the old behavior, explicitly call `result.infer_objects(copy=False)`. To opt-in to the future behavior, set `pd.set_option('future.no_silent_downcasting', True)`\n",
      "  test['Age'] = test['Age'].replace({'15-20':0,'20-25':1,'25-30':2,'30-35':3,'35-45' : 4, '45 and above' : 5})\n"
     ]
    }
   ],
   "source": [
    "train['Age'] = train['Age'].replace({'15-20':0,'20-25':1,'25-30':2,'30-35':3,'35-45' : 4, '45 and above' : 5})\n",
    "test['Age'] = test['Age'].replace({'15-20':0,'20-25':1,'25-30':2,'30-35':3,'35-45' : 4, '45 and above' : 5})"
   ]
  },
  {
   "cell_type": "code",
   "execution_count": 117,
   "id": "c11142b0",
   "metadata": {},
   "outputs": [
    {
     "name": "stderr",
     "output_type": "stream",
     "text": [
      "C:\\Users\\mdsmb\\AppData\\Local\\Temp\\ipykernel_2960\\163271444.py:1: FutureWarning: Downcasting behavior in `replace` is deprecated and will be removed in a future version. To retain the old behavior, explicitly call `result.infer_objects(copy=False)`. To opt-in to the future behavior, set `pd.set_option('future.no_silent_downcasting', True)`\n",
      "  train['PCOS'] = train['PCOS'].replace({'No': 0,'Yes':1})\n"
     ]
    }
   ],
   "source": [
    "train['PCOS'] = train['PCOS'].replace({'No': 0,'Yes':1})"
   ]
  },
  {
   "cell_type": "code",
   "execution_count": 118,
   "id": "fe879ea6",
   "metadata": {},
   "outputs": [
    {
     "name": "stderr",
     "output_type": "stream",
     "text": [
      "C:\\Users\\mdsmb\\AppData\\Local\\Temp\\ipykernel_2960\\613218908.py:1: FutureWarning: Downcasting behavior in `replace` is deprecated and will be removed in a future version. To retain the old behavior, explicitly call `result.infer_objects(copy=False)`. To opt-in to the future behavior, set `pd.set_option('future.no_silent_downcasting', True)`\n",
      "  train['Hormonal_Imbalance'] = train['Hormonal_Imbalance'].replace({'No': 0,'Yes':1})\n",
      "C:\\Users\\mdsmb\\AppData\\Local\\Temp\\ipykernel_2960\\613218908.py:2: FutureWarning: Downcasting behavior in `replace` is deprecated and will be removed in a future version. To retain the old behavior, explicitly call `result.infer_objects(copy=False)`. To opt-in to the future behavior, set `pd.set_option('future.no_silent_downcasting', True)`\n",
      "  test['Hormonal_Imbalance'] = test['Hormonal_Imbalance'].replace({'No': 0,'Yes':1})\n"
     ]
    }
   ],
   "source": [
    "train['Hormonal_Imbalance'] = train['Hormonal_Imbalance'].replace({'No': 0,'Yes':1})\n",
    "test['Hormonal_Imbalance'] = test['Hormonal_Imbalance'].replace({'No': 0,'Yes':1})"
   ]
  },
  {
   "cell_type": "code",
   "execution_count": 119,
   "id": "111efb6d",
   "metadata": {},
   "outputs": [
    {
     "name": "stderr",
     "output_type": "stream",
     "text": [
      "C:\\Users\\mdsmb\\AppData\\Local\\Temp\\ipykernel_2960\\497247569.py:1: FutureWarning: Downcasting behavior in `replace` is deprecated and will be removed in a future version. To retain the old behavior, explicitly call `result.infer_objects(copy=False)`. To opt-in to the future behavior, set `pd.set_option('future.no_silent_downcasting', True)`\n",
      "  train['Hyperandrogenism'] = train['Hyperandrogenism'].replace({'No': 0,'Yes':1})\n",
      "C:\\Users\\mdsmb\\AppData\\Local\\Temp\\ipykernel_2960\\497247569.py:2: FutureWarning: Downcasting behavior in `replace` is deprecated and will be removed in a future version. To retain the old behavior, explicitly call `result.infer_objects(copy=False)`. To opt-in to the future behavior, set `pd.set_option('future.no_silent_downcasting', True)`\n",
      "  test['Hyperandrogenism'] = test['Hyperandrogenism'].replace({'No': 0,'Yes':1})\n"
     ]
    }
   ],
   "source": [
    "train['Hyperandrogenism'] = train['Hyperandrogenism'].replace({'No': 0,'Yes':1})\n",
    "test['Hyperandrogenism'] = test['Hyperandrogenism'].replace({'No': 0,'Yes':1})"
   ]
  },
  {
   "cell_type": "code",
   "execution_count": 120,
   "id": "e703aeb2",
   "metadata": {},
   "outputs": [
    {
     "name": "stderr",
     "output_type": "stream",
     "text": [
      "C:\\Users\\mdsmb\\AppData\\Local\\Temp\\ipykernel_2960\\2486930018.py:1: FutureWarning: Downcasting behavior in `replace` is deprecated and will be removed in a future version. To retain the old behavior, explicitly call `result.infer_objects(copy=False)`. To opt-in to the future behavior, set `pd.set_option('future.no_silent_downcasting', True)`\n",
      "  train['Hirsutism'] = train['Hirsutism'].replace({'No': 0,'Yes':1})\n",
      "C:\\Users\\mdsmb\\AppData\\Local\\Temp\\ipykernel_2960\\2486930018.py:2: FutureWarning: Downcasting behavior in `replace` is deprecated and will be removed in a future version. To retain the old behavior, explicitly call `result.infer_objects(copy=False)`. To opt-in to the future behavior, set `pd.set_option('future.no_silent_downcasting', True)`\n",
      "  test['Hirsutism'] = test['Hirsutism'].replace({'No': 0,'Yes':1})\n"
     ]
    }
   ],
   "source": [
    "train['Hirsutism'] = train['Hirsutism'].replace({'No': 0,'Yes':1})\n",
    "test['Hirsutism'] = test['Hirsutism'].replace({'No': 0,'Yes':1})"
   ]
  },
  {
   "cell_type": "code",
   "execution_count": 121,
   "id": "7ad9f797",
   "metadata": {},
   "outputs": [
    {
     "name": "stderr",
     "output_type": "stream",
     "text": [
      "C:\\Users\\mdsmb\\AppData\\Local\\Temp\\ipykernel_2960\\1186061488.py:1: FutureWarning: Downcasting behavior in `replace` is deprecated and will be removed in a future version. To retain the old behavior, explicitly call `result.infer_objects(copy=False)`. To opt-in to the future behavior, set `pd.set_option('future.no_silent_downcasting', True)`\n",
      "  train['Conception_Difficulty'] = train['Conception_Difficulty'].replace({'No': 0,'Yes':1})\n",
      "C:\\Users\\mdsmb\\AppData\\Local\\Temp\\ipykernel_2960\\1186061488.py:2: FutureWarning: Downcasting behavior in `replace` is deprecated and will be removed in a future version. To retain the old behavior, explicitly call `result.infer_objects(copy=False)`. To opt-in to the future behavior, set `pd.set_option('future.no_silent_downcasting', True)`\n",
      "  test['Conception_Difficulty'] = test['Conception_Difficulty'].replace({'No': 0,'Yes':1})\n"
     ]
    }
   ],
   "source": [
    "train['Conception_Difficulty'] = train['Conception_Difficulty'].replace({'No': 0,'Yes':1})\n",
    "test['Conception_Difficulty'] = test['Conception_Difficulty'].replace({'No': 0,'Yes':1})"
   ]
  },
  {
   "cell_type": "code",
   "execution_count": 122,
   "id": "6fd0a975",
   "metadata": {},
   "outputs": [
    {
     "name": "stderr",
     "output_type": "stream",
     "text": [
      "C:\\Users\\mdsmb\\AppData\\Local\\Temp\\ipykernel_2960\\3806914133.py:1: FutureWarning: Downcasting behavior in `replace` is deprecated and will be removed in a future version. To retain the old behavior, explicitly call `result.infer_objects(copy=False)`. To opt-in to the future behavior, set `pd.set_option('future.no_silent_downcasting', True)`\n",
      "  train['Insulin_Resistance'] = train['Insulin_Resistance'].replace({'No': 0,'Yes':1})\n",
      "C:\\Users\\mdsmb\\AppData\\Local\\Temp\\ipykernel_2960\\3806914133.py:2: FutureWarning: Downcasting behavior in `replace` is deprecated and will be removed in a future version. To retain the old behavior, explicitly call `result.infer_objects(copy=False)`. To opt-in to the future behavior, set `pd.set_option('future.no_silent_downcasting', True)`\n",
      "  test['Insulin_Resistance'] = test['Insulin_Resistance'].replace({'No': 0,'Yes':1})\n"
     ]
    }
   ],
   "source": [
    "train['Insulin_Resistance'] = train['Insulin_Resistance'].replace({'No': 0,'Yes':1})\n",
    "test['Insulin_Resistance'] = test['Insulin_Resistance'].replace({'No': 0,'Yes':1})"
   ]
  },
  {
   "cell_type": "code",
   "execution_count": 123,
   "id": "9c712c90",
   "metadata": {},
   "outputs": [
    {
     "name": "stderr",
     "output_type": "stream",
     "text": [
      "C:\\Users\\mdsmb\\AppData\\Local\\Temp\\ipykernel_2960\\2850228398.py:1: FutureWarning: Downcasting behavior in `replace` is deprecated and will be removed in a future version. To retain the old behavior, explicitly call `result.infer_objects(copy=False)`. To opt-in to the future behavior, set `pd.set_option('future.no_silent_downcasting', True)`\n",
      "  train['Exercise_Frequency'] = train['Exercise_Frequency'].replace({'Rarely':0,'1-2 Times a Week':1,'Never':2,\n",
      "C:\\Users\\mdsmb\\AppData\\Local\\Temp\\ipykernel_2960\\2850228398.py:3: FutureWarning: Downcasting behavior in `replace` is deprecated and will be removed in a future version. To retain the old behavior, explicitly call `result.infer_objects(copy=False)`. To opt-in to the future behavior, set `pd.set_option('future.no_silent_downcasting', True)`\n",
      "  test['Exercise_Frequency'] = test['Exercise_Frequency'].replace({'Rarely':0,'1-2 Times a Week':1,'Never':2,\n"
     ]
    }
   ],
   "source": [
    "train['Exercise_Frequency'] = train['Exercise_Frequency'].replace({'Rarely':0,'1-2 Times a Week':1,'Never':2,\n",
    "                                '3-4 Times a Week' : 3,'6-8 Times a Week' : 4,'Unknown' : 5})\n",
    "test['Exercise_Frequency'] = test['Exercise_Frequency'].replace({'Rarely':0,'1-2 Times a Week':1,'Never':2,\n",
    "                                '3-4 Times a Week' : 3,'6-8 Times a Week' : 4,'Unknown' : 5})\n"
   ]
  },
  {
   "cell_type": "code",
   "execution_count": 124,
   "id": "b5eefdbd",
   "metadata": {},
   "outputs": [
    {
     "name": "stderr",
     "output_type": "stream",
     "text": [
      "C:\\Users\\mdsmb\\AppData\\Local\\Temp\\ipykernel_2960\\2412598751.py:1: FutureWarning: Downcasting behavior in `replace` is deprecated and will be removed in a future version. To retain the old behavior, explicitly call `result.infer_objects(copy=False)`. To opt-in to the future behavior, set `pd.set_option('future.no_silent_downcasting', True)`\n",
      "  train['Exercise_Type'] = train['Exercise_Type'].replace({'No Exercise' : 0,'Cardio' : 1,'Flexibility' : 2,\n",
      "C:\\Users\\mdsmb\\AppData\\Local\\Temp\\ipykernel_2960\\2412598751.py:3: FutureWarning: Downcasting behavior in `replace` is deprecated and will be removed in a future version. To retain the old behavior, explicitly call `result.infer_objects(copy=False)`. To opt-in to the future behavior, set `pd.set_option('future.no_silent_downcasting', True)`\n",
      "  test['Exercise_Type'] = test['Exercise_Type'].replace({'No Exercise' : 0,'Cardio' : 1,'Flexibility' : 2,\n"
     ]
    }
   ],
   "source": [
    "train['Exercise_Type'] = train['Exercise_Type'].replace({'No Exercise' : 0,'Cardio' : 1,'Flexibility' : 2,\n",
    "                                                         'Strength training': 3})\n",
    "test['Exercise_Type'] = test['Exercise_Type'].replace({'No Exercise' : 0,'Cardio' : 1,'Flexibility' : 2,\n",
    "                                                         'Strength training': 3})"
   ]
  },
  {
   "cell_type": "code",
   "execution_count": 125,
   "id": "87a139ad",
   "metadata": {},
   "outputs": [
    {
     "name": "stderr",
     "output_type": "stream",
     "text": [
      "C:\\Users\\mdsmb\\AppData\\Local\\Temp\\ipykernel_2960\\1729760355.py:1: FutureWarning: Downcasting behavior in `replace` is deprecated and will be removed in a future version. To retain the old behavior, explicitly call `result.infer_objects(copy=False)`. To opt-in to the future behavior, set `pd.set_option('future.no_silent_downcasting', True)`\n",
      "  train['Exercise_Duration'] = train['Exercise_Duration'].replace({'Not Applicable' : 0,'Less than 30 minutes' : 1,\n",
      "C:\\Users\\mdsmb\\AppData\\Local\\Temp\\ipykernel_2960\\1729760355.py:3: FutureWarning: Downcasting behavior in `replace` is deprecated and will be removed in a future version. To retain the old behavior, explicitly call `result.infer_objects(copy=False)`. To opt-in to the future behavior, set `pd.set_option('future.no_silent_downcasting', True)`\n",
      "  test['Exercise_Duration'] = test['Exercise_Duration'].replace({'Not Applicable' : 0,'Less than 30 minutes' : 1,\n"
     ]
    }
   ],
   "source": [
    "train['Exercise_Duration'] = train['Exercise_Duration'].replace({'Not Applicable' : 0,'Less than 30 minutes' : 1,\n",
    "        '30 minutes' : 2,'30 minutes to 1 hour' :3,'unknown': 4})\n",
    "test['Exercise_Duration'] = test['Exercise_Duration'].replace({'Not Applicable' : 0,'Less than 30 minutes' : 1,\n",
    "        '30 minutes' : 2,'30 minutes to 1 hour' :3,'unknown': 4})"
   ]
  },
  {
   "cell_type": "code",
   "execution_count": 126,
   "id": "167dfe30",
   "metadata": {},
   "outputs": [
    {
     "name": "stderr",
     "output_type": "stream",
     "text": [
      "C:\\Users\\mdsmb\\AppData\\Local\\Temp\\ipykernel_2960\\2716539415.py:1: FutureWarning: Downcasting behavior in `replace` is deprecated and will be removed in a future version. To retain the old behavior, explicitly call `result.infer_objects(copy=False)`. To opt-in to the future behavior, set `pd.set_option('future.no_silent_downcasting', True)`\n",
      "  train['Sleep_Hours'] = train['Sleep_Hours'].replace({'6-8 hours' : 0,'Less than 6 hours' : 1,\n",
      "C:\\Users\\mdsmb\\AppData\\Local\\Temp\\ipykernel_2960\\2716539415.py:3: FutureWarning: Downcasting behavior in `replace` is deprecated and will be removed in a future version. To retain the old behavior, explicitly call `result.infer_objects(copy=False)`. To opt-in to the future behavior, set `pd.set_option('future.no_silent_downcasting', True)`\n",
      "  test['Sleep_Hours'] = test['Sleep_Hours'].replace({'6-8 hours' : 0,'Less than 6 hours' : 1,\n"
     ]
    }
   ],
   "source": [
    "train['Sleep_Hours'] = train['Sleep_Hours'].replace({'6-8 hours' : 0,'Less than 6 hours' : 1,\n",
    "        '9-12 hours' : 2,'More than 12 hours' :3})\n",
    "test['Sleep_Hours'] = test['Sleep_Hours'].replace({'6-8 hours' : 0,'Less than 6 hours' : 1,\n",
    "        '9-12 hours' : 2,'More than 12 hours' :3})"
   ]
  },
  {
   "cell_type": "code",
   "execution_count": 127,
   "id": "5717f0a1",
   "metadata": {},
   "outputs": [
    {
     "name": "stderr",
     "output_type": "stream",
     "text": [
      "C:\\Users\\mdsmb\\AppData\\Local\\Temp\\ipykernel_2960\\311647210.py:1: FutureWarning: Downcasting behavior in `replace` is deprecated and will be removed in a future version. To retain the old behavior, explicitly call `result.infer_objects(copy=False)`. To opt-in to the future behavior, set `pd.set_option('future.no_silent_downcasting', True)`\n",
      "  train['Exercise_Benefit'] = train['Exercise_Benefit'].replace({'Somewhat' : 0,'Not at All' : 1,\n",
      "C:\\Users\\mdsmb\\AppData\\Local\\Temp\\ipykernel_2960\\311647210.py:3: FutureWarning: Downcasting behavior in `replace` is deprecated and will be removed in a future version. To retain the old behavior, explicitly call `result.infer_objects(copy=False)`. To opt-in to the future behavior, set `pd.set_option('future.no_silent_downcasting', True)`\n",
      "  test['Exercise_Benefit'] = test['Exercise_Benefit'].replace({'Somewhat' : 0,'Not at All' : 1,\n"
     ]
    }
   ],
   "source": [
    "train['Exercise_Benefit'] = train['Exercise_Benefit'].replace({'Somewhat' : 0,'Not at All' : 1,\n",
    "        'Yes Significantly' : 2})\n",
    "test['Exercise_Benefit'] = test['Exercise_Benefit'].replace({'Somewhat' : 0,'Not at All' : 1,\n",
    "        'Yes Significantly' : 2})"
   ]
  },
  {
   "cell_type": "code",
   "execution_count": null,
   "id": "092bee15",
   "metadata": {},
   "outputs": [],
   "source": []
  },
  {
   "cell_type": "code",
   "execution_count": null,
   "id": "1ab4528c",
   "metadata": {},
   "outputs": [],
   "source": []
  },
  {
   "cell_type": "code",
   "execution_count": 130,
   "id": "0a85b6d0",
   "metadata": {},
   "outputs": [],
   "source": [
    "train['Weight_kg'] = train['Weight_kg'].round().astype(int)\n",
    "test['Weight_kg'] = test['Weight_kg'].round().astype(int)"
   ]
  },
  {
   "cell_type": "markdown",
   "id": "fe5333c7",
   "metadata": {},
   "source": [
    "# Balancing"
   ]
  },
  {
   "cell_type": "code",
   "execution_count": 131,
   "id": "bf0dbddc",
   "metadata": {},
   "outputs": [],
   "source": [
    "from imblearn.over_sampling import SMOTE\n",
    "sm = SMOTE()"
   ]
  },
  {
   "cell_type": "markdown",
   "id": "d1055603",
   "metadata": {},
   "source": [
    "###### apply after train test split"
   ]
  },
  {
   "cell_type": "code",
   "execution_count": 132,
   "id": "957b4907",
   "metadata": {},
   "outputs": [],
   "source": [
    "from sklearn.model_selection import train_test_split"
   ]
  },
  {
   "cell_type": "code",
   "execution_count": 133,
   "id": "ff4c0a37",
   "metadata": {},
   "outputs": [],
   "source": [
    "x = train.drop(['PCOS','ID'], axis =1)"
   ]
  },
  {
   "cell_type": "code",
   "execution_count": 134,
   "id": "955ba12c",
   "metadata": {},
   "outputs": [],
   "source": [
    "y = train['PCOS']"
   ]
  },
  {
   "cell_type": "code",
   "execution_count": 135,
   "id": "dce288d1",
   "metadata": {},
   "outputs": [],
   "source": [
    "x_test = test.drop('ID',axis =1)"
   ]
  },
  {
   "cell_type": "code",
   "execution_count": 136,
   "id": "14978911",
   "metadata": {},
   "outputs": [],
   "source": [
    "x_sm,y_sm = sm.fit_resample(x,y)"
   ]
  },
  {
   "cell_type": "markdown",
   "id": "3bb0854f",
   "metadata": {},
   "source": [
    "# random forest"
   ]
  },
  {
   "cell_type": "code",
   "execution_count": 191,
   "id": "990581c6",
   "metadata": {},
   "outputs": [],
   "source": [
    "from sklearn.ensemble import RandomForestClassifier"
   ]
  },
  {
   "cell_type": "code",
   "execution_count": 192,
   "id": "58e9e28a",
   "metadata": {},
   "outputs": [],
   "source": [
    "rf  = RandomForestClassifier()"
   ]
  },
  {
   "cell_type": "code",
   "execution_count": 193,
   "id": "aba9faee",
   "metadata": {},
   "outputs": [
    {
     "data": {
      "text/html": [
       "<style>#sk-container-id-6 {color: black;background-color: white;}#sk-container-id-6 pre{padding: 0;}#sk-container-id-6 div.sk-toggleable {background-color: white;}#sk-container-id-6 label.sk-toggleable__label {cursor: pointer;display: block;width: 100%;margin-bottom: 0;padding: 0.3em;box-sizing: border-box;text-align: center;}#sk-container-id-6 label.sk-toggleable__label-arrow:before {content: \"▸\";float: left;margin-right: 0.25em;color: #696969;}#sk-container-id-6 label.sk-toggleable__label-arrow:hover:before {color: black;}#sk-container-id-6 div.sk-estimator:hover label.sk-toggleable__label-arrow:before {color: black;}#sk-container-id-6 div.sk-toggleable__content {max-height: 0;max-width: 0;overflow: hidden;text-align: left;background-color: #f0f8ff;}#sk-container-id-6 div.sk-toggleable__content pre {margin: 0.2em;color: black;border-radius: 0.25em;background-color: #f0f8ff;}#sk-container-id-6 input.sk-toggleable__control:checked~div.sk-toggleable__content {max-height: 200px;max-width: 100%;overflow: auto;}#sk-container-id-6 input.sk-toggleable__control:checked~label.sk-toggleable__label-arrow:before {content: \"▾\";}#sk-container-id-6 div.sk-estimator input.sk-toggleable__control:checked~label.sk-toggleable__label {background-color: #d4ebff;}#sk-container-id-6 div.sk-label input.sk-toggleable__control:checked~label.sk-toggleable__label {background-color: #d4ebff;}#sk-container-id-6 input.sk-hidden--visually {border: 0;clip: rect(1px 1px 1px 1px);clip: rect(1px, 1px, 1px, 1px);height: 1px;margin: -1px;overflow: hidden;padding: 0;position: absolute;width: 1px;}#sk-container-id-6 div.sk-estimator {font-family: monospace;background-color: #f0f8ff;border: 1px dotted black;border-radius: 0.25em;box-sizing: border-box;margin-bottom: 0.5em;}#sk-container-id-6 div.sk-estimator:hover {background-color: #d4ebff;}#sk-container-id-6 div.sk-parallel-item::after {content: \"\";width: 100%;border-bottom: 1px solid gray;flex-grow: 1;}#sk-container-id-6 div.sk-label:hover label.sk-toggleable__label {background-color: #d4ebff;}#sk-container-id-6 div.sk-serial::before {content: \"\";position: absolute;border-left: 1px solid gray;box-sizing: border-box;top: 0;bottom: 0;left: 50%;z-index: 0;}#sk-container-id-6 div.sk-serial {display: flex;flex-direction: column;align-items: center;background-color: white;padding-right: 0.2em;padding-left: 0.2em;position: relative;}#sk-container-id-6 div.sk-item {position: relative;z-index: 1;}#sk-container-id-6 div.sk-parallel {display: flex;align-items: stretch;justify-content: center;background-color: white;position: relative;}#sk-container-id-6 div.sk-item::before, #sk-container-id-6 div.sk-parallel-item::before {content: \"\";position: absolute;border-left: 1px solid gray;box-sizing: border-box;top: 0;bottom: 0;left: 50%;z-index: -1;}#sk-container-id-6 div.sk-parallel-item {display: flex;flex-direction: column;z-index: 1;position: relative;background-color: white;}#sk-container-id-6 div.sk-parallel-item:first-child::after {align-self: flex-end;width: 50%;}#sk-container-id-6 div.sk-parallel-item:last-child::after {align-self: flex-start;width: 50%;}#sk-container-id-6 div.sk-parallel-item:only-child::after {width: 0;}#sk-container-id-6 div.sk-dashed-wrapped {border: 1px dashed gray;margin: 0 0.4em 0.5em 0.4em;box-sizing: border-box;padding-bottom: 0.4em;background-color: white;}#sk-container-id-6 div.sk-label label {font-family: monospace;font-weight: bold;display: inline-block;line-height: 1.2em;}#sk-container-id-6 div.sk-label-container {text-align: center;}#sk-container-id-6 div.sk-container {/* jupyter's `normalize.less` sets `[hidden] { display: none; }` but bootstrap.min.css set `[hidden] { display: none !important; }` so we also need the `!important` here to be able to override the default hidden behavior on the sphinx rendered scikit-learn.org. See: https://github.com/scikit-learn/scikit-learn/issues/21755 */display: inline-block !important;position: relative;}#sk-container-id-6 div.sk-text-repr-fallback {display: none;}</style><div id=\"sk-container-id-6\" class=\"sk-top-container\"><div class=\"sk-text-repr-fallback\"><pre>RandomForestClassifier()</pre><b>In a Jupyter environment, please rerun this cell to show the HTML representation or trust the notebook. <br />On GitHub, the HTML representation is unable to render, please try loading this page with nbviewer.org.</b></div><div class=\"sk-container\" hidden><div class=\"sk-item\"><div class=\"sk-estimator sk-toggleable\"><input class=\"sk-toggleable__control sk-hidden--visually\" id=\"sk-estimator-id-14\" type=\"checkbox\" checked><label for=\"sk-estimator-id-14\" class=\"sk-toggleable__label sk-toggleable__label-arrow\">RandomForestClassifier</label><div class=\"sk-toggleable__content\"><pre>RandomForestClassifier()</pre></div></div></div></div></div>"
      ],
      "text/plain": [
       "RandomForestClassifier()"
      ]
     },
     "execution_count": 193,
     "metadata": {},
     "output_type": "execute_result"
    }
   ],
   "source": [
    "rf.fit(x_sm,y_sm)"
   ]
  },
  {
   "cell_type": "code",
   "execution_count": 194,
   "id": "84cb6805",
   "metadata": {},
   "outputs": [],
   "source": [
    "rf_pred = rf.predict_proba(x_test)[:,1] "
   ]
  },
  {
   "cell_type": "code",
   "execution_count": null,
   "id": "1a2bc285",
   "metadata": {},
   "outputs": [],
   "source": [
    "from sklearn.model_selection import cross_val_score"
   ]
  },
  {
   "cell_type": "code",
   "execution_count": 195,
   "id": "e778c4ab",
   "metadata": {},
   "outputs": [],
   "source": [
    "cv_scores = cross_val_score(rf, x_sm,y_sm,cv = 5)"
   ]
  },
  {
   "cell_type": "code",
   "execution_count": 196,
   "id": "bde06feb",
   "metadata": {},
   "outputs": [
    {
     "data": {
      "text/plain": [
       "0.8533799533799534"
      ]
     },
     "execution_count": 196,
     "metadata": {},
     "output_type": "execute_result"
    }
   ],
   "source": [
    "cv_scores.mean()"
   ]
  },
  {
   "cell_type": "code",
   "execution_count": null,
   "id": "cd31fd42",
   "metadata": {},
   "outputs": [],
   "source": []
  },
  {
   "cell_type": "code",
   "execution_count": 136,
   "id": "7ae1846d",
   "metadata": {},
   "outputs": [],
   "source": [
    "pcos_submission_fe = pd.DataFrame({'ID': test['ID'], 'PCOS' : rf_pred})"
   ]
  },
  {
   "cell_type": "code",
   "execution_count": 137,
   "id": "8869fed9",
   "metadata": {},
   "outputs": [],
   "source": [
    "pcos_submission_fe.to_csv('pcos_submission_fe.csv', index = False)"
   ]
  },
  {
   "cell_type": "markdown",
   "id": "c3665e70",
   "metadata": {},
   "source": [
    "# XGB"
   ]
  },
  {
   "cell_type": "code",
   "execution_count": 197,
   "id": "b5bcce52",
   "metadata": {},
   "outputs": [],
   "source": [
    "import xgboost as xgb\n",
    "from xgboost import XGBClassifier"
   ]
  },
  {
   "cell_type": "code",
   "execution_count": 198,
   "id": "578452ba",
   "metadata": {},
   "outputs": [],
   "source": [
    "xgb = XGBClassifier()"
   ]
  },
  {
   "cell_type": "code",
   "execution_count": 199,
   "id": "86fd86fe",
   "metadata": {},
   "outputs": [
    {
     "data": {
      "text/html": [
       "<style>#sk-container-id-7 {color: black;background-color: white;}#sk-container-id-7 pre{padding: 0;}#sk-container-id-7 div.sk-toggleable {background-color: white;}#sk-container-id-7 label.sk-toggleable__label {cursor: pointer;display: block;width: 100%;margin-bottom: 0;padding: 0.3em;box-sizing: border-box;text-align: center;}#sk-container-id-7 label.sk-toggleable__label-arrow:before {content: \"▸\";float: left;margin-right: 0.25em;color: #696969;}#sk-container-id-7 label.sk-toggleable__label-arrow:hover:before {color: black;}#sk-container-id-7 div.sk-estimator:hover label.sk-toggleable__label-arrow:before {color: black;}#sk-container-id-7 div.sk-toggleable__content {max-height: 0;max-width: 0;overflow: hidden;text-align: left;background-color: #f0f8ff;}#sk-container-id-7 div.sk-toggleable__content pre {margin: 0.2em;color: black;border-radius: 0.25em;background-color: #f0f8ff;}#sk-container-id-7 input.sk-toggleable__control:checked~div.sk-toggleable__content {max-height: 200px;max-width: 100%;overflow: auto;}#sk-container-id-7 input.sk-toggleable__control:checked~label.sk-toggleable__label-arrow:before {content: \"▾\";}#sk-container-id-7 div.sk-estimator input.sk-toggleable__control:checked~label.sk-toggleable__label {background-color: #d4ebff;}#sk-container-id-7 div.sk-label input.sk-toggleable__control:checked~label.sk-toggleable__label {background-color: #d4ebff;}#sk-container-id-7 input.sk-hidden--visually {border: 0;clip: rect(1px 1px 1px 1px);clip: rect(1px, 1px, 1px, 1px);height: 1px;margin: -1px;overflow: hidden;padding: 0;position: absolute;width: 1px;}#sk-container-id-7 div.sk-estimator {font-family: monospace;background-color: #f0f8ff;border: 1px dotted black;border-radius: 0.25em;box-sizing: border-box;margin-bottom: 0.5em;}#sk-container-id-7 div.sk-estimator:hover {background-color: #d4ebff;}#sk-container-id-7 div.sk-parallel-item::after {content: \"\";width: 100%;border-bottom: 1px solid gray;flex-grow: 1;}#sk-container-id-7 div.sk-label:hover label.sk-toggleable__label {background-color: #d4ebff;}#sk-container-id-7 div.sk-serial::before {content: \"\";position: absolute;border-left: 1px solid gray;box-sizing: border-box;top: 0;bottom: 0;left: 50%;z-index: 0;}#sk-container-id-7 div.sk-serial {display: flex;flex-direction: column;align-items: center;background-color: white;padding-right: 0.2em;padding-left: 0.2em;position: relative;}#sk-container-id-7 div.sk-item {position: relative;z-index: 1;}#sk-container-id-7 div.sk-parallel {display: flex;align-items: stretch;justify-content: center;background-color: white;position: relative;}#sk-container-id-7 div.sk-item::before, #sk-container-id-7 div.sk-parallel-item::before {content: \"\";position: absolute;border-left: 1px solid gray;box-sizing: border-box;top: 0;bottom: 0;left: 50%;z-index: -1;}#sk-container-id-7 div.sk-parallel-item {display: flex;flex-direction: column;z-index: 1;position: relative;background-color: white;}#sk-container-id-7 div.sk-parallel-item:first-child::after {align-self: flex-end;width: 50%;}#sk-container-id-7 div.sk-parallel-item:last-child::after {align-self: flex-start;width: 50%;}#sk-container-id-7 div.sk-parallel-item:only-child::after {width: 0;}#sk-container-id-7 div.sk-dashed-wrapped {border: 1px dashed gray;margin: 0 0.4em 0.5em 0.4em;box-sizing: border-box;padding-bottom: 0.4em;background-color: white;}#sk-container-id-7 div.sk-label label {font-family: monospace;font-weight: bold;display: inline-block;line-height: 1.2em;}#sk-container-id-7 div.sk-label-container {text-align: center;}#sk-container-id-7 div.sk-container {/* jupyter's `normalize.less` sets `[hidden] { display: none; }` but bootstrap.min.css set `[hidden] { display: none !important; }` so we also need the `!important` here to be able to override the default hidden behavior on the sphinx rendered scikit-learn.org. See: https://github.com/scikit-learn/scikit-learn/issues/21755 */display: inline-block !important;position: relative;}#sk-container-id-7 div.sk-text-repr-fallback {display: none;}</style><div id=\"sk-container-id-7\" class=\"sk-top-container\"><div class=\"sk-text-repr-fallback\"><pre>XGBClassifier(base_score=None, booster=None, callbacks=None,\n",
       "              colsample_bylevel=None, colsample_bynode=None,\n",
       "              colsample_bytree=None, device=None, early_stopping_rounds=None,\n",
       "              enable_categorical=False, eval_metric=None, feature_types=None,\n",
       "              gamma=None, grow_policy=None, importance_type=None,\n",
       "              interaction_constraints=None, learning_rate=None, max_bin=None,\n",
       "              max_cat_threshold=None, max_cat_to_onehot=None,\n",
       "              max_delta_step=None, max_depth=None, max_leaves=None,\n",
       "              min_child_weight=None, missing=nan, monotone_constraints=None,\n",
       "              multi_strategy=None, n_estimators=None, n_jobs=None,\n",
       "              num_parallel_tree=None, random_state=None, ...)</pre><b>In a Jupyter environment, please rerun this cell to show the HTML representation or trust the notebook. <br />On GitHub, the HTML representation is unable to render, please try loading this page with nbviewer.org.</b></div><div class=\"sk-container\" hidden><div class=\"sk-item\"><div class=\"sk-estimator sk-toggleable\"><input class=\"sk-toggleable__control sk-hidden--visually\" id=\"sk-estimator-id-15\" type=\"checkbox\" checked><label for=\"sk-estimator-id-15\" class=\"sk-toggleable__label sk-toggleable__label-arrow\">XGBClassifier</label><div class=\"sk-toggleable__content\"><pre>XGBClassifier(base_score=None, booster=None, callbacks=None,\n",
       "              colsample_bylevel=None, colsample_bynode=None,\n",
       "              colsample_bytree=None, device=None, early_stopping_rounds=None,\n",
       "              enable_categorical=False, eval_metric=None, feature_types=None,\n",
       "              gamma=None, grow_policy=None, importance_type=None,\n",
       "              interaction_constraints=None, learning_rate=None, max_bin=None,\n",
       "              max_cat_threshold=None, max_cat_to_onehot=None,\n",
       "              max_delta_step=None, max_depth=None, max_leaves=None,\n",
       "              min_child_weight=None, missing=nan, monotone_constraints=None,\n",
       "              multi_strategy=None, n_estimators=None, n_jobs=None,\n",
       "              num_parallel_tree=None, random_state=None, ...)</pre></div></div></div></div></div>"
      ],
      "text/plain": [
       "XGBClassifier(base_score=None, booster=None, callbacks=None,\n",
       "              colsample_bylevel=None, colsample_bynode=None,\n",
       "              colsample_bytree=None, device=None, early_stopping_rounds=None,\n",
       "              enable_categorical=False, eval_metric=None, feature_types=None,\n",
       "              gamma=None, grow_policy=None, importance_type=None,\n",
       "              interaction_constraints=None, learning_rate=None, max_bin=None,\n",
       "              max_cat_threshold=None, max_cat_to_onehot=None,\n",
       "              max_delta_step=None, max_depth=None, max_leaves=None,\n",
       "              min_child_weight=None, missing=nan, monotone_constraints=None,\n",
       "              multi_strategy=None, n_estimators=None, n_jobs=None,\n",
       "              num_parallel_tree=None, random_state=None, ...)"
      ]
     },
     "execution_count": 199,
     "metadata": {},
     "output_type": "execute_result"
    }
   ],
   "source": [
    "xgb.fit(x_sm,y_sm)"
   ]
  },
  {
   "cell_type": "code",
   "execution_count": 200,
   "id": "1aed693d",
   "metadata": {},
   "outputs": [],
   "source": [
    "cv_scores = cross_val_score(xgb, x_sm,y_sm,cv = 5)"
   ]
  },
  {
   "cell_type": "code",
   "execution_count": 201,
   "id": "8d2ddb0d",
   "metadata": {},
   "outputs": [
    {
     "data": {
      "text/plain": [
       "0.8351981351981351"
      ]
     },
     "execution_count": 201,
     "metadata": {},
     "output_type": "execute_result"
    }
   ],
   "source": [
    "cv_scores.mean()"
   ]
  },
  {
   "cell_type": "code",
   "execution_count": 141,
   "id": "c2b83d7d",
   "metadata": {},
   "outputs": [],
   "source": [
    "xgb_pred = xgb.predict_proba(x_test)[:,1] "
   ]
  },
  {
   "cell_type": "code",
   "execution_count": 143,
   "id": "8a282ce2",
   "metadata": {},
   "outputs": [],
   "source": [
    "pcos_submission_xgb_1102 = pd.DataFrame({'ID': test['ID'], 'PCOS' : xgb_pred})"
   ]
  },
  {
   "cell_type": "code",
   "execution_count": 144,
   "id": "0e462a0a",
   "metadata": {},
   "outputs": [],
   "source": [
    "pcos_submission_xgb_1102.to_csv('pcos_submission_xgb_1102.csv', index = False)"
   ]
  },
  {
   "cell_type": "markdown",
   "id": "1d96ba79",
   "metadata": {},
   "source": [
    "# lightgbm"
   ]
  },
  {
   "cell_type": "code",
   "execution_count": 215,
   "id": "d4d0af8f",
   "metadata": {},
   "outputs": [],
   "source": [
    "import lightgbm as lgb"
   ]
  },
  {
   "cell_type": "code",
   "execution_count": 216,
   "id": "1c564974",
   "metadata": {},
   "outputs": [],
   "source": [
    "from lightgbm import LGBMClassifier"
   ]
  },
  {
   "cell_type": "code",
   "execution_count": 217,
   "id": "10bce457",
   "metadata": {},
   "outputs": [],
   "source": [
    "lgb = LGBMClassifier()"
   ]
  },
  {
   "cell_type": "code",
   "execution_count": 164,
   "id": "3646cd71",
   "metadata": {},
   "outputs": [
    {
     "name": "stdout",
     "output_type": "stream",
     "text": [
      "[LightGBM] [Info] Number of positive: 164, number of negative: 164\n",
      "[LightGBM] [Info] Auto-choosing row-wise multi-threading, the overhead of testing was 0.000168 seconds.\n",
      "You can set `force_row_wise=true` to remove the overhead.\n",
      "And if memory is not enough, you can set `force_col_wise=true`.\n",
      "[LightGBM] [Info] Total Bins 95\n",
      "[LightGBM] [Info] Number of data points in the train set: 328, number of used features: 15\n",
      "[LightGBM] [Info] [binary:BoostFromScore]: pavg=0.500000 -> initscore=0.000000\n",
      "[LightGBM] [Warning] No further splits with positive gain, best gain: -inf\n",
      "[LightGBM] [Warning] No further splits with positive gain, best gain: -inf\n",
      "[LightGBM] [Warning] No further splits with positive gain, best gain: -inf\n",
      "[LightGBM] [Warning] No further splits with positive gain, best gain: -inf\n",
      "[LightGBM] [Warning] No further splits with positive gain, best gain: -inf\n",
      "[LightGBM] [Warning] No further splits with positive gain, best gain: -inf\n",
      "[LightGBM] [Warning] No further splits with positive gain, best gain: -inf\n",
      "[LightGBM] [Warning] No further splits with positive gain, best gain: -inf\n",
      "[LightGBM] [Warning] No further splits with positive gain, best gain: -inf\n",
      "[LightGBM] [Warning] No further splits with positive gain, best gain: -inf\n",
      "[LightGBM] [Warning] No further splits with positive gain, best gain: -inf\n",
      "[LightGBM] [Warning] No further splits with positive gain, best gain: -inf\n",
      "[LightGBM] [Warning] No further splits with positive gain, best gain: -inf\n",
      "[LightGBM] [Warning] No further splits with positive gain, best gain: -inf\n",
      "[LightGBM] [Warning] No further splits with positive gain, best gain: -inf\n",
      "[LightGBM] [Warning] No further splits with positive gain, best gain: -inf\n",
      "[LightGBM] [Warning] No further splits with positive gain, best gain: -inf\n",
      "[LightGBM] [Warning] No further splits with positive gain, best gain: -inf\n",
      "[LightGBM] [Warning] No further splits with positive gain, best gain: -inf\n",
      "[LightGBM] [Warning] No further splits with positive gain, best gain: -inf\n",
      "[LightGBM] [Warning] No further splits with positive gain, best gain: -inf\n",
      "[LightGBM] [Warning] No further splits with positive gain, best gain: -inf\n",
      "[LightGBM] [Warning] No further splits with positive gain, best gain: -inf\n",
      "[LightGBM] [Warning] No further splits with positive gain, best gain: -inf\n",
      "[LightGBM] [Warning] No further splits with positive gain, best gain: -inf\n",
      "[LightGBM] [Warning] No further splits with positive gain, best gain: -inf\n",
      "[LightGBM] [Warning] No further splits with positive gain, best gain: -inf\n",
      "[LightGBM] [Warning] No further splits with positive gain, best gain: -inf\n",
      "[LightGBM] [Warning] No further splits with positive gain, best gain: -inf\n",
      "[LightGBM] [Warning] No further splits with positive gain, best gain: -inf\n",
      "[LightGBM] [Warning] No further splits with positive gain, best gain: -inf\n",
      "[LightGBM] [Warning] No further splits with positive gain, best gain: -inf\n",
      "[LightGBM] [Warning] No further splits with positive gain, best gain: -inf\n",
      "[LightGBM] [Warning] No further splits with positive gain, best gain: -inf\n",
      "[LightGBM] [Warning] No further splits with positive gain, best gain: -inf\n",
      "[LightGBM] [Warning] No further splits with positive gain, best gain: -inf\n",
      "[LightGBM] [Warning] No further splits with positive gain, best gain: -inf\n",
      "[LightGBM] [Warning] No further splits with positive gain, best gain: -inf\n",
      "[LightGBM] [Warning] No further splits with positive gain, best gain: -inf\n",
      "[LightGBM] [Warning] No further splits with positive gain, best gain: -inf\n",
      "[LightGBM] [Warning] No further splits with positive gain, best gain: -inf\n",
      "[LightGBM] [Warning] No further splits with positive gain, best gain: -inf\n",
      "[LightGBM] [Warning] No further splits with positive gain, best gain: -inf\n",
      "[LightGBM] [Warning] No further splits with positive gain, best gain: -inf\n",
      "[LightGBM] [Warning] No further splits with positive gain, best gain: -inf\n",
      "[LightGBM] [Warning] No further splits with positive gain, best gain: -inf\n",
      "[LightGBM] [Warning] No further splits with positive gain, best gain: -inf\n",
      "[LightGBM] [Warning] No further splits with positive gain, best gain: -inf\n",
      "[LightGBM] [Warning] No further splits with positive gain, best gain: -inf\n",
      "[LightGBM] [Warning] No further splits with positive gain, best gain: -inf\n",
      "[LightGBM] [Warning] No further splits with positive gain, best gain: -inf\n",
      "[LightGBM] [Warning] No further splits with positive gain, best gain: -inf\n",
      "[LightGBM] [Warning] No further splits with positive gain, best gain: -inf\n",
      "[LightGBM] [Warning] No further splits with positive gain, best gain: -inf\n",
      "[LightGBM] [Warning] No further splits with positive gain, best gain: -inf\n",
      "[LightGBM] [Warning] No further splits with positive gain, best gain: -inf\n",
      "[LightGBM] [Warning] No further splits with positive gain, best gain: -inf\n",
      "[LightGBM] [Warning] No further splits with positive gain, best gain: -inf\n",
      "[LightGBM] [Warning] No further splits with positive gain, best gain: -inf\n",
      "[LightGBM] [Warning] No further splits with positive gain, best gain: -inf\n",
      "[LightGBM] [Warning] No further splits with positive gain, best gain: -inf\n",
      "[LightGBM] [Warning] No further splits with positive gain, best gain: -inf\n",
      "[LightGBM] [Warning] No further splits with positive gain, best gain: -inf\n",
      "[LightGBM] [Warning] No further splits with positive gain, best gain: -inf\n",
      "[LightGBM] [Warning] No further splits with positive gain, best gain: -inf\n",
      "[LightGBM] [Warning] No further splits with positive gain, best gain: -inf\n",
      "[LightGBM] [Warning] No further splits with positive gain, best gain: -inf\n",
      "[LightGBM] [Warning] No further splits with positive gain, best gain: -inf\n",
      "[LightGBM] [Warning] No further splits with positive gain, best gain: -inf\n",
      "[LightGBM] [Warning] No further splits with positive gain, best gain: -inf\n",
      "[LightGBM] [Warning] No further splits with positive gain, best gain: -inf\n",
      "[LightGBM] [Warning] No further splits with positive gain, best gain: -inf\n",
      "[LightGBM] [Warning] No further splits with positive gain, best gain: -inf\n",
      "[LightGBM] [Warning] No further splits with positive gain, best gain: -inf\n",
      "[LightGBM] [Warning] No further splits with positive gain, best gain: -inf\n",
      "[LightGBM] [Warning] No further splits with positive gain, best gain: -inf\n",
      "[LightGBM] [Warning] No further splits with positive gain, best gain: -inf\n",
      "[LightGBM] [Warning] No further splits with positive gain, best gain: -inf\n",
      "[LightGBM] [Warning] No further splits with positive gain, best gain: -inf\n",
      "[LightGBM] [Warning] No further splits with positive gain, best gain: -inf\n",
      "[LightGBM] [Warning] No further splits with positive gain, best gain: -inf\n",
      "[LightGBM] [Warning] No further splits with positive gain, best gain: -inf\n",
      "[LightGBM] [Warning] No further splits with positive gain, best gain: -inf\n",
      "[LightGBM] [Warning] No further splits with positive gain, best gain: -inf\n",
      "[LightGBM] [Warning] No further splits with positive gain, best gain: -inf\n",
      "[LightGBM] [Warning] No further splits with positive gain, best gain: -inf\n",
      "[LightGBM] [Warning] No further splits with positive gain, best gain: -inf\n",
      "[LightGBM] [Warning] No further splits with positive gain, best gain: -inf\n",
      "[LightGBM] [Warning] No further splits with positive gain, best gain: -inf\n",
      "[LightGBM] [Warning] No further splits with positive gain, best gain: -inf\n",
      "[LightGBM] [Warning] No further splits with positive gain, best gain: -inf\n",
      "[LightGBM] [Warning] No further splits with positive gain, best gain: -inf\n",
      "[LightGBM] [Warning] No further splits with positive gain, best gain: -inf\n",
      "[LightGBM] [Warning] No further splits with positive gain, best gain: -inf\n",
      "[LightGBM] [Warning] No further splits with positive gain, best gain: -inf\n",
      "[LightGBM] [Warning] No further splits with positive gain, best gain: -inf\n",
      "[LightGBM] [Warning] No further splits with positive gain, best gain: -inf\n",
      "[LightGBM] [Warning] No further splits with positive gain, best gain: -inf\n",
      "[LightGBM] [Warning] No further splits with positive gain, best gain: -inf\n",
      "[LightGBM] [Warning] No further splits with positive gain, best gain: -inf\n"
     ]
    },
    {
     "data": {
      "text/html": [
       "<style>#sk-container-id-5 {color: black;background-color: white;}#sk-container-id-5 pre{padding: 0;}#sk-container-id-5 div.sk-toggleable {background-color: white;}#sk-container-id-5 label.sk-toggleable__label {cursor: pointer;display: block;width: 100%;margin-bottom: 0;padding: 0.3em;box-sizing: border-box;text-align: center;}#sk-container-id-5 label.sk-toggleable__label-arrow:before {content: \"▸\";float: left;margin-right: 0.25em;color: #696969;}#sk-container-id-5 label.sk-toggleable__label-arrow:hover:before {color: black;}#sk-container-id-5 div.sk-estimator:hover label.sk-toggleable__label-arrow:before {color: black;}#sk-container-id-5 div.sk-toggleable__content {max-height: 0;max-width: 0;overflow: hidden;text-align: left;background-color: #f0f8ff;}#sk-container-id-5 div.sk-toggleable__content pre {margin: 0.2em;color: black;border-radius: 0.25em;background-color: #f0f8ff;}#sk-container-id-5 input.sk-toggleable__control:checked~div.sk-toggleable__content {max-height: 200px;max-width: 100%;overflow: auto;}#sk-container-id-5 input.sk-toggleable__control:checked~label.sk-toggleable__label-arrow:before {content: \"▾\";}#sk-container-id-5 div.sk-estimator input.sk-toggleable__control:checked~label.sk-toggleable__label {background-color: #d4ebff;}#sk-container-id-5 div.sk-label input.sk-toggleable__control:checked~label.sk-toggleable__label {background-color: #d4ebff;}#sk-container-id-5 input.sk-hidden--visually {border: 0;clip: rect(1px 1px 1px 1px);clip: rect(1px, 1px, 1px, 1px);height: 1px;margin: -1px;overflow: hidden;padding: 0;position: absolute;width: 1px;}#sk-container-id-5 div.sk-estimator {font-family: monospace;background-color: #f0f8ff;border: 1px dotted black;border-radius: 0.25em;box-sizing: border-box;margin-bottom: 0.5em;}#sk-container-id-5 div.sk-estimator:hover {background-color: #d4ebff;}#sk-container-id-5 div.sk-parallel-item::after {content: \"\";width: 100%;border-bottom: 1px solid gray;flex-grow: 1;}#sk-container-id-5 div.sk-label:hover label.sk-toggleable__label {background-color: #d4ebff;}#sk-container-id-5 div.sk-serial::before {content: \"\";position: absolute;border-left: 1px solid gray;box-sizing: border-box;top: 0;bottom: 0;left: 50%;z-index: 0;}#sk-container-id-5 div.sk-serial {display: flex;flex-direction: column;align-items: center;background-color: white;padding-right: 0.2em;padding-left: 0.2em;position: relative;}#sk-container-id-5 div.sk-item {position: relative;z-index: 1;}#sk-container-id-5 div.sk-parallel {display: flex;align-items: stretch;justify-content: center;background-color: white;position: relative;}#sk-container-id-5 div.sk-item::before, #sk-container-id-5 div.sk-parallel-item::before {content: \"\";position: absolute;border-left: 1px solid gray;box-sizing: border-box;top: 0;bottom: 0;left: 50%;z-index: -1;}#sk-container-id-5 div.sk-parallel-item {display: flex;flex-direction: column;z-index: 1;position: relative;background-color: white;}#sk-container-id-5 div.sk-parallel-item:first-child::after {align-self: flex-end;width: 50%;}#sk-container-id-5 div.sk-parallel-item:last-child::after {align-self: flex-start;width: 50%;}#sk-container-id-5 div.sk-parallel-item:only-child::after {width: 0;}#sk-container-id-5 div.sk-dashed-wrapped {border: 1px dashed gray;margin: 0 0.4em 0.5em 0.4em;box-sizing: border-box;padding-bottom: 0.4em;background-color: white;}#sk-container-id-5 div.sk-label label {font-family: monospace;font-weight: bold;display: inline-block;line-height: 1.2em;}#sk-container-id-5 div.sk-label-container {text-align: center;}#sk-container-id-5 div.sk-container {/* jupyter's `normalize.less` sets `[hidden] { display: none; }` but bootstrap.min.css set `[hidden] { display: none !important; }` so we also need the `!important` here to be able to override the default hidden behavior on the sphinx rendered scikit-learn.org. See: https://github.com/scikit-learn/scikit-learn/issues/21755 */display: inline-block !important;position: relative;}#sk-container-id-5 div.sk-text-repr-fallback {display: none;}</style><div id=\"sk-container-id-5\" class=\"sk-top-container\"><div class=\"sk-text-repr-fallback\"><pre>LGBMClassifier()</pre><b>In a Jupyter environment, please rerun this cell to show the HTML representation or trust the notebook. <br />On GitHub, the HTML representation is unable to render, please try loading this page with nbviewer.org.</b></div><div class=\"sk-container\" hidden><div class=\"sk-item\"><div class=\"sk-estimator sk-toggleable\"><input class=\"sk-toggleable__control sk-hidden--visually\" id=\"sk-estimator-id-5\" type=\"checkbox\" checked><label for=\"sk-estimator-id-5\" class=\"sk-toggleable__label sk-toggleable__label-arrow\">LGBMClassifier</label><div class=\"sk-toggleable__content\"><pre>LGBMClassifier()</pre></div></div></div></div></div>"
      ],
      "text/plain": [
       "LGBMClassifier()"
      ]
     },
     "execution_count": 164,
     "metadata": {},
     "output_type": "execute_result"
    }
   ],
   "source": [
    "lgb.fit(x_sm,y_sm)"
   ]
  },
  {
   "cell_type": "code",
   "execution_count": 218,
   "id": "1ff94124",
   "metadata": {},
   "outputs": [
    {
     "name": "stdout",
     "output_type": "stream",
     "text": [
      "[LightGBM] [Info] Number of positive: 131, number of negative: 131\n",
      "[LightGBM] [Info] Auto-choosing row-wise multi-threading, the overhead of testing was 0.000740 seconds.\n",
      "You can set `force_row_wise=true` to remove the overhead.\n",
      "And if memory is not enough, you can set `force_col_wise=true`.\n",
      "[LightGBM] [Info] Total Bins 88\n",
      "[LightGBM] [Info] Number of data points in the train set: 262, number of used features: 15\n",
      "[LightGBM] [Info] [binary:BoostFromScore]: pavg=0.500000 -> initscore=0.000000\n",
      "[LightGBM] [Warning] No further splits with positive gain, best gain: -inf\n",
      "[LightGBM] [Warning] No further splits with positive gain, best gain: -inf\n",
      "[LightGBM] [Warning] No further splits with positive gain, best gain: -inf\n",
      "[LightGBM] [Warning] No further splits with positive gain, best gain: -inf\n",
      "[LightGBM] [Warning] No further splits with positive gain, best gain: -inf\n",
      "[LightGBM] [Warning] No further splits with positive gain, best gain: -inf\n",
      "[LightGBM] [Warning] No further splits with positive gain, best gain: -inf\n",
      "[LightGBM] [Warning] No further splits with positive gain, best gain: -inf\n",
      "[LightGBM] [Warning] No further splits with positive gain, best gain: -inf\n",
      "[LightGBM] [Warning] No further splits with positive gain, best gain: -inf\n",
      "[LightGBM] [Warning] No further splits with positive gain, best gain: -inf\n",
      "[LightGBM] [Warning] No further splits with positive gain, best gain: -inf\n",
      "[LightGBM] [Warning] No further splits with positive gain, best gain: -inf\n",
      "[LightGBM] [Warning] No further splits with positive gain, best gain: -inf\n",
      "[LightGBM] [Warning] No further splits with positive gain, best gain: -inf\n",
      "[LightGBM] [Warning] No further splits with positive gain, best gain: -inf\n",
      "[LightGBM] [Warning] No further splits with positive gain, best gain: -inf\n",
      "[LightGBM] [Warning] No further splits with positive gain, best gain: -inf\n",
      "[LightGBM] [Warning] No further splits with positive gain, best gain: -inf\n",
      "[LightGBM] [Warning] No further splits with positive gain, best gain: -inf\n",
      "[LightGBM] [Warning] No further splits with positive gain, best gain: -inf\n",
      "[LightGBM] [Warning] No further splits with positive gain, best gain: -inf\n",
      "[LightGBM] [Warning] No further splits with positive gain, best gain: -inf\n",
      "[LightGBM] [Warning] No further splits with positive gain, best gain: -inf\n",
      "[LightGBM] [Warning] No further splits with positive gain, best gain: -inf\n",
      "[LightGBM] [Warning] No further splits with positive gain, best gain: -inf\n",
      "[LightGBM] [Warning] No further splits with positive gain, best gain: -inf\n",
      "[LightGBM] [Warning] No further splits with positive gain, best gain: -inf\n",
      "[LightGBM] [Warning] No further splits with positive gain, best gain: -inf\n",
      "[LightGBM] [Warning] No further splits with positive gain, best gain: -inf\n",
      "[LightGBM] [Warning] No further splits with positive gain, best gain: -inf\n",
      "[LightGBM] [Warning] No further splits with positive gain, best gain: -inf\n",
      "[LightGBM] [Warning] No further splits with positive gain, best gain: -inf\n",
      "[LightGBM] [Warning] No further splits with positive gain, best gain: -inf\n",
      "[LightGBM] [Warning] No further splits with positive gain, best gain: -inf\n",
      "[LightGBM] [Warning] No further splits with positive gain, best gain: -inf\n",
      "[LightGBM] [Warning] No further splits with positive gain, best gain: -inf\n",
      "[LightGBM] [Warning] No further splits with positive gain, best gain: -inf\n",
      "[LightGBM] [Warning] No further splits with positive gain, best gain: -inf\n",
      "[LightGBM] [Warning] No further splits with positive gain, best gain: -inf\n",
      "[LightGBM] [Warning] No further splits with positive gain, best gain: -inf\n",
      "[LightGBM] [Warning] No further splits with positive gain, best gain: -inf\n",
      "[LightGBM] [Warning] No further splits with positive gain, best gain: -inf\n",
      "[LightGBM] [Warning] No further splits with positive gain, best gain: -inf\n",
      "[LightGBM] [Warning] No further splits with positive gain, best gain: -inf\n",
      "[LightGBM] [Warning] No further splits with positive gain, best gain: -inf\n",
      "[LightGBM] [Warning] No further splits with positive gain, best gain: -inf\n",
      "[LightGBM] [Warning] No further splits with positive gain, best gain: -inf\n",
      "[LightGBM] [Warning] No further splits with positive gain, best gain: -inf\n",
      "[LightGBM] [Warning] No further splits with positive gain, best gain: -inf\n",
      "[LightGBM] [Warning] No further splits with positive gain, best gain: -inf\n",
      "[LightGBM] [Warning] No further splits with positive gain, best gain: -inf\n",
      "[LightGBM] [Warning] No further splits with positive gain, best gain: -inf\n",
      "[LightGBM] [Warning] No further splits with positive gain, best gain: -inf\n",
      "[LightGBM] [Warning] No further splits with positive gain, best gain: -inf\n",
      "[LightGBM] [Warning] No further splits with positive gain, best gain: -inf\n",
      "[LightGBM] [Warning] No further splits with positive gain, best gain: -inf\n",
      "[LightGBM] [Warning] No further splits with positive gain, best gain: -inf\n",
      "[LightGBM] [Warning] No further splits with positive gain, best gain: -inf\n",
      "[LightGBM] [Warning] No further splits with positive gain, best gain: -inf\n",
      "[LightGBM] [Warning] No further splits with positive gain, best gain: -inf\n",
      "[LightGBM] [Warning] No further splits with positive gain, best gain: -inf\n",
      "[LightGBM] [Warning] No further splits with positive gain, best gain: -inf\n",
      "[LightGBM] [Warning] No further splits with positive gain, best gain: -inf\n",
      "[LightGBM] [Warning] No further splits with positive gain, best gain: -inf\n",
      "[LightGBM] [Warning] No further splits with positive gain, best gain: -inf\n",
      "[LightGBM] [Warning] No further splits with positive gain, best gain: -inf\n",
      "[LightGBM] [Warning] No further splits with positive gain, best gain: -inf\n",
      "[LightGBM] [Warning] No further splits with positive gain, best gain: -inf\n",
      "[LightGBM] [Warning] No further splits with positive gain, best gain: -inf\n",
      "[LightGBM] [Warning] No further splits with positive gain, best gain: -inf\n",
      "[LightGBM] [Warning] No further splits with positive gain, best gain: -inf\n",
      "[LightGBM] [Warning] No further splits with positive gain, best gain: -inf\n",
      "[LightGBM] [Warning] No further splits with positive gain, best gain: -inf\n",
      "[LightGBM] [Warning] No further splits with positive gain, best gain: -inf\n",
      "[LightGBM] [Warning] No further splits with positive gain, best gain: -inf\n",
      "[LightGBM] [Warning] No further splits with positive gain, best gain: -inf\n",
      "[LightGBM] [Warning] No further splits with positive gain, best gain: -inf\n",
      "[LightGBM] [Warning] No further splits with positive gain, best gain: -inf\n",
      "[LightGBM] [Warning] No further splits with positive gain, best gain: -inf\n",
      "[LightGBM] [Warning] No further splits with positive gain, best gain: -inf\n",
      "[LightGBM] [Warning] No further splits with positive gain, best gain: -inf\n",
      "[LightGBM] [Warning] No further splits with positive gain, best gain: -inf\n",
      "[LightGBM] [Warning] No further splits with positive gain, best gain: -inf\n",
      "[LightGBM] [Warning] No further splits with positive gain, best gain: -inf\n",
      "[LightGBM] [Warning] No further splits with positive gain, best gain: -inf\n",
      "[LightGBM] [Warning] No further splits with positive gain, best gain: -inf\n",
      "[LightGBM] [Warning] No further splits with positive gain, best gain: -inf\n",
      "[LightGBM] [Warning] No further splits with positive gain, best gain: -inf\n",
      "[LightGBM] [Warning] No further splits with positive gain, best gain: -inf\n",
      "[LightGBM] [Warning] No further splits with positive gain, best gain: -inf\n",
      "[LightGBM] [Warning] No further splits with positive gain, best gain: -inf\n",
      "[LightGBM] [Warning] No further splits with positive gain, best gain: -inf\n",
      "[LightGBM] [Warning] No further splits with positive gain, best gain: -inf\n",
      "[LightGBM] [Warning] No further splits with positive gain, best gain: -inf\n",
      "[LightGBM] [Warning] No further splits with positive gain, best gain: -inf\n",
      "[LightGBM] [Warning] No further splits with positive gain, best gain: -inf\n",
      "[LightGBM] [Warning] No further splits with positive gain, best gain: -inf\n",
      "[LightGBM] [Warning] No further splits with positive gain, best gain: -inf\n",
      "[LightGBM] [Warning] No further splits with positive gain, best gain: -inf\n",
      "[LightGBM] [Info] Number of positive: 131, number of negative: 131\n",
      "[LightGBM] [Info] Auto-choosing row-wise multi-threading, the overhead of testing was 0.000178 seconds.\n",
      "You can set `force_row_wise=true` to remove the overhead.\n",
      "And if memory is not enough, you can set `force_col_wise=true`.\n",
      "[LightGBM] [Info] Total Bins 92\n",
      "[LightGBM] [Info] Number of data points in the train set: 262, number of used features: 15\n",
      "[LightGBM] [Info] [binary:BoostFromScore]: pavg=0.500000 -> initscore=0.000000\n",
      "[LightGBM] [Warning] No further splits with positive gain, best gain: -inf\n",
      "[LightGBM] [Warning] No further splits with positive gain, best gain: -inf\n",
      "[LightGBM] [Warning] No further splits with positive gain, best gain: -inf\n",
      "[LightGBM] [Warning] No further splits with positive gain, best gain: -inf\n",
      "[LightGBM] [Warning] No further splits with positive gain, best gain: -inf\n",
      "[LightGBM] [Warning] No further splits with positive gain, best gain: -inf\n",
      "[LightGBM] [Warning] No further splits with positive gain, best gain: -inf\n",
      "[LightGBM] [Warning] No further splits with positive gain, best gain: -inf\n",
      "[LightGBM] [Warning] No further splits with positive gain, best gain: -inf\n",
      "[LightGBM] [Warning] No further splits with positive gain, best gain: -inf\n",
      "[LightGBM] [Warning] No further splits with positive gain, best gain: -inf\n",
      "[LightGBM] [Warning] No further splits with positive gain, best gain: -inf\n",
      "[LightGBM] [Warning] No further splits with positive gain, best gain: -inf\n",
      "[LightGBM] [Warning] No further splits with positive gain, best gain: -inf\n",
      "[LightGBM] [Warning] No further splits with positive gain, best gain: -inf\n",
      "[LightGBM] [Warning] No further splits with positive gain, best gain: -inf\n",
      "[LightGBM] [Warning] No further splits with positive gain, best gain: -inf\n",
      "[LightGBM] [Warning] No further splits with positive gain, best gain: -inf\n",
      "[LightGBM] [Warning] No further splits with positive gain, best gain: -inf\n",
      "[LightGBM] [Warning] No further splits with positive gain, best gain: -inf\n",
      "[LightGBM] [Warning] No further splits with positive gain, best gain: -inf\n",
      "[LightGBM] [Warning] No further splits with positive gain, best gain: -inf\n",
      "[LightGBM] [Warning] No further splits with positive gain, best gain: -inf\n",
      "[LightGBM] [Warning] No further splits with positive gain, best gain: -inf\n",
      "[LightGBM] [Warning] No further splits with positive gain, best gain: -inf\n",
      "[LightGBM] [Warning] No further splits with positive gain, best gain: -inf\n",
      "[LightGBM] [Warning] No further splits with positive gain, best gain: -inf\n",
      "[LightGBM] [Warning] No further splits with positive gain, best gain: -inf\n",
      "[LightGBM] [Warning] No further splits with positive gain, best gain: -inf\n",
      "[LightGBM] [Warning] No further splits with positive gain, best gain: -inf\n",
      "[LightGBM] [Warning] No further splits with positive gain, best gain: -inf\n",
      "[LightGBM] [Warning] No further splits with positive gain, best gain: -inf\n",
      "[LightGBM] [Warning] No further splits with positive gain, best gain: -inf\n",
      "[LightGBM] [Warning] No further splits with positive gain, best gain: -inf\n",
      "[LightGBM] [Warning] No further splits with positive gain, best gain: -inf\n",
      "[LightGBM] [Warning] No further splits with positive gain, best gain: -inf\n",
      "[LightGBM] [Warning] No further splits with positive gain, best gain: -inf\n",
      "[LightGBM] [Warning] No further splits with positive gain, best gain: -inf\n",
      "[LightGBM] [Warning] No further splits with positive gain, best gain: -inf\n",
      "[LightGBM] [Warning] No further splits with positive gain, best gain: -inf\n",
      "[LightGBM] [Warning] No further splits with positive gain, best gain: -inf\n",
      "[LightGBM] [Warning] No further splits with positive gain, best gain: -inf\n",
      "[LightGBM] [Warning] No further splits with positive gain, best gain: -inf\n",
      "[LightGBM] [Warning] No further splits with positive gain, best gain: -inf\n",
      "[LightGBM] [Warning] No further splits with positive gain, best gain: -inf\n",
      "[LightGBM] [Warning] No further splits with positive gain, best gain: -inf\n",
      "[LightGBM] [Warning] No further splits with positive gain, best gain: -inf\n",
      "[LightGBM] [Warning] No further splits with positive gain, best gain: -inf\n",
      "[LightGBM] [Warning] No further splits with positive gain, best gain: -inf\n",
      "[LightGBM] [Warning] No further splits with positive gain, best gain: -inf\n",
      "[LightGBM] [Warning] No further splits with positive gain, best gain: -inf\n",
      "[LightGBM] [Warning] No further splits with positive gain, best gain: -inf\n",
      "[LightGBM] [Warning] No further splits with positive gain, best gain: -inf\n",
      "[LightGBM] [Warning] No further splits with positive gain, best gain: -inf\n",
      "[LightGBM] [Warning] No further splits with positive gain, best gain: -inf\n",
      "[LightGBM] [Warning] No further splits with positive gain, best gain: -inf\n",
      "[LightGBM] [Warning] No further splits with positive gain, best gain: -inf\n",
      "[LightGBM] [Warning] No further splits with positive gain, best gain: -inf\n",
      "[LightGBM] [Warning] No further splits with positive gain, best gain: -inf\n",
      "[LightGBM] [Warning] No further splits with positive gain, best gain: -inf\n",
      "[LightGBM] [Warning] No further splits with positive gain, best gain: -inf\n",
      "[LightGBM] [Warning] No further splits with positive gain, best gain: -inf\n",
      "[LightGBM] [Warning] No further splits with positive gain, best gain: -inf\n",
      "[LightGBM] [Warning] No further splits with positive gain, best gain: -inf\n",
      "[LightGBM] [Warning] No further splits with positive gain, best gain: -inf\n",
      "[LightGBM] [Warning] No further splits with positive gain, best gain: -inf\n",
      "[LightGBM] [Warning] No further splits with positive gain, best gain: -inf\n",
      "[LightGBM] [Warning] No further splits with positive gain, best gain: -inf\n",
      "[LightGBM] [Warning] No further splits with positive gain, best gain: -inf\n",
      "[LightGBM] [Warning] No further splits with positive gain, best gain: -inf\n",
      "[LightGBM] [Warning] No further splits with positive gain, best gain: -inf\n",
      "[LightGBM] [Warning] No further splits with positive gain, best gain: -inf\n",
      "[LightGBM] [Warning] No further splits with positive gain, best gain: -inf\n",
      "[LightGBM] [Warning] No further splits with positive gain, best gain: -inf\n",
      "[LightGBM] [Warning] No further splits with positive gain, best gain: -inf\n",
      "[LightGBM] [Warning] No further splits with positive gain, best gain: -inf\n",
      "[LightGBM] [Warning] No further splits with positive gain, best gain: -inf\n",
      "[LightGBM] [Warning] No further splits with positive gain, best gain: -inf\n",
      "[LightGBM] [Warning] No further splits with positive gain, best gain: -inf\n",
      "[LightGBM] [Warning] No further splits with positive gain, best gain: -inf\n",
      "[LightGBM] [Warning] No further splits with positive gain, best gain: -inf\n",
      "[LightGBM] [Warning] No further splits with positive gain, best gain: -inf\n",
      "[LightGBM] [Warning] No further splits with positive gain, best gain: -inf\n",
      "[LightGBM] [Warning] No further splits with positive gain, best gain: -inf\n",
      "[LightGBM] [Warning] No further splits with positive gain, best gain: -inf\n",
      "[LightGBM] [Warning] No further splits with positive gain, best gain: -inf\n",
      "[LightGBM] [Warning] No further splits with positive gain, best gain: -inf\n",
      "[LightGBM] [Warning] No further splits with positive gain, best gain: -inf\n",
      "[LightGBM] [Warning] No further splits with positive gain, best gain: -inf\n",
      "[LightGBM] [Warning] No further splits with positive gain, best gain: -inf\n",
      "[LightGBM] [Warning] No further splits with positive gain, best gain: -inf\n",
      "[LightGBM] [Warning] No further splits with positive gain, best gain: -inf\n",
      "[LightGBM] [Warning] No further splits with positive gain, best gain: -inf\n",
      "[LightGBM] [Warning] No further splits with positive gain, best gain: -inf\n",
      "[LightGBM] [Warning] No further splits with positive gain, best gain: -inf\n",
      "[LightGBM] [Warning] No further splits with positive gain, best gain: -inf\n",
      "[LightGBM] [Warning] No further splits with positive gain, best gain: -inf\n",
      "[LightGBM] [Warning] No further splits with positive gain, best gain: -inf\n",
      "[LightGBM] [Warning] No further splits with positive gain, best gain: -inf\n",
      "[LightGBM] [Warning] No further splits with positive gain, best gain: -inf\n",
      "[LightGBM] [Info] Number of positive: 131, number of negative: 131\n",
      "[LightGBM] [Info] Auto-choosing row-wise multi-threading, the overhead of testing was 0.000129 seconds.\n",
      "You can set `force_row_wise=true` to remove the overhead.\n",
      "And if memory is not enough, you can set `force_col_wise=true`.\n",
      "[LightGBM] [Info] Total Bins 91\n",
      "[LightGBM] [Info] Number of data points in the train set: 262, number of used features: 15\n",
      "[LightGBM] [Info] [binary:BoostFromScore]: pavg=0.500000 -> initscore=0.000000\n",
      "[LightGBM] [Warning] No further splits with positive gain, best gain: -inf\n",
      "[LightGBM] [Warning] No further splits with positive gain, best gain: -inf\n",
      "[LightGBM] [Warning] No further splits with positive gain, best gain: -inf\n",
      "[LightGBM] [Warning] No further splits with positive gain, best gain: -inf\n",
      "[LightGBM] [Warning] No further splits with positive gain, best gain: -inf\n",
      "[LightGBM] [Warning] No further splits with positive gain, best gain: -inf\n",
      "[LightGBM] [Warning] No further splits with positive gain, best gain: -inf\n",
      "[LightGBM] [Warning] No further splits with positive gain, best gain: -inf\n",
      "[LightGBM] [Warning] No further splits with positive gain, best gain: -inf\n",
      "[LightGBM] [Warning] No further splits with positive gain, best gain: -inf\n",
      "[LightGBM] [Warning] No further splits with positive gain, best gain: -inf\n",
      "[LightGBM] [Warning] No further splits with positive gain, best gain: -inf\n",
      "[LightGBM] [Warning] No further splits with positive gain, best gain: -inf\n",
      "[LightGBM] [Warning] No further splits with positive gain, best gain: -inf\n",
      "[LightGBM] [Warning] No further splits with positive gain, best gain: -inf\n",
      "[LightGBM] [Warning] No further splits with positive gain, best gain: -inf\n",
      "[LightGBM] [Warning] No further splits with positive gain, best gain: -inf\n",
      "[LightGBM] [Warning] No further splits with positive gain, best gain: -inf\n",
      "[LightGBM] [Warning] No further splits with positive gain, best gain: -inf\n",
      "[LightGBM] [Warning] No further splits with positive gain, best gain: -inf\n",
      "[LightGBM] [Warning] No further splits with positive gain, best gain: -inf\n",
      "[LightGBM] [Warning] No further splits with positive gain, best gain: -inf\n",
      "[LightGBM] [Warning] No further splits with positive gain, best gain: -inf\n",
      "[LightGBM] [Warning] No further splits with positive gain, best gain: -inf\n",
      "[LightGBM] [Warning] No further splits with positive gain, best gain: -inf\n",
      "[LightGBM] [Warning] No further splits with positive gain, best gain: -inf\n",
      "[LightGBM] [Warning] No further splits with positive gain, best gain: -inf\n",
      "[LightGBM] [Warning] No further splits with positive gain, best gain: -inf\n",
      "[LightGBM] [Warning] No further splits with positive gain, best gain: -inf\n",
      "[LightGBM] [Warning] No further splits with positive gain, best gain: -inf\n",
      "[LightGBM] [Warning] No further splits with positive gain, best gain: -inf\n",
      "[LightGBM] [Warning] No further splits with positive gain, best gain: -inf\n",
      "[LightGBM] [Warning] No further splits with positive gain, best gain: -inf\n",
      "[LightGBM] [Warning] No further splits with positive gain, best gain: -inf\n",
      "[LightGBM] [Warning] No further splits with positive gain, best gain: -inf\n",
      "[LightGBM] [Warning] No further splits with positive gain, best gain: -inf\n",
      "[LightGBM] [Warning] No further splits with positive gain, best gain: -inf\n",
      "[LightGBM] [Warning] No further splits with positive gain, best gain: -inf\n",
      "[LightGBM] [Warning] No further splits with positive gain, best gain: -inf\n",
      "[LightGBM] [Warning] No further splits with positive gain, best gain: -inf\n",
      "[LightGBM] [Warning] No further splits with positive gain, best gain: -inf\n",
      "[LightGBM] [Warning] No further splits with positive gain, best gain: -inf\n",
      "[LightGBM] [Warning] No further splits with positive gain, best gain: -inf\n",
      "[LightGBM] [Warning] No further splits with positive gain, best gain: -inf\n",
      "[LightGBM] [Warning] No further splits with positive gain, best gain: -inf\n",
      "[LightGBM] [Warning] No further splits with positive gain, best gain: -inf\n",
      "[LightGBM] [Warning] No further splits with positive gain, best gain: -inf\n",
      "[LightGBM] [Warning] No further splits with positive gain, best gain: -inf\n",
      "[LightGBM] [Warning] No further splits with positive gain, best gain: -inf\n",
      "[LightGBM] [Warning] No further splits with positive gain, best gain: -inf\n",
      "[LightGBM] [Warning] No further splits with positive gain, best gain: -inf\n",
      "[LightGBM] [Warning] No further splits with positive gain, best gain: -inf\n",
      "[LightGBM] [Warning] No further splits with positive gain, best gain: -inf\n",
      "[LightGBM] [Warning] No further splits with positive gain, best gain: -inf\n",
      "[LightGBM] [Warning] No further splits with positive gain, best gain: -inf\n",
      "[LightGBM] [Warning] No further splits with positive gain, best gain: -inf\n",
      "[LightGBM] [Warning] No further splits with positive gain, best gain: -inf\n",
      "[LightGBM] [Warning] No further splits with positive gain, best gain: -inf\n",
      "[LightGBM] [Warning] No further splits with positive gain, best gain: -inf\n",
      "[LightGBM] [Warning] No further splits with positive gain, best gain: -inf\n",
      "[LightGBM] [Warning] No further splits with positive gain, best gain: -inf\n",
      "[LightGBM] [Warning] No further splits with positive gain, best gain: -inf\n",
      "[LightGBM] [Warning] No further splits with positive gain, best gain: -inf\n",
      "[LightGBM] [Warning] No further splits with positive gain, best gain: -inf\n",
      "[LightGBM] [Warning] No further splits with positive gain, best gain: -inf\n",
      "[LightGBM] [Warning] No further splits with positive gain, best gain: -inf\n",
      "[LightGBM] [Warning] No further splits with positive gain, best gain: -inf\n",
      "[LightGBM] [Warning] No further splits with positive gain, best gain: -inf\n",
      "[LightGBM] [Warning] No further splits with positive gain, best gain: -inf\n",
      "[LightGBM] [Warning] No further splits with positive gain, best gain: -inf\n",
      "[LightGBM] [Warning] No further splits with positive gain, best gain: -inf\n",
      "[LightGBM] [Warning] No further splits with positive gain, best gain: -inf\n",
      "[LightGBM] [Warning] No further splits with positive gain, best gain: -inf\n",
      "[LightGBM] [Warning] No further splits with positive gain, best gain: -inf\n",
      "[LightGBM] [Warning] No further splits with positive gain, best gain: -inf\n",
      "[LightGBM] [Warning] No further splits with positive gain, best gain: -inf\n",
      "[LightGBM] [Warning] No further splits with positive gain, best gain: -inf\n",
      "[LightGBM] [Warning] No further splits with positive gain, best gain: -inf\n",
      "[LightGBM] [Warning] No further splits with positive gain, best gain: -inf\n",
      "[LightGBM] [Warning] No further splits with positive gain, best gain: -inf\n",
      "[LightGBM] [Warning] No further splits with positive gain, best gain: -inf\n",
      "[LightGBM] [Warning] No further splits with positive gain, best gain: -inf\n",
      "[LightGBM] [Warning] No further splits with positive gain, best gain: -inf\n",
      "[LightGBM] [Warning] No further splits with positive gain, best gain: -inf\n",
      "[LightGBM] [Warning] No further splits with positive gain, best gain: -inf\n",
      "[LightGBM] [Warning] No further splits with positive gain, best gain: -inf\n",
      "[LightGBM] [Warning] No further splits with positive gain, best gain: -inf\n",
      "[LightGBM] [Warning] No further splits with positive gain, best gain: -inf\n",
      "[LightGBM] [Warning] No further splits with positive gain, best gain: -inf\n",
      "[LightGBM] [Warning] No further splits with positive gain, best gain: -inf\n",
      "[LightGBM] [Warning] No further splits with positive gain, best gain: -inf\n",
      "[LightGBM] [Warning] No further splits with positive gain, best gain: -inf\n",
      "[LightGBM] [Warning] No further splits with positive gain, best gain: -inf\n",
      "[LightGBM] [Warning] No further splits with positive gain, best gain: -inf\n",
      "[LightGBM] [Warning] No further splits with positive gain, best gain: -inf\n",
      "[LightGBM] [Warning] No further splits with positive gain, best gain: -inf\n",
      "[LightGBM] [Warning] No further splits with positive gain, best gain: -inf\n",
      "[LightGBM] [Warning] No further splits with positive gain, best gain: -inf\n",
      "[LightGBM] [Warning] No further splits with positive gain, best gain: -inf\n",
      "[LightGBM] [Warning] No further splits with positive gain, best gain: -inf\n",
      "[LightGBM] [Info] Number of positive: 132, number of negative: 131\n",
      "[LightGBM] [Info] Auto-choosing row-wise multi-threading, the overhead of testing was 0.000135 seconds.\n",
      "You can set `force_row_wise=true` to remove the overhead.\n",
      "And if memory is not enough, you can set `force_col_wise=true`.\n",
      "[LightGBM] [Info] Total Bins 93\n",
      "[LightGBM] [Info] Number of data points in the train set: 263, number of used features: 15\n",
      "[LightGBM] [Info] [binary:BoostFromScore]: pavg=0.501901 -> initscore=0.007605\n",
      "[LightGBM] [Info] Start training from score 0.007605\n",
      "[LightGBM] [Warning] No further splits with positive gain, best gain: -inf\n",
      "[LightGBM] [Warning] No further splits with positive gain, best gain: -inf\n",
      "[LightGBM] [Warning] No further splits with positive gain, best gain: -inf\n",
      "[LightGBM] [Warning] No further splits with positive gain, best gain: -inf\n",
      "[LightGBM] [Warning] No further splits with positive gain, best gain: -inf\n",
      "[LightGBM] [Warning] No further splits with positive gain, best gain: -inf\n",
      "[LightGBM] [Warning] No further splits with positive gain, best gain: -inf\n",
      "[LightGBM] [Warning] No further splits with positive gain, best gain: -inf\n",
      "[LightGBM] [Warning] No further splits with positive gain, best gain: -inf\n",
      "[LightGBM] [Warning] No further splits with positive gain, best gain: -inf\n",
      "[LightGBM] [Warning] No further splits with positive gain, best gain: -inf\n",
      "[LightGBM] [Warning] No further splits with positive gain, best gain: -inf\n",
      "[LightGBM] [Warning] No further splits with positive gain, best gain: -inf\n",
      "[LightGBM] [Warning] No further splits with positive gain, best gain: -inf\n",
      "[LightGBM] [Warning] No further splits with positive gain, best gain: -inf\n",
      "[LightGBM] [Warning] No further splits with positive gain, best gain: -inf\n",
      "[LightGBM] [Warning] No further splits with positive gain, best gain: -inf\n",
      "[LightGBM] [Warning] No further splits with positive gain, best gain: -inf\n",
      "[LightGBM] [Warning] No further splits with positive gain, best gain: -inf\n",
      "[LightGBM] [Warning] No further splits with positive gain, best gain: -inf\n",
      "[LightGBM] [Warning] No further splits with positive gain, best gain: -inf\n",
      "[LightGBM] [Warning] No further splits with positive gain, best gain: -inf\n",
      "[LightGBM] [Warning] No further splits with positive gain, best gain: -inf\n",
      "[LightGBM] [Warning] No further splits with positive gain, best gain: -inf\n",
      "[LightGBM] [Warning] No further splits with positive gain, best gain: -inf\n",
      "[LightGBM] [Warning] No further splits with positive gain, best gain: -inf\n",
      "[LightGBM] [Warning] No further splits with positive gain, best gain: -inf\n",
      "[LightGBM] [Warning] No further splits with positive gain, best gain: -inf\n",
      "[LightGBM] [Warning] No further splits with positive gain, best gain: -inf\n",
      "[LightGBM] [Warning] No further splits with positive gain, best gain: -inf\n",
      "[LightGBM] [Warning] No further splits with positive gain, best gain: -inf\n",
      "[LightGBM] [Warning] No further splits with positive gain, best gain: -inf\n",
      "[LightGBM] [Warning] No further splits with positive gain, best gain: -inf\n",
      "[LightGBM] [Warning] No further splits with positive gain, best gain: -inf\n",
      "[LightGBM] [Warning] No further splits with positive gain, best gain: -inf\n",
      "[LightGBM] [Warning] No further splits with positive gain, best gain: -inf\n",
      "[LightGBM] [Warning] No further splits with positive gain, best gain: -inf\n",
      "[LightGBM] [Warning] No further splits with positive gain, best gain: -inf\n",
      "[LightGBM] [Warning] No further splits with positive gain, best gain: -inf\n",
      "[LightGBM] [Warning] No further splits with positive gain, best gain: -inf\n",
      "[LightGBM] [Warning] No further splits with positive gain, best gain: -inf\n",
      "[LightGBM] [Warning] No further splits with positive gain, best gain: -inf\n",
      "[LightGBM] [Warning] No further splits with positive gain, best gain: -inf\n",
      "[LightGBM] [Warning] No further splits with positive gain, best gain: -inf\n",
      "[LightGBM] [Warning] No further splits with positive gain, best gain: -inf\n",
      "[LightGBM] [Warning] No further splits with positive gain, best gain: -inf\n",
      "[LightGBM] [Warning] No further splits with positive gain, best gain: -inf\n",
      "[LightGBM] [Warning] No further splits with positive gain, best gain: -inf\n",
      "[LightGBM] [Warning] No further splits with positive gain, best gain: -inf\n",
      "[LightGBM] [Warning] No further splits with positive gain, best gain: -inf\n",
      "[LightGBM] [Warning] No further splits with positive gain, best gain: -inf\n",
      "[LightGBM] [Warning] No further splits with positive gain, best gain: -inf\n",
      "[LightGBM] [Warning] No further splits with positive gain, best gain: -inf\n",
      "[LightGBM] [Warning] No further splits with positive gain, best gain: -inf\n",
      "[LightGBM] [Warning] No further splits with positive gain, best gain: -inf\n",
      "[LightGBM] [Warning] No further splits with positive gain, best gain: -inf\n",
      "[LightGBM] [Warning] No further splits with positive gain, best gain: -inf\n",
      "[LightGBM] [Warning] No further splits with positive gain, best gain: -inf\n",
      "[LightGBM] [Warning] No further splits with positive gain, best gain: -inf\n",
      "[LightGBM] [Warning] No further splits with positive gain, best gain: -inf\n",
      "[LightGBM] [Warning] No further splits with positive gain, best gain: -inf\n",
      "[LightGBM] [Warning] No further splits with positive gain, best gain: -inf\n",
      "[LightGBM] [Warning] No further splits with positive gain, best gain: -inf\n",
      "[LightGBM] [Warning] No further splits with positive gain, best gain: -inf\n",
      "[LightGBM] [Warning] No further splits with positive gain, best gain: -inf\n",
      "[LightGBM] [Warning] No further splits with positive gain, best gain: -inf\n",
      "[LightGBM] [Warning] No further splits with positive gain, best gain: -inf\n",
      "[LightGBM] [Warning] No further splits with positive gain, best gain: -inf\n",
      "[LightGBM] [Warning] No further splits with positive gain, best gain: -inf\n",
      "[LightGBM] [Warning] No further splits with positive gain, best gain: -inf\n",
      "[LightGBM] [Warning] No further splits with positive gain, best gain: -inf\n",
      "[LightGBM] [Warning] No further splits with positive gain, best gain: -inf\n",
      "[LightGBM] [Warning] No further splits with positive gain, best gain: -inf\n",
      "[LightGBM] [Warning] No further splits with positive gain, best gain: -inf\n",
      "[LightGBM] [Warning] No further splits with positive gain, best gain: -inf\n",
      "[LightGBM] [Warning] No further splits with positive gain, best gain: -inf\n",
      "[LightGBM] [Warning] No further splits with positive gain, best gain: -inf\n",
      "[LightGBM] [Warning] No further splits with positive gain, best gain: -inf\n",
      "[LightGBM] [Warning] No further splits with positive gain, best gain: -inf\n",
      "[LightGBM] [Warning] No further splits with positive gain, best gain: -inf\n",
      "[LightGBM] [Warning] No further splits with positive gain, best gain: -inf\n",
      "[LightGBM] [Warning] No further splits with positive gain, best gain: -inf\n",
      "[LightGBM] [Warning] No further splits with positive gain, best gain: -inf\n",
      "[LightGBM] [Warning] No further splits with positive gain, best gain: -inf\n",
      "[LightGBM] [Warning] No further splits with positive gain, best gain: -inf\n",
      "[LightGBM] [Warning] No further splits with positive gain, best gain: -inf\n",
      "[LightGBM] [Warning] No further splits with positive gain, best gain: -inf\n",
      "[LightGBM] [Warning] No further splits with positive gain, best gain: -inf\n",
      "[LightGBM] [Warning] No further splits with positive gain, best gain: -inf\n",
      "[LightGBM] [Warning] No further splits with positive gain, best gain: -inf\n",
      "[LightGBM] [Warning] No further splits with positive gain, best gain: -inf\n",
      "[LightGBM] [Warning] No further splits with positive gain, best gain: -inf\n",
      "[LightGBM] [Warning] No further splits with positive gain, best gain: -inf\n",
      "[LightGBM] [Warning] No further splits with positive gain, best gain: -inf\n",
      "[LightGBM] [Warning] No further splits with positive gain, best gain: -inf\n",
      "[LightGBM] [Warning] No further splits with positive gain, best gain: -inf\n",
      "[LightGBM] [Warning] No further splits with positive gain, best gain: -inf\n",
      "[LightGBM] [Warning] No further splits with positive gain, best gain: -inf\n",
      "[LightGBM] [Warning] No further splits with positive gain, best gain: -inf\n",
      "[LightGBM] [Warning] No further splits with positive gain, best gain: -inf\n",
      "[LightGBM] [Info] Number of positive: 131, number of negative: 132\n",
      "[LightGBM] [Info] Auto-choosing row-wise multi-threading, the overhead of testing was 0.000137 seconds.\n",
      "You can set `force_row_wise=true` to remove the overhead.\n",
      "And if memory is not enough, you can set `force_col_wise=true`.\n",
      "[LightGBM] [Info] Total Bins 91\n",
      "[LightGBM] [Info] Number of data points in the train set: 263, number of used features: 15\n",
      "[LightGBM] [Info] [binary:BoostFromScore]: pavg=0.498099 -> initscore=-0.007605\n",
      "[LightGBM] [Info] Start training from score -0.007605\n",
      "[LightGBM] [Warning] No further splits with positive gain, best gain: -inf\n",
      "[LightGBM] [Warning] No further splits with positive gain, best gain: -inf\n",
      "[LightGBM] [Warning] No further splits with positive gain, best gain: -inf\n",
      "[LightGBM] [Warning] No further splits with positive gain, best gain: -inf\n",
      "[LightGBM] [Warning] No further splits with positive gain, best gain: -inf\n",
      "[LightGBM] [Warning] No further splits with positive gain, best gain: -inf\n",
      "[LightGBM] [Warning] No further splits with positive gain, best gain: -inf\n",
      "[LightGBM] [Warning] No further splits with positive gain, best gain: -inf\n",
      "[LightGBM] [Warning] No further splits with positive gain, best gain: -inf\n",
      "[LightGBM] [Warning] No further splits with positive gain, best gain: -inf\n",
      "[LightGBM] [Warning] No further splits with positive gain, best gain: -inf\n",
      "[LightGBM] [Warning] No further splits with positive gain, best gain: -inf\n",
      "[LightGBM] [Warning] No further splits with positive gain, best gain: -inf\n",
      "[LightGBM] [Warning] No further splits with positive gain, best gain: -inf\n",
      "[LightGBM] [Warning] No further splits with positive gain, best gain: -inf\n",
      "[LightGBM] [Warning] No further splits with positive gain, best gain: -inf\n",
      "[LightGBM] [Warning] No further splits with positive gain, best gain: -inf\n",
      "[LightGBM] [Warning] No further splits with positive gain, best gain: -inf\n",
      "[LightGBM] [Warning] No further splits with positive gain, best gain: -inf\n",
      "[LightGBM] [Warning] No further splits with positive gain, best gain: -inf\n",
      "[LightGBM] [Warning] No further splits with positive gain, best gain: -inf\n",
      "[LightGBM] [Warning] No further splits with positive gain, best gain: -inf\n",
      "[LightGBM] [Warning] No further splits with positive gain, best gain: -inf\n",
      "[LightGBM] [Warning] No further splits with positive gain, best gain: -inf\n",
      "[LightGBM] [Warning] No further splits with positive gain, best gain: -inf\n",
      "[LightGBM] [Warning] No further splits with positive gain, best gain: -inf\n",
      "[LightGBM] [Warning] No further splits with positive gain, best gain: -inf\n",
      "[LightGBM] [Warning] No further splits with positive gain, best gain: -inf\n",
      "[LightGBM] [Warning] No further splits with positive gain, best gain: -inf\n",
      "[LightGBM] [Warning] No further splits with positive gain, best gain: -inf\n",
      "[LightGBM] [Warning] No further splits with positive gain, best gain: -inf\n",
      "[LightGBM] [Warning] No further splits with positive gain, best gain: -inf\n",
      "[LightGBM] [Warning] No further splits with positive gain, best gain: -inf\n",
      "[LightGBM] [Warning] No further splits with positive gain, best gain: -inf\n",
      "[LightGBM] [Warning] No further splits with positive gain, best gain: -inf\n",
      "[LightGBM] [Warning] No further splits with positive gain, best gain: -inf\n",
      "[LightGBM] [Warning] No further splits with positive gain, best gain: -inf\n",
      "[LightGBM] [Warning] No further splits with positive gain, best gain: -inf\n",
      "[LightGBM] [Warning] No further splits with positive gain, best gain: -inf\n",
      "[LightGBM] [Warning] No further splits with positive gain, best gain: -inf\n",
      "[LightGBM] [Warning] No further splits with positive gain, best gain: -inf\n",
      "[LightGBM] [Warning] No further splits with positive gain, best gain: -inf\n",
      "[LightGBM] [Warning] No further splits with positive gain, best gain: -inf\n",
      "[LightGBM] [Warning] No further splits with positive gain, best gain: -inf\n",
      "[LightGBM] [Warning] No further splits with positive gain, best gain: -inf\n",
      "[LightGBM] [Warning] No further splits with positive gain, best gain: -inf\n",
      "[LightGBM] [Warning] No further splits with positive gain, best gain: -inf\n",
      "[LightGBM] [Warning] No further splits with positive gain, best gain: -inf\n",
      "[LightGBM] [Warning] No further splits with positive gain, best gain: -inf\n",
      "[LightGBM] [Warning] No further splits with positive gain, best gain: -inf\n",
      "[LightGBM] [Warning] No further splits with positive gain, best gain: -inf\n",
      "[LightGBM] [Warning] No further splits with positive gain, best gain: -inf\n",
      "[LightGBM] [Warning] No further splits with positive gain, best gain: -inf\n",
      "[LightGBM] [Warning] No further splits with positive gain, best gain: -inf\n",
      "[LightGBM] [Warning] No further splits with positive gain, best gain: -inf\n",
      "[LightGBM] [Warning] No further splits with positive gain, best gain: -inf\n",
      "[LightGBM] [Warning] No further splits with positive gain, best gain: -inf\n",
      "[LightGBM] [Warning] No further splits with positive gain, best gain: -inf\n",
      "[LightGBM] [Warning] No further splits with positive gain, best gain: -inf\n",
      "[LightGBM] [Warning] No further splits with positive gain, best gain: -inf\n",
      "[LightGBM] [Warning] No further splits with positive gain, best gain: -inf\n",
      "[LightGBM] [Warning] No further splits with positive gain, best gain: -inf\n",
      "[LightGBM] [Warning] No further splits with positive gain, best gain: -inf\n",
      "[LightGBM] [Warning] No further splits with positive gain, best gain: -inf\n",
      "[LightGBM] [Warning] No further splits with positive gain, best gain: -inf\n",
      "[LightGBM] [Warning] No further splits with positive gain, best gain: -inf\n",
      "[LightGBM] [Warning] No further splits with positive gain, best gain: -inf\n",
      "[LightGBM] [Warning] No further splits with positive gain, best gain: -inf\n",
      "[LightGBM] [Warning] No further splits with positive gain, best gain: -inf\n",
      "[LightGBM] [Warning] No further splits with positive gain, best gain: -inf\n",
      "[LightGBM] [Warning] No further splits with positive gain, best gain: -inf\n",
      "[LightGBM] [Warning] No further splits with positive gain, best gain: -inf\n",
      "[LightGBM] [Warning] No further splits with positive gain, best gain: -inf\n",
      "[LightGBM] [Warning] No further splits with positive gain, best gain: -inf\n",
      "[LightGBM] [Warning] No further splits with positive gain, best gain: -inf\n",
      "[LightGBM] [Warning] No further splits with positive gain, best gain: -inf\n",
      "[LightGBM] [Warning] No further splits with positive gain, best gain: -inf\n",
      "[LightGBM] [Warning] No further splits with positive gain, best gain: -inf\n",
      "[LightGBM] [Warning] No further splits with positive gain, best gain: -inf\n",
      "[LightGBM] [Warning] No further splits with positive gain, best gain: -inf\n",
      "[LightGBM] [Warning] No further splits with positive gain, best gain: -inf\n",
      "[LightGBM] [Warning] No further splits with positive gain, best gain: -inf\n",
      "[LightGBM] [Warning] No further splits with positive gain, best gain: -inf\n",
      "[LightGBM] [Warning] No further splits with positive gain, best gain: -inf\n",
      "[LightGBM] [Warning] No further splits with positive gain, best gain: -inf\n",
      "[LightGBM] [Warning] No further splits with positive gain, best gain: -inf\n",
      "[LightGBM] [Warning] No further splits with positive gain, best gain: -inf\n",
      "[LightGBM] [Warning] No further splits with positive gain, best gain: -inf\n",
      "[LightGBM] [Warning] No further splits with positive gain, best gain: -inf\n",
      "[LightGBM] [Warning] No further splits with positive gain, best gain: -inf\n",
      "[LightGBM] [Warning] No further splits with positive gain, best gain: -inf\n",
      "[LightGBM] [Warning] No further splits with positive gain, best gain: -inf\n",
      "[LightGBM] [Warning] No further splits with positive gain, best gain: -inf\n",
      "[LightGBM] [Warning] No further splits with positive gain, best gain: -inf\n",
      "[LightGBM] [Warning] No further splits with positive gain, best gain: -inf\n",
      "[LightGBM] [Warning] No further splits with positive gain, best gain: -inf\n",
      "[LightGBM] [Warning] No further splits with positive gain, best gain: -inf\n",
      "[LightGBM] [Warning] No further splits with positive gain, best gain: -inf\n",
      "[LightGBM] [Warning] No further splits with positive gain, best gain: -inf\n",
      "[LightGBM] [Warning] No further splits with positive gain, best gain: -inf\n"
     ]
    }
   ],
   "source": [
    "cv_scores = cross_val_score(lgb, x_sm,y_sm,cv = 5)"
   ]
  },
  {
   "cell_type": "code",
   "execution_count": 219,
   "id": "8d537cf0",
   "metadata": {},
   "outputs": [
    {
     "data": {
      "text/plain": [
       "0.8441958041958042"
      ]
     },
     "execution_count": 219,
     "metadata": {},
     "output_type": "execute_result"
    }
   ],
   "source": [
    "cv_scores.mean()"
   ]
  },
  {
   "cell_type": "code",
   "execution_count": 165,
   "id": "f771e08d",
   "metadata": {},
   "outputs": [],
   "source": [
    "lgb_pred = lgb.predict_proba(x_test)[:,1] "
   ]
  },
  {
   "cell_type": "code",
   "execution_count": 167,
   "id": "e39dd152",
   "metadata": {},
   "outputs": [],
   "source": [
    "pcos_submission_lgb_1102 = pd.DataFrame({'ID': test['ID'], 'PCOS' : lgb_pred})"
   ]
  },
  {
   "cell_type": "code",
   "execution_count": 168,
   "id": "e5fe021f",
   "metadata": {},
   "outputs": [],
   "source": [
    "pcos_submission_lgb_1102.to_csv('pcos_submission_lgb_1102.csv', index = False)"
   ]
  },
  {
   "cell_type": "markdown",
   "id": "7d1f03e7",
   "metadata": {},
   "source": [
    "# Neural"
   ]
  },
  {
   "cell_type": "code",
   "execution_count": 220,
   "id": "97787f5d",
   "metadata": {},
   "outputs": [],
   "source": [
    "from sklearn.neural_network import MLPClassifier"
   ]
  },
  {
   "cell_type": "code",
   "execution_count": 221,
   "id": "e0a05c5d",
   "metadata": {},
   "outputs": [],
   "source": [
    "# Initialize the MLPClassifier\n",
    "mlp = MLPClassifier(hidden_layer_sizes=(128, 64, 32),  # 3 layers with 128, 64, 32 neurons\n",
    "                      activation='relu',  # ReLU activation for non-linearity\n",
    "                      solver='adam',  # Adam optimizer\n",
    "                      max_iter=500,  # Number of epochs\n",
    "                      random_state=42)\n",
    "\n"
   ]
  },
  {
   "cell_type": "code",
   "execution_count": 222,
   "id": "a17f5e4e",
   "metadata": {},
   "outputs": [
    {
     "data": {
      "text/html": [
       "<style>#sk-container-id-10 {color: black;background-color: white;}#sk-container-id-10 pre{padding: 0;}#sk-container-id-10 div.sk-toggleable {background-color: white;}#sk-container-id-10 label.sk-toggleable__label {cursor: pointer;display: block;width: 100%;margin-bottom: 0;padding: 0.3em;box-sizing: border-box;text-align: center;}#sk-container-id-10 label.sk-toggleable__label-arrow:before {content: \"▸\";float: left;margin-right: 0.25em;color: #696969;}#sk-container-id-10 label.sk-toggleable__label-arrow:hover:before {color: black;}#sk-container-id-10 div.sk-estimator:hover label.sk-toggleable__label-arrow:before {color: black;}#sk-container-id-10 div.sk-toggleable__content {max-height: 0;max-width: 0;overflow: hidden;text-align: left;background-color: #f0f8ff;}#sk-container-id-10 div.sk-toggleable__content pre {margin: 0.2em;color: black;border-radius: 0.25em;background-color: #f0f8ff;}#sk-container-id-10 input.sk-toggleable__control:checked~div.sk-toggleable__content {max-height: 200px;max-width: 100%;overflow: auto;}#sk-container-id-10 input.sk-toggleable__control:checked~label.sk-toggleable__label-arrow:before {content: \"▾\";}#sk-container-id-10 div.sk-estimator input.sk-toggleable__control:checked~label.sk-toggleable__label {background-color: #d4ebff;}#sk-container-id-10 div.sk-label input.sk-toggleable__control:checked~label.sk-toggleable__label {background-color: #d4ebff;}#sk-container-id-10 input.sk-hidden--visually {border: 0;clip: rect(1px 1px 1px 1px);clip: rect(1px, 1px, 1px, 1px);height: 1px;margin: -1px;overflow: hidden;padding: 0;position: absolute;width: 1px;}#sk-container-id-10 div.sk-estimator {font-family: monospace;background-color: #f0f8ff;border: 1px dotted black;border-radius: 0.25em;box-sizing: border-box;margin-bottom: 0.5em;}#sk-container-id-10 div.sk-estimator:hover {background-color: #d4ebff;}#sk-container-id-10 div.sk-parallel-item::after {content: \"\";width: 100%;border-bottom: 1px solid gray;flex-grow: 1;}#sk-container-id-10 div.sk-label:hover label.sk-toggleable__label {background-color: #d4ebff;}#sk-container-id-10 div.sk-serial::before {content: \"\";position: absolute;border-left: 1px solid gray;box-sizing: border-box;top: 0;bottom: 0;left: 50%;z-index: 0;}#sk-container-id-10 div.sk-serial {display: flex;flex-direction: column;align-items: center;background-color: white;padding-right: 0.2em;padding-left: 0.2em;position: relative;}#sk-container-id-10 div.sk-item {position: relative;z-index: 1;}#sk-container-id-10 div.sk-parallel {display: flex;align-items: stretch;justify-content: center;background-color: white;position: relative;}#sk-container-id-10 div.sk-item::before, #sk-container-id-10 div.sk-parallel-item::before {content: \"\";position: absolute;border-left: 1px solid gray;box-sizing: border-box;top: 0;bottom: 0;left: 50%;z-index: -1;}#sk-container-id-10 div.sk-parallel-item {display: flex;flex-direction: column;z-index: 1;position: relative;background-color: white;}#sk-container-id-10 div.sk-parallel-item:first-child::after {align-self: flex-end;width: 50%;}#sk-container-id-10 div.sk-parallel-item:last-child::after {align-self: flex-start;width: 50%;}#sk-container-id-10 div.sk-parallel-item:only-child::after {width: 0;}#sk-container-id-10 div.sk-dashed-wrapped {border: 1px dashed gray;margin: 0 0.4em 0.5em 0.4em;box-sizing: border-box;padding-bottom: 0.4em;background-color: white;}#sk-container-id-10 div.sk-label label {font-family: monospace;font-weight: bold;display: inline-block;line-height: 1.2em;}#sk-container-id-10 div.sk-label-container {text-align: center;}#sk-container-id-10 div.sk-container {/* jupyter's `normalize.less` sets `[hidden] { display: none; }` but bootstrap.min.css set `[hidden] { display: none !important; }` so we also need the `!important` here to be able to override the default hidden behavior on the sphinx rendered scikit-learn.org. See: https://github.com/scikit-learn/scikit-learn/issues/21755 */display: inline-block !important;position: relative;}#sk-container-id-10 div.sk-text-repr-fallback {display: none;}</style><div id=\"sk-container-id-10\" class=\"sk-top-container\"><div class=\"sk-text-repr-fallback\"><pre>MLPClassifier(hidden_layer_sizes=(128, 64, 32), max_iter=500, random_state=42)</pre><b>In a Jupyter environment, please rerun this cell to show the HTML representation or trust the notebook. <br />On GitHub, the HTML representation is unable to render, please try loading this page with nbviewer.org.</b></div><div class=\"sk-container\" hidden><div class=\"sk-item\"><div class=\"sk-estimator sk-toggleable\"><input class=\"sk-toggleable__control sk-hidden--visually\" id=\"sk-estimator-id-18\" type=\"checkbox\" checked><label for=\"sk-estimator-id-18\" class=\"sk-toggleable__label sk-toggleable__label-arrow\">MLPClassifier</label><div class=\"sk-toggleable__content\"><pre>MLPClassifier(hidden_layer_sizes=(128, 64, 32), max_iter=500, random_state=42)</pre></div></div></div></div></div>"
      ],
      "text/plain": [
       "MLPClassifier(hidden_layer_sizes=(128, 64, 32), max_iter=500, random_state=42)"
      ]
     },
     "execution_count": 222,
     "metadata": {},
     "output_type": "execute_result"
    }
   ],
   "source": [
    "mlp.fit(x_sm,y_sm)"
   ]
  },
  {
   "cell_type": "code",
   "execution_count": 223,
   "id": "0f3ad4f1",
   "metadata": {},
   "outputs": [],
   "source": [
    "cv_scores = cross_val_score(mlp, x_sm,y_sm,cv = 5)"
   ]
  },
  {
   "cell_type": "code",
   "execution_count": 224,
   "id": "3f0804bb",
   "metadata": {},
   "outputs": [
    {
     "data": {
      "text/plain": [
       "0.7923076923076924"
      ]
     },
     "execution_count": 224,
     "metadata": {},
     "output_type": "execute_result"
    }
   ],
   "source": [
    "cv_scores.mean()"
   ]
  },
  {
   "cell_type": "code",
   "execution_count": null,
   "id": "f8d68d8b",
   "metadata": {},
   "outputs": [],
   "source": []
  },
  {
   "cell_type": "code",
   "execution_count": 172,
   "id": "eee37317",
   "metadata": {},
   "outputs": [],
   "source": [
    "mlp_pred = mlp.predict_proba(x_test)[:,1] "
   ]
  },
  {
   "cell_type": "code",
   "execution_count": 174,
   "id": "5eddaf7f",
   "metadata": {},
   "outputs": [],
   "source": [
    "pcos_submission_mlp_1102 = pd.DataFrame({'ID': test['ID'], 'PCOS' : mlp_pred})"
   ]
  },
  {
   "cell_type": "code",
   "execution_count": 175,
   "id": "3bf0ac11",
   "metadata": {},
   "outputs": [],
   "source": [
    "pcos_submission_mlp_1102.to_csv('pcos_submission_mlp_1102.csv', index = False)"
   ]
  },
  {
   "cell_type": "markdown",
   "id": "c9ebae73",
   "metadata": {},
   "source": [
    "# Ada Boost"
   ]
  },
  {
   "cell_type": "code",
   "execution_count": 184,
   "id": "321d3c08",
   "metadata": {},
   "outputs": [],
   "source": [
    "from sklearn.ensemble import AdaBoostClassifier"
   ]
  },
  {
   "cell_type": "code",
   "execution_count": 185,
   "id": "d143a864",
   "metadata": {},
   "outputs": [],
   "source": [
    "adaboost = AdaBoostClassifier(n_estimators=100,learning_rate=0.05,random_state=42)"
   ]
  },
  {
   "cell_type": "code",
   "execution_count": 186,
   "id": "d37b26c8",
   "metadata": {},
   "outputs": [
    {
     "data": {
      "text/html": [
       "<style>#sk-container-id-5 {color: black;background-color: white;}#sk-container-id-5 pre{padding: 0;}#sk-container-id-5 div.sk-toggleable {background-color: white;}#sk-container-id-5 label.sk-toggleable__label {cursor: pointer;display: block;width: 100%;margin-bottom: 0;padding: 0.3em;box-sizing: border-box;text-align: center;}#sk-container-id-5 label.sk-toggleable__label-arrow:before {content: \"▸\";float: left;margin-right: 0.25em;color: #696969;}#sk-container-id-5 label.sk-toggleable__label-arrow:hover:before {color: black;}#sk-container-id-5 div.sk-estimator:hover label.sk-toggleable__label-arrow:before {color: black;}#sk-container-id-5 div.sk-toggleable__content {max-height: 0;max-width: 0;overflow: hidden;text-align: left;background-color: #f0f8ff;}#sk-container-id-5 div.sk-toggleable__content pre {margin: 0.2em;color: black;border-radius: 0.25em;background-color: #f0f8ff;}#sk-container-id-5 input.sk-toggleable__control:checked~div.sk-toggleable__content {max-height: 200px;max-width: 100%;overflow: auto;}#sk-container-id-5 input.sk-toggleable__control:checked~label.sk-toggleable__label-arrow:before {content: \"▾\";}#sk-container-id-5 div.sk-estimator input.sk-toggleable__control:checked~label.sk-toggleable__label {background-color: #d4ebff;}#sk-container-id-5 div.sk-label input.sk-toggleable__control:checked~label.sk-toggleable__label {background-color: #d4ebff;}#sk-container-id-5 input.sk-hidden--visually {border: 0;clip: rect(1px 1px 1px 1px);clip: rect(1px, 1px, 1px, 1px);height: 1px;margin: -1px;overflow: hidden;padding: 0;position: absolute;width: 1px;}#sk-container-id-5 div.sk-estimator {font-family: monospace;background-color: #f0f8ff;border: 1px dotted black;border-radius: 0.25em;box-sizing: border-box;margin-bottom: 0.5em;}#sk-container-id-5 div.sk-estimator:hover {background-color: #d4ebff;}#sk-container-id-5 div.sk-parallel-item::after {content: \"\";width: 100%;border-bottom: 1px solid gray;flex-grow: 1;}#sk-container-id-5 div.sk-label:hover label.sk-toggleable__label {background-color: #d4ebff;}#sk-container-id-5 div.sk-serial::before {content: \"\";position: absolute;border-left: 1px solid gray;box-sizing: border-box;top: 0;bottom: 0;left: 50%;z-index: 0;}#sk-container-id-5 div.sk-serial {display: flex;flex-direction: column;align-items: center;background-color: white;padding-right: 0.2em;padding-left: 0.2em;position: relative;}#sk-container-id-5 div.sk-item {position: relative;z-index: 1;}#sk-container-id-5 div.sk-parallel {display: flex;align-items: stretch;justify-content: center;background-color: white;position: relative;}#sk-container-id-5 div.sk-item::before, #sk-container-id-5 div.sk-parallel-item::before {content: \"\";position: absolute;border-left: 1px solid gray;box-sizing: border-box;top: 0;bottom: 0;left: 50%;z-index: -1;}#sk-container-id-5 div.sk-parallel-item {display: flex;flex-direction: column;z-index: 1;position: relative;background-color: white;}#sk-container-id-5 div.sk-parallel-item:first-child::after {align-self: flex-end;width: 50%;}#sk-container-id-5 div.sk-parallel-item:last-child::after {align-self: flex-start;width: 50%;}#sk-container-id-5 div.sk-parallel-item:only-child::after {width: 0;}#sk-container-id-5 div.sk-dashed-wrapped {border: 1px dashed gray;margin: 0 0.4em 0.5em 0.4em;box-sizing: border-box;padding-bottom: 0.4em;background-color: white;}#sk-container-id-5 div.sk-label label {font-family: monospace;font-weight: bold;display: inline-block;line-height: 1.2em;}#sk-container-id-5 div.sk-label-container {text-align: center;}#sk-container-id-5 div.sk-container {/* jupyter's `normalize.less` sets `[hidden] { display: none; }` but bootstrap.min.css set `[hidden] { display: none !important; }` so we also need the `!important` here to be able to override the default hidden behavior on the sphinx rendered scikit-learn.org. See: https://github.com/scikit-learn/scikit-learn/issues/21755 */display: inline-block !important;position: relative;}#sk-container-id-5 div.sk-text-repr-fallback {display: none;}</style><div id=\"sk-container-id-5\" class=\"sk-top-container\"><div class=\"sk-text-repr-fallback\"><pre>AdaBoostClassifier(learning_rate=0.05, n_estimators=100, random_state=42)</pre><b>In a Jupyter environment, please rerun this cell to show the HTML representation or trust the notebook. <br />On GitHub, the HTML representation is unable to render, please try loading this page with nbviewer.org.</b></div><div class=\"sk-container\" hidden><div class=\"sk-item\"><div class=\"sk-estimator sk-toggleable\"><input class=\"sk-toggleable__control sk-hidden--visually\" id=\"sk-estimator-id-13\" type=\"checkbox\" checked><label for=\"sk-estimator-id-13\" class=\"sk-toggleable__label sk-toggleable__label-arrow\">AdaBoostClassifier</label><div class=\"sk-toggleable__content\"><pre>AdaBoostClassifier(learning_rate=0.05, n_estimators=100, random_state=42)</pre></div></div></div></div></div>"
      ],
      "text/plain": [
       "AdaBoostClassifier(learning_rate=0.05, n_estimators=100, random_state=42)"
      ]
     },
     "execution_count": 186,
     "metadata": {},
     "output_type": "execute_result"
    }
   ],
   "source": [
    "adaboost.fit(x_sm,y_sm)"
   ]
  },
  {
   "cell_type": "code",
   "execution_count": 187,
   "id": "20d79611",
   "metadata": {},
   "outputs": [],
   "source": [
    "ada_pred = adaboost.predict_proba(x_test)[:,1] "
   ]
  },
  {
   "cell_type": "code",
   "execution_count": null,
   "id": "af1e47d5",
   "metadata": {},
   "outputs": [],
   "source": []
  },
  {
   "cell_type": "markdown",
   "id": "4dbe5dd4",
   "metadata": {},
   "source": [
    "## applying cv to check overfitting"
   ]
  },
  {
   "cell_type": "code",
   "execution_count": 188,
   "id": "0ef294b8",
   "metadata": {},
   "outputs": [],
   "source": [
    "from sklearn.model_selection import cross_val_score"
   ]
  },
  {
   "cell_type": "code",
   "execution_count": 189,
   "id": "48089791",
   "metadata": {},
   "outputs": [],
   "source": [
    "cv_scores = cross_val_score(adaboost, x_sm,y_sm,cv = 5)"
   ]
  },
  {
   "cell_type": "code",
   "execution_count": 190,
   "id": "7bf9d2af",
   "metadata": {},
   "outputs": [
    {
     "data": {
      "text/plain": [
       "0.7346853146853147"
      ]
     },
     "execution_count": 190,
     "metadata": {},
     "output_type": "execute_result"
    }
   ],
   "source": [
    "cv_scores.mean()"
   ]
  },
  {
   "cell_type": "code",
   "execution_count": null,
   "id": "f9bfd156",
   "metadata": {},
   "outputs": [],
   "source": []
  },
  {
   "cell_type": "code",
   "execution_count": null,
   "id": "dde62df4",
   "metadata": {},
   "outputs": [],
   "source": []
  },
  {
   "cell_type": "code",
   "execution_count": 189,
   "id": "e241cd4c",
   "metadata": {},
   "outputs": [],
   "source": [
    "pcos_submission_ada_1102 = pd.DataFrame({'ID': test['ID'], 'PCOS' : ada_pred})"
   ]
  },
  {
   "cell_type": "code",
   "execution_count": 190,
   "id": "950a4bb9",
   "metadata": {},
   "outputs": [],
   "source": [
    "pcos_submission_ada_1102.to_csv('pcos_submission_ada_1102.csv', index = False)"
   ]
  },
  {
   "cell_type": "code",
   "execution_count": null,
   "id": "5ef9b854",
   "metadata": {},
   "outputs": [],
   "source": []
  },
  {
   "cell_type": "markdown",
   "id": "a8296eda",
   "metadata": {},
   "source": [
    "# H20 GB"
   ]
  },
  {
   "cell_type": "code",
   "execution_count": 139,
   "id": "9ae7db90",
   "metadata": {},
   "outputs": [],
   "source": [
    "import h2o\n",
    "from h2o.estimators.gbm import H2OGradientBoostingEstimator"
   ]
  },
  {
   "cell_type": "code",
   "execution_count": 140,
   "id": "ca7b64e8",
   "metadata": {},
   "outputs": [
    {
     "name": "stdout",
     "output_type": "stream",
     "text": [
      "Checking whether there is an H2O instance running at http://localhost:54321..... not found.\n",
      "Attempting to start a local H2O server...\n",
      "; Java HotSpot(TM) 64-Bit Server VM (build 25.441-b07, mixed mode)\n",
      "  Starting server from C:\\Users\\mdsmb\\anaconda3\\Lib\\site-packages\\h2o\\backend\\bin\\h2o.jar\n",
      "  Ice root: C:\\Users\\mdsmb\\AppData\\Local\\Temp\\tmpqrfajvvn\n",
      "  JVM stdout: C:\\Users\\mdsmb\\AppData\\Local\\Temp\\tmpqrfajvvn\\h2o_mdsmb_started_from_python.out\n",
      "  JVM stderr: C:\\Users\\mdsmb\\AppData\\Local\\Temp\\tmpqrfajvvn\\h2o_mdsmb_started_from_python.err\n",
      "  Server is running at http://127.0.0.1:54321\n",
      "Connecting to H2O server at http://127.0.0.1:54321 ... successful.\n",
      "Warning: Your H2O cluster version is (3 months and 10 days) old.  There may be a newer version available.\n",
      "Please download and install the latest version from: https://h2o-release.s3.amazonaws.com/h2o/latest_stable.html\n"
     ]
    },
    {
     "data": {
      "text/html": [
       "\n",
       "<style>\n",
       "\n",
       "#h2o-table-1.h2o-container {\n",
       "  overflow-x: auto;\n",
       "}\n",
       "#h2o-table-1 .h2o-table {\n",
       "  /* width: 100%; */\n",
       "  margin-top: 1em;\n",
       "  margin-bottom: 1em;\n",
       "}\n",
       "#h2o-table-1 .h2o-table caption {\n",
       "  white-space: nowrap;\n",
       "  caption-side: top;\n",
       "  text-align: left;\n",
       "  /* margin-left: 1em; */\n",
       "  margin: 0;\n",
       "  font-size: larger;\n",
       "}\n",
       "#h2o-table-1 .h2o-table thead {\n",
       "  white-space: nowrap; \n",
       "  position: sticky;\n",
       "  top: 0;\n",
       "  box-shadow: 0 -1px inset;\n",
       "}\n",
       "#h2o-table-1 .h2o-table tbody {\n",
       "  overflow: auto;\n",
       "}\n",
       "#h2o-table-1 .h2o-table th,\n",
       "#h2o-table-1 .h2o-table td {\n",
       "  text-align: right;\n",
       "  /* border: 1px solid; */\n",
       "}\n",
       "#h2o-table-1 .h2o-table tr:nth-child(even) {\n",
       "  /* background: #F5F5F5 */\n",
       "}\n",
       "\n",
       "</style>      \n",
       "<div id=\"h2o-table-1\" class=\"h2o-container\">\n",
       "  <table class=\"h2o-table\">\n",
       "    <caption></caption>\n",
       "    <thead></thead>\n",
       "    <tbody><tr><td>H2O_cluster_uptime:</td>\n",
       "<td>05 secs</td></tr>\n",
       "<tr><td>H2O_cluster_timezone:</td>\n",
       "<td>Asia/Kolkata</td></tr>\n",
       "<tr><td>H2O_data_parsing_timezone:</td>\n",
       "<td>UTC</td></tr>\n",
       "<tr><td>H2O_cluster_version:</td>\n",
       "<td>3.46.0.6</td></tr>\n",
       "<tr><td>H2O_cluster_version_age:</td>\n",
       "<td>3 months and 10 days</td></tr>\n",
       "<tr><td>H2O_cluster_name:</td>\n",
       "<td>H2O_from_python_mdsmb_j113gk</td></tr>\n",
       "<tr><td>H2O_cluster_total_nodes:</td>\n",
       "<td>1</td></tr>\n",
       "<tr><td>H2O_cluster_free_memory:</td>\n",
       "<td>3.071 Gb</td></tr>\n",
       "<tr><td>H2O_cluster_total_cores:</td>\n",
       "<td>12</td></tr>\n",
       "<tr><td>H2O_cluster_allowed_cores:</td>\n",
       "<td>12</td></tr>\n",
       "<tr><td>H2O_cluster_status:</td>\n",
       "<td>locked, healthy</td></tr>\n",
       "<tr><td>H2O_connection_url:</td>\n",
       "<td>http://127.0.0.1:54321</td></tr>\n",
       "<tr><td>H2O_connection_proxy:</td>\n",
       "<td>{\"http\": null, \"https\": null}</td></tr>\n",
       "<tr><td>H2O_internal_security:</td>\n",
       "<td>False</td></tr>\n",
       "<tr><td>Python_version:</td>\n",
       "<td>3.11.5 final</td></tr></tbody>\n",
       "  </table>\n",
       "</div>\n"
      ],
      "text/plain": [
       "--------------------------  -----------------------------\n",
       "H2O_cluster_uptime:         05 secs\n",
       "H2O_cluster_timezone:       Asia/Kolkata\n",
       "H2O_data_parsing_timezone:  UTC\n",
       "H2O_cluster_version:        3.46.0.6\n",
       "H2O_cluster_version_age:    3 months and 10 days\n",
       "H2O_cluster_name:           H2O_from_python_mdsmb_j113gk\n",
       "H2O_cluster_total_nodes:    1\n",
       "H2O_cluster_free_memory:    3.071 Gb\n",
       "H2O_cluster_total_cores:    12\n",
       "H2O_cluster_allowed_cores:  12\n",
       "H2O_cluster_status:         locked, healthy\n",
       "H2O_connection_url:         http://127.0.0.1:54321\n",
       "H2O_connection_proxy:       {\"http\": null, \"https\": null}\n",
       "H2O_internal_security:      False\n",
       "Python_version:             3.11.5 final\n",
       "--------------------------  -----------------------------"
      ]
     },
     "metadata": {},
     "output_type": "display_data"
    }
   ],
   "source": [
    "h2o.init()"
   ]
  },
  {
   "cell_type": "code",
   "execution_count": 141,
   "id": "14c5583f",
   "metadata": {},
   "outputs": [
    {
     "name": "stdout",
     "output_type": "stream",
     "text": [
      "Parse progress: |████████████████████████████████████████████████████████████████| (done) 100%\n"
     ]
    }
   ],
   "source": [
    "df_train = h2o.H2OFrame(pd.concat([x_sm,y_sm],axis =1))"
   ]
  },
  {
   "cell_type": "code",
   "execution_count": 142,
   "id": "322810c1",
   "metadata": {},
   "outputs": [
    {
     "name": "stdout",
     "output_type": "stream",
     "text": [
      "Parse progress: |████████████████████████████████████████████████████████████████| (done) 100%\n"
     ]
    }
   ],
   "source": [
    "df_test = h2o.H2OFrame(x_test)"
   ]
  },
  {
   "cell_type": "code",
   "execution_count": 143,
   "id": "79b020e8",
   "metadata": {},
   "outputs": [],
   "source": [
    "features = x_sm.columns.tolist()"
   ]
  },
  {
   "cell_type": "code",
   "execution_count": 144,
   "id": "06c362f8",
   "metadata": {},
   "outputs": [],
   "source": [
    "target = y_sm.name"
   ]
  },
  {
   "cell_type": "code",
   "execution_count": 145,
   "id": "cd4e417d",
   "metadata": {},
   "outputs": [],
   "source": [
    "gbm_model = H2OGradientBoostingEstimator(ntrees = 500,max_depth = 10,learn_rate=0.05,balance_classes=True, seed = 42)"
   ]
  },
  {
   "cell_type": "code",
   "execution_count": 147,
   "id": "07e46288",
   "metadata": {},
   "outputs": [
    {
     "name": "stdout",
     "output_type": "stream",
     "text": [
      "gbm Model Build progress: |"
     ]
    },
    {
     "name": "stderr",
     "output_type": "stream",
     "text": [
      "C:\\Users\\mdsmb\\anaconda3\\Lib\\site-packages\\h2o\\estimators\\estimator_base.py:192: RuntimeWarning: We have detected that your response column has only 2 unique values (0/1). If you wish to train a binary model instead of a regression model, convert your target column to categorical before training.\n",
      "  warnings.warn(mesg[\"message\"], RuntimeWarning)\n"
     ]
    },
    {
     "name": "stdout",
     "output_type": "stream",
     "text": [
      "██████████████████████████████████████████████████████| (done) 100%\n"
     ]
    },
    {
     "data": {
      "text/html": [
       "<pre style='margin: 1em 0 1em 0;'>Model Details\n",
       "=============\n",
       "H2OGradientBoostingEstimator : Gradient Boosting Machine\n",
       "Model Key: GBM_model_python_1739321931240_1\n",
       "</pre>\n",
       "<div style='margin: 1em 0 1em 0;'>\n",
       "<style>\n",
       "\n",
       "#h2o-table-2.h2o-container {\n",
       "  overflow-x: auto;\n",
       "}\n",
       "#h2o-table-2 .h2o-table {\n",
       "  /* width: 100%; */\n",
       "  margin-top: 1em;\n",
       "  margin-bottom: 1em;\n",
       "}\n",
       "#h2o-table-2 .h2o-table caption {\n",
       "  white-space: nowrap;\n",
       "  caption-side: top;\n",
       "  text-align: left;\n",
       "  /* margin-left: 1em; */\n",
       "  margin: 0;\n",
       "  font-size: larger;\n",
       "}\n",
       "#h2o-table-2 .h2o-table thead {\n",
       "  white-space: nowrap; \n",
       "  position: sticky;\n",
       "  top: 0;\n",
       "  box-shadow: 0 -1px inset;\n",
       "}\n",
       "#h2o-table-2 .h2o-table tbody {\n",
       "  overflow: auto;\n",
       "}\n",
       "#h2o-table-2 .h2o-table th,\n",
       "#h2o-table-2 .h2o-table td {\n",
       "  text-align: right;\n",
       "  /* border: 1px solid; */\n",
       "}\n",
       "#h2o-table-2 .h2o-table tr:nth-child(even) {\n",
       "  /* background: #F5F5F5 */\n",
       "}\n",
       "\n",
       "</style>      \n",
       "<div id=\"h2o-table-2\" class=\"h2o-container\">\n",
       "  <table class=\"h2o-table\">\n",
       "    <caption>Model Summary: </caption>\n",
       "    <thead><tr><th></th>\n",
       "<th>number_of_trees</th>\n",
       "<th>number_of_internal_trees</th>\n",
       "<th>model_size_in_bytes</th>\n",
       "<th>min_depth</th>\n",
       "<th>max_depth</th>\n",
       "<th>mean_depth</th>\n",
       "<th>min_leaves</th>\n",
       "<th>max_leaves</th>\n",
       "<th>mean_leaves</th></tr></thead>\n",
       "    <tbody><tr><td></td>\n",
       "<td>500.0</td>\n",
       "<td>500.0</td>\n",
       "<td>171838.0</td>\n",
       "<td>7.0</td>\n",
       "<td>10.0</td>\n",
       "<td>9.68</td>\n",
       "<td>15.0</td>\n",
       "<td>28.0</td>\n",
       "<td>22.482</td></tr></tbody>\n",
       "  </table>\n",
       "</div>\n",
       "</div>\n",
       "<div style='margin: 1em 0 1em 0;'><pre style='margin: 1em 0 1em 0;'>ModelMetricsRegression: gbm\n",
       "** Reported on train data. **\n",
       "\n",
       "MSE: 0.0030508581013176284\n",
       "RMSE: 0.05523457342387672\n",
       "MAE: 0.039071582258102575\n",
       "RMSLE: 0.04164025044115799\n",
       "Mean Residual Deviance: 0.0030508581013176284</pre></div>\n",
       "<div style='margin: 1em 0 1em 0;'>\n",
       "<style>\n",
       "\n",
       "#h2o-table-3.h2o-container {\n",
       "  overflow-x: auto;\n",
       "}\n",
       "#h2o-table-3 .h2o-table {\n",
       "  /* width: 100%; */\n",
       "  margin-top: 1em;\n",
       "  margin-bottom: 1em;\n",
       "}\n",
       "#h2o-table-3 .h2o-table caption {\n",
       "  white-space: nowrap;\n",
       "  caption-side: top;\n",
       "  text-align: left;\n",
       "  /* margin-left: 1em; */\n",
       "  margin: 0;\n",
       "  font-size: larger;\n",
       "}\n",
       "#h2o-table-3 .h2o-table thead {\n",
       "  white-space: nowrap; \n",
       "  position: sticky;\n",
       "  top: 0;\n",
       "  box-shadow: 0 -1px inset;\n",
       "}\n",
       "#h2o-table-3 .h2o-table tbody {\n",
       "  overflow: auto;\n",
       "}\n",
       "#h2o-table-3 .h2o-table th,\n",
       "#h2o-table-3 .h2o-table td {\n",
       "  text-align: right;\n",
       "  /* border: 1px solid; */\n",
       "}\n",
       "#h2o-table-3 .h2o-table tr:nth-child(even) {\n",
       "  /* background: #F5F5F5 */\n",
       "}\n",
       "\n",
       "</style>      \n",
       "<div id=\"h2o-table-3\" class=\"h2o-container\">\n",
       "  <table class=\"h2o-table\">\n",
       "    <caption>Scoring History: </caption>\n",
       "    <thead><tr><th></th>\n",
       "<th>timestamp</th>\n",
       "<th>duration</th>\n",
       "<th>number_of_trees</th>\n",
       "<th>training_rmse</th>\n",
       "<th>training_mae</th>\n",
       "<th>training_deviance</th></tr></thead>\n",
       "    <tbody><tr><td></td>\n",
       "<td>2025-02-12 06:31:17</td>\n",
       "<td> 0.076 sec</td>\n",
       "<td>0.0</td>\n",
       "<td>0.5</td>\n",
       "<td>0.5</td>\n",
       "<td>0.25</td></tr>\n",
       "<tr><td></td>\n",
       "<td>2025-02-12 06:31:17</td>\n",
       "<td> 0.336 sec</td>\n",
       "<td>1.0</td>\n",
       "<td>0.4855035</td>\n",
       "<td>0.4853474</td>\n",
       "<td>0.2357137</td></tr>\n",
       "<tr><td></td>\n",
       "<td>2025-02-12 06:31:17</td>\n",
       "<td> 0.378 sec</td>\n",
       "<td>2.0</td>\n",
       "<td>0.4720318</td>\n",
       "<td>0.4714240</td>\n",
       "<td>0.2228140</td></tr>\n",
       "<tr><td></td>\n",
       "<td>2025-02-12 06:31:17</td>\n",
       "<td> 0.408 sec</td>\n",
       "<td>3.0</td>\n",
       "<td>0.4595320</td>\n",
       "<td>0.4581969</td>\n",
       "<td>0.2111697</td></tr>\n",
       "<tr><td></td>\n",
       "<td>2025-02-12 06:31:17</td>\n",
       "<td> 0.438 sec</td>\n",
       "<td>4.0</td>\n",
       "<td>0.4486707</td>\n",
       "<td>0.4465172</td>\n",
       "<td>0.2013054</td></tr>\n",
       "<tr><td></td>\n",
       "<td>2025-02-12 06:31:17</td>\n",
       "<td> 0.460 sec</td>\n",
       "<td>5.0</td>\n",
       "<td>0.4378199</td>\n",
       "<td>0.4344968</td>\n",
       "<td>0.1916863</td></tr>\n",
       "<tr><td></td>\n",
       "<td>2025-02-12 06:31:17</td>\n",
       "<td> 0.484 sec</td>\n",
       "<td>6.0</td>\n",
       "<td>0.4284662</td>\n",
       "<td>0.4239176</td>\n",
       "<td>0.1835833</td></tr>\n",
       "<tr><td></td>\n",
       "<td>2025-02-12 06:31:17</td>\n",
       "<td> 0.502 sec</td>\n",
       "<td>7.0</td>\n",
       "<td>0.4190812</td>\n",
       "<td>0.4129909</td>\n",
       "<td>0.1756291</td></tr>\n",
       "<tr><td></td>\n",
       "<td>2025-02-12 06:31:17</td>\n",
       "<td> 0.520 sec</td>\n",
       "<td>8.0</td>\n",
       "<td>0.4105583</td>\n",
       "<td>0.4030605</td>\n",
       "<td>0.1685581</td></tr>\n",
       "<tr><td></td>\n",
       "<td>2025-02-12 06:31:17</td>\n",
       "<td> 0.539 sec</td>\n",
       "<td>9.0</td>\n",
       "<td>0.4027044</td>\n",
       "<td>0.3938692</td>\n",
       "<td>0.1621708</td></tr>\n",
       "<tr><td>---</td>\n",
       "<td>---</td>\n",
       "<td>---</td>\n",
       "<td>---</td>\n",
       "<td>---</td>\n",
       "<td>---</td>\n",
       "<td>---</td></tr>\n",
       "<tr><td></td>\n",
       "<td>2025-02-12 06:31:21</td>\n",
       "<td> 4.095 sec</td>\n",
       "<td>406.0</td>\n",
       "<td>0.0658100</td>\n",
       "<td>0.0469464</td>\n",
       "<td>0.0043310</td></tr>\n",
       "<tr><td></td>\n",
       "<td>2025-02-12 06:31:21</td>\n",
       "<td> 4.104 sec</td>\n",
       "<td>407.0</td>\n",
       "<td>0.0656231</td>\n",
       "<td>0.0468235</td>\n",
       "<td>0.0043064</td></tr>\n",
       "<tr><td></td>\n",
       "<td>2025-02-12 06:31:21</td>\n",
       "<td> 4.112 sec</td>\n",
       "<td>408.0</td>\n",
       "<td>0.0654373</td>\n",
       "<td>0.0467167</td>\n",
       "<td>0.0042820</td></tr>\n",
       "<tr><td></td>\n",
       "<td>2025-02-12 06:31:21</td>\n",
       "<td> 4.120 sec</td>\n",
       "<td>409.0</td>\n",
       "<td>0.0653413</td>\n",
       "<td>0.0466442</td>\n",
       "<td>0.0042695</td></tr>\n",
       "<tr><td></td>\n",
       "<td>2025-02-12 06:31:21</td>\n",
       "<td> 4.130 sec</td>\n",
       "<td>410.0</td>\n",
       "<td>0.0652021</td>\n",
       "<td>0.0465492</td>\n",
       "<td>0.0042513</td></tr>\n",
       "<tr><td></td>\n",
       "<td>2025-02-12 06:31:21</td>\n",
       "<td> 4.139 sec</td>\n",
       "<td>411.0</td>\n",
       "<td>0.0651146</td>\n",
       "<td>0.0464673</td>\n",
       "<td>0.0042399</td></tr>\n",
       "<tr><td></td>\n",
       "<td>2025-02-12 06:31:21</td>\n",
       "<td> 4.147 sec</td>\n",
       "<td>412.0</td>\n",
       "<td>0.0650169</td>\n",
       "<td>0.0463530</td>\n",
       "<td>0.0042272</td></tr>\n",
       "<tr><td></td>\n",
       "<td>2025-02-12 06:31:21</td>\n",
       "<td> 4.156 sec</td>\n",
       "<td>413.0</td>\n",
       "<td>0.0648674</td>\n",
       "<td>0.0462422</td>\n",
       "<td>0.0042078</td></tr>\n",
       "<tr><td></td>\n",
       "<td>2025-02-12 06:31:21</td>\n",
       "<td> 4.164 sec</td>\n",
       "<td>414.0</td>\n",
       "<td>0.0647130</td>\n",
       "<td>0.0461057</td>\n",
       "<td>0.0041878</td></tr>\n",
       "<tr><td></td>\n",
       "<td>2025-02-12 06:31:21</td>\n",
       "<td> 4.400 sec</td>\n",
       "<td>500.0</td>\n",
       "<td>0.0552346</td>\n",
       "<td>0.0390716</td>\n",
       "<td>0.0030509</td></tr></tbody>\n",
       "  </table>\n",
       "</div>\n",
       "<pre style='font-size: smaller; margin-bottom: 1em;'>[416 rows x 7 columns]</pre></div>\n",
       "<div style='margin: 1em 0 1em 0;'>\n",
       "<style>\n",
       "\n",
       "#h2o-table-4.h2o-container {\n",
       "  overflow-x: auto;\n",
       "}\n",
       "#h2o-table-4 .h2o-table {\n",
       "  /* width: 100%; */\n",
       "  margin-top: 1em;\n",
       "  margin-bottom: 1em;\n",
       "}\n",
       "#h2o-table-4 .h2o-table caption {\n",
       "  white-space: nowrap;\n",
       "  caption-side: top;\n",
       "  text-align: left;\n",
       "  /* margin-left: 1em; */\n",
       "  margin: 0;\n",
       "  font-size: larger;\n",
       "}\n",
       "#h2o-table-4 .h2o-table thead {\n",
       "  white-space: nowrap; \n",
       "  position: sticky;\n",
       "  top: 0;\n",
       "  box-shadow: 0 -1px inset;\n",
       "}\n",
       "#h2o-table-4 .h2o-table tbody {\n",
       "  overflow: auto;\n",
       "}\n",
       "#h2o-table-4 .h2o-table th,\n",
       "#h2o-table-4 .h2o-table td {\n",
       "  text-align: right;\n",
       "  /* border: 1px solid; */\n",
       "}\n",
       "#h2o-table-4 .h2o-table tr:nth-child(even) {\n",
       "  /* background: #F5F5F5 */\n",
       "}\n",
       "\n",
       "</style>      \n",
       "<div id=\"h2o-table-4\" class=\"h2o-container\">\n",
       "  <table class=\"h2o-table\">\n",
       "    <caption>Variable Importances: </caption>\n",
       "    <thead><tr><th>variable</th>\n",
       "<th>relative_importance</th>\n",
       "<th>scaled_importance</th>\n",
       "<th>percentage</th></tr></thead>\n",
       "    <tbody><tr><td>pcos_severity</td>\n",
       "<td>300.4179688</td>\n",
       "<td>1.0</td>\n",
       "<td>0.3616173</td></tr>\n",
       "<tr><td>Weight_kg</td>\n",
       "<td>187.3761597</td>\n",
       "<td>0.6237182</td>\n",
       "<td>0.2255473</td></tr>\n",
       "<tr><td>lifestyle_score</td>\n",
       "<td>65.5707245</td>\n",
       "<td>0.2182650</td>\n",
       "<td>0.0789284</td></tr>\n",
       "<tr><td>Exercise_Type</td>\n",
       "<td>51.2709732</td>\n",
       "<td>0.1706655</td>\n",
       "<td>0.0617156</td></tr>\n",
       "<tr><td>Exercise_Duration</td>\n",
       "<td>43.9815025</td>\n",
       "<td>0.1464010</td>\n",
       "<td>0.0529411</td></tr>\n",
       "<tr><td>Exercise_Frequency</td>\n",
       "<td>42.5853043</td>\n",
       "<td>0.1417535</td>\n",
       "<td>0.0512605</td></tr>\n",
       "<tr><td>Sleep_Hours</td>\n",
       "<td>30.7805462</td>\n",
       "<td>0.1024591</td>\n",
       "<td>0.0370510</td></tr>\n",
       "<tr><td>Hyperandrogenism</td>\n",
       "<td>27.4012222</td>\n",
       "<td>0.0912103</td>\n",
       "<td>0.0329832</td></tr>\n",
       "<tr><td>Hirsutism</td>\n",
       "<td>22.9259186</td>\n",
       "<td>0.0763134</td>\n",
       "<td>0.0275962</td></tr>\n",
       "<tr><td>Age</td>\n",
       "<td>19.5298576</td>\n",
       "<td>0.0650090</td>\n",
       "<td>0.0235084</td></tr>\n",
       "<tr><td>Exercise_Benefit</td>\n",
       "<td>18.1292229</td>\n",
       "<td>0.0603467</td>\n",
       "<td>0.0218224</td></tr>\n",
       "<tr><td>Hormonal_Imbalance</td>\n",
       "<td>9.1069136</td>\n",
       "<td>0.0303141</td>\n",
       "<td>0.0109621</td></tr>\n",
       "<tr><td>reproductive_risk_score</td>\n",
       "<td>8.5645761</td>\n",
       "<td>0.0285089</td>\n",
       "<td>0.0103093</td></tr>\n",
       "<tr><td>Sleep_Deficiency</td>\n",
       "<td>2.5724044</td>\n",
       "<td>0.0085628</td>\n",
       "<td>0.0030964</td></tr>\n",
       "<tr><td>Insulin_Resistance</td>\n",
       "<td>0.5488716</td>\n",
       "<td>0.0018270</td>\n",
       "<td>0.0006607</td></tr>\n",
       "<tr><td>Conception_Difficulty</td>\n",
       "<td>0.0</td>\n",
       "<td>0.0</td>\n",
       "<td>0.0</td></tr></tbody>\n",
       "  </table>\n",
       "</div>\n",
       "</div><pre style=\"font-size: smaller; margin: 1em 0 0 0;\">\n",
       "\n",
       "[tips]\n",
       "Use `model.explain()` to inspect the model.\n",
       "--\n",
       "Use `h2o.display.toggle_user_tips()` to switch on/off this section.</pre>"
      ],
      "text/plain": [
       "Model Details\n",
       "=============\n",
       "H2OGradientBoostingEstimator : Gradient Boosting Machine\n",
       "Model Key: GBM_model_python_1739321931240_1\n",
       "\n",
       "\n",
       "Model Summary: \n",
       "    number_of_trees    number_of_internal_trees    model_size_in_bytes    min_depth    max_depth    mean_depth    min_leaves    max_leaves    mean_leaves\n",
       "--  -----------------  --------------------------  ---------------------  -----------  -----------  ------------  ------------  ------------  -------------\n",
       "    500                500                         171838                 7            10           9.68          15            28            22.482\n",
       "\n",
       "ModelMetricsRegression: gbm\n",
       "** Reported on train data. **\n",
       "\n",
       "MSE: 0.0030508581013176284\n",
       "RMSE: 0.05523457342387672\n",
       "MAE: 0.039071582258102575\n",
       "RMSLE: 0.04164025044115799\n",
       "Mean Residual Deviance: 0.0030508581013176284\n",
       "\n",
       "Scoring History: \n",
       "     timestamp            duration    number_of_trees    training_rmse        training_mae          training_deviance\n",
       "---  -------------------  ----------  -----------------  -------------------  --------------------  ---------------------\n",
       "     2025-02-12 06:31:17  0.076 sec   0.0                0.5                  0.5                   0.25\n",
       "     2025-02-12 06:31:17  0.336 sec   1.0                0.48550352848995765  0.48534736028168257   0.23571367617619912\n",
       "     2025-02-12 06:31:17  0.378 sec   2.0                0.47203177753972897  0.4714239934777341    0.2228139990073162\n",
       "     2025-02-12 06:31:17  0.408 sec   3.0                0.4595320014400462   0.4581968641680915    0.2111696603474946\n",
       "     2025-02-12 06:31:17  0.438 sec   4.0                0.44867070604006043  0.44651718428585585   0.20130540245848633\n",
       "     2025-02-12 06:31:17  0.460 sec   5.0                0.4378198858815272   0.43449676472966264   0.1916862524733135\n",
       "     2025-02-12 06:31:17  0.484 sec   6.0                0.4284661774720529   0.4239176095622342    0.18358326523751275\n",
       "     2025-02-12 06:31:17  0.502 sec   7.0                0.41908121681875943  0.4129909332387331    0.17562906629029207\n",
       "     2025-02-12 06:31:17  0.520 sec   8.0                0.41055828454165194  0.40306052302078504   0.16855810500578405\n",
       "     2025-02-12 06:31:17  0.539 sec   9.0                0.402704406266761    0.3938692352938943    0.1621708388266645\n",
       "---  ---                  ---         ---                ---                  ---                   ---\n",
       "     2025-02-12 06:31:21  4.095 sec   406.0              0.06580998649188925  0.0469464356316255    0.004330954322062645\n",
       "     2025-02-12 06:31:21  4.104 sec   407.0              0.06562312333780108  0.04682348367075575   0.0043063943166082525\n",
       "     2025-02-12 06:31:21  4.112 sec   408.0              0.06543731847929186  0.04671668327216871   0.004282042649760273\n",
       "     2025-02-12 06:31:21  4.120 sec   409.0              0.06534129262512099  0.04664416546970975   0.004269484521921691\n",
       "     2025-02-12 06:31:21  4.130 sec   410.0              0.0652020613164874   0.04654915487552033   0.004251308799918981\n",
       "     2025-02-12 06:31:21  4.139 sec   411.0              0.06511456777495507  0.04646733004297059   0.004239906936519218\n",
       "     2025-02-12 06:31:21  4.147 sec   412.0              0.06501687417861896  0.04635303343528038   0.004227193927958369\n",
       "     2025-02-12 06:31:21  4.156 sec   413.0              0.06486737479081568  0.04624218473868606   0.004207776312252149\n",
       "     2025-02-12 06:31:21  4.164 sec   414.0              0.06471300765027817  0.04610572363597429   0.00418777335914496\n",
       "     2025-02-12 06:31:21  4.400 sec   500.0              0.05523457342387672  0.039071582258102575  0.0030508581013176284\n",
       "[416 rows x 7 columns]\n",
       "\n",
       "\n",
       "Variable Importances: \n",
       "variable                 relative_importance    scaled_importance    percentage\n",
       "-----------------------  ---------------------  -------------------  ------------\n",
       "pcos_severity            300.418                1                    0.361617\n",
       "Weight_kg                187.376                0.623718             0.225547\n",
       "lifestyle_score          65.5707                0.218265             0.0789284\n",
       "Exercise_Type            51.271                 0.170665             0.0617156\n",
       "Exercise_Duration        43.9815                0.146401             0.0529411\n",
       "Exercise_Frequency       42.5853                0.141754             0.0512605\n",
       "Sleep_Hours              30.7805                0.102459             0.037051\n",
       "Hyperandrogenism         27.4012                0.0912103            0.0329832\n",
       "Hirsutism                22.9259                0.0763134            0.0275962\n",
       "Age                      19.5299                0.065009             0.0235084\n",
       "Exercise_Benefit         18.1292                0.0603467            0.0218224\n",
       "Hormonal_Imbalance       9.10691                0.0303141            0.0109621\n",
       "reproductive_risk_score  8.56458                0.0285089            0.0103093\n",
       "Sleep_Deficiency         2.5724                 0.00856275           0.00309644\n",
       "Insulin_Resistance       0.548872               0.00182703           0.000660684\n",
       "Conception_Difficulty    0                      0                    0\n",
       "\n",
       "[tips]\n",
       "Use `model.explain()` to inspect the model.\n",
       "--\n",
       "Use `h2o.display.toggle_user_tips()` to switch on/off this section."
      ]
     },
     "execution_count": 147,
     "metadata": {},
     "output_type": "execute_result"
    }
   ],
   "source": [
    "gbm_model.train(x = features,y = target, training_frame=df_train)"
   ]
  },
  {
   "cell_type": "code",
   "execution_count": 148,
   "id": "813a6ca8",
   "metadata": {},
   "outputs": [
    {
     "name": "stdout",
     "output_type": "stream",
     "text": [
      "gbm prediction progress: |███████████████████████████████████████████████████████| (done) 100%\n"
     ]
    },
    {
     "name": "stderr",
     "output_type": "stream",
     "text": [
      "C:\\Users\\mdsmb\\anaconda3\\Lib\\site-packages\\h2o\\frame.py:1983: H2ODependencyWarning: Converting H2O frame to pandas dataframe using single-thread.  For faster conversion using multi-thread, install polars and pyarrow and use it as pandas_df = h2o_df.as_data_frame(use_multi_thread=True)\n",
      "\n",
      "  warnings.warn(\"Converting H2O frame to pandas dataframe using single-thread.  For faster conversion using\"\n"
     ]
    }
   ],
   "source": [
    "preds = gbm_model.predict(df_test).as_data_frame()['predict']"
   ]
  },
  {
   "cell_type": "code",
   "execution_count": 149,
   "id": "58bad185",
   "metadata": {},
   "outputs": [],
   "source": [
    "h20gbm_submission_1202 = pd.DataFrame({'ID' : x_test.index, 'PCOS' : preds})"
   ]
  },
  {
   "cell_type": "code",
   "execution_count": 151,
   "id": "53ee7617",
   "metadata": {},
   "outputs": [],
   "source": [
    "h20gbm_submission_1202.to_csv('h20gbm_submission_1202.csv', index = False)"
   ]
  },
  {
   "cell_type": "code",
   "execution_count": null,
   "id": "43c06ef2",
   "metadata": {},
   "outputs": [],
   "source": []
  },
  {
   "cell_type": "markdown",
   "id": "4c2ecc09",
   "metadata": {},
   "source": [
    "# Extra Trees Classifier"
   ]
  },
  {
   "cell_type": "code",
   "execution_count": 230,
   "id": "71efc6e2",
   "metadata": {},
   "outputs": [],
   "source": [
    "from sklearn.ensemble import ExtraTreesClassifier"
   ]
  },
  {
   "cell_type": "code",
   "execution_count": 231,
   "id": "21f8a844",
   "metadata": {},
   "outputs": [],
   "source": [
    "extra_trees = ExtraTreesClassifier(n_estimators=200,random_state=42)"
   ]
  },
  {
   "cell_type": "code",
   "execution_count": 232,
   "id": "483d3794",
   "metadata": {},
   "outputs": [
    {
     "data": {
      "text/html": [
       "<style>#sk-container-id-12 {color: black;background-color: white;}#sk-container-id-12 pre{padding: 0;}#sk-container-id-12 div.sk-toggleable {background-color: white;}#sk-container-id-12 label.sk-toggleable__label {cursor: pointer;display: block;width: 100%;margin-bottom: 0;padding: 0.3em;box-sizing: border-box;text-align: center;}#sk-container-id-12 label.sk-toggleable__label-arrow:before {content: \"▸\";float: left;margin-right: 0.25em;color: #696969;}#sk-container-id-12 label.sk-toggleable__label-arrow:hover:before {color: black;}#sk-container-id-12 div.sk-estimator:hover label.sk-toggleable__label-arrow:before {color: black;}#sk-container-id-12 div.sk-toggleable__content {max-height: 0;max-width: 0;overflow: hidden;text-align: left;background-color: #f0f8ff;}#sk-container-id-12 div.sk-toggleable__content pre {margin: 0.2em;color: black;border-radius: 0.25em;background-color: #f0f8ff;}#sk-container-id-12 input.sk-toggleable__control:checked~div.sk-toggleable__content {max-height: 200px;max-width: 100%;overflow: auto;}#sk-container-id-12 input.sk-toggleable__control:checked~label.sk-toggleable__label-arrow:before {content: \"▾\";}#sk-container-id-12 div.sk-estimator input.sk-toggleable__control:checked~label.sk-toggleable__label {background-color: #d4ebff;}#sk-container-id-12 div.sk-label input.sk-toggleable__control:checked~label.sk-toggleable__label {background-color: #d4ebff;}#sk-container-id-12 input.sk-hidden--visually {border: 0;clip: rect(1px 1px 1px 1px);clip: rect(1px, 1px, 1px, 1px);height: 1px;margin: -1px;overflow: hidden;padding: 0;position: absolute;width: 1px;}#sk-container-id-12 div.sk-estimator {font-family: monospace;background-color: #f0f8ff;border: 1px dotted black;border-radius: 0.25em;box-sizing: border-box;margin-bottom: 0.5em;}#sk-container-id-12 div.sk-estimator:hover {background-color: #d4ebff;}#sk-container-id-12 div.sk-parallel-item::after {content: \"\";width: 100%;border-bottom: 1px solid gray;flex-grow: 1;}#sk-container-id-12 div.sk-label:hover label.sk-toggleable__label {background-color: #d4ebff;}#sk-container-id-12 div.sk-serial::before {content: \"\";position: absolute;border-left: 1px solid gray;box-sizing: border-box;top: 0;bottom: 0;left: 50%;z-index: 0;}#sk-container-id-12 div.sk-serial {display: flex;flex-direction: column;align-items: center;background-color: white;padding-right: 0.2em;padding-left: 0.2em;position: relative;}#sk-container-id-12 div.sk-item {position: relative;z-index: 1;}#sk-container-id-12 div.sk-parallel {display: flex;align-items: stretch;justify-content: center;background-color: white;position: relative;}#sk-container-id-12 div.sk-item::before, #sk-container-id-12 div.sk-parallel-item::before {content: \"\";position: absolute;border-left: 1px solid gray;box-sizing: border-box;top: 0;bottom: 0;left: 50%;z-index: -1;}#sk-container-id-12 div.sk-parallel-item {display: flex;flex-direction: column;z-index: 1;position: relative;background-color: white;}#sk-container-id-12 div.sk-parallel-item:first-child::after {align-self: flex-end;width: 50%;}#sk-container-id-12 div.sk-parallel-item:last-child::after {align-self: flex-start;width: 50%;}#sk-container-id-12 div.sk-parallel-item:only-child::after {width: 0;}#sk-container-id-12 div.sk-dashed-wrapped {border: 1px dashed gray;margin: 0 0.4em 0.5em 0.4em;box-sizing: border-box;padding-bottom: 0.4em;background-color: white;}#sk-container-id-12 div.sk-label label {font-family: monospace;font-weight: bold;display: inline-block;line-height: 1.2em;}#sk-container-id-12 div.sk-label-container {text-align: center;}#sk-container-id-12 div.sk-container {/* jupyter's `normalize.less` sets `[hidden] { display: none; }` but bootstrap.min.css set `[hidden] { display: none !important; }` so we also need the `!important` here to be able to override the default hidden behavior on the sphinx rendered scikit-learn.org. See: https://github.com/scikit-learn/scikit-learn/issues/21755 */display: inline-block !important;position: relative;}#sk-container-id-12 div.sk-text-repr-fallback {display: none;}</style><div id=\"sk-container-id-12\" class=\"sk-top-container\"><div class=\"sk-text-repr-fallback\"><pre>ExtraTreesClassifier(n_estimators=200, random_state=42)</pre><b>In a Jupyter environment, please rerun this cell to show the HTML representation or trust the notebook. <br />On GitHub, the HTML representation is unable to render, please try loading this page with nbviewer.org.</b></div><div class=\"sk-container\" hidden><div class=\"sk-item\"><div class=\"sk-estimator sk-toggleable\"><input class=\"sk-toggleable__control sk-hidden--visually\" id=\"sk-estimator-id-20\" type=\"checkbox\" checked><label for=\"sk-estimator-id-20\" class=\"sk-toggleable__label sk-toggleable__label-arrow\">ExtraTreesClassifier</label><div class=\"sk-toggleable__content\"><pre>ExtraTreesClassifier(n_estimators=200, random_state=42)</pre></div></div></div></div></div>"
      ],
      "text/plain": [
       "ExtraTreesClassifier(n_estimators=200, random_state=42)"
      ]
     },
     "execution_count": 232,
     "metadata": {},
     "output_type": "execute_result"
    }
   ],
   "source": [
    "extra_trees.fit(x_sm,y_sm)"
   ]
  },
  {
   "cell_type": "code",
   "execution_count": 233,
   "id": "58e35f4e",
   "metadata": {},
   "outputs": [],
   "source": [
    "cv_scores = cross_val_score(extra_trees, x_sm,y_sm,cv = 5)"
   ]
  },
  {
   "cell_type": "code",
   "execution_count": 234,
   "id": "cf837a78",
   "metadata": {},
   "outputs": [
    {
     "data": {
      "text/plain": [
       "0.8625641025641027"
      ]
     },
     "execution_count": 234,
     "metadata": {},
     "output_type": "execute_result"
    }
   ],
   "source": [
    "cv_scores.mean()"
   ]
  },
  {
   "cell_type": "code",
   "execution_count": 135,
   "id": "7df20a87",
   "metadata": {},
   "outputs": [],
   "source": [
    "extra_trees_pred = extra_trees.predict_proba(x_test)[:,1] "
   ]
  },
  {
   "cell_type": "code",
   "execution_count": 137,
   "id": "fba1334e",
   "metadata": {},
   "outputs": [],
   "source": [
    "pcos_submission_extratrees_1202 = pd.DataFrame({'ID': test['ID'], 'PCOS' : extra_trees_pred})"
   ]
  },
  {
   "cell_type": "code",
   "execution_count": 138,
   "id": "a0b1b787",
   "metadata": {},
   "outputs": [],
   "source": [
    "pcos_submission_extratrees_1202.to_csv('pcos_submission_extratrees_1202.csv', index = False)"
   ]
  },
  {
   "cell_type": "code",
   "execution_count": null,
   "id": "f74802f8",
   "metadata": {},
   "outputs": [],
   "source": []
  },
  {
   "cell_type": "markdown",
   "id": "a1beb35c",
   "metadata": {},
   "source": [
    "# optimized adaboost"
   ]
  },
  {
   "cell_type": "code",
   "execution_count": 160,
   "id": "0302016e",
   "metadata": {},
   "outputs": [],
   "source": [
    "from sklearn.ensemble import AdaBoostClassifier\n",
    "from sklearn.tree import DecisionTreeClassifier\n",
    "from sklearn.model_selection import GridSearchCV"
   ]
  },
  {
   "cell_type": "code",
   "execution_count": 161,
   "id": "41ba0b96",
   "metadata": {},
   "outputs": [],
   "source": [
    "base_estimator = DecisionTreeClassifier()\n",
    "\n",
    "adaboost = AdaBoostClassifier(base_estimator=base_estimator)"
   ]
  },
  {
   "cell_type": "code",
   "execution_count": 162,
   "id": "cc3658bd",
   "metadata": {},
   "outputs": [],
   "source": [
    "# Hyperparameter Grid\n",
    "param_grid = {\n",
    "    'n_estimators': [50, 100, 200, 500],\n",
    "    'learning_rate': [0.01, 0.05, 0.1, 0.5, 1],\n",
    "    'base_estimator__max_depth': [1, 3, 5, 7]\n",
    "}"
   ]
  },
  {
   "cell_type": "code",
   "execution_count": 163,
   "id": "ef522206",
   "metadata": {},
   "outputs": [
    {
     "name": "stdout",
     "output_type": "stream",
     "text": [
      "Fitting 5 folds for each of 80 candidates, totalling 400 fits\n"
     ]
    },
    {
     "name": "stderr",
     "output_type": "stream",
     "text": [
      "C:\\Users\\mdsmb\\anaconda3\\Lib\\site-packages\\sklearn\\ensemble\\_base.py:166: FutureWarning: `base_estimator` was renamed to `estimator` in version 1.2 and will be removed in 1.4.\n",
      "  warnings.warn(\n"
     ]
    },
    {
     "data": {
      "text/html": [
       "<style>#sk-container-id-3 {color: black;background-color: white;}#sk-container-id-3 pre{padding: 0;}#sk-container-id-3 div.sk-toggleable {background-color: white;}#sk-container-id-3 label.sk-toggleable__label {cursor: pointer;display: block;width: 100%;margin-bottom: 0;padding: 0.3em;box-sizing: border-box;text-align: center;}#sk-container-id-3 label.sk-toggleable__label-arrow:before {content: \"▸\";float: left;margin-right: 0.25em;color: #696969;}#sk-container-id-3 label.sk-toggleable__label-arrow:hover:before {color: black;}#sk-container-id-3 div.sk-estimator:hover label.sk-toggleable__label-arrow:before {color: black;}#sk-container-id-3 div.sk-toggleable__content {max-height: 0;max-width: 0;overflow: hidden;text-align: left;background-color: #f0f8ff;}#sk-container-id-3 div.sk-toggleable__content pre {margin: 0.2em;color: black;border-radius: 0.25em;background-color: #f0f8ff;}#sk-container-id-3 input.sk-toggleable__control:checked~div.sk-toggleable__content {max-height: 200px;max-width: 100%;overflow: auto;}#sk-container-id-3 input.sk-toggleable__control:checked~label.sk-toggleable__label-arrow:before {content: \"▾\";}#sk-container-id-3 div.sk-estimator input.sk-toggleable__control:checked~label.sk-toggleable__label {background-color: #d4ebff;}#sk-container-id-3 div.sk-label input.sk-toggleable__control:checked~label.sk-toggleable__label {background-color: #d4ebff;}#sk-container-id-3 input.sk-hidden--visually {border: 0;clip: rect(1px 1px 1px 1px);clip: rect(1px, 1px, 1px, 1px);height: 1px;margin: -1px;overflow: hidden;padding: 0;position: absolute;width: 1px;}#sk-container-id-3 div.sk-estimator {font-family: monospace;background-color: #f0f8ff;border: 1px dotted black;border-radius: 0.25em;box-sizing: border-box;margin-bottom: 0.5em;}#sk-container-id-3 div.sk-estimator:hover {background-color: #d4ebff;}#sk-container-id-3 div.sk-parallel-item::after {content: \"\";width: 100%;border-bottom: 1px solid gray;flex-grow: 1;}#sk-container-id-3 div.sk-label:hover label.sk-toggleable__label {background-color: #d4ebff;}#sk-container-id-3 div.sk-serial::before {content: \"\";position: absolute;border-left: 1px solid gray;box-sizing: border-box;top: 0;bottom: 0;left: 50%;z-index: 0;}#sk-container-id-3 div.sk-serial {display: flex;flex-direction: column;align-items: center;background-color: white;padding-right: 0.2em;padding-left: 0.2em;position: relative;}#sk-container-id-3 div.sk-item {position: relative;z-index: 1;}#sk-container-id-3 div.sk-parallel {display: flex;align-items: stretch;justify-content: center;background-color: white;position: relative;}#sk-container-id-3 div.sk-item::before, #sk-container-id-3 div.sk-parallel-item::before {content: \"\";position: absolute;border-left: 1px solid gray;box-sizing: border-box;top: 0;bottom: 0;left: 50%;z-index: -1;}#sk-container-id-3 div.sk-parallel-item {display: flex;flex-direction: column;z-index: 1;position: relative;background-color: white;}#sk-container-id-3 div.sk-parallel-item:first-child::after {align-self: flex-end;width: 50%;}#sk-container-id-3 div.sk-parallel-item:last-child::after {align-self: flex-start;width: 50%;}#sk-container-id-3 div.sk-parallel-item:only-child::after {width: 0;}#sk-container-id-3 div.sk-dashed-wrapped {border: 1px dashed gray;margin: 0 0.4em 0.5em 0.4em;box-sizing: border-box;padding-bottom: 0.4em;background-color: white;}#sk-container-id-3 div.sk-label label {font-family: monospace;font-weight: bold;display: inline-block;line-height: 1.2em;}#sk-container-id-3 div.sk-label-container {text-align: center;}#sk-container-id-3 div.sk-container {/* jupyter's `normalize.less` sets `[hidden] { display: none; }` but bootstrap.min.css set `[hidden] { display: none !important; }` so we also need the `!important` here to be able to override the default hidden behavior on the sphinx rendered scikit-learn.org. See: https://github.com/scikit-learn/scikit-learn/issues/21755 */display: inline-block !important;position: relative;}#sk-container-id-3 div.sk-text-repr-fallback {display: none;}</style><div id=\"sk-container-id-3\" class=\"sk-top-container\"><div class=\"sk-text-repr-fallback\"><pre>GridSearchCV(cv=5,\n",
       "             estimator=AdaBoostClassifier(base_estimator=DecisionTreeClassifier()),\n",
       "             n_jobs=-1,\n",
       "             param_grid={&#x27;base_estimator__max_depth&#x27;: [1, 3, 5, 7],\n",
       "                         &#x27;learning_rate&#x27;: [0.01, 0.05, 0.1, 0.5, 1],\n",
       "                         &#x27;n_estimators&#x27;: [50, 100, 200, 500]},\n",
       "             scoring=&#x27;accuracy&#x27;, verbose=2)</pre><b>In a Jupyter environment, please rerun this cell to show the HTML representation or trust the notebook. <br />On GitHub, the HTML representation is unable to render, please try loading this page with nbviewer.org.</b></div><div class=\"sk-container\" hidden><div class=\"sk-item sk-dashed-wrapped\"><div class=\"sk-label-container\"><div class=\"sk-label sk-toggleable\"><input class=\"sk-toggleable__control sk-hidden--visually\" id=\"sk-estimator-id-6\" type=\"checkbox\" ><label for=\"sk-estimator-id-6\" class=\"sk-toggleable__label sk-toggleable__label-arrow\">GridSearchCV</label><div class=\"sk-toggleable__content\"><pre>GridSearchCV(cv=5,\n",
       "             estimator=AdaBoostClassifier(base_estimator=DecisionTreeClassifier()),\n",
       "             n_jobs=-1,\n",
       "             param_grid={&#x27;base_estimator__max_depth&#x27;: [1, 3, 5, 7],\n",
       "                         &#x27;learning_rate&#x27;: [0.01, 0.05, 0.1, 0.5, 1],\n",
       "                         &#x27;n_estimators&#x27;: [50, 100, 200, 500]},\n",
       "             scoring=&#x27;accuracy&#x27;, verbose=2)</pre></div></div></div><div class=\"sk-parallel\"><div class=\"sk-parallel-item\"><div class=\"sk-item\"><div class=\"sk-label-container\"><div class=\"sk-label sk-toggleable\"><input class=\"sk-toggleable__control sk-hidden--visually\" id=\"sk-estimator-id-7\" type=\"checkbox\" ><label for=\"sk-estimator-id-7\" class=\"sk-toggleable__label sk-toggleable__label-arrow\">estimator: AdaBoostClassifier</label><div class=\"sk-toggleable__content\"><pre>AdaBoostClassifier(base_estimator=DecisionTreeClassifier())</pre></div></div></div><div class=\"sk-serial\"><div class=\"sk-item sk-dashed-wrapped\"><div class=\"sk-parallel\"><div class=\"sk-parallel-item\"><div class=\"sk-item\"><div class=\"sk-label-container\"><div class=\"sk-label sk-toggleable\"><input class=\"sk-toggleable__control sk-hidden--visually\" id=\"sk-estimator-id-8\" type=\"checkbox\" ><label for=\"sk-estimator-id-8\" class=\"sk-toggleable__label sk-toggleable__label-arrow\">base_estimator: DecisionTreeClassifier</label><div class=\"sk-toggleable__content\"><pre>DecisionTreeClassifier()</pre></div></div></div><div class=\"sk-serial\"><div class=\"sk-item\"><div class=\"sk-estimator sk-toggleable\"><input class=\"sk-toggleable__control sk-hidden--visually\" id=\"sk-estimator-id-9\" type=\"checkbox\" ><label for=\"sk-estimator-id-9\" class=\"sk-toggleable__label sk-toggleable__label-arrow\">DecisionTreeClassifier</label><div class=\"sk-toggleable__content\"><pre>DecisionTreeClassifier()</pre></div></div></div></div></div></div></div></div></div></div></div></div></div></div></div>"
      ],
      "text/plain": [
       "GridSearchCV(cv=5,\n",
       "             estimator=AdaBoostClassifier(base_estimator=DecisionTreeClassifier()),\n",
       "             n_jobs=-1,\n",
       "             param_grid={'base_estimator__max_depth': [1, 3, 5, 7],\n",
       "                         'learning_rate': [0.01, 0.05, 0.1, 0.5, 1],\n",
       "                         'n_estimators': [50, 100, 200, 500]},\n",
       "             scoring='accuracy', verbose=2)"
      ]
     },
     "execution_count": 163,
     "metadata": {},
     "output_type": "execute_result"
    }
   ],
   "source": [
    "# Grid Search CV\n",
    "grid_search = GridSearchCV(adaboost, param_grid, cv=5, scoring='accuracy', n_jobs=-1, verbose=2)\n",
    "grid_search.fit(x_sm, y_sm)"
   ]
  },
  {
   "cell_type": "code",
   "execution_count": 164,
   "id": "8135deed",
   "metadata": {},
   "outputs": [],
   "source": [
    "# Best Model\n",
    "best_model = grid_search.best_estimator_"
   ]
  },
  {
   "cell_type": "code",
   "execution_count": 170,
   "id": "fca1e9a4",
   "metadata": {},
   "outputs": [],
   "source": [
    "# Predicions\n",
    "optimized_ada_preds = best_model.predict_proba(x_test)[:,1]"
   ]
  },
  {
   "cell_type": "code",
   "execution_count": 172,
   "id": "b3426c85",
   "metadata": {},
   "outputs": [],
   "source": [
    "pcos_submission_optimized_ada_1202 = pd.DataFrame({'ID': test['ID'], 'PCOS' : optimized_ada_preds})"
   ]
  },
  {
   "cell_type": "code",
   "execution_count": 173,
   "id": "674eb31e",
   "metadata": {},
   "outputs": [],
   "source": [
    "pcos_submission_optimized_ada_1202.to_csv('pcos_submission_optimized_ada_1202.csv', index = False)"
   ]
  },
  {
   "cell_type": "code",
   "execution_count": null,
   "id": "6bf270ab",
   "metadata": {},
   "outputs": [],
   "source": []
  },
  {
   "cell_type": "code",
   "execution_count": null,
   "id": "872e6ee0",
   "metadata": {},
   "outputs": [],
   "source": []
  },
  {
   "cell_type": "markdown",
   "id": "1b00fc11",
   "metadata": {},
   "source": [
    "# CatBooost"
   ]
  },
  {
   "cell_type": "code",
   "execution_count": 137,
   "id": "bf0f184b",
   "metadata": {},
   "outputs": [],
   "source": [
    "from catboost import CatBoostClassifier"
   ]
  },
  {
   "cell_type": "code",
   "execution_count": 138,
   "id": "567ac142",
   "metadata": {},
   "outputs": [],
   "source": [
    "cat_boost = CatBoostClassifier(iterations=500,depth =6,learning_rate =0.1,loss_function='Logloss')"
   ]
  },
  {
   "cell_type": "code",
   "execution_count": 139,
   "id": "dd37aa91",
   "metadata": {},
   "outputs": [
    {
     "name": "stdout",
     "output_type": "stream",
     "text": [
      "0:\tlearn: 0.6243905\ttotal: 151ms\tremaining: 1m 15s\n",
      "1:\tlearn: 0.5861922\ttotal: 153ms\tremaining: 38.2s\n",
      "2:\tlearn: 0.5475115\ttotal: 156ms\tremaining: 25.8s\n",
      "3:\tlearn: 0.5110544\ttotal: 159ms\tremaining: 19.7s\n",
      "4:\tlearn: 0.4927944\ttotal: 161ms\tremaining: 15.9s\n",
      "5:\tlearn: 0.4697391\ttotal: 163ms\tremaining: 13.4s\n",
      "6:\tlearn: 0.4452537\ttotal: 166ms\tremaining: 11.7s\n",
      "7:\tlearn: 0.4299519\ttotal: 168ms\tremaining: 10.3s\n",
      "8:\tlearn: 0.4127522\ttotal: 173ms\tremaining: 9.42s\n",
      "9:\tlearn: 0.3952358\ttotal: 175ms\tremaining: 8.56s\n",
      "10:\tlearn: 0.3884188\ttotal: 176ms\tremaining: 7.84s\n",
      "11:\tlearn: 0.3816087\ttotal: 179ms\tremaining: 7.26s\n",
      "12:\tlearn: 0.3691636\ttotal: 180ms\tremaining: 6.75s\n",
      "13:\tlearn: 0.3614362\ttotal: 182ms\tremaining: 6.32s\n",
      "14:\tlearn: 0.3568489\ttotal: 184ms\tremaining: 5.93s\n",
      "15:\tlearn: 0.3433214\ttotal: 185ms\tremaining: 5.6s\n",
      "16:\tlearn: 0.3400972\ttotal: 187ms\tremaining: 5.31s\n",
      "17:\tlearn: 0.3293256\ttotal: 188ms\tremaining: 5.04s\n",
      "18:\tlearn: 0.3206314\ttotal: 190ms\tremaining: 4.81s\n",
      "19:\tlearn: 0.3133377\ttotal: 192ms\tremaining: 4.6s\n",
      "20:\tlearn: 0.3093731\ttotal: 194ms\tremaining: 4.42s\n",
      "21:\tlearn: 0.3069910\ttotal: 195ms\tremaining: 4.24s\n",
      "22:\tlearn: 0.2993718\ttotal: 197ms\tremaining: 4.09s\n",
      "23:\tlearn: 0.2942814\ttotal: 200ms\tremaining: 3.96s\n",
      "24:\tlearn: 0.2888613\ttotal: 202ms\tremaining: 3.83s\n",
      "25:\tlearn: 0.2870131\ttotal: 204ms\tremaining: 3.71s\n",
      "26:\tlearn: 0.2804028\ttotal: 206ms\tremaining: 3.61s\n",
      "27:\tlearn: 0.2740545\ttotal: 208ms\tremaining: 3.5s\n",
      "28:\tlearn: 0.2689670\ttotal: 210ms\tremaining: 3.41s\n",
      "29:\tlearn: 0.2655209\ttotal: 212ms\tremaining: 3.33s\n",
      "30:\tlearn: 0.2602988\ttotal: 214ms\tremaining: 3.25s\n",
      "31:\tlearn: 0.2562876\ttotal: 217ms\tremaining: 3.17s\n",
      "32:\tlearn: 0.2460742\ttotal: 219ms\tremaining: 3.1s\n",
      "33:\tlearn: 0.2444355\ttotal: 221ms\tremaining: 3.03s\n",
      "34:\tlearn: 0.2416742\ttotal: 223ms\tremaining: 2.96s\n",
      "35:\tlearn: 0.2388249\ttotal: 225ms\tremaining: 2.9s\n",
      "36:\tlearn: 0.2361746\ttotal: 226ms\tremaining: 2.83s\n",
      "37:\tlearn: 0.2320581\ttotal: 228ms\tremaining: 2.77s\n",
      "38:\tlearn: 0.2200109\ttotal: 230ms\tremaining: 2.71s\n",
      "39:\tlearn: 0.2138694\ttotal: 231ms\tremaining: 2.66s\n",
      "40:\tlearn: 0.2098129\ttotal: 234ms\tremaining: 2.62s\n",
      "41:\tlearn: 0.2075776\ttotal: 236ms\tremaining: 2.57s\n",
      "42:\tlearn: 0.2040622\ttotal: 238ms\tremaining: 2.53s\n",
      "43:\tlearn: 0.2002314\ttotal: 241ms\tremaining: 2.5s\n",
      "44:\tlearn: 0.1962235\ttotal: 244ms\tremaining: 2.46s\n",
      "45:\tlearn: 0.1937389\ttotal: 246ms\tremaining: 2.43s\n",
      "46:\tlearn: 0.1902294\ttotal: 249ms\tremaining: 2.4s\n",
      "47:\tlearn: 0.1887196\ttotal: 251ms\tremaining: 2.37s\n",
      "48:\tlearn: 0.1864727\ttotal: 254ms\tremaining: 2.33s\n",
      "49:\tlearn: 0.1856130\ttotal: 255ms\tremaining: 2.3s\n",
      "50:\tlearn: 0.1843578\ttotal: 258ms\tremaining: 2.27s\n",
      "51:\tlearn: 0.1807911\ttotal: 260ms\tremaining: 2.24s\n",
      "52:\tlearn: 0.1795956\ttotal: 262ms\tremaining: 2.21s\n",
      "53:\tlearn: 0.1773262\ttotal: 264ms\tremaining: 2.18s\n",
      "54:\tlearn: 0.1711943\ttotal: 266ms\tremaining: 2.15s\n",
      "55:\tlearn: 0.1667099\ttotal: 268ms\tremaining: 2.12s\n",
      "56:\tlearn: 0.1642373\ttotal: 269ms\tremaining: 2.09s\n",
      "57:\tlearn: 0.1618973\ttotal: 271ms\tremaining: 2.06s\n",
      "58:\tlearn: 0.1594990\ttotal: 273ms\tremaining: 2.04s\n",
      "59:\tlearn: 0.1555790\ttotal: 274ms\tremaining: 2.01s\n",
      "60:\tlearn: 0.1542506\ttotal: 276ms\tremaining: 1.99s\n",
      "61:\tlearn: 0.1532602\ttotal: 279ms\tremaining: 1.97s\n",
      "62:\tlearn: 0.1504999\ttotal: 281ms\tremaining: 1.95s\n",
      "63:\tlearn: 0.1484790\ttotal: 283ms\tremaining: 1.93s\n",
      "64:\tlearn: 0.1449239\ttotal: 285ms\tremaining: 1.91s\n",
      "65:\tlearn: 0.1432285\ttotal: 286ms\tremaining: 1.88s\n",
      "66:\tlearn: 0.1408149\ttotal: 288ms\tremaining: 1.86s\n",
      "67:\tlearn: 0.1354181\ttotal: 290ms\tremaining: 1.84s\n",
      "68:\tlearn: 0.1309777\ttotal: 305ms\tremaining: 1.91s\n",
      "69:\tlearn: 0.1292502\ttotal: 308ms\tremaining: 1.89s\n",
      "70:\tlearn: 0.1281450\ttotal: 309ms\tremaining: 1.87s\n",
      "71:\tlearn: 0.1273940\ttotal: 311ms\tremaining: 1.85s\n",
      "72:\tlearn: 0.1251190\ttotal: 313ms\tremaining: 1.83s\n",
      "73:\tlearn: 0.1227655\ttotal: 314ms\tremaining: 1.81s\n",
      "74:\tlearn: 0.1223779\ttotal: 316ms\tremaining: 1.79s\n",
      "75:\tlearn: 0.1200885\ttotal: 318ms\tremaining: 1.77s\n",
      "76:\tlearn: 0.1174733\ttotal: 319ms\tremaining: 1.75s\n",
      "77:\tlearn: 0.1148097\ttotal: 321ms\tremaining: 1.74s\n",
      "78:\tlearn: 0.1122392\ttotal: 323ms\tremaining: 1.72s\n",
      "79:\tlearn: 0.1109882\ttotal: 324ms\tremaining: 1.7s\n",
      "80:\tlearn: 0.1094119\ttotal: 326ms\tremaining: 1.69s\n",
      "81:\tlearn: 0.1080366\ttotal: 328ms\tremaining: 1.67s\n",
      "82:\tlearn: 0.1061938\ttotal: 330ms\tremaining: 1.66s\n",
      "83:\tlearn: 0.1049496\ttotal: 331ms\tremaining: 1.64s\n",
      "84:\tlearn: 0.1041647\ttotal: 334ms\tremaining: 1.63s\n",
      "85:\tlearn: 0.1019320\ttotal: 336ms\tremaining: 1.62s\n",
      "86:\tlearn: 0.1009925\ttotal: 338ms\tremaining: 1.6s\n",
      "87:\tlearn: 0.1003046\ttotal: 340ms\tremaining: 1.59s\n",
      "88:\tlearn: 0.0985944\ttotal: 343ms\tremaining: 1.58s\n",
      "89:\tlearn: 0.0965040\ttotal: 345ms\tremaining: 1.57s\n",
      "90:\tlearn: 0.0946423\ttotal: 347ms\tremaining: 1.56s\n",
      "91:\tlearn: 0.0933948\ttotal: 349ms\tremaining: 1.55s\n",
      "92:\tlearn: 0.0923219\ttotal: 350ms\tremaining: 1.53s\n",
      "93:\tlearn: 0.0902330\ttotal: 352ms\tremaining: 1.52s\n",
      "94:\tlearn: 0.0891752\ttotal: 354ms\tremaining: 1.51s\n",
      "95:\tlearn: 0.0881529\ttotal: 357ms\tremaining: 1.5s\n",
      "96:\tlearn: 0.0873963\ttotal: 360ms\tremaining: 1.49s\n",
      "97:\tlearn: 0.0858848\ttotal: 361ms\tremaining: 1.48s\n",
      "98:\tlearn: 0.0831457\ttotal: 363ms\tremaining: 1.47s\n",
      "99:\tlearn: 0.0809230\ttotal: 365ms\tremaining: 1.46s\n",
      "100:\tlearn: 0.0794768\ttotal: 367ms\tremaining: 1.45s\n",
      "101:\tlearn: 0.0782901\ttotal: 369ms\tremaining: 1.44s\n",
      "102:\tlearn: 0.0776933\ttotal: 370ms\tremaining: 1.43s\n",
      "103:\tlearn: 0.0767564\ttotal: 372ms\tremaining: 1.42s\n",
      "104:\tlearn: 0.0754166\ttotal: 374ms\tremaining: 1.41s\n",
      "105:\tlearn: 0.0739875\ttotal: 376ms\tremaining: 1.4s\n",
      "106:\tlearn: 0.0719403\ttotal: 378ms\tremaining: 1.39s\n",
      "107:\tlearn: 0.0706569\ttotal: 380ms\tremaining: 1.38s\n",
      "108:\tlearn: 0.0688185\ttotal: 382ms\tremaining: 1.37s\n",
      "109:\tlearn: 0.0679597\ttotal: 385ms\tremaining: 1.36s\n",
      "110:\tlearn: 0.0668080\ttotal: 387ms\tremaining: 1.35s\n",
      "111:\tlearn: 0.0661635\ttotal: 389ms\tremaining: 1.35s\n",
      "112:\tlearn: 0.0644269\ttotal: 390ms\tremaining: 1.34s\n",
      "113:\tlearn: 0.0639323\ttotal: 392ms\tremaining: 1.33s\n",
      "114:\tlearn: 0.0628030\ttotal: 394ms\tremaining: 1.32s\n",
      "115:\tlearn: 0.0619363\ttotal: 395ms\tremaining: 1.31s\n",
      "116:\tlearn: 0.0611050\ttotal: 397ms\tremaining: 1.3s\n",
      "117:\tlearn: 0.0605228\ttotal: 399ms\tremaining: 1.29s\n",
      "118:\tlearn: 0.0594228\ttotal: 402ms\tremaining: 1.28s\n",
      "119:\tlearn: 0.0585715\ttotal: 404ms\tremaining: 1.28s\n",
      "120:\tlearn: 0.0577489\ttotal: 406ms\tremaining: 1.27s\n",
      "121:\tlearn: 0.0571081\ttotal: 407ms\tremaining: 1.26s\n",
      "122:\tlearn: 0.0562494\ttotal: 409ms\tremaining: 1.25s\n",
      "123:\tlearn: 0.0556644\ttotal: 411ms\tremaining: 1.25s\n",
      "124:\tlearn: 0.0549840\ttotal: 413ms\tremaining: 1.24s\n",
      "125:\tlearn: 0.0543331\ttotal: 415ms\tremaining: 1.23s\n",
      "126:\tlearn: 0.0539207\ttotal: 416ms\tremaining: 1.22s\n",
      "127:\tlearn: 0.0537607\ttotal: 418ms\tremaining: 1.21s\n",
      "128:\tlearn: 0.0531666\ttotal: 419ms\tremaining: 1.21s\n",
      "129:\tlearn: 0.0521355\ttotal: 421ms\tremaining: 1.2s\n",
      "130:\tlearn: 0.0510872\ttotal: 423ms\tremaining: 1.19s\n",
      "131:\tlearn: 0.0496111\ttotal: 424ms\tremaining: 1.18s\n",
      "132:\tlearn: 0.0490223\ttotal: 426ms\tremaining: 1.18s\n",
      "133:\tlearn: 0.0484339\ttotal: 428ms\tremaining: 1.17s\n",
      "134:\tlearn: 0.0479399\ttotal: 430ms\tremaining: 1.16s\n",
      "135:\tlearn: 0.0475015\ttotal: 432ms\tremaining: 1.16s\n",
      "136:\tlearn: 0.0467965\ttotal: 433ms\tremaining: 1.15s\n",
      "137:\tlearn: 0.0463926\ttotal: 435ms\tremaining: 1.14s\n",
      "138:\tlearn: 0.0460685\ttotal: 437ms\tremaining: 1.13s\n",
      "139:\tlearn: 0.0457886\ttotal: 439ms\tremaining: 1.13s\n",
      "140:\tlearn: 0.0453603\ttotal: 441ms\tremaining: 1.12s\n",
      "141:\tlearn: 0.0450637\ttotal: 443ms\tremaining: 1.12s\n",
      "142:\tlearn: 0.0445557\ttotal: 445ms\tremaining: 1.11s\n",
      "143:\tlearn: 0.0436564\ttotal: 447ms\tremaining: 1.1s\n",
      "144:\tlearn: 0.0431339\ttotal: 449ms\tremaining: 1.1s\n",
      "145:\tlearn: 0.0428577\ttotal: 451ms\tremaining: 1.09s\n",
      "146:\tlearn: 0.0421359\ttotal: 452ms\tremaining: 1.09s\n",
      "147:\tlearn: 0.0416522\ttotal: 454ms\tremaining: 1.08s\n",
      "148:\tlearn: 0.0412547\ttotal: 456ms\tremaining: 1.07s\n",
      "149:\tlearn: 0.0409452\ttotal: 458ms\tremaining: 1.07s\n",
      "150:\tlearn: 0.0407772\ttotal: 459ms\tremaining: 1.06s\n",
      "151:\tlearn: 0.0405455\ttotal: 461ms\tremaining: 1.05s\n",
      "152:\tlearn: 0.0404303\ttotal: 463ms\tremaining: 1.05s\n",
      "153:\tlearn: 0.0399298\ttotal: 464ms\tremaining: 1.04s\n",
      "154:\tlearn: 0.0396398\ttotal: 466ms\tremaining: 1.04s\n",
      "155:\tlearn: 0.0393097\ttotal: 469ms\tremaining: 1.03s\n",
      "156:\tlearn: 0.0389934\ttotal: 473ms\tremaining: 1.03s\n",
      "157:\tlearn: 0.0385738\ttotal: 475ms\tremaining: 1.03s\n",
      "158:\tlearn: 0.0379987\ttotal: 477ms\tremaining: 1.02s\n",
      "159:\tlearn: 0.0374425\ttotal: 479ms\tremaining: 1.02s\n",
      "160:\tlearn: 0.0369314\ttotal: 481ms\tremaining: 1.01s\n",
      "161:\tlearn: 0.0365550\ttotal: 483ms\tremaining: 1.01s\n",
      "162:\tlearn: 0.0363904\ttotal: 485ms\tremaining: 1s\n",
      "163:\tlearn: 0.0363687\ttotal: 488ms\tremaining: 1s\n",
      "164:\tlearn: 0.0361616\ttotal: 490ms\tremaining: 996ms\n",
      "165:\tlearn: 0.0358685\ttotal: 493ms\tremaining: 991ms\n",
      "166:\tlearn: 0.0354920\ttotal: 495ms\tremaining: 987ms\n",
      "167:\tlearn: 0.0351317\ttotal: 497ms\tremaining: 982ms\n",
      "168:\tlearn: 0.0348333\ttotal: 500ms\tremaining: 979ms\n",
      "169:\tlearn: 0.0343261\ttotal: 502ms\tremaining: 975ms\n",
      "170:\tlearn: 0.0338847\ttotal: 504ms\tremaining: 970ms\n",
      "171:\tlearn: 0.0335205\ttotal: 506ms\tremaining: 966ms\n",
      "172:\tlearn: 0.0331212\ttotal: 509ms\tremaining: 961ms\n",
      "173:\tlearn: 0.0329111\ttotal: 510ms\tremaining: 956ms\n",
      "174:\tlearn: 0.0325780\ttotal: 513ms\tremaining: 952ms\n",
      "175:\tlearn: 0.0324381\ttotal: 515ms\tremaining: 948ms\n",
      "176:\tlearn: 0.0321148\ttotal: 517ms\tremaining: 944ms\n",
      "177:\tlearn: 0.0318802\ttotal: 519ms\tremaining: 939ms\n",
      "178:\tlearn: 0.0315929\ttotal: 521ms\tremaining: 935ms\n",
      "179:\tlearn: 0.0313991\ttotal: 524ms\tremaining: 931ms\n"
     ]
    },
    {
     "name": "stdout",
     "output_type": "stream",
     "text": [
      "180:\tlearn: 0.0308927\ttotal: 526ms\tremaining: 928ms\n",
      "181:\tlearn: 0.0307535\ttotal: 529ms\tremaining: 924ms\n",
      "182:\tlearn: 0.0304608\ttotal: 532ms\tremaining: 921ms\n",
      "183:\tlearn: 0.0302963\ttotal: 534ms\tremaining: 917ms\n",
      "184:\tlearn: 0.0301357\ttotal: 536ms\tremaining: 913ms\n",
      "185:\tlearn: 0.0298968\ttotal: 539ms\tremaining: 909ms\n",
      "186:\tlearn: 0.0296209\ttotal: 541ms\tremaining: 905ms\n",
      "187:\tlearn: 0.0294163\ttotal: 542ms\tremaining: 900ms\n",
      "188:\tlearn: 0.0292200\ttotal: 544ms\tremaining: 896ms\n",
      "189:\tlearn: 0.0290403\ttotal: 547ms\tremaining: 892ms\n",
      "190:\tlearn: 0.0285540\ttotal: 549ms\tremaining: 888ms\n",
      "191:\tlearn: 0.0283816\ttotal: 551ms\tremaining: 884ms\n",
      "192:\tlearn: 0.0280803\ttotal: 553ms\tremaining: 879ms\n",
      "193:\tlearn: 0.0277012\ttotal: 554ms\tremaining: 874ms\n",
      "194:\tlearn: 0.0275345\ttotal: 556ms\tremaining: 869ms\n",
      "195:\tlearn: 0.0272545\ttotal: 557ms\tremaining: 864ms\n",
      "196:\tlearn: 0.0271114\ttotal: 559ms\tremaining: 860ms\n",
      "197:\tlearn: 0.0268878\ttotal: 561ms\tremaining: 855ms\n",
      "198:\tlearn: 0.0265080\ttotal: 562ms\tremaining: 850ms\n",
      "199:\tlearn: 0.0261839\ttotal: 564ms\tremaining: 846ms\n",
      "200:\tlearn: 0.0260767\ttotal: 566ms\tremaining: 842ms\n",
      "201:\tlearn: 0.0259900\ttotal: 568ms\tremaining: 838ms\n",
      "202:\tlearn: 0.0257606\ttotal: 570ms\tremaining: 834ms\n",
      "203:\tlearn: 0.0255292\ttotal: 572ms\tremaining: 830ms\n",
      "204:\tlearn: 0.0253217\ttotal: 574ms\tremaining: 827ms\n",
      "205:\tlearn: 0.0251465\ttotal: 577ms\tremaining: 823ms\n",
      "206:\tlearn: 0.0250199\ttotal: 578ms\tremaining: 819ms\n",
      "207:\tlearn: 0.0249263\ttotal: 580ms\tremaining: 815ms\n",
      "208:\tlearn: 0.0246030\ttotal: 582ms\tremaining: 810ms\n",
      "209:\tlearn: 0.0244026\ttotal: 584ms\tremaining: 806ms\n",
      "210:\tlearn: 0.0242984\ttotal: 586ms\tremaining: 802ms\n",
      "211:\tlearn: 0.0240849\ttotal: 587ms\tremaining: 798ms\n",
      "212:\tlearn: 0.0239157\ttotal: 589ms\tremaining: 794ms\n",
      "213:\tlearn: 0.0237583\ttotal: 591ms\tremaining: 790ms\n",
      "214:\tlearn: 0.0234683\ttotal: 592ms\tremaining: 785ms\n",
      "215:\tlearn: 0.0232632\ttotal: 594ms\tremaining: 781ms\n",
      "216:\tlearn: 0.0230000\ttotal: 596ms\tremaining: 777ms\n",
      "217:\tlearn: 0.0228416\ttotal: 598ms\tremaining: 773ms\n",
      "218:\tlearn: 0.0225953\ttotal: 599ms\tremaining: 769ms\n",
      "219:\tlearn: 0.0223215\ttotal: 601ms\tremaining: 765ms\n",
      "220:\tlearn: 0.0221959\ttotal: 602ms\tremaining: 760ms\n",
      "221:\tlearn: 0.0219356\ttotal: 604ms\tremaining: 757ms\n",
      "222:\tlearn: 0.0217820\ttotal: 606ms\tremaining: 753ms\n",
      "223:\tlearn: 0.0216301\ttotal: 608ms\tremaining: 750ms\n",
      "224:\tlearn: 0.0213664\ttotal: 611ms\tremaining: 746ms\n",
      "225:\tlearn: 0.0212154\ttotal: 612ms\tremaining: 742ms\n",
      "226:\tlearn: 0.0211532\ttotal: 614ms\tremaining: 739ms\n",
      "227:\tlearn: 0.0211099\ttotal: 616ms\tremaining: 735ms\n",
      "228:\tlearn: 0.0210667\ttotal: 618ms\tremaining: 731ms\n",
      "229:\tlearn: 0.0209908\ttotal: 621ms\tremaining: 728ms\n",
      "230:\tlearn: 0.0207935\ttotal: 623ms\tremaining: 726ms\n",
      "231:\tlearn: 0.0206275\ttotal: 626ms\tremaining: 723ms\n",
      "232:\tlearn: 0.0205232\ttotal: 629ms\tremaining: 720ms\n",
      "233:\tlearn: 0.0203633\ttotal: 632ms\tremaining: 718ms\n",
      "234:\tlearn: 0.0202893\ttotal: 634ms\tremaining: 715ms\n",
      "235:\tlearn: 0.0202153\ttotal: 637ms\tremaining: 713ms\n",
      "236:\tlearn: 0.0201523\ttotal: 640ms\tremaining: 710ms\n",
      "237:\tlearn: 0.0199832\ttotal: 642ms\tremaining: 707ms\n",
      "238:\tlearn: 0.0199004\ttotal: 645ms\tremaining: 704ms\n",
      "239:\tlearn: 0.0198460\ttotal: 648ms\tremaining: 702ms\n",
      "240:\tlearn: 0.0196326\ttotal: 651ms\tremaining: 699ms\n",
      "241:\tlearn: 0.0194923\ttotal: 653ms\tremaining: 697ms\n",
      "242:\tlearn: 0.0194227\ttotal: 656ms\tremaining: 693ms\n",
      "243:\tlearn: 0.0193598\ttotal: 658ms\tremaining: 690ms\n",
      "244:\tlearn: 0.0192196\ttotal: 660ms\tremaining: 687ms\n",
      "245:\tlearn: 0.0190166\ttotal: 662ms\tremaining: 684ms\n",
      "246:\tlearn: 0.0187767\ttotal: 665ms\tremaining: 681ms\n",
      "247:\tlearn: 0.0186284\ttotal: 668ms\tremaining: 679ms\n",
      "248:\tlearn: 0.0184460\ttotal: 670ms\tremaining: 676ms\n",
      "249:\tlearn: 0.0182736\ttotal: 673ms\tremaining: 673ms\n",
      "250:\tlearn: 0.0181602\ttotal: 675ms\tremaining: 670ms\n",
      "251:\tlearn: 0.0180951\ttotal: 678ms\tremaining: 667ms\n",
      "252:\tlearn: 0.0179652\ttotal: 681ms\tremaining: 665ms\n",
      "253:\tlearn: 0.0178664\ttotal: 684ms\tremaining: 662ms\n",
      "254:\tlearn: 0.0177201\ttotal: 686ms\tremaining: 659ms\n",
      "255:\tlearn: 0.0176246\ttotal: 689ms\tremaining: 656ms\n",
      "256:\tlearn: 0.0175557\ttotal: 691ms\tremaining: 653ms\n",
      "257:\tlearn: 0.0174772\ttotal: 694ms\tremaining: 651ms\n",
      "258:\tlearn: 0.0173919\ttotal: 697ms\tremaining: 648ms\n",
      "259:\tlearn: 0.0172986\ttotal: 699ms\tremaining: 645ms\n",
      "260:\tlearn: 0.0172321\ttotal: 701ms\tremaining: 642ms\n",
      "261:\tlearn: 0.0171698\ttotal: 704ms\tremaining: 639ms\n",
      "262:\tlearn: 0.0170674\ttotal: 706ms\tremaining: 636ms\n",
      "263:\tlearn: 0.0168986\ttotal: 710ms\tremaining: 634ms\n",
      "264:\tlearn: 0.0167938\ttotal: 712ms\tremaining: 632ms\n",
      "265:\tlearn: 0.0166167\ttotal: 715ms\tremaining: 629ms\n",
      "266:\tlearn: 0.0165265\ttotal: 717ms\tremaining: 626ms\n",
      "267:\tlearn: 0.0164149\ttotal: 720ms\tremaining: 624ms\n",
      "268:\tlearn: 0.0163281\ttotal: 724ms\tremaining: 621ms\n",
      "269:\tlearn: 0.0162690\ttotal: 726ms\tremaining: 618ms\n",
      "270:\tlearn: 0.0162103\ttotal: 728ms\tremaining: 615ms\n",
      "271:\tlearn: 0.0161163\ttotal: 730ms\tremaining: 612ms\n",
      "272:\tlearn: 0.0160582\ttotal: 732ms\tremaining: 609ms\n",
      "273:\tlearn: 0.0159542\ttotal: 735ms\tremaining: 606ms\n",
      "274:\tlearn: 0.0158224\ttotal: 737ms\tremaining: 603ms\n",
      "275:\tlearn: 0.0157468\ttotal: 739ms\tremaining: 600ms\n",
      "276:\tlearn: 0.0157247\ttotal: 742ms\tremaining: 597ms\n",
      "277:\tlearn: 0.0156790\ttotal: 744ms\tremaining: 594ms\n",
      "278:\tlearn: 0.0156243\ttotal: 746ms\tremaining: 591ms\n",
      "279:\tlearn: 0.0155290\ttotal: 748ms\tremaining: 588ms\n",
      "280:\tlearn: 0.0154399\ttotal: 751ms\tremaining: 585ms\n",
      "281:\tlearn: 0.0153670\ttotal: 754ms\tremaining: 583ms\n",
      "282:\tlearn: 0.0153197\ttotal: 757ms\tremaining: 580ms\n",
      "283:\tlearn: 0.0152407\ttotal: 759ms\tremaining: 577ms\n",
      "284:\tlearn: 0.0151905\ttotal: 763ms\tremaining: 575ms\n",
      "285:\tlearn: 0.0151595\ttotal: 765ms\tremaining: 572ms\n",
      "286:\tlearn: 0.0150194\ttotal: 768ms\tremaining: 570ms\n",
      "287:\tlearn: 0.0149324\ttotal: 771ms\tremaining: 567ms\n",
      "288:\tlearn: 0.0148579\ttotal: 773ms\tremaining: 564ms\n",
      "289:\tlearn: 0.0147498\ttotal: 776ms\tremaining: 562ms\n",
      "290:\tlearn: 0.0146271\ttotal: 778ms\tremaining: 559ms\n",
      "291:\tlearn: 0.0145820\ttotal: 781ms\tremaining: 556ms\n",
      "292:\tlearn: 0.0144893\ttotal: 784ms\tremaining: 554ms\n",
      "293:\tlearn: 0.0143677\ttotal: 786ms\tremaining: 551ms\n",
      "294:\tlearn: 0.0142895\ttotal: 789ms\tremaining: 549ms\n",
      "295:\tlearn: 0.0141996\ttotal: 792ms\tremaining: 546ms\n",
      "296:\tlearn: 0.0141644\ttotal: 795ms\tremaining: 543ms\n",
      "297:\tlearn: 0.0140616\ttotal: 798ms\tremaining: 541ms\n",
      "298:\tlearn: 0.0139617\ttotal: 801ms\tremaining: 538ms\n",
      "299:\tlearn: 0.0138983\ttotal: 803ms\tremaining: 536ms\n",
      "300:\tlearn: 0.0138105\ttotal: 806ms\tremaining: 533ms\n",
      "301:\tlearn: 0.0137708\ttotal: 809ms\tremaining: 530ms\n",
      "302:\tlearn: 0.0137314\ttotal: 811ms\tremaining: 527ms\n",
      "303:\tlearn: 0.0136921\ttotal: 814ms\tremaining: 525ms\n",
      "304:\tlearn: 0.0136623\ttotal: 817ms\tremaining: 522ms\n",
      "305:\tlearn: 0.0136110\ttotal: 819ms\tremaining: 519ms\n",
      "306:\tlearn: 0.0135487\ttotal: 822ms\tremaining: 516ms\n",
      "307:\tlearn: 0.0135400\ttotal: 824ms\tremaining: 514ms\n",
      "308:\tlearn: 0.0135002\ttotal: 826ms\tremaining: 511ms\n",
      "309:\tlearn: 0.0134524\ttotal: 829ms\tremaining: 508ms\n",
      "310:\tlearn: 0.0133891\ttotal: 832ms\tremaining: 506ms\n",
      "311:\tlearn: 0.0132712\ttotal: 835ms\tremaining: 503ms\n",
      "312:\tlearn: 0.0132218\ttotal: 837ms\tremaining: 500ms\n",
      "313:\tlearn: 0.0131457\ttotal: 840ms\tremaining: 498ms\n",
      "314:\tlearn: 0.0131001\ttotal: 843ms\tremaining: 495ms\n",
      "315:\tlearn: 0.0130666\ttotal: 846ms\tremaining: 492ms\n",
      "316:\tlearn: 0.0130328\ttotal: 848ms\tremaining: 490ms\n",
      "317:\tlearn: 0.0129956\ttotal: 851ms\tremaining: 487ms\n",
      "318:\tlearn: 0.0129376\ttotal: 853ms\tremaining: 484ms\n",
      "319:\tlearn: 0.0129005\ttotal: 855ms\tremaining: 481ms\n",
      "320:\tlearn: 0.0128119\ttotal: 860ms\tremaining: 479ms\n",
      "321:\tlearn: 0.0127582\ttotal: 863ms\tremaining: 477ms\n",
      "322:\tlearn: 0.0127004\ttotal: 866ms\tremaining: 474ms\n",
      "323:\tlearn: 0.0126292\ttotal: 868ms\tremaining: 471ms\n",
      "324:\tlearn: 0.0126056\ttotal: 870ms\tremaining: 468ms\n",
      "325:\tlearn: 0.0125537\ttotal: 872ms\tremaining: 466ms\n",
      "326:\tlearn: 0.0124814\ttotal: 876ms\tremaining: 463ms\n",
      "327:\tlearn: 0.0124104\ttotal: 878ms\tremaining: 460ms\n",
      "328:\tlearn: 0.0123804\ttotal: 880ms\tremaining: 457ms\n",
      "329:\tlearn: 0.0123033\ttotal: 883ms\tremaining: 455ms\n",
      "330:\tlearn: 0.0122397\ttotal: 885ms\tremaining: 452ms\n",
      "331:\tlearn: 0.0122150\ttotal: 888ms\tremaining: 449ms\n",
      "332:\tlearn: 0.0121828\ttotal: 891ms\tremaining: 447ms\n",
      "333:\tlearn: 0.0120645\ttotal: 893ms\tremaining: 444ms\n",
      "334:\tlearn: 0.0120127\ttotal: 895ms\tremaining: 441ms\n",
      "335:\tlearn: 0.0119576\ttotal: 897ms\tremaining: 438ms\n",
      "336:\tlearn: 0.0118977\ttotal: 900ms\tremaining: 435ms\n",
      "337:\tlearn: 0.0118682\ttotal: 902ms\tremaining: 432ms\n",
      "338:\tlearn: 0.0118481\ttotal: 905ms\tremaining: 430ms\n",
      "339:\tlearn: 0.0118281\ttotal: 907ms\tremaining: 427ms\n",
      "340:\tlearn: 0.0117648\ttotal: 910ms\tremaining: 424ms\n",
      "341:\tlearn: 0.0117421\ttotal: 912ms\tremaining: 421ms\n"
     ]
    },
    {
     "name": "stdout",
     "output_type": "stream",
     "text": [
      "342:\tlearn: 0.0116414\ttotal: 914ms\tremaining: 418ms\n",
      "343:\tlearn: 0.0115741\ttotal: 917ms\tremaining: 416ms\n",
      "344:\tlearn: 0.0115436\ttotal: 920ms\tremaining: 413ms\n",
      "345:\tlearn: 0.0114948\ttotal: 922ms\tremaining: 410ms\n",
      "346:\tlearn: 0.0114299\ttotal: 924ms\tremaining: 408ms\n",
      "347:\tlearn: 0.0113341\ttotal: 927ms\tremaining: 405ms\n",
      "348:\tlearn: 0.0112833\ttotal: 929ms\tremaining: 402ms\n",
      "349:\tlearn: 0.0112652\ttotal: 931ms\tremaining: 399ms\n",
      "350:\tlearn: 0.0112459\ttotal: 934ms\tremaining: 396ms\n",
      "351:\tlearn: 0.0112112\ttotal: 936ms\tremaining: 393ms\n",
      "352:\tlearn: 0.0111522\ttotal: 938ms\tremaining: 391ms\n",
      "353:\tlearn: 0.0110915\ttotal: 940ms\tremaining: 388ms\n",
      "354:\tlearn: 0.0110352\ttotal: 942ms\tremaining: 385ms\n",
      "355:\tlearn: 0.0109838\ttotal: 944ms\tremaining: 382ms\n",
      "356:\tlearn: 0.0109557\ttotal: 947ms\tremaining: 379ms\n",
      "357:\tlearn: 0.0109178\ttotal: 949ms\tremaining: 376ms\n",
      "358:\tlearn: 0.0109012\ttotal: 951ms\tremaining: 374ms\n",
      "359:\tlearn: 0.0108767\ttotal: 953ms\tremaining: 371ms\n",
      "360:\tlearn: 0.0108449\ttotal: 956ms\tremaining: 368ms\n",
      "361:\tlearn: 0.0108257\ttotal: 958ms\tremaining: 365ms\n",
      "362:\tlearn: 0.0107610\ttotal: 960ms\tremaining: 362ms\n",
      "363:\tlearn: 0.0107020\ttotal: 963ms\tremaining: 360ms\n",
      "364:\tlearn: 0.0106364\ttotal: 966ms\tremaining: 357ms\n",
      "365:\tlearn: 0.0105985\ttotal: 968ms\tremaining: 355ms\n",
      "366:\tlearn: 0.0105788\ttotal: 971ms\tremaining: 352ms\n",
      "367:\tlearn: 0.0105548\ttotal: 974ms\tremaining: 349ms\n",
      "368:\tlearn: 0.0104961\ttotal: 978ms\tremaining: 347ms\n",
      "369:\tlearn: 0.0104563\ttotal: 981ms\tremaining: 345ms\n",
      "370:\tlearn: 0.0104298\ttotal: 989ms\tremaining: 344ms\n",
      "371:\tlearn: 0.0104074\ttotal: 996ms\tremaining: 343ms\n",
      "372:\tlearn: 0.0103628\ttotal: 999ms\tremaining: 340ms\n",
      "373:\tlearn: 0.0103263\ttotal: 1s\tremaining: 337ms\n",
      "374:\tlearn: 0.0102772\ttotal: 1s\tremaining: 335ms\n",
      "375:\tlearn: 0.0102609\ttotal: 1.01s\tremaining: 332ms\n",
      "376:\tlearn: 0.0102126\ttotal: 1.01s\tremaining: 330ms\n",
      "377:\tlearn: 0.0101523\ttotal: 1.02s\tremaining: 328ms\n",
      "378:\tlearn: 0.0101054\ttotal: 1.02s\tremaining: 326ms\n",
      "379:\tlearn: 0.0100849\ttotal: 1.02s\tremaining: 324ms\n",
      "380:\tlearn: 0.0100457\ttotal: 1.03s\tremaining: 321ms\n",
      "381:\tlearn: 0.0100278\ttotal: 1.03s\tremaining: 318ms\n",
      "382:\tlearn: 0.0100114\ttotal: 1.03s\tremaining: 315ms\n",
      "383:\tlearn: 0.0099985\ttotal: 1.03s\tremaining: 312ms\n",
      "384:\tlearn: 0.0099444\ttotal: 1.04s\tremaining: 310ms\n",
      "385:\tlearn: 0.0099214\ttotal: 1.04s\tremaining: 307ms\n",
      "386:\tlearn: 0.0099008\ttotal: 1.04s\tremaining: 304ms\n",
      "387:\tlearn: 0.0098799\ttotal: 1.04s\tremaining: 301ms\n",
      "388:\tlearn: 0.0098619\ttotal: 1.05s\tremaining: 299ms\n",
      "389:\tlearn: 0.0098285\ttotal: 1.05s\tremaining: 296ms\n",
      "390:\tlearn: 0.0097840\ttotal: 1.05s\tremaining: 293ms\n",
      "391:\tlearn: 0.0097452\ttotal: 1.05s\tremaining: 290ms\n",
      "392:\tlearn: 0.0097290\ttotal: 1.06s\tremaining: 288ms\n",
      "393:\tlearn: 0.0097020\ttotal: 1.06s\tremaining: 285ms\n",
      "394:\tlearn: 0.0097019\ttotal: 1.06s\tremaining: 282ms\n",
      "395:\tlearn: 0.0096383\ttotal: 1.06s\tremaining: 279ms\n",
      "396:\tlearn: 0.0096299\ttotal: 1.06s\tremaining: 276ms\n",
      "397:\tlearn: 0.0095490\ttotal: 1.06s\tremaining: 273ms\n",
      "398:\tlearn: 0.0094986\ttotal: 1.07s\tremaining: 270ms\n",
      "399:\tlearn: 0.0094985\ttotal: 1.07s\tremaining: 267ms\n",
      "400:\tlearn: 0.0094588\ttotal: 1.07s\tremaining: 265ms\n",
      "401:\tlearn: 0.0094485\ttotal: 1.07s\tremaining: 262ms\n",
      "402:\tlearn: 0.0094323\ttotal: 1.07s\tremaining: 259ms\n",
      "403:\tlearn: 0.0093783\ttotal: 1.08s\tremaining: 256ms\n",
      "404:\tlearn: 0.0093530\ttotal: 1.08s\tremaining: 253ms\n",
      "405:\tlearn: 0.0093357\ttotal: 1.08s\tremaining: 250ms\n",
      "406:\tlearn: 0.0093007\ttotal: 1.08s\tremaining: 248ms\n",
      "407:\tlearn: 0.0092858\ttotal: 1.09s\tremaining: 245ms\n",
      "408:\tlearn: 0.0092506\ttotal: 1.09s\tremaining: 242ms\n",
      "409:\tlearn: 0.0092223\ttotal: 1.09s\tremaining: 240ms\n",
      "410:\tlearn: 0.0091994\ttotal: 1.09s\tremaining: 237ms\n",
      "411:\tlearn: 0.0091616\ttotal: 1.09s\tremaining: 234ms\n",
      "412:\tlearn: 0.0091409\ttotal: 1.1s\tremaining: 231ms\n",
      "413:\tlearn: 0.0091083\ttotal: 1.1s\tremaining: 229ms\n",
      "414:\tlearn: 0.0090943\ttotal: 1.1s\tremaining: 226ms\n",
      "415:\tlearn: 0.0090548\ttotal: 1.1s\tremaining: 223ms\n",
      "416:\tlearn: 0.0090301\ttotal: 1.11s\tremaining: 220ms\n",
      "417:\tlearn: 0.0089891\ttotal: 1.11s\tremaining: 218ms\n",
      "418:\tlearn: 0.0089491\ttotal: 1.11s\tremaining: 215ms\n",
      "419:\tlearn: 0.0089274\ttotal: 1.11s\tremaining: 212ms\n",
      "420:\tlearn: 0.0088785\ttotal: 1.11s\tremaining: 209ms\n",
      "421:\tlearn: 0.0088288\ttotal: 1.12s\tremaining: 207ms\n",
      "422:\tlearn: 0.0087808\ttotal: 1.12s\tremaining: 204ms\n",
      "423:\tlearn: 0.0087585\ttotal: 1.12s\tremaining: 201ms\n",
      "424:\tlearn: 0.0087249\ttotal: 1.12s\tremaining: 198ms\n",
      "425:\tlearn: 0.0087083\ttotal: 1.13s\tremaining: 196ms\n",
      "426:\tlearn: 0.0086989\ttotal: 1.13s\tremaining: 193ms\n",
      "427:\tlearn: 0.0086800\ttotal: 1.13s\tremaining: 190ms\n",
      "428:\tlearn: 0.0086453\ttotal: 1.13s\tremaining: 187ms\n",
      "429:\tlearn: 0.0086083\ttotal: 1.13s\tremaining: 185ms\n",
      "430:\tlearn: 0.0085818\ttotal: 1.14s\tremaining: 182ms\n",
      "431:\tlearn: 0.0085512\ttotal: 1.14s\tremaining: 179ms\n",
      "432:\tlearn: 0.0085347\ttotal: 1.14s\tremaining: 177ms\n",
      "433:\tlearn: 0.0085010\ttotal: 1.14s\tremaining: 174ms\n",
      "434:\tlearn: 0.0084699\ttotal: 1.15s\tremaining: 171ms\n",
      "435:\tlearn: 0.0084478\ttotal: 1.15s\tremaining: 168ms\n",
      "436:\tlearn: 0.0084345\ttotal: 1.15s\tremaining: 166ms\n",
      "437:\tlearn: 0.0084104\ttotal: 1.15s\tremaining: 163ms\n",
      "438:\tlearn: 0.0083826\ttotal: 1.15s\tremaining: 160ms\n",
      "439:\tlearn: 0.0083575\ttotal: 1.16s\tremaining: 158ms\n",
      "440:\tlearn: 0.0083369\ttotal: 1.16s\tremaining: 155ms\n",
      "441:\tlearn: 0.0083230\ttotal: 1.16s\tremaining: 152ms\n",
      "442:\tlearn: 0.0083115\ttotal: 1.16s\tremaining: 149ms\n",
      "443:\tlearn: 0.0082823\ttotal: 1.16s\tremaining: 147ms\n",
      "444:\tlearn: 0.0082514\ttotal: 1.17s\tremaining: 144ms\n",
      "445:\tlearn: 0.0082341\ttotal: 1.17s\tremaining: 141ms\n",
      "446:\tlearn: 0.0081819\ttotal: 1.17s\tremaining: 139ms\n",
      "447:\tlearn: 0.0081446\ttotal: 1.17s\tremaining: 136ms\n",
      "448:\tlearn: 0.0081255\ttotal: 1.17s\tremaining: 133ms\n",
      "449:\tlearn: 0.0081026\ttotal: 1.18s\tremaining: 131ms\n",
      "450:\tlearn: 0.0080861\ttotal: 1.18s\tremaining: 128ms\n",
      "451:\tlearn: 0.0080861\ttotal: 1.18s\tremaining: 125ms\n",
      "452:\tlearn: 0.0080386\ttotal: 1.18s\tremaining: 123ms\n",
      "453:\tlearn: 0.0080092\ttotal: 1.18s\tremaining: 120ms\n",
      "454:\tlearn: 0.0080033\ttotal: 1.19s\tremaining: 117ms\n",
      "455:\tlearn: 0.0079898\ttotal: 1.19s\tremaining: 115ms\n",
      "456:\tlearn: 0.0079591\ttotal: 1.19s\tremaining: 112ms\n",
      "457:\tlearn: 0.0079410\ttotal: 1.19s\tremaining: 109ms\n",
      "458:\tlearn: 0.0079224\ttotal: 1.19s\tremaining: 107ms\n",
      "459:\tlearn: 0.0078912\ttotal: 1.19s\tremaining: 104ms\n",
      "460:\tlearn: 0.0078335\ttotal: 1.2s\tremaining: 101ms\n",
      "461:\tlearn: 0.0078022\ttotal: 1.2s\tremaining: 98.6ms\n",
      "462:\tlearn: 0.0077815\ttotal: 1.2s\tremaining: 95.9ms\n",
      "463:\tlearn: 0.0077813\ttotal: 1.2s\tremaining: 93.3ms\n",
      "464:\tlearn: 0.0077677\ttotal: 1.2s\tremaining: 90.6ms\n",
      "465:\tlearn: 0.0077565\ttotal: 1.21s\tremaining: 88ms\n",
      "466:\tlearn: 0.0077051\ttotal: 1.21s\tremaining: 85.4ms\n",
      "467:\tlearn: 0.0076858\ttotal: 1.21s\tremaining: 82.8ms\n",
      "468:\tlearn: 0.0076709\ttotal: 1.21s\tremaining: 80.2ms\n",
      "469:\tlearn: 0.0076621\ttotal: 1.22s\tremaining: 77.6ms\n",
      "470:\tlearn: 0.0076620\ttotal: 1.22s\tremaining: 75ms\n",
      "471:\tlearn: 0.0076370\ttotal: 1.22s\tremaining: 72.4ms\n",
      "472:\tlearn: 0.0076189\ttotal: 1.22s\tremaining: 69.8ms\n",
      "473:\tlearn: 0.0075967\ttotal: 1.22s\tremaining: 67.2ms\n",
      "474:\tlearn: 0.0075723\ttotal: 1.23s\tremaining: 64.5ms\n",
      "475:\tlearn: 0.0075658\ttotal: 1.23s\tremaining: 61.9ms\n",
      "476:\tlearn: 0.0075520\ttotal: 1.23s\tremaining: 59.3ms\n",
      "477:\tlearn: 0.0075274\ttotal: 1.23s\tremaining: 56.7ms\n",
      "478:\tlearn: 0.0075155\ttotal: 1.23s\tremaining: 54.1ms\n",
      "479:\tlearn: 0.0075023\ttotal: 1.24s\tremaining: 51.5ms\n",
      "480:\tlearn: 0.0074942\ttotal: 1.24s\tremaining: 48.9ms\n",
      "481:\tlearn: 0.0074837\ttotal: 1.24s\tremaining: 46.3ms\n",
      "482:\tlearn: 0.0074773\ttotal: 1.24s\tremaining: 43.7ms\n",
      "483:\tlearn: 0.0074773\ttotal: 1.24s\tremaining: 41.1ms\n",
      "484:\tlearn: 0.0074660\ttotal: 1.25s\tremaining: 38.5ms\n",
      "485:\tlearn: 0.0074563\ttotal: 1.25s\tremaining: 36ms\n",
      "486:\tlearn: 0.0074319\ttotal: 1.25s\tremaining: 33.4ms\n",
      "487:\tlearn: 0.0074014\ttotal: 1.25s\tremaining: 30.8ms\n",
      "488:\tlearn: 0.0073778\ttotal: 1.25s\tremaining: 28.2ms\n",
      "489:\tlearn: 0.0073573\ttotal: 1.26s\tremaining: 25.7ms\n",
      "490:\tlearn: 0.0073508\ttotal: 1.26s\tremaining: 23.1ms\n",
      "491:\tlearn: 0.0073438\ttotal: 1.26s\tremaining: 20.5ms\n",
      "492:\tlearn: 0.0073360\ttotal: 1.26s\tremaining: 17.9ms\n",
      "493:\tlearn: 0.0073139\ttotal: 1.26s\tremaining: 15.4ms\n",
      "494:\tlearn: 0.0073051\ttotal: 1.27s\tremaining: 12.8ms\n",
      "495:\tlearn: 0.0072826\ttotal: 1.27s\tremaining: 10.2ms\n",
      "496:\tlearn: 0.0072689\ttotal: 1.27s\tremaining: 7.67ms\n",
      "497:\tlearn: 0.0072553\ttotal: 1.27s\tremaining: 5.11ms\n",
      "498:\tlearn: 0.0072367\ttotal: 1.27s\tremaining: 2.55ms\n",
      "499:\tlearn: 0.0072210\ttotal: 1.28s\tremaining: 0us\n"
     ]
    },
    {
     "data": {
      "text/plain": [
       "<catboost.core.CatBoostClassifier at 0x2026afc96d0>"
      ]
     },
     "execution_count": 139,
     "metadata": {},
     "output_type": "execute_result"
    }
   ],
   "source": [
    "cat_boost.fit(x_sm,y_sm)"
   ]
  },
  {
   "cell_type": "code",
   "execution_count": 144,
   "id": "b57e78c0",
   "metadata": {},
   "outputs": [],
   "source": [
    "from sklearn.model_selection import cross_val_score"
   ]
  },
  {
   "cell_type": "code",
   "execution_count": 145,
   "id": "74a4d514",
   "metadata": {},
   "outputs": [
    {
     "name": "stdout",
     "output_type": "stream",
     "text": [
      "0:\tlearn: 0.6317068\ttotal: 2.69ms\tremaining: 1.34s\n",
      "1:\tlearn: 0.5882322\ttotal: 5.4ms\tremaining: 1.34s\n",
      "2:\tlearn: 0.5466108\ttotal: 8.03ms\tremaining: 1.33s\n",
      "3:\tlearn: 0.5130666\ttotal: 10.5ms\tremaining: 1.31s\n",
      "4:\tlearn: 0.4889041\ttotal: 13.4ms\tremaining: 1.32s\n",
      "5:\tlearn: 0.4660104\ttotal: 15.9ms\tremaining: 1.31s\n",
      "6:\tlearn: 0.4456699\ttotal: 18.4ms\tremaining: 1.3s\n",
      "7:\tlearn: 0.4353497\ttotal: 20.8ms\tremaining: 1.28s\n",
      "8:\tlearn: 0.4186289\ttotal: 23.3ms\tremaining: 1.27s\n",
      "9:\tlearn: 0.4086288\ttotal: 25.5ms\tremaining: 1.25s\n",
      "10:\tlearn: 0.3963338\ttotal: 28.1ms\tremaining: 1.25s\n",
      "11:\tlearn: 0.3854305\ttotal: 30.7ms\tremaining: 1.25s\n",
      "12:\tlearn: 0.3749487\ttotal: 33.4ms\tremaining: 1.25s\n",
      "13:\tlearn: 0.3636132\ttotal: 36.2ms\tremaining: 1.26s\n",
      "14:\tlearn: 0.3547072\ttotal: 38.6ms\tremaining: 1.25s\n",
      "15:\tlearn: 0.3387093\ttotal: 41.5ms\tremaining: 1.25s\n",
      "16:\tlearn: 0.3321609\ttotal: 43.9ms\tremaining: 1.25s\n",
      "17:\tlearn: 0.3241130\ttotal: 46.4ms\tremaining: 1.24s\n",
      "18:\tlearn: 0.3187978\ttotal: 48.9ms\tremaining: 1.24s\n",
      "19:\tlearn: 0.3076073\ttotal: 51.6ms\tremaining: 1.24s\n",
      "20:\tlearn: 0.2981338\ttotal: 54ms\tremaining: 1.23s\n",
      "21:\tlearn: 0.2915946\ttotal: 56.7ms\tremaining: 1.23s\n",
      "22:\tlearn: 0.2901742\ttotal: 58.4ms\tremaining: 1.21s\n",
      "23:\tlearn: 0.2826437\ttotal: 60.6ms\tremaining: 1.2s\n",
      "24:\tlearn: 0.2814758\ttotal: 62.2ms\tremaining: 1.18s\n",
      "25:\tlearn: 0.2763653\ttotal: 65.1ms\tremaining: 1.19s\n",
      "26:\tlearn: 0.2638045\ttotal: 67.6ms\tremaining: 1.18s\n",
      "27:\tlearn: 0.2620705\ttotal: 69.9ms\tremaining: 1.18s\n",
      "28:\tlearn: 0.2588727\ttotal: 72.6ms\tremaining: 1.18s\n",
      "29:\tlearn: 0.2505313\ttotal: 75.2ms\tremaining: 1.18s\n",
      "30:\tlearn: 0.2475373\ttotal: 77.5ms\tremaining: 1.17s\n",
      "31:\tlearn: 0.2446914\ttotal: 79.9ms\tremaining: 1.17s\n",
      "32:\tlearn: 0.2409822\ttotal: 82.4ms\tremaining: 1.17s\n",
      "33:\tlearn: 0.2359044\ttotal: 85.2ms\tremaining: 1.17s\n",
      "34:\tlearn: 0.2279574\ttotal: 88.2ms\tremaining: 1.17s\n",
      "35:\tlearn: 0.2236252\ttotal: 90.4ms\tremaining: 1.17s\n",
      "36:\tlearn: 0.2205877\ttotal: 93.5ms\tremaining: 1.17s\n",
      "37:\tlearn: 0.2175834\ttotal: 96.9ms\tremaining: 1.18s\n",
      "38:\tlearn: 0.2160323\ttotal: 99.5ms\tremaining: 1.18s\n",
      "39:\tlearn: 0.2103943\ttotal: 102ms\tremaining: 1.17s\n",
      "40:\tlearn: 0.2066348\ttotal: 105ms\tremaining: 1.17s\n",
      "41:\tlearn: 0.2039643\ttotal: 107ms\tremaining: 1.17s\n",
      "42:\tlearn: 0.1996949\ttotal: 110ms\tremaining: 1.17s\n",
      "43:\tlearn: 0.1980405\ttotal: 112ms\tremaining: 1.16s\n",
      "44:\tlearn: 0.1883112\ttotal: 115ms\tremaining: 1.16s\n",
      "45:\tlearn: 0.1861283\ttotal: 118ms\tremaining: 1.16s\n",
      "46:\tlearn: 0.1859839\ttotal: 119ms\tremaining: 1.15s\n",
      "47:\tlearn: 0.1826662\ttotal: 122ms\tremaining: 1.15s\n",
      "48:\tlearn: 0.1813784\ttotal: 124ms\tremaining: 1.14s\n",
      "49:\tlearn: 0.1796413\ttotal: 127ms\tremaining: 1.14s\n",
      "50:\tlearn: 0.1770319\ttotal: 129ms\tremaining: 1.14s\n",
      "51:\tlearn: 0.1760385\ttotal: 132ms\tremaining: 1.14s\n",
      "52:\tlearn: 0.1757703\ttotal: 134ms\tremaining: 1.13s\n",
      "53:\tlearn: 0.1708680\ttotal: 136ms\tremaining: 1.13s\n",
      "54:\tlearn: 0.1685318\ttotal: 139ms\tremaining: 1.12s\n",
      "55:\tlearn: 0.1656071\ttotal: 141ms\tremaining: 1.12s\n",
      "56:\tlearn: 0.1603472\ttotal: 144ms\tremaining: 1.12s\n",
      "57:\tlearn: 0.1576735\ttotal: 146ms\tremaining: 1.11s\n",
      "58:\tlearn: 0.1542155\ttotal: 148ms\tremaining: 1.11s\n",
      "59:\tlearn: 0.1539425\ttotal: 150ms\tremaining: 1.1s\n",
      "60:\tlearn: 0.1481107\ttotal: 153ms\tremaining: 1.1s\n",
      "61:\tlearn: 0.1440635\ttotal: 155ms\tremaining: 1.09s\n",
      "62:\tlearn: 0.1427085\ttotal: 157ms\tremaining: 1.09s\n",
      "63:\tlearn: 0.1387681\ttotal: 160ms\tremaining: 1.09s\n",
      "64:\tlearn: 0.1370122\ttotal: 163ms\tremaining: 1.09s\n",
      "65:\tlearn: 0.1344179\ttotal: 165ms\tremaining: 1.09s\n",
      "66:\tlearn: 0.1313508\ttotal: 168ms\tremaining: 1.08s\n",
      "67:\tlearn: 0.1305117\ttotal: 170ms\tremaining: 1.08s\n",
      "68:\tlearn: 0.1294602\ttotal: 173ms\tremaining: 1.08s\n",
      "69:\tlearn: 0.1279491\ttotal: 175ms\tremaining: 1.07s\n",
      "70:\tlearn: 0.1233675\ttotal: 177ms\tremaining: 1.07s\n",
      "71:\tlearn: 0.1189612\ttotal: 180ms\tremaining: 1.07s\n",
      "72:\tlearn: 0.1156118\ttotal: 182ms\tremaining: 1.06s\n",
      "73:\tlearn: 0.1131551\ttotal: 185ms\tremaining: 1.06s\n",
      "74:\tlearn: 0.1119531\ttotal: 187ms\tremaining: 1.06s\n",
      "75:\tlearn: 0.1100803\ttotal: 189ms\tremaining: 1.06s\n",
      "76:\tlearn: 0.1092730\ttotal: 193ms\tremaining: 1.06s\n",
      "77:\tlearn: 0.1072057\ttotal: 196ms\tremaining: 1.06s\n",
      "78:\tlearn: 0.1051174\ttotal: 198ms\tremaining: 1.05s\n",
      "79:\tlearn: 0.1031574\ttotal: 201ms\tremaining: 1.05s\n",
      "80:\tlearn: 0.1021794\ttotal: 203ms\tremaining: 1.05s\n",
      "81:\tlearn: 0.1008535\ttotal: 205ms\tremaining: 1.05s\n",
      "82:\tlearn: 0.0987383\ttotal: 207ms\tremaining: 1.04s\n",
      "83:\tlearn: 0.0958812\ttotal: 210ms\tremaining: 1.04s\n",
      "84:\tlearn: 0.0954644\ttotal: 213ms\tremaining: 1.04s\n",
      "85:\tlearn: 0.0947749\ttotal: 215ms\tremaining: 1.03s\n",
      "86:\tlearn: 0.0935214\ttotal: 218ms\tremaining: 1.03s\n",
      "87:\tlearn: 0.0925203\ttotal: 220ms\tremaining: 1.03s\n",
      "88:\tlearn: 0.0907129\ttotal: 223ms\tremaining: 1.03s\n",
      "89:\tlearn: 0.0881239\ttotal: 226ms\tremaining: 1.03s\n",
      "90:\tlearn: 0.0868833\ttotal: 228ms\tremaining: 1.02s\n",
      "91:\tlearn: 0.0848620\ttotal: 231ms\tremaining: 1.02s\n",
      "92:\tlearn: 0.0834460\ttotal: 233ms\tremaining: 1.02s\n",
      "93:\tlearn: 0.0817241\ttotal: 235ms\tremaining: 1.02s\n",
      "94:\tlearn: 0.0788510\ttotal: 238ms\tremaining: 1.01s\n",
      "95:\tlearn: 0.0780233\ttotal: 240ms\tremaining: 1.01s\n",
      "96:\tlearn: 0.0770528\ttotal: 242ms\tremaining: 1.01s\n",
      "97:\tlearn: 0.0755066\ttotal: 244ms\tremaining: 1s\n",
      "98:\tlearn: 0.0738915\ttotal: 247ms\tremaining: 999ms\n",
      "99:\tlearn: 0.0727468\ttotal: 249ms\tremaining: 995ms\n",
      "100:\tlearn: 0.0715436\ttotal: 251ms\tremaining: 991ms\n",
      "101:\tlearn: 0.0691900\ttotal: 253ms\tremaining: 987ms\n",
      "102:\tlearn: 0.0674923\ttotal: 255ms\tremaining: 983ms\n",
      "103:\tlearn: 0.0665846\ttotal: 257ms\tremaining: 980ms\n",
      "104:\tlearn: 0.0655191\ttotal: 260ms\tremaining: 976ms\n",
      "105:\tlearn: 0.0647604\ttotal: 262ms\tremaining: 972ms\n",
      "106:\tlearn: 0.0632717\ttotal: 264ms\tremaining: 969ms\n",
      "107:\tlearn: 0.0626653\ttotal: 266ms\tremaining: 966ms\n",
      "108:\tlearn: 0.0620499\ttotal: 268ms\tremaining: 962ms\n",
      "109:\tlearn: 0.0614514\ttotal: 271ms\tremaining: 959ms\n",
      "110:\tlearn: 0.0603794\ttotal: 273ms\tremaining: 957ms\n",
      "111:\tlearn: 0.0599930\ttotal: 276ms\tremaining: 955ms\n",
      "112:\tlearn: 0.0595228\ttotal: 278ms\tremaining: 952ms\n",
      "113:\tlearn: 0.0589483\ttotal: 280ms\tremaining: 949ms\n",
      "114:\tlearn: 0.0586572\ttotal: 283ms\tremaining: 946ms\n",
      "115:\tlearn: 0.0581254\ttotal: 285ms\tremaining: 944ms\n",
      "116:\tlearn: 0.0573061\ttotal: 288ms\tremaining: 942ms\n",
      "117:\tlearn: 0.0564994\ttotal: 290ms\tremaining: 939ms\n",
      "118:\tlearn: 0.0559545\ttotal: 293ms\tremaining: 937ms\n",
      "119:\tlearn: 0.0557035\ttotal: 295ms\tremaining: 934ms\n",
      "120:\tlearn: 0.0551980\ttotal: 297ms\tremaining: 931ms\n",
      "121:\tlearn: 0.0549444\ttotal: 300ms\tremaining: 928ms\n",
      "122:\tlearn: 0.0544652\ttotal: 302ms\tremaining: 925ms\n",
      "123:\tlearn: 0.0529148\ttotal: 304ms\tremaining: 922ms\n",
      "124:\tlearn: 0.0522683\ttotal: 306ms\tremaining: 919ms\n",
      "125:\tlearn: 0.0516495\ttotal: 309ms\tremaining: 916ms\n",
      "126:\tlearn: 0.0514373\ttotal: 311ms\tremaining: 913ms\n",
      "127:\tlearn: 0.0512947\ttotal: 313ms\tremaining: 910ms\n",
      "128:\tlearn: 0.0506718\ttotal: 316ms\tremaining: 908ms\n",
      "129:\tlearn: 0.0502921\ttotal: 318ms\tremaining: 906ms\n",
      "130:\tlearn: 0.0499864\ttotal: 321ms\tremaining: 903ms\n",
      "131:\tlearn: 0.0487349\ttotal: 323ms\tremaining: 900ms\n",
      "132:\tlearn: 0.0479696\ttotal: 325ms\tremaining: 897ms\n",
      "133:\tlearn: 0.0467779\ttotal: 327ms\tremaining: 894ms\n",
      "134:\tlearn: 0.0464399\ttotal: 330ms\tremaining: 892ms\n",
      "135:\tlearn: 0.0458252\ttotal: 332ms\tremaining: 889ms\n",
      "136:\tlearn: 0.0452908\ttotal: 334ms\tremaining: 885ms\n",
      "137:\tlearn: 0.0447899\ttotal: 336ms\tremaining: 882ms\n",
      "138:\tlearn: 0.0443827\ttotal: 338ms\tremaining: 879ms\n",
      "139:\tlearn: 0.0442070\ttotal: 341ms\tremaining: 877ms\n",
      "140:\tlearn: 0.0435552\ttotal: 343ms\tremaining: 874ms\n",
      "141:\tlearn: 0.0431013\ttotal: 346ms\tremaining: 871ms\n",
      "142:\tlearn: 0.0420696\ttotal: 348ms\tremaining: 869ms\n",
      "143:\tlearn: 0.0415190\ttotal: 350ms\tremaining: 866ms\n",
      "144:\tlearn: 0.0408809\ttotal: 353ms\tremaining: 864ms\n",
      "145:\tlearn: 0.0403997\ttotal: 355ms\tremaining: 861ms\n",
      "146:\tlearn: 0.0401270\ttotal: 358ms\tremaining: 859ms\n",
      "147:\tlearn: 0.0393950\ttotal: 361ms\tremaining: 858ms\n",
      "148:\tlearn: 0.0386942\ttotal: 363ms\tremaining: 855ms\n",
      "149:\tlearn: 0.0383126\ttotal: 365ms\tremaining: 852ms\n",
      "150:\tlearn: 0.0380013\ttotal: 368ms\tremaining: 850ms\n",
      "151:\tlearn: 0.0376563\ttotal: 370ms\tremaining: 848ms\n",
      "152:\tlearn: 0.0374396\ttotal: 372ms\tremaining: 845ms\n",
      "153:\tlearn: 0.0365147\ttotal: 375ms\tremaining: 842ms\n",
      "154:\tlearn: 0.0362439\ttotal: 377ms\tremaining: 840ms\n",
      "155:\tlearn: 0.0359767\ttotal: 380ms\tremaining: 837ms\n",
      "156:\tlearn: 0.0353004\ttotal: 382ms\tremaining: 834ms\n",
      "157:\tlearn: 0.0350161\ttotal: 384ms\tremaining: 831ms\n",
      "158:\tlearn: 0.0343940\ttotal: 386ms\tremaining: 828ms\n",
      "159:\tlearn: 0.0341427\ttotal: 388ms\tremaining: 825ms\n"
     ]
    },
    {
     "name": "stdout",
     "output_type": "stream",
     "text": [
      "160:\tlearn: 0.0338072\ttotal: 391ms\tremaining: 824ms\n",
      "161:\tlearn: 0.0335774\ttotal: 394ms\tremaining: 822ms\n",
      "162:\tlearn: 0.0329795\ttotal: 396ms\tremaining: 820ms\n",
      "163:\tlearn: 0.0327960\ttotal: 399ms\tremaining: 817ms\n",
      "164:\tlearn: 0.0322374\ttotal: 402ms\tremaining: 815ms\n",
      "165:\tlearn: 0.0319742\ttotal: 404ms\tremaining: 813ms\n",
      "166:\tlearn: 0.0317978\ttotal: 406ms\tremaining: 810ms\n",
      "167:\tlearn: 0.0315930\ttotal: 409ms\tremaining: 808ms\n",
      "168:\tlearn: 0.0310805\ttotal: 411ms\tremaining: 805ms\n",
      "169:\tlearn: 0.0304885\ttotal: 413ms\tremaining: 803ms\n",
      "170:\tlearn: 0.0303018\ttotal: 416ms\tremaining: 800ms\n",
      "171:\tlearn: 0.0300978\ttotal: 418ms\tremaining: 797ms\n",
      "172:\tlearn: 0.0296375\ttotal: 420ms\tremaining: 794ms\n",
      "173:\tlearn: 0.0291657\ttotal: 423ms\tremaining: 792ms\n",
      "174:\tlearn: 0.0289417\ttotal: 425ms\tremaining: 789ms\n",
      "175:\tlearn: 0.0284880\ttotal: 427ms\tremaining: 786ms\n",
      "176:\tlearn: 0.0281016\ttotal: 430ms\tremaining: 784ms\n",
      "177:\tlearn: 0.0277612\ttotal: 432ms\tremaining: 782ms\n",
      "178:\tlearn: 0.0275723\ttotal: 435ms\tremaining: 780ms\n",
      "179:\tlearn: 0.0274307\ttotal: 437ms\tremaining: 778ms\n",
      "180:\tlearn: 0.0271312\ttotal: 440ms\tremaining: 775ms\n",
      "181:\tlearn: 0.0269803\ttotal: 442ms\tremaining: 772ms\n",
      "182:\tlearn: 0.0268527\ttotal: 445ms\tremaining: 770ms\n",
      "183:\tlearn: 0.0267002\ttotal: 447ms\tremaining: 768ms\n",
      "184:\tlearn: 0.0265656\ttotal: 450ms\tremaining: 766ms\n",
      "185:\tlearn: 0.0263226\ttotal: 453ms\tremaining: 764ms\n",
      "186:\tlearn: 0.0261654\ttotal: 455ms\tremaining: 761ms\n",
      "187:\tlearn: 0.0260638\ttotal: 457ms\tremaining: 758ms\n",
      "188:\tlearn: 0.0259169\ttotal: 459ms\tremaining: 756ms\n",
      "189:\tlearn: 0.0257392\ttotal: 462ms\tremaining: 754ms\n",
      "190:\tlearn: 0.0256465\ttotal: 465ms\tremaining: 752ms\n",
      "191:\tlearn: 0.0252678\ttotal: 467ms\tremaining: 749ms\n",
      "192:\tlearn: 0.0249996\ttotal: 469ms\tremaining: 747ms\n",
      "193:\tlearn: 0.0245373\ttotal: 472ms\tremaining: 744ms\n",
      "194:\tlearn: 0.0244394\ttotal: 474ms\tremaining: 741ms\n",
      "195:\tlearn: 0.0240490\ttotal: 476ms\tremaining: 739ms\n",
      "196:\tlearn: 0.0237520\ttotal: 479ms\tremaining: 737ms\n",
      "197:\tlearn: 0.0235072\ttotal: 482ms\tremaining: 735ms\n",
      "198:\tlearn: 0.0234302\ttotal: 484ms\tremaining: 732ms\n",
      "199:\tlearn: 0.0231006\ttotal: 486ms\tremaining: 729ms\n",
      "200:\tlearn: 0.0229211\ttotal: 489ms\tremaining: 727ms\n",
      "201:\tlearn: 0.0228485\ttotal: 491ms\tremaining: 724ms\n",
      "202:\tlearn: 0.0227579\ttotal: 493ms\tremaining: 722ms\n",
      "203:\tlearn: 0.0226415\ttotal: 496ms\tremaining: 719ms\n",
      "204:\tlearn: 0.0225742\ttotal: 498ms\tremaining: 717ms\n",
      "205:\tlearn: 0.0225080\ttotal: 500ms\tremaining: 714ms\n",
      "206:\tlearn: 0.0223754\ttotal: 503ms\tremaining: 711ms\n",
      "207:\tlearn: 0.0222817\ttotal: 505ms\tremaining: 709ms\n",
      "208:\tlearn: 0.0221470\ttotal: 507ms\tremaining: 706ms\n",
      "209:\tlearn: 0.0220010\ttotal: 510ms\tremaining: 704ms\n",
      "210:\tlearn: 0.0219580\ttotal: 512ms\tremaining: 701ms\n",
      "211:\tlearn: 0.0219102\ttotal: 514ms\tremaining: 698ms\n",
      "212:\tlearn: 0.0217553\ttotal: 516ms\tremaining: 696ms\n",
      "213:\tlearn: 0.0216728\ttotal: 519ms\tremaining: 693ms\n",
      "214:\tlearn: 0.0214291\ttotal: 521ms\tremaining: 691ms\n",
      "215:\tlearn: 0.0211445\ttotal: 523ms\tremaining: 688ms\n",
      "216:\tlearn: 0.0211144\ttotal: 526ms\tremaining: 685ms\n",
      "217:\tlearn: 0.0208890\ttotal: 528ms\tremaining: 683ms\n",
      "218:\tlearn: 0.0208351\ttotal: 530ms\tremaining: 680ms\n",
      "219:\tlearn: 0.0207916\ttotal: 532ms\tremaining: 678ms\n",
      "220:\tlearn: 0.0206629\ttotal: 534ms\tremaining: 675ms\n",
      "221:\tlearn: 0.0205690\ttotal: 537ms\tremaining: 672ms\n",
      "222:\tlearn: 0.0205203\ttotal: 539ms\tremaining: 669ms\n",
      "223:\tlearn: 0.0204842\ttotal: 541ms\tremaining: 667ms\n",
      "224:\tlearn: 0.0202109\ttotal: 543ms\tremaining: 664ms\n",
      "225:\tlearn: 0.0201487\ttotal: 545ms\tremaining: 661ms\n",
      "226:\tlearn: 0.0199660\ttotal: 548ms\tremaining: 659ms\n",
      "227:\tlearn: 0.0197216\ttotal: 550ms\tremaining: 656ms\n",
      "228:\tlearn: 0.0196572\ttotal: 552ms\tremaining: 653ms\n",
      "229:\tlearn: 0.0195830\ttotal: 554ms\tremaining: 651ms\n",
      "230:\tlearn: 0.0193927\ttotal: 556ms\tremaining: 648ms\n",
      "231:\tlearn: 0.0191924\ttotal: 559ms\tremaining: 645ms\n",
      "232:\tlearn: 0.0191463\ttotal: 561ms\tremaining: 643ms\n",
      "233:\tlearn: 0.0190676\ttotal: 563ms\tremaining: 640ms\n",
      "234:\tlearn: 0.0189650\ttotal: 566ms\tremaining: 638ms\n",
      "235:\tlearn: 0.0188710\ttotal: 568ms\tremaining: 636ms\n",
      "236:\tlearn: 0.0187323\ttotal: 570ms\tremaining: 633ms\n",
      "237:\tlearn: 0.0186551\ttotal: 573ms\tremaining: 631ms\n",
      "238:\tlearn: 0.0186094\ttotal: 575ms\tremaining: 628ms\n",
      "239:\tlearn: 0.0183619\ttotal: 578ms\tremaining: 626ms\n",
      "240:\tlearn: 0.0183310\ttotal: 581ms\tremaining: 624ms\n",
      "241:\tlearn: 0.0182819\ttotal: 583ms\tremaining: 622ms\n",
      "242:\tlearn: 0.0180822\ttotal: 586ms\tremaining: 620ms\n",
      "243:\tlearn: 0.0180391\ttotal: 588ms\tremaining: 617ms\n",
      "244:\tlearn: 0.0179316\ttotal: 590ms\tremaining: 615ms\n",
      "245:\tlearn: 0.0178470\ttotal: 593ms\tremaining: 612ms\n",
      "246:\tlearn: 0.0178107\ttotal: 595ms\tremaining: 609ms\n",
      "247:\tlearn: 0.0177777\ttotal: 597ms\tremaining: 607ms\n",
      "248:\tlearn: 0.0176914\ttotal: 600ms\tremaining: 605ms\n",
      "249:\tlearn: 0.0175770\ttotal: 602ms\tremaining: 602ms\n",
      "250:\tlearn: 0.0173877\ttotal: 605ms\tremaining: 600ms\n",
      "251:\tlearn: 0.0173377\ttotal: 607ms\tremaining: 598ms\n",
      "252:\tlearn: 0.0173074\ttotal: 609ms\tremaining: 595ms\n",
      "253:\tlearn: 0.0172917\ttotal: 611ms\tremaining: 592ms\n",
      "254:\tlearn: 0.0172059\ttotal: 614ms\tremaining: 590ms\n",
      "255:\tlearn: 0.0170706\ttotal: 616ms\tremaining: 587ms\n",
      "256:\tlearn: 0.0169902\ttotal: 618ms\tremaining: 585ms\n",
      "257:\tlearn: 0.0168282\ttotal: 620ms\tremaining: 582ms\n",
      "258:\tlearn: 0.0167510\ttotal: 623ms\tremaining: 579ms\n",
      "259:\tlearn: 0.0166383\ttotal: 625ms\tremaining: 577ms\n",
      "260:\tlearn: 0.0165557\ttotal: 627ms\tremaining: 574ms\n",
      "261:\tlearn: 0.0164872\ttotal: 629ms\tremaining: 571ms\n",
      "262:\tlearn: 0.0164223\ttotal: 631ms\tremaining: 569ms\n",
      "263:\tlearn: 0.0163297\ttotal: 633ms\tremaining: 566ms\n",
      "264:\tlearn: 0.0162844\ttotal: 635ms\tremaining: 563ms\n",
      "265:\tlearn: 0.0161839\ttotal: 638ms\tremaining: 561ms\n",
      "266:\tlearn: 0.0160945\ttotal: 640ms\tremaining: 559ms\n",
      "267:\tlearn: 0.0159948\ttotal: 642ms\tremaining: 556ms\n",
      "268:\tlearn: 0.0158684\ttotal: 644ms\tremaining: 553ms\n",
      "269:\tlearn: 0.0158030\ttotal: 646ms\tremaining: 551ms\n",
      "270:\tlearn: 0.0157458\ttotal: 649ms\tremaining: 548ms\n",
      "271:\tlearn: 0.0156560\ttotal: 651ms\tremaining: 545ms\n",
      "272:\tlearn: 0.0155199\ttotal: 653ms\tremaining: 543ms\n",
      "273:\tlearn: 0.0153950\ttotal: 655ms\tremaining: 540ms\n",
      "274:\tlearn: 0.0152968\ttotal: 657ms\tremaining: 537ms\n",
      "275:\tlearn: 0.0152034\ttotal: 659ms\tremaining: 535ms\n",
      "276:\tlearn: 0.0151640\ttotal: 661ms\tremaining: 532ms\n",
      "277:\tlearn: 0.0151260\ttotal: 664ms\tremaining: 530ms\n",
      "278:\tlearn: 0.0150455\ttotal: 666ms\tremaining: 527ms\n",
      "279:\tlearn: 0.0148798\ttotal: 668ms\tremaining: 525ms\n",
      "280:\tlearn: 0.0147191\ttotal: 670ms\tremaining: 522ms\n",
      "281:\tlearn: 0.0146499\ttotal: 672ms\tremaining: 520ms\n",
      "282:\tlearn: 0.0145855\ttotal: 676ms\tremaining: 519ms\n",
      "283:\tlearn: 0.0145532\ttotal: 679ms\tremaining: 517ms\n",
      "284:\tlearn: 0.0144947\ttotal: 682ms\tremaining: 514ms\n",
      "285:\tlearn: 0.0144561\ttotal: 684ms\tremaining: 512ms\n",
      "286:\tlearn: 0.0143850\ttotal: 686ms\tremaining: 509ms\n",
      "287:\tlearn: 0.0142783\ttotal: 688ms\tremaining: 506ms\n",
      "288:\tlearn: 0.0142308\ttotal: 690ms\tremaining: 504ms\n",
      "289:\tlearn: 0.0141900\ttotal: 692ms\tremaining: 501ms\n",
      "290:\tlearn: 0.0141035\ttotal: 694ms\tremaining: 499ms\n",
      "291:\tlearn: 0.0140465\ttotal: 696ms\tremaining: 496ms\n",
      "292:\tlearn: 0.0140116\ttotal: 698ms\tremaining: 493ms\n",
      "293:\tlearn: 0.0138967\ttotal: 700ms\tremaining: 491ms\n",
      "294:\tlearn: 0.0138528\ttotal: 703ms\tremaining: 488ms\n",
      "295:\tlearn: 0.0137305\ttotal: 705ms\tremaining: 486ms\n",
      "296:\tlearn: 0.0136235\ttotal: 707ms\tremaining: 483ms\n",
      "297:\tlearn: 0.0135946\ttotal: 709ms\tremaining: 481ms\n",
      "298:\tlearn: 0.0135669\ttotal: 711ms\tremaining: 478ms\n",
      "299:\tlearn: 0.0135034\ttotal: 713ms\tremaining: 476ms\n",
      "300:\tlearn: 0.0134420\ttotal: 715ms\tremaining: 473ms\n",
      "301:\tlearn: 0.0133500\ttotal: 718ms\tremaining: 470ms\n",
      "302:\tlearn: 0.0132991\ttotal: 720ms\tremaining: 468ms\n",
      "303:\tlearn: 0.0131682\ttotal: 722ms\tremaining: 466ms\n",
      "304:\tlearn: 0.0130941\ttotal: 724ms\tremaining: 463ms\n",
      "305:\tlearn: 0.0129833\ttotal: 727ms\tremaining: 461ms\n",
      "306:\tlearn: 0.0129016\ttotal: 729ms\tremaining: 458ms\n",
      "307:\tlearn: 0.0128338\ttotal: 731ms\tremaining: 456ms\n",
      "308:\tlearn: 0.0127383\ttotal: 733ms\tremaining: 453ms\n",
      "309:\tlearn: 0.0126448\ttotal: 736ms\tremaining: 451ms\n",
      "310:\tlearn: 0.0125994\ttotal: 738ms\tremaining: 449ms\n",
      "311:\tlearn: 0.0125029\ttotal: 740ms\tremaining: 446ms\n",
      "312:\tlearn: 0.0123926\ttotal: 742ms\tremaining: 444ms\n",
      "313:\tlearn: 0.0123313\ttotal: 745ms\tremaining: 441ms\n",
      "314:\tlearn: 0.0122022\ttotal: 747ms\tremaining: 439ms\n",
      "315:\tlearn: 0.0121714\ttotal: 749ms\tremaining: 436ms\n",
      "316:\tlearn: 0.0120476\ttotal: 752ms\tremaining: 434ms\n",
      "317:\tlearn: 0.0119357\ttotal: 755ms\tremaining: 432ms\n",
      "318:\tlearn: 0.0118454\ttotal: 758ms\tremaining: 430ms\n",
      "319:\tlearn: 0.0117716\ttotal: 761ms\tremaining: 428ms\n",
      "320:\tlearn: 0.0117024\ttotal: 764ms\tremaining: 426ms\n",
      "321:\tlearn: 0.0116581\ttotal: 766ms\tremaining: 424ms\n",
      "322:\tlearn: 0.0116046\ttotal: 769ms\tremaining: 421ms\n",
      "323:\tlearn: 0.0115471\ttotal: 771ms\tremaining: 419ms\n",
      "324:\tlearn: 0.0115021\ttotal: 774ms\tremaining: 417ms\n",
      "325:\tlearn: 0.0114594\ttotal: 777ms\tremaining: 415ms\n",
      "326:\tlearn: 0.0114110\ttotal: 780ms\tremaining: 413ms\n",
      "327:\tlearn: 0.0113425\ttotal: 782ms\tremaining: 410ms\n",
      "328:\tlearn: 0.0112830\ttotal: 785ms\tremaining: 408ms\n",
      "329:\tlearn: 0.0112152\ttotal: 787ms\tremaining: 406ms\n",
      "330:\tlearn: 0.0111873\ttotal: 789ms\tremaining: 403ms\n",
      "331:\tlearn: 0.0111519\ttotal: 792ms\tremaining: 401ms\n",
      "332:\tlearn: 0.0111267\ttotal: 794ms\tremaining: 398ms\n",
      "333:\tlearn: 0.0110904\ttotal: 797ms\tremaining: 396ms\n",
      "334:\tlearn: 0.0110589\ttotal: 799ms\tremaining: 394ms\n",
      "335:\tlearn: 0.0110208\ttotal: 802ms\tremaining: 391ms\n",
      "336:\tlearn: 0.0109836\ttotal: 804ms\tremaining: 389ms\n",
      "337:\tlearn: 0.0109428\ttotal: 806ms\tremaining: 386ms\n",
      "338:\tlearn: 0.0108852\ttotal: 809ms\tremaining: 384ms\n",
      "339:\tlearn: 0.0108730\ttotal: 811ms\tremaining: 382ms\n",
      "340:\tlearn: 0.0108534\ttotal: 813ms\tremaining: 379ms\n",
      "341:\tlearn: 0.0107925\ttotal: 815ms\tremaining: 377ms\n",
      "342:\tlearn: 0.0107272\ttotal: 818ms\tremaining: 374ms\n",
      "343:\tlearn: 0.0107065\ttotal: 820ms\tremaining: 372ms\n",
      "344:\tlearn: 0.0106402\ttotal: 823ms\tremaining: 370ms\n",
      "345:\tlearn: 0.0106021\ttotal: 826ms\tremaining: 368ms\n",
      "346:\tlearn: 0.0105690\ttotal: 828ms\tremaining: 365ms\n",
      "347:\tlearn: 0.0105137\ttotal: 830ms\tremaining: 363ms\n",
      "348:\tlearn: 0.0104831\ttotal: 833ms\tremaining: 360ms\n",
      "349:\tlearn: 0.0104493\ttotal: 835ms\tremaining: 358ms\n",
      "350:\tlearn: 0.0104136\ttotal: 837ms\tremaining: 355ms\n",
      "351:\tlearn: 0.0103155\ttotal: 840ms\tremaining: 353ms\n",
      "352:\tlearn: 0.0102848\ttotal: 842ms\tremaining: 351ms\n",
      "353:\tlearn: 0.0102501\ttotal: 845ms\tremaining: 348ms\n",
      "354:\tlearn: 0.0102264\ttotal: 847ms\tremaining: 346ms\n",
      "355:\tlearn: 0.0101640\ttotal: 851ms\tremaining: 344ms\n",
      "356:\tlearn: 0.0101350\ttotal: 854ms\tremaining: 342ms\n",
      "357:\tlearn: 0.0100725\ttotal: 856ms\tremaining: 340ms\n",
      "358:\tlearn: 0.0100335\ttotal: 859ms\tremaining: 337ms\n",
      "359:\tlearn: 0.0100080\ttotal: 862ms\tremaining: 335ms\n",
      "360:\tlearn: 0.0099896\ttotal: 865ms\tremaining: 333ms\n",
      "361:\tlearn: 0.0099514\ttotal: 867ms\tremaining: 331ms\n",
      "362:\tlearn: 0.0099214\ttotal: 870ms\tremaining: 328ms\n",
      "363:\tlearn: 0.0098782\ttotal: 873ms\tremaining: 326ms\n",
      "364:\tlearn: 0.0098415\ttotal: 875ms\tremaining: 324ms\n",
      "365:\tlearn: 0.0098285\ttotal: 878ms\tremaining: 322ms\n",
      "366:\tlearn: 0.0097490\ttotal: 881ms\tremaining: 319ms\n",
      "367:\tlearn: 0.0097067\ttotal: 884ms\tremaining: 317ms\n",
      "368:\tlearn: 0.0096950\ttotal: 887ms\tremaining: 315ms\n",
      "369:\tlearn: 0.0096336\ttotal: 889ms\tremaining: 312ms\n",
      "370:\tlearn: 0.0096157\ttotal: 892ms\tremaining: 310ms\n",
      "371:\tlearn: 0.0095438\ttotal: 894ms\tremaining: 308ms\n",
      "372:\tlearn: 0.0095156\ttotal: 897ms\tremaining: 305ms\n",
      "373:\tlearn: 0.0094907\ttotal: 900ms\tremaining: 303ms\n",
      "374:\tlearn: 0.0093902\ttotal: 902ms\tremaining: 301ms\n",
      "375:\tlearn: 0.0093766\ttotal: 905ms\tremaining: 298ms\n",
      "376:\tlearn: 0.0093517\ttotal: 907ms\tremaining: 296ms\n",
      "377:\tlearn: 0.0093012\ttotal: 911ms\tremaining: 294ms\n",
      "378:\tlearn: 0.0092878\ttotal: 914ms\tremaining: 292ms\n",
      "379:\tlearn: 0.0092691\ttotal: 917ms\tremaining: 290ms\n",
      "380:\tlearn: 0.0092290\ttotal: 920ms\tremaining: 287ms\n",
      "381:\tlearn: 0.0091998\ttotal: 922ms\tremaining: 285ms\n",
      "382:\tlearn: 0.0091256\ttotal: 925ms\tremaining: 283ms\n",
      "383:\tlearn: 0.0091121\ttotal: 928ms\tremaining: 280ms\n",
      "384:\tlearn: 0.0091064\ttotal: 931ms\tremaining: 278ms\n"
     ]
    },
    {
     "name": "stdout",
     "output_type": "stream",
     "text": [
      "385:\tlearn: 0.0090955\ttotal: 935ms\tremaining: 276ms\n",
      "386:\tlearn: 0.0090497\ttotal: 938ms\tremaining: 274ms\n",
      "387:\tlearn: 0.0090123\ttotal: 941ms\tremaining: 272ms\n",
      "388:\tlearn: 0.0089930\ttotal: 943ms\tremaining: 269ms\n",
      "389:\tlearn: 0.0089439\ttotal: 946ms\tremaining: 267ms\n",
      "390:\tlearn: 0.0088940\ttotal: 949ms\tremaining: 265ms\n",
      "391:\tlearn: 0.0088650\ttotal: 953ms\tremaining: 263ms\n",
      "392:\tlearn: 0.0088410\ttotal: 956ms\tremaining: 260ms\n",
      "393:\tlearn: 0.0088237\ttotal: 958ms\tremaining: 258ms\n",
      "394:\tlearn: 0.0087626\ttotal: 961ms\tremaining: 255ms\n",
      "395:\tlearn: 0.0087226\ttotal: 963ms\tremaining: 253ms\n",
      "396:\tlearn: 0.0086677\ttotal: 966ms\tremaining: 251ms\n",
      "397:\tlearn: 0.0086433\ttotal: 968ms\tremaining: 248ms\n",
      "398:\tlearn: 0.0085790\ttotal: 972ms\tremaining: 246ms\n",
      "399:\tlearn: 0.0085669\ttotal: 974ms\tremaining: 244ms\n",
      "400:\tlearn: 0.0085509\ttotal: 977ms\tremaining: 241ms\n",
      "401:\tlearn: 0.0085346\ttotal: 980ms\tremaining: 239ms\n",
      "402:\tlearn: 0.0085287\ttotal: 983ms\tremaining: 237ms\n",
      "403:\tlearn: 0.0084707\ttotal: 986ms\tremaining: 234ms\n",
      "404:\tlearn: 0.0084475\ttotal: 989ms\tremaining: 232ms\n",
      "405:\tlearn: 0.0084314\ttotal: 991ms\tremaining: 230ms\n",
      "406:\tlearn: 0.0084091\ttotal: 994ms\tremaining: 227ms\n",
      "407:\tlearn: 0.0083837\ttotal: 997ms\tremaining: 225ms\n",
      "408:\tlearn: 0.0083496\ttotal: 999ms\tremaining: 222ms\n",
      "409:\tlearn: 0.0083313\ttotal: 1s\tremaining: 220ms\n",
      "410:\tlearn: 0.0083206\ttotal: 1s\tremaining: 217ms\n",
      "411:\tlearn: 0.0083029\ttotal: 1.01s\tremaining: 215ms\n",
      "412:\tlearn: 0.0082938\ttotal: 1.01s\tremaining: 213ms\n",
      "413:\tlearn: 0.0082923\ttotal: 1.01s\tremaining: 210ms\n",
      "414:\tlearn: 0.0082923\ttotal: 1.01s\tremaining: 207ms\n",
      "415:\tlearn: 0.0082825\ttotal: 1.01s\tremaining: 205ms\n",
      "416:\tlearn: 0.0082586\ttotal: 1.02s\tremaining: 202ms\n",
      "417:\tlearn: 0.0082456\ttotal: 1.02s\tremaining: 200ms\n",
      "418:\tlearn: 0.0082224\ttotal: 1.02s\tremaining: 198ms\n",
      "419:\tlearn: 0.0081660\ttotal: 1.02s\tremaining: 195ms\n",
      "420:\tlearn: 0.0081554\ttotal: 1.03s\tremaining: 193ms\n",
      "421:\tlearn: 0.0081317\ttotal: 1.03s\tremaining: 190ms\n",
      "422:\tlearn: 0.0081032\ttotal: 1.03s\tremaining: 188ms\n",
      "423:\tlearn: 0.0080924\ttotal: 1.03s\tremaining: 185ms\n",
      "424:\tlearn: 0.0080926\ttotal: 1.03s\tremaining: 183ms\n",
      "425:\tlearn: 0.0080819\ttotal: 1.04s\tremaining: 180ms\n",
      "426:\tlearn: 0.0080711\ttotal: 1.04s\tremaining: 178ms\n",
      "427:\tlearn: 0.0080393\ttotal: 1.04s\tremaining: 175ms\n",
      "428:\tlearn: 0.0080237\ttotal: 1.04s\tremaining: 173ms\n",
      "429:\tlearn: 0.0080096\ttotal: 1.05s\tremaining: 170ms\n",
      "430:\tlearn: 0.0079993\ttotal: 1.05s\tremaining: 168ms\n",
      "431:\tlearn: 0.0079931\ttotal: 1.05s\tremaining: 166ms\n",
      "432:\tlearn: 0.0079902\ttotal: 1.05s\tremaining: 163ms\n",
      "433:\tlearn: 0.0079816\ttotal: 1.06s\tremaining: 161ms\n",
      "434:\tlearn: 0.0079661\ttotal: 1.06s\tremaining: 158ms\n",
      "435:\tlearn: 0.0079503\ttotal: 1.06s\tremaining: 156ms\n",
      "436:\tlearn: 0.0079357\ttotal: 1.06s\tremaining: 153ms\n",
      "437:\tlearn: 0.0079062\ttotal: 1.07s\tremaining: 151ms\n",
      "438:\tlearn: 0.0078867\ttotal: 1.07s\tremaining: 149ms\n",
      "439:\tlearn: 0.0078826\ttotal: 1.07s\tremaining: 146ms\n",
      "440:\tlearn: 0.0078826\ttotal: 1.07s\tremaining: 144ms\n",
      "441:\tlearn: 0.0078783\ttotal: 1.07s\tremaining: 141ms\n",
      "442:\tlearn: 0.0078563\ttotal: 1.08s\tremaining: 139ms\n",
      "443:\tlearn: 0.0078144\ttotal: 1.08s\tremaining: 136ms\n",
      "444:\tlearn: 0.0078039\ttotal: 1.08s\tremaining: 134ms\n",
      "445:\tlearn: 0.0077845\ttotal: 1.08s\tremaining: 131ms\n",
      "446:\tlearn: 0.0077660\ttotal: 1.09s\tremaining: 129ms\n",
      "447:\tlearn: 0.0077485\ttotal: 1.09s\tremaining: 127ms\n",
      "448:\tlearn: 0.0077320\ttotal: 1.09s\tremaining: 124ms\n",
      "449:\tlearn: 0.0077079\ttotal: 1.09s\tremaining: 122ms\n",
      "450:\tlearn: 0.0076802\ttotal: 1.1s\tremaining: 119ms\n",
      "451:\tlearn: 0.0076619\ttotal: 1.1s\tremaining: 117ms\n",
      "452:\tlearn: 0.0076466\ttotal: 1.1s\tremaining: 114ms\n",
      "453:\tlearn: 0.0076266\ttotal: 1.1s\tremaining: 112ms\n",
      "454:\tlearn: 0.0076125\ttotal: 1.11s\tremaining: 109ms\n",
      "455:\tlearn: 0.0076049\ttotal: 1.11s\tremaining: 107ms\n",
      "456:\tlearn: 0.0075832\ttotal: 1.11s\tremaining: 105ms\n",
      "457:\tlearn: 0.0075830\ttotal: 1.11s\tremaining: 102ms\n",
      "458:\tlearn: 0.0075691\ttotal: 1.12s\tremaining: 99.7ms\n",
      "459:\tlearn: 0.0075551\ttotal: 1.12s\tremaining: 97.4ms\n",
      "460:\tlearn: 0.0075490\ttotal: 1.12s\tremaining: 95ms\n",
      "461:\tlearn: 0.0075487\ttotal: 1.13s\tremaining: 92.6ms\n",
      "462:\tlearn: 0.0075407\ttotal: 1.13s\tremaining: 90.1ms\n",
      "463:\tlearn: 0.0075373\ttotal: 1.13s\tremaining: 87.7ms\n",
      "464:\tlearn: 0.0075197\ttotal: 1.13s\tremaining: 85.3ms\n",
      "465:\tlearn: 0.0075158\ttotal: 1.14s\tremaining: 82.8ms\n",
      "466:\tlearn: 0.0075043\ttotal: 1.14s\tremaining: 80.4ms\n",
      "467:\tlearn: 0.0074959\ttotal: 1.14s\tremaining: 78ms\n",
      "468:\tlearn: 0.0074930\ttotal: 1.14s\tremaining: 75.6ms\n",
      "469:\tlearn: 0.0074928\ttotal: 1.15s\tremaining: 73.2ms\n",
      "470:\tlearn: 0.0074670\ttotal: 1.15s\tremaining: 70.7ms\n",
      "471:\tlearn: 0.0074442\ttotal: 1.15s\tremaining: 68.3ms\n",
      "472:\tlearn: 0.0074301\ttotal: 1.15s\tremaining: 65.9ms\n",
      "473:\tlearn: 0.0073959\ttotal: 1.16s\tremaining: 63.4ms\n",
      "474:\tlearn: 0.0073711\ttotal: 1.16s\tremaining: 61ms\n",
      "475:\tlearn: 0.0073710\ttotal: 1.16s\tremaining: 58.5ms\n",
      "476:\tlearn: 0.0073677\ttotal: 1.16s\tremaining: 56.1ms\n",
      "477:\tlearn: 0.0073570\ttotal: 1.16s\tremaining: 53.6ms\n",
      "478:\tlearn: 0.0073242\ttotal: 1.17s\tremaining: 51.2ms\n",
      "479:\tlearn: 0.0072987\ttotal: 1.17s\tremaining: 48.7ms\n",
      "480:\tlearn: 0.0072931\ttotal: 1.17s\tremaining: 46.3ms\n",
      "481:\tlearn: 0.0072812\ttotal: 1.18s\tremaining: 43.9ms\n",
      "482:\tlearn: 0.0072809\ttotal: 1.18s\tremaining: 41.4ms\n",
      "483:\tlearn: 0.0072677\ttotal: 1.18s\tremaining: 39ms\n",
      "484:\tlearn: 0.0072589\ttotal: 1.18s\tremaining: 36.6ms\n",
      "485:\tlearn: 0.0072349\ttotal: 1.18s\tremaining: 34.1ms\n",
      "486:\tlearn: 0.0072257\ttotal: 1.19s\tremaining: 31.7ms\n",
      "487:\tlearn: 0.0072012\ttotal: 1.19s\tremaining: 29.2ms\n",
      "488:\tlearn: 0.0072012\ttotal: 1.19s\tremaining: 26.8ms\n",
      "489:\tlearn: 0.0071979\ttotal: 1.19s\tremaining: 24.4ms\n",
      "490:\tlearn: 0.0071953\ttotal: 1.2s\tremaining: 21.9ms\n",
      "491:\tlearn: 0.0071953\ttotal: 1.2s\tremaining: 19.5ms\n",
      "492:\tlearn: 0.0071952\ttotal: 1.2s\tremaining: 17ms\n",
      "493:\tlearn: 0.0071851\ttotal: 1.2s\tremaining: 14.6ms\n",
      "494:\tlearn: 0.0071850\ttotal: 1.2s\tremaining: 12.2ms\n",
      "495:\tlearn: 0.0071647\ttotal: 1.21s\tremaining: 9.72ms\n",
      "496:\tlearn: 0.0071538\ttotal: 1.21s\tremaining: 7.29ms\n",
      "497:\tlearn: 0.0071510\ttotal: 1.21s\tremaining: 4.86ms\n",
      "498:\tlearn: 0.0071262\ttotal: 1.21s\tremaining: 2.43ms\n",
      "499:\tlearn: 0.0071244\ttotal: 1.21s\tremaining: 0us\n",
      "0:\tlearn: 0.6323944\ttotal: 2.19ms\tremaining: 1.09s\n",
      "1:\tlearn: 0.5877253\ttotal: 4.39ms\tremaining: 1.09s\n",
      "2:\tlearn: 0.5554532\ttotal: 6.32ms\tremaining: 1.05s\n",
      "3:\tlearn: 0.5251565\ttotal: 8.27ms\tremaining: 1.02s\n",
      "4:\tlearn: 0.5068877\ttotal: 10.2ms\tremaining: 1.01s\n",
      "5:\tlearn: 0.4918749\ttotal: 12.2ms\tremaining: 1s\n",
      "6:\tlearn: 0.4700140\ttotal: 14.2ms\tremaining: 1s\n",
      "7:\tlearn: 0.4519426\ttotal: 16.2ms\tremaining: 998ms\n",
      "8:\tlearn: 0.4329032\ttotal: 18ms\tremaining: 983ms\n",
      "9:\tlearn: 0.4095414\ttotal: 20ms\tremaining: 980ms\n",
      "10:\tlearn: 0.4062018\ttotal: 21.8ms\tremaining: 971ms\n",
      "11:\tlearn: 0.3933425\ttotal: 23.8ms\tremaining: 968ms\n",
      "12:\tlearn: 0.3809305\ttotal: 26.8ms\tremaining: 1s\n",
      "13:\tlearn: 0.3729578\ttotal: 29.6ms\tremaining: 1.03s\n",
      "14:\tlearn: 0.3642690\ttotal: 31.9ms\tremaining: 1.03s\n",
      "15:\tlearn: 0.3582694\ttotal: 34ms\tremaining: 1.03s\n",
      "16:\tlearn: 0.3538463\ttotal: 36.3ms\tremaining: 1.03s\n",
      "17:\tlearn: 0.3335774\ttotal: 38.7ms\tremaining: 1.04s\n",
      "18:\tlearn: 0.3164516\ttotal: 41ms\tremaining: 1.04s\n",
      "19:\tlearn: 0.3083818\ttotal: 43.6ms\tremaining: 1.05s\n",
      "20:\tlearn: 0.3029447\ttotal: 45.9ms\tremaining: 1.05s\n",
      "21:\tlearn: 0.3003100\ttotal: 47.8ms\tremaining: 1.04s\n",
      "22:\tlearn: 0.2922436\ttotal: 50.6ms\tremaining: 1.05s\n",
      "23:\tlearn: 0.2813129\ttotal: 53.3ms\tremaining: 1.06s\n",
      "24:\tlearn: 0.2719934\ttotal: 56ms\tremaining: 1.06s\n",
      "25:\tlearn: 0.2665314\ttotal: 58.3ms\tremaining: 1.06s\n",
      "26:\tlearn: 0.2613422\ttotal: 60.4ms\tremaining: 1.06s\n",
      "27:\tlearn: 0.2542828\ttotal: 62.5ms\tremaining: 1.05s\n",
      "28:\tlearn: 0.2507107\ttotal: 64.6ms\tremaining: 1.05s\n",
      "29:\tlearn: 0.2423769\ttotal: 66.6ms\tremaining: 1.04s\n",
      "30:\tlearn: 0.2381062\ttotal: 68.8ms\tremaining: 1.04s\n",
      "31:\tlearn: 0.2342608\ttotal: 70.8ms\tremaining: 1.03s\n",
      "32:\tlearn: 0.2238621\ttotal: 73.4ms\tremaining: 1.04s\n",
      "33:\tlearn: 0.2215029\ttotal: 75.5ms\tremaining: 1.03s\n",
      "34:\tlearn: 0.2183040\ttotal: 77.6ms\tremaining: 1.03s\n",
      "35:\tlearn: 0.2144230\ttotal: 79.7ms\tremaining: 1.03s\n",
      "36:\tlearn: 0.2112858\ttotal: 81.6ms\tremaining: 1.02s\n",
      "37:\tlearn: 0.2100190\ttotal: 83.7ms\tremaining: 1.02s\n",
      "38:\tlearn: 0.2069675\ttotal: 85.6ms\tremaining: 1.01s\n",
      "39:\tlearn: 0.2011439\ttotal: 87.7ms\tremaining: 1.01s\n",
      "40:\tlearn: 0.1979899\ttotal: 89.8ms\tremaining: 1s\n",
      "41:\tlearn: 0.1951809\ttotal: 91.7ms\tremaining: 1s\n",
      "42:\tlearn: 0.1922845\ttotal: 93.8ms\tremaining: 997ms\n",
      "43:\tlearn: 0.1899848\ttotal: 95.9ms\tremaining: 994ms\n",
      "44:\tlearn: 0.1871518\ttotal: 98.1ms\tremaining: 991ms\n",
      "45:\tlearn: 0.1849821\ttotal: 100ms\tremaining: 987ms\n",
      "46:\tlearn: 0.1839261\ttotal: 102ms\tremaining: 984ms\n",
      "47:\tlearn: 0.1802081\ttotal: 104ms\tremaining: 981ms\n",
      "48:\tlearn: 0.1786582\ttotal: 107ms\tremaining: 980ms\n",
      "49:\tlearn: 0.1745182\ttotal: 109ms\tremaining: 978ms\n",
      "50:\tlearn: 0.1727674\ttotal: 111ms\tremaining: 975ms\n",
      "51:\tlearn: 0.1699592\ttotal: 113ms\tremaining: 974ms\n",
      "52:\tlearn: 0.1642942\ttotal: 115ms\tremaining: 971ms\n",
      "53:\tlearn: 0.1640437\ttotal: 117ms\tremaining: 966ms\n",
      "54:\tlearn: 0.1603739\ttotal: 119ms\tremaining: 964ms\n",
      "55:\tlearn: 0.1561471\ttotal: 121ms\tremaining: 961ms\n",
      "56:\tlearn: 0.1522507\ttotal: 129ms\tremaining: 1s\n",
      "57:\tlearn: 0.1506500\ttotal: 132ms\tremaining: 1s\n",
      "58:\tlearn: 0.1496281\ttotal: 134ms\tremaining: 1s\n",
      "59:\tlearn: 0.1460016\ttotal: 137ms\tremaining: 1s\n",
      "60:\tlearn: 0.1418374\ttotal: 139ms\tremaining: 1s\n",
      "61:\tlearn: 0.1408461\ttotal: 142ms\tremaining: 1s\n",
      "62:\tlearn: 0.1376763\ttotal: 145ms\tremaining: 1s\n",
      "63:\tlearn: 0.1341817\ttotal: 147ms\tremaining: 1s\n",
      "64:\tlearn: 0.1318127\ttotal: 150ms\tremaining: 1s\n",
      "65:\tlearn: 0.1285786\ttotal: 152ms\tremaining: 1s\n",
      "66:\tlearn: 0.1244004\ttotal: 155ms\tremaining: 1s\n",
      "67:\tlearn: 0.1239202\ttotal: 158ms\tremaining: 1s\n",
      "68:\tlearn: 0.1223268\ttotal: 160ms\tremaining: 1s\n",
      "69:\tlearn: 0.1195179\ttotal: 163ms\tremaining: 999ms\n",
      "70:\tlearn: 0.1178496\ttotal: 165ms\tremaining: 996ms\n",
      "71:\tlearn: 0.1152392\ttotal: 167ms\tremaining: 992ms\n",
      "72:\tlearn: 0.1150343\ttotal: 169ms\tremaining: 990ms\n",
      "73:\tlearn: 0.1140431\ttotal: 171ms\tremaining: 986ms\n",
      "74:\tlearn: 0.1127164\ttotal: 173ms\tremaining: 983ms\n",
      "75:\tlearn: 0.1099562\ttotal: 176ms\tremaining: 980ms\n",
      "76:\tlearn: 0.1084792\ttotal: 178ms\tremaining: 976ms\n",
      "77:\tlearn: 0.1054163\ttotal: 180ms\tremaining: 973ms\n",
      "78:\tlearn: 0.1035739\ttotal: 182ms\tremaining: 970ms\n",
      "79:\tlearn: 0.1028330\ttotal: 184ms\tremaining: 967ms\n",
      "80:\tlearn: 0.1014662\ttotal: 186ms\tremaining: 963ms\n",
      "81:\tlearn: 0.0995026\ttotal: 188ms\tremaining: 960ms\n",
      "82:\tlearn: 0.0975568\ttotal: 190ms\tremaining: 957ms\n",
      "83:\tlearn: 0.0966799\ttotal: 193ms\tremaining: 953ms\n",
      "84:\tlearn: 0.0944882\ttotal: 195ms\tremaining: 950ms\n",
      "85:\tlearn: 0.0911479\ttotal: 197ms\tremaining: 946ms\n",
      "86:\tlearn: 0.0892818\ttotal: 199ms\tremaining: 944ms\n",
      "87:\tlearn: 0.0891618\ttotal: 201ms\tremaining: 940ms\n",
      "88:\tlearn: 0.0886458\ttotal: 203ms\tremaining: 937ms\n",
      "89:\tlearn: 0.0885391\ttotal: 205ms\tremaining: 934ms\n"
     ]
    },
    {
     "name": "stdout",
     "output_type": "stream",
     "text": [
      "90:\tlearn: 0.0883384\ttotal: 207ms\tremaining: 931ms\n",
      "91:\tlearn: 0.0855082\ttotal: 210ms\tremaining: 933ms\n",
      "92:\tlearn: 0.0846074\ttotal: 213ms\tremaining: 933ms\n",
      "93:\tlearn: 0.0841990\ttotal: 215ms\tremaining: 931ms\n",
      "94:\tlearn: 0.0839216\ttotal: 218ms\tremaining: 928ms\n",
      "95:\tlearn: 0.0823547\ttotal: 220ms\tremaining: 927ms\n",
      "96:\tlearn: 0.0821284\ttotal: 223ms\tremaining: 925ms\n",
      "97:\tlearn: 0.0803966\ttotal: 225ms\tremaining: 922ms\n",
      "98:\tlearn: 0.0796988\ttotal: 227ms\tremaining: 919ms\n",
      "99:\tlearn: 0.0787663\ttotal: 229ms\tremaining: 917ms\n",
      "100:\tlearn: 0.0776030\ttotal: 232ms\tremaining: 916ms\n",
      "101:\tlearn: 0.0768604\ttotal: 235ms\tremaining: 916ms\n",
      "102:\tlearn: 0.0768303\ttotal: 237ms\tremaining: 912ms\n",
      "103:\tlearn: 0.0758017\ttotal: 240ms\tremaining: 913ms\n",
      "104:\tlearn: 0.0754905\ttotal: 242ms\tremaining: 910ms\n",
      "105:\tlearn: 0.0751822\ttotal: 244ms\tremaining: 906ms\n",
      "106:\tlearn: 0.0748586\ttotal: 246ms\tremaining: 903ms\n",
      "107:\tlearn: 0.0726857\ttotal: 248ms\tremaining: 899ms\n",
      "108:\tlearn: 0.0706035\ttotal: 250ms\tremaining: 895ms\n",
      "109:\tlearn: 0.0697790\ttotal: 252ms\tremaining: 892ms\n",
      "110:\tlearn: 0.0690366\ttotal: 254ms\tremaining: 890ms\n",
      "111:\tlearn: 0.0689270\ttotal: 256ms\tremaining: 886ms\n",
      "112:\tlearn: 0.0675756\ttotal: 258ms\tremaining: 884ms\n",
      "113:\tlearn: 0.0663375\ttotal: 261ms\tremaining: 883ms\n",
      "114:\tlearn: 0.0647395\ttotal: 263ms\tremaining: 881ms\n",
      "115:\tlearn: 0.0633119\ttotal: 265ms\tremaining: 879ms\n",
      "116:\tlearn: 0.0632476\ttotal: 268ms\tremaining: 876ms\n",
      "117:\tlearn: 0.0627126\ttotal: 270ms\tremaining: 874ms\n",
      "118:\tlearn: 0.0624712\ttotal: 272ms\tremaining: 871ms\n",
      "119:\tlearn: 0.0623101\ttotal: 274ms\tremaining: 868ms\n",
      "120:\tlearn: 0.0617355\ttotal: 276ms\tremaining: 865ms\n",
      "121:\tlearn: 0.0607388\ttotal: 278ms\tremaining: 862ms\n",
      "122:\tlearn: 0.0599567\ttotal: 280ms\tremaining: 859ms\n",
      "123:\tlearn: 0.0584299\ttotal: 282ms\tremaining: 856ms\n",
      "124:\tlearn: 0.0577915\ttotal: 284ms\tremaining: 853ms\n",
      "125:\tlearn: 0.0574532\ttotal: 287ms\tremaining: 850ms\n",
      "126:\tlearn: 0.0565063\ttotal: 289ms\tremaining: 847ms\n",
      "127:\tlearn: 0.0556232\ttotal: 291ms\tremaining: 844ms\n",
      "128:\tlearn: 0.0541160\ttotal: 293ms\tremaining: 841ms\n",
      "129:\tlearn: 0.0535198\ttotal: 295ms\tremaining: 839ms\n",
      "130:\tlearn: 0.0528423\ttotal: 297ms\tremaining: 836ms\n",
      "131:\tlearn: 0.0523135\ttotal: 299ms\tremaining: 833ms\n",
      "132:\tlearn: 0.0513249\ttotal: 301ms\tremaining: 830ms\n",
      "133:\tlearn: 0.0508569\ttotal: 303ms\tremaining: 827ms\n",
      "134:\tlearn: 0.0505315\ttotal: 305ms\tremaining: 825ms\n",
      "135:\tlearn: 0.0504314\ttotal: 307ms\tremaining: 822ms\n",
      "136:\tlearn: 0.0499608\ttotal: 309ms\tremaining: 819ms\n",
      "137:\tlearn: 0.0495698\ttotal: 311ms\tremaining: 817ms\n",
      "138:\tlearn: 0.0489850\ttotal: 314ms\tremaining: 815ms\n",
      "139:\tlearn: 0.0485853\ttotal: 316ms\tremaining: 813ms\n",
      "140:\tlearn: 0.0480723\ttotal: 318ms\tremaining: 811ms\n",
      "141:\tlearn: 0.0473782\ttotal: 321ms\tremaining: 809ms\n",
      "142:\tlearn: 0.0467945\ttotal: 323ms\tremaining: 807ms\n",
      "143:\tlearn: 0.0461167\ttotal: 325ms\tremaining: 805ms\n",
      "144:\tlearn: 0.0456279\ttotal: 328ms\tremaining: 802ms\n",
      "145:\tlearn: 0.0452724\ttotal: 330ms\tremaining: 800ms\n",
      "146:\tlearn: 0.0451101\ttotal: 332ms\tremaining: 798ms\n",
      "147:\tlearn: 0.0447590\ttotal: 334ms\tremaining: 795ms\n",
      "148:\tlearn: 0.0445407\ttotal: 337ms\tremaining: 794ms\n",
      "149:\tlearn: 0.0442353\ttotal: 339ms\tremaining: 792ms\n",
      "150:\tlearn: 0.0436455\ttotal: 342ms\tremaining: 789ms\n",
      "151:\tlearn: 0.0431244\ttotal: 344ms\tremaining: 787ms\n",
      "152:\tlearn: 0.0425517\ttotal: 346ms\tremaining: 785ms\n",
      "153:\tlearn: 0.0423686\ttotal: 348ms\tremaining: 782ms\n",
      "154:\tlearn: 0.0418547\ttotal: 351ms\tremaining: 781ms\n",
      "155:\tlearn: 0.0417224\ttotal: 353ms\tremaining: 779ms\n",
      "156:\tlearn: 0.0413995\ttotal: 355ms\tremaining: 776ms\n",
      "157:\tlearn: 0.0413777\ttotal: 358ms\tremaining: 775ms\n",
      "158:\tlearn: 0.0412658\ttotal: 360ms\tremaining: 773ms\n",
      "159:\tlearn: 0.0409036\ttotal: 363ms\tremaining: 771ms\n",
      "160:\tlearn: 0.0404860\ttotal: 365ms\tremaining: 768ms\n",
      "161:\tlearn: 0.0400457\ttotal: 367ms\tremaining: 766ms\n",
      "162:\tlearn: 0.0398956\ttotal: 370ms\tremaining: 764ms\n",
      "163:\tlearn: 0.0396480\ttotal: 372ms\tremaining: 762ms\n",
      "164:\tlearn: 0.0392881\ttotal: 375ms\tremaining: 761ms\n",
      "165:\tlearn: 0.0389053\ttotal: 377ms\tremaining: 759ms\n",
      "166:\tlearn: 0.0387088\ttotal: 379ms\tremaining: 757ms\n",
      "167:\tlearn: 0.0382816\ttotal: 382ms\tremaining: 755ms\n",
      "168:\tlearn: 0.0381312\ttotal: 384ms\tremaining: 753ms\n",
      "169:\tlearn: 0.0377540\ttotal: 387ms\tremaining: 750ms\n",
      "170:\tlearn: 0.0375339\ttotal: 389ms\tremaining: 749ms\n",
      "171:\tlearn: 0.0373321\ttotal: 392ms\tremaining: 748ms\n",
      "172:\tlearn: 0.0369639\ttotal: 395ms\tremaining: 746ms\n",
      "173:\tlearn: 0.0367523\ttotal: 397ms\tremaining: 744ms\n",
      "174:\tlearn: 0.0366094\ttotal: 399ms\tremaining: 741ms\n",
      "175:\tlearn: 0.0364120\ttotal: 401ms\tremaining: 739ms\n",
      "176:\tlearn: 0.0357691\ttotal: 404ms\tremaining: 737ms\n",
      "177:\tlearn: 0.0350927\ttotal: 406ms\tremaining: 735ms\n",
      "178:\tlearn: 0.0346758\ttotal: 409ms\tremaining: 733ms\n",
      "179:\tlearn: 0.0345535\ttotal: 411ms\tremaining: 730ms\n",
      "180:\tlearn: 0.0340284\ttotal: 413ms\tremaining: 729ms\n",
      "181:\tlearn: 0.0338507\ttotal: 416ms\tremaining: 726ms\n",
      "182:\tlearn: 0.0334534\ttotal: 418ms\tremaining: 724ms\n",
      "183:\tlearn: 0.0331027\ttotal: 421ms\tremaining: 723ms\n",
      "184:\tlearn: 0.0326515\ttotal: 423ms\tremaining: 720ms\n",
      "185:\tlearn: 0.0325834\ttotal: 425ms\tremaining: 718ms\n",
      "186:\tlearn: 0.0323922\ttotal: 428ms\tremaining: 716ms\n",
      "187:\tlearn: 0.0319916\ttotal: 430ms\tremaining: 713ms\n",
      "188:\tlearn: 0.0314916\ttotal: 433ms\tremaining: 713ms\n",
      "189:\tlearn: 0.0313490\ttotal: 437ms\tremaining: 712ms\n",
      "190:\tlearn: 0.0310787\ttotal: 439ms\tremaining: 711ms\n",
      "191:\tlearn: 0.0308733\ttotal: 442ms\tremaining: 708ms\n",
      "192:\tlearn: 0.0308624\ttotal: 444ms\tremaining: 706ms\n",
      "193:\tlearn: 0.0308503\ttotal: 446ms\tremaining: 704ms\n",
      "194:\tlearn: 0.0306236\ttotal: 448ms\tremaining: 701ms\n",
      "195:\tlearn: 0.0304748\ttotal: 450ms\tremaining: 698ms\n",
      "196:\tlearn: 0.0301219\ttotal: 452ms\tremaining: 696ms\n",
      "197:\tlearn: 0.0301065\ttotal: 454ms\tremaining: 693ms\n",
      "198:\tlearn: 0.0300952\ttotal: 456ms\tremaining: 690ms\n",
      "199:\tlearn: 0.0300872\ttotal: 459ms\tremaining: 688ms\n",
      "200:\tlearn: 0.0299515\ttotal: 461ms\tremaining: 686ms\n",
      "201:\tlearn: 0.0299401\ttotal: 463ms\tremaining: 683ms\n",
      "202:\tlearn: 0.0298642\ttotal: 465ms\tremaining: 681ms\n",
      "203:\tlearn: 0.0296102\ttotal: 468ms\tremaining: 678ms\n",
      "204:\tlearn: 0.0291864\ttotal: 470ms\tremaining: 676ms\n",
      "205:\tlearn: 0.0289181\ttotal: 472ms\tremaining: 673ms\n",
      "206:\tlearn: 0.0286000\ttotal: 474ms\tremaining: 671ms\n",
      "207:\tlearn: 0.0284178\ttotal: 476ms\tremaining: 669ms\n",
      "208:\tlearn: 0.0282192\ttotal: 479ms\tremaining: 666ms\n",
      "209:\tlearn: 0.0279650\ttotal: 481ms\tremaining: 664ms\n",
      "210:\tlearn: 0.0275289\ttotal: 483ms\tremaining: 661ms\n",
      "211:\tlearn: 0.0272464\ttotal: 485ms\tremaining: 659ms\n",
      "212:\tlearn: 0.0270113\ttotal: 487ms\tremaining: 657ms\n",
      "213:\tlearn: 0.0266439\ttotal: 490ms\tremaining: 655ms\n",
      "214:\tlearn: 0.0263319\ttotal: 492ms\tremaining: 652ms\n",
      "215:\tlearn: 0.0261092\ttotal: 494ms\tremaining: 650ms\n",
      "216:\tlearn: 0.0259566\ttotal: 497ms\tremaining: 648ms\n",
      "217:\tlearn: 0.0258469\ttotal: 499ms\tremaining: 645ms\n",
      "218:\tlearn: 0.0257328\ttotal: 501ms\tremaining: 643ms\n",
      "219:\tlearn: 0.0256395\ttotal: 503ms\tremaining: 641ms\n",
      "220:\tlearn: 0.0256330\ttotal: 505ms\tremaining: 638ms\n",
      "221:\tlearn: 0.0256231\ttotal: 507ms\tremaining: 635ms\n",
      "222:\tlearn: 0.0255043\ttotal: 509ms\tremaining: 633ms\n",
      "223:\tlearn: 0.0254951\ttotal: 511ms\tremaining: 630ms\n",
      "224:\tlearn: 0.0254860\ttotal: 513ms\tremaining: 627ms\n",
      "225:\tlearn: 0.0251914\ttotal: 515ms\tremaining: 625ms\n",
      "226:\tlearn: 0.0250496\ttotal: 518ms\tremaining: 623ms\n",
      "227:\tlearn: 0.0250020\ttotal: 520ms\tremaining: 620ms\n",
      "228:\tlearn: 0.0248727\ttotal: 522ms\tremaining: 618ms\n",
      "229:\tlearn: 0.0247675\ttotal: 524ms\tremaining: 615ms\n",
      "230:\tlearn: 0.0243875\ttotal: 526ms\tremaining: 612ms\n",
      "231:\tlearn: 0.0241323\ttotal: 528ms\tremaining: 610ms\n",
      "232:\tlearn: 0.0238973\ttotal: 530ms\tremaining: 607ms\n",
      "233:\tlearn: 0.0238087\ttotal: 532ms\tremaining: 605ms\n",
      "234:\tlearn: 0.0234029\ttotal: 534ms\tremaining: 602ms\n",
      "235:\tlearn: 0.0231759\ttotal: 536ms\tremaining: 600ms\n",
      "236:\tlearn: 0.0231698\ttotal: 538ms\tremaining: 597ms\n",
      "237:\tlearn: 0.0230187\ttotal: 540ms\tremaining: 594ms\n",
      "238:\tlearn: 0.0228329\ttotal: 542ms\tremaining: 592ms\n",
      "239:\tlearn: 0.0225642\ttotal: 544ms\tremaining: 589ms\n",
      "240:\tlearn: 0.0224528\ttotal: 546ms\tremaining: 587ms\n",
      "241:\tlearn: 0.0223147\ttotal: 548ms\tremaining: 584ms\n",
      "242:\tlearn: 0.0220158\ttotal: 550ms\tremaining: 582ms\n",
      "243:\tlearn: 0.0218099\ttotal: 552ms\tremaining: 579ms\n",
      "244:\tlearn: 0.0215878\ttotal: 554ms\tremaining: 577ms\n",
      "245:\tlearn: 0.0215051\ttotal: 556ms\tremaining: 574ms\n",
      "246:\tlearn: 0.0212539\ttotal: 558ms\tremaining: 572ms\n",
      "247:\tlearn: 0.0211000\ttotal: 560ms\tremaining: 569ms\n",
      "248:\tlearn: 0.0208384\ttotal: 562ms\tremaining: 567ms\n",
      "249:\tlearn: 0.0206350\ttotal: 564ms\tremaining: 564ms\n",
      "250:\tlearn: 0.0205714\ttotal: 566ms\tremaining: 562ms\n",
      "251:\tlearn: 0.0203956\ttotal: 568ms\tremaining: 559ms\n",
      "252:\tlearn: 0.0202705\ttotal: 570ms\tremaining: 557ms\n"
     ]
    },
    {
     "name": "stdout",
     "output_type": "stream",
     "text": [
      "253:\tlearn: 0.0201997\ttotal: 572ms\tremaining: 554ms\n",
      "254:\tlearn: 0.0200074\ttotal: 575ms\tremaining: 553ms\n",
      "255:\tlearn: 0.0199529\ttotal: 578ms\tremaining: 551ms\n",
      "256:\tlearn: 0.0198452\ttotal: 580ms\tremaining: 548ms\n",
      "257:\tlearn: 0.0196962\ttotal: 582ms\tremaining: 546ms\n",
      "258:\tlearn: 0.0194311\ttotal: 584ms\tremaining: 543ms\n",
      "259:\tlearn: 0.0194128\ttotal: 586ms\tremaining: 541ms\n",
      "260:\tlearn: 0.0192593\ttotal: 588ms\tremaining: 539ms\n",
      "261:\tlearn: 0.0191348\ttotal: 590ms\tremaining: 536ms\n",
      "262:\tlearn: 0.0190336\ttotal: 593ms\tremaining: 534ms\n",
      "263:\tlearn: 0.0189757\ttotal: 595ms\tremaining: 532ms\n",
      "264:\tlearn: 0.0189187\ttotal: 597ms\tremaining: 529ms\n",
      "265:\tlearn: 0.0187046\ttotal: 599ms\tremaining: 527ms\n",
      "266:\tlearn: 0.0186538\ttotal: 601ms\tremaining: 524ms\n",
      "267:\tlearn: 0.0185647\ttotal: 603ms\tremaining: 522ms\n",
      "268:\tlearn: 0.0183530\ttotal: 605ms\tremaining: 519ms\n",
      "269:\tlearn: 0.0182412\ttotal: 606ms\tremaining: 517ms\n",
      "270:\tlearn: 0.0181379\ttotal: 608ms\tremaining: 514ms\n",
      "271:\tlearn: 0.0180452\ttotal: 610ms\tremaining: 511ms\n",
      "272:\tlearn: 0.0179917\ttotal: 612ms\tremaining: 509ms\n",
      "273:\tlearn: 0.0179416\ttotal: 615ms\tremaining: 507ms\n",
      "274:\tlearn: 0.0178577\ttotal: 617ms\tremaining: 505ms\n",
      "275:\tlearn: 0.0177316\ttotal: 619ms\tremaining: 502ms\n",
      "276:\tlearn: 0.0176407\ttotal: 621ms\tremaining: 500ms\n",
      "277:\tlearn: 0.0175329\ttotal: 622ms\tremaining: 497ms\n",
      "278:\tlearn: 0.0173282\ttotal: 624ms\tremaining: 495ms\n",
      "279:\tlearn: 0.0172979\ttotal: 626ms\tremaining: 492ms\n",
      "280:\tlearn: 0.0171845\ttotal: 629ms\tremaining: 490ms\n",
      "281:\tlearn: 0.0171391\ttotal: 631ms\tremaining: 487ms\n",
      "282:\tlearn: 0.0170967\ttotal: 632ms\tremaining: 485ms\n",
      "283:\tlearn: 0.0170486\ttotal: 634ms\tremaining: 482ms\n",
      "284:\tlearn: 0.0168240\ttotal: 636ms\tremaining: 480ms\n",
      "285:\tlearn: 0.0167701\ttotal: 638ms\tremaining: 477ms\n",
      "286:\tlearn: 0.0167113\ttotal: 640ms\tremaining: 475ms\n",
      "287:\tlearn: 0.0167001\ttotal: 642ms\tremaining: 472ms\n",
      "288:\tlearn: 0.0164690\ttotal: 643ms\tremaining: 470ms\n",
      "289:\tlearn: 0.0163058\ttotal: 645ms\tremaining: 467ms\n",
      "290:\tlearn: 0.0162309\ttotal: 647ms\tremaining: 465ms\n",
      "291:\tlearn: 0.0160982\ttotal: 649ms\tremaining: 462ms\n",
      "292:\tlearn: 0.0160256\ttotal: 651ms\tremaining: 460ms\n",
      "293:\tlearn: 0.0158432\ttotal: 653ms\tremaining: 457ms\n",
      "294:\tlearn: 0.0156879\ttotal: 654ms\tremaining: 455ms\n",
      "295:\tlearn: 0.0156232\ttotal: 656ms\tremaining: 452ms\n",
      "296:\tlearn: 0.0155436\ttotal: 658ms\tremaining: 450ms\n",
      "297:\tlearn: 0.0154519\ttotal: 660ms\tremaining: 447ms\n",
      "298:\tlearn: 0.0152710\ttotal: 662ms\tremaining: 445ms\n",
      "299:\tlearn: 0.0152262\ttotal: 664ms\tremaining: 443ms\n",
      "300:\tlearn: 0.0151731\ttotal: 666ms\tremaining: 440ms\n",
      "301:\tlearn: 0.0150956\ttotal: 668ms\tremaining: 438ms\n",
      "302:\tlearn: 0.0149482\ttotal: 669ms\tremaining: 435ms\n",
      "303:\tlearn: 0.0149363\ttotal: 671ms\tremaining: 433ms\n",
      "304:\tlearn: 0.0148231\ttotal: 673ms\tremaining: 430ms\n",
      "305:\tlearn: 0.0147580\ttotal: 675ms\tremaining: 428ms\n",
      "306:\tlearn: 0.0147008\ttotal: 677ms\tremaining: 425ms\n",
      "307:\tlearn: 0.0145801\ttotal: 678ms\tremaining: 423ms\n",
      "308:\tlearn: 0.0145557\ttotal: 680ms\tremaining: 421ms\n",
      "309:\tlearn: 0.0144762\ttotal: 682ms\tremaining: 418ms\n",
      "310:\tlearn: 0.0144292\ttotal: 684ms\tremaining: 416ms\n",
      "311:\tlearn: 0.0143486\ttotal: 686ms\tremaining: 413ms\n",
      "312:\tlearn: 0.0142691\ttotal: 688ms\tremaining: 411ms\n",
      "313:\tlearn: 0.0141505\ttotal: 689ms\tremaining: 408ms\n",
      "314:\tlearn: 0.0141222\ttotal: 691ms\tremaining: 406ms\n",
      "315:\tlearn: 0.0140805\ttotal: 693ms\tremaining: 403ms\n",
      "316:\tlearn: 0.0140200\ttotal: 695ms\tremaining: 401ms\n",
      "317:\tlearn: 0.0140200\ttotal: 696ms\tremaining: 399ms\n",
      "318:\tlearn: 0.0140095\ttotal: 698ms\tremaining: 396ms\n",
      "319:\tlearn: 0.0139728\ttotal: 700ms\tremaining: 394ms\n",
      "320:\tlearn: 0.0138416\ttotal: 702ms\tremaining: 392ms\n",
      "321:\tlearn: 0.0137777\ttotal: 704ms\tremaining: 389ms\n",
      "322:\tlearn: 0.0137729\ttotal: 706ms\tremaining: 387ms\n",
      "323:\tlearn: 0.0137551\ttotal: 708ms\tremaining: 385ms\n",
      "324:\tlearn: 0.0137157\ttotal: 710ms\tremaining: 382ms\n",
      "325:\tlearn: 0.0136699\ttotal: 711ms\tremaining: 380ms\n",
      "326:\tlearn: 0.0135716\ttotal: 713ms\tremaining: 377ms\n",
      "327:\tlearn: 0.0135082\ttotal: 715ms\tremaining: 375ms\n",
      "328:\tlearn: 0.0134791\ttotal: 717ms\tremaining: 373ms\n",
      "329:\tlearn: 0.0134499\ttotal: 719ms\tremaining: 370ms\n",
      "330:\tlearn: 0.0133636\ttotal: 721ms\tremaining: 368ms\n",
      "331:\tlearn: 0.0132429\ttotal: 723ms\tremaining: 366ms\n",
      "332:\tlearn: 0.0131867\ttotal: 725ms\tremaining: 363ms\n",
      "333:\tlearn: 0.0131817\ttotal: 727ms\tremaining: 361ms\n",
      "334:\tlearn: 0.0131387\ttotal: 728ms\tremaining: 359ms\n",
      "335:\tlearn: 0.0130846\ttotal: 730ms\tremaining: 356ms\n",
      "336:\tlearn: 0.0130224\ttotal: 732ms\tremaining: 354ms\n",
      "337:\tlearn: 0.0129304\ttotal: 734ms\tremaining: 352ms\n",
      "338:\tlearn: 0.0128870\ttotal: 736ms\tremaining: 349ms\n",
      "339:\tlearn: 0.0128697\ttotal: 738ms\tremaining: 347ms\n",
      "340:\tlearn: 0.0128499\ttotal: 740ms\tremaining: 345ms\n",
      "341:\tlearn: 0.0127960\ttotal: 741ms\tremaining: 342ms\n",
      "342:\tlearn: 0.0127561\ttotal: 743ms\tremaining: 340ms\n",
      "343:\tlearn: 0.0127265\ttotal: 745ms\tremaining: 338ms\n",
      "344:\tlearn: 0.0127064\ttotal: 747ms\tremaining: 336ms\n",
      "345:\tlearn: 0.0126624\ttotal: 749ms\tremaining: 334ms\n",
      "346:\tlearn: 0.0126262\ttotal: 751ms\tremaining: 331ms\n",
      "347:\tlearn: 0.0125425\ttotal: 753ms\tremaining: 329ms\n",
      "348:\tlearn: 0.0125251\ttotal: 755ms\tremaining: 327ms\n",
      "349:\tlearn: 0.0125226\ttotal: 757ms\tremaining: 324ms\n",
      "350:\tlearn: 0.0125168\ttotal: 759ms\tremaining: 322ms\n",
      "351:\tlearn: 0.0124164\ttotal: 761ms\tremaining: 320ms\n",
      "352:\tlearn: 0.0123377\ttotal: 763ms\tremaining: 318ms\n",
      "353:\tlearn: 0.0122453\ttotal: 765ms\tremaining: 316ms\n",
      "354:\tlearn: 0.0122159\ttotal: 768ms\tremaining: 314ms\n",
      "355:\tlearn: 0.0121860\ttotal: 770ms\tremaining: 311ms\n",
      "356:\tlearn: 0.0121687\ttotal: 775ms\tremaining: 310ms\n",
      "357:\tlearn: 0.0121117\ttotal: 778ms\tremaining: 308ms\n",
      "358:\tlearn: 0.0120589\ttotal: 783ms\tremaining: 308ms\n",
      "359:\tlearn: 0.0119276\ttotal: 786ms\tremaining: 306ms\n",
      "360:\tlearn: 0.0119110\ttotal: 788ms\tremaining: 304ms\n",
      "361:\tlearn: 0.0118938\ttotal: 790ms\tremaining: 301ms\n",
      "362:\tlearn: 0.0118066\ttotal: 793ms\tremaining: 299ms\n",
      "363:\tlearn: 0.0118066\ttotal: 795ms\tremaining: 297ms\n",
      "364:\tlearn: 0.0117854\ttotal: 798ms\tremaining: 295ms\n",
      "365:\tlearn: 0.0117804\ttotal: 800ms\tremaining: 293ms\n",
      "366:\tlearn: 0.0117673\ttotal: 802ms\tremaining: 291ms\n",
      "367:\tlearn: 0.0117387\ttotal: 805ms\tremaining: 289ms\n",
      "368:\tlearn: 0.0116758\ttotal: 807ms\tremaining: 286ms\n",
      "369:\tlearn: 0.0116335\ttotal: 809ms\tremaining: 284ms\n",
      "370:\tlearn: 0.0115945\ttotal: 811ms\tremaining: 282ms\n",
      "371:\tlearn: 0.0115872\ttotal: 813ms\tremaining: 280ms\n",
      "372:\tlearn: 0.0115575\ttotal: 815ms\tremaining: 278ms\n",
      "373:\tlearn: 0.0115085\ttotal: 817ms\tremaining: 275ms\n",
      "374:\tlearn: 0.0114610\ttotal: 820ms\tremaining: 273ms\n",
      "375:\tlearn: 0.0114610\ttotal: 822ms\tremaining: 271ms\n",
      "376:\tlearn: 0.0114329\ttotal: 824ms\tremaining: 269ms\n",
      "377:\tlearn: 0.0113665\ttotal: 826ms\tremaining: 267ms\n",
      "378:\tlearn: 0.0113140\ttotal: 828ms\tremaining: 264ms\n",
      "379:\tlearn: 0.0112855\ttotal: 830ms\tremaining: 262ms\n",
      "380:\tlearn: 0.0112477\ttotal: 832ms\tremaining: 260ms\n",
      "381:\tlearn: 0.0112240\ttotal: 834ms\tremaining: 258ms\n",
      "382:\tlearn: 0.0111735\ttotal: 836ms\tremaining: 256ms\n",
      "383:\tlearn: 0.0111304\ttotal: 839ms\tremaining: 253ms\n",
      "384:\tlearn: 0.0110637\ttotal: 841ms\tremaining: 251ms\n",
      "385:\tlearn: 0.0109978\ttotal: 843ms\tremaining: 249ms\n",
      "386:\tlearn: 0.0109976\ttotal: 845ms\tremaining: 247ms\n",
      "387:\tlearn: 0.0109977\ttotal: 847ms\tremaining: 244ms\n",
      "388:\tlearn: 0.0109679\ttotal: 849ms\tremaining: 242ms\n",
      "389:\tlearn: 0.0109382\ttotal: 851ms\tremaining: 240ms\n",
      "390:\tlearn: 0.0109067\ttotal: 853ms\tremaining: 238ms\n",
      "391:\tlearn: 0.0108776\ttotal: 855ms\tremaining: 236ms\n",
      "392:\tlearn: 0.0108302\ttotal: 857ms\tremaining: 233ms\n",
      "393:\tlearn: 0.0107559\ttotal: 859ms\tremaining: 231ms\n",
      "394:\tlearn: 0.0107263\ttotal: 861ms\tremaining: 229ms\n",
      "395:\tlearn: 0.0106930\ttotal: 863ms\tremaining: 227ms\n",
      "396:\tlearn: 0.0106583\ttotal: 865ms\tremaining: 225ms\n",
      "397:\tlearn: 0.0106345\ttotal: 867ms\tremaining: 222ms\n",
      "398:\tlearn: 0.0105970\ttotal: 869ms\tremaining: 220ms\n",
      "399:\tlearn: 0.0105382\ttotal: 871ms\tremaining: 218ms\n",
      "400:\tlearn: 0.0105121\ttotal: 874ms\tremaining: 216ms\n",
      "401:\tlearn: 0.0104594\ttotal: 876ms\tremaining: 214ms\n",
      "402:\tlearn: 0.0104594\ttotal: 878ms\tremaining: 211ms\n",
      "403:\tlearn: 0.0104327\ttotal: 880ms\tremaining: 209ms\n",
      "404:\tlearn: 0.0104327\ttotal: 882ms\tremaining: 207ms\n",
      "405:\tlearn: 0.0104065\ttotal: 884ms\tremaining: 205ms\n",
      "406:\tlearn: 0.0103845\ttotal: 886ms\tremaining: 203ms\n",
      "407:\tlearn: 0.0103726\ttotal: 889ms\tremaining: 200ms\n",
      "408:\tlearn: 0.0103526\ttotal: 891ms\tremaining: 198ms\n",
      "409:\tlearn: 0.0103415\ttotal: 894ms\tremaining: 196ms\n",
      "410:\tlearn: 0.0103045\ttotal: 896ms\tremaining: 194ms\n",
      "411:\tlearn: 0.0102655\ttotal: 898ms\tremaining: 192ms\n",
      "412:\tlearn: 0.0102076\ttotal: 901ms\tremaining: 190ms\n",
      "413:\tlearn: 0.0101908\ttotal: 903ms\tremaining: 187ms\n",
      "414:\tlearn: 0.0101180\ttotal: 905ms\tremaining: 185ms\n",
      "415:\tlearn: 0.0100947\ttotal: 907ms\tremaining: 183ms\n",
      "416:\tlearn: 0.0100705\ttotal: 909ms\tremaining: 181ms\n",
      "417:\tlearn: 0.0100526\ttotal: 911ms\tremaining: 179ms\n",
      "418:\tlearn: 0.0100076\ttotal: 913ms\tremaining: 176ms\n",
      "419:\tlearn: 0.0099816\ttotal: 915ms\tremaining: 174ms\n",
      "420:\tlearn: 0.0099568\ttotal: 917ms\tremaining: 172ms\n",
      "421:\tlearn: 0.0099450\ttotal: 920ms\tremaining: 170ms\n",
      "422:\tlearn: 0.0099430\ttotal: 921ms\tremaining: 168ms\n",
      "423:\tlearn: 0.0099143\ttotal: 923ms\tremaining: 165ms\n",
      "424:\tlearn: 0.0098991\ttotal: 925ms\tremaining: 163ms\n",
      "425:\tlearn: 0.0098987\ttotal: 927ms\tremaining: 161ms\n",
      "426:\tlearn: 0.0098873\ttotal: 929ms\tremaining: 159ms\n"
     ]
    },
    {
     "name": "stdout",
     "output_type": "stream",
     "text": [
      "427:\tlearn: 0.0098761\ttotal: 931ms\tremaining: 157ms\n",
      "428:\tlearn: 0.0098343\ttotal: 934ms\tremaining: 155ms\n",
      "429:\tlearn: 0.0097761\ttotal: 936ms\tremaining: 152ms\n",
      "430:\tlearn: 0.0097760\ttotal: 937ms\tremaining: 150ms\n",
      "431:\tlearn: 0.0097756\ttotal: 939ms\tremaining: 148ms\n",
      "432:\tlearn: 0.0097442\ttotal: 941ms\tremaining: 146ms\n",
      "433:\tlearn: 0.0097228\ttotal: 943ms\tremaining: 143ms\n",
      "434:\tlearn: 0.0097228\ttotal: 944ms\tremaining: 141ms\n",
      "435:\tlearn: 0.0096994\ttotal: 946ms\tremaining: 139ms\n",
      "436:\tlearn: 0.0096731\ttotal: 948ms\tremaining: 137ms\n",
      "437:\tlearn: 0.0096197\ttotal: 950ms\tremaining: 134ms\n",
      "438:\tlearn: 0.0095997\ttotal: 952ms\tremaining: 132ms\n",
      "439:\tlearn: 0.0095713\ttotal: 954ms\tremaining: 130ms\n",
      "440:\tlearn: 0.0095493\ttotal: 956ms\tremaining: 128ms\n",
      "441:\tlearn: 0.0095132\ttotal: 958ms\tremaining: 126ms\n",
      "442:\tlearn: 0.0094970\ttotal: 960ms\tremaining: 124ms\n",
      "443:\tlearn: 0.0094861\ttotal: 962ms\tremaining: 121ms\n",
      "444:\tlearn: 0.0094434\ttotal: 964ms\tremaining: 119ms\n",
      "445:\tlearn: 0.0093994\ttotal: 967ms\tremaining: 117ms\n",
      "446:\tlearn: 0.0093748\ttotal: 969ms\tremaining: 115ms\n",
      "447:\tlearn: 0.0092891\ttotal: 971ms\tremaining: 113ms\n",
      "448:\tlearn: 0.0092782\ttotal: 973ms\tremaining: 111ms\n",
      "449:\tlearn: 0.0092736\ttotal: 976ms\tremaining: 108ms\n",
      "450:\tlearn: 0.0092390\ttotal: 977ms\tremaining: 106ms\n",
      "451:\tlearn: 0.0092174\ttotal: 979ms\tremaining: 104ms\n",
      "452:\tlearn: 0.0091861\ttotal: 982ms\tremaining: 102ms\n",
      "453:\tlearn: 0.0091861\ttotal: 984ms\tremaining: 99.7ms\n",
      "454:\tlearn: 0.0091774\ttotal: 986ms\tremaining: 97.5ms\n",
      "455:\tlearn: 0.0091673\ttotal: 988ms\tremaining: 95.3ms\n",
      "456:\tlearn: 0.0091654\ttotal: 990ms\tremaining: 93.2ms\n",
      "457:\tlearn: 0.0091461\ttotal: 992ms\tremaining: 91ms\n",
      "458:\tlearn: 0.0091001\ttotal: 994ms\tremaining: 88.8ms\n",
      "459:\tlearn: 0.0090731\ttotal: 996ms\tremaining: 86.6ms\n",
      "460:\tlearn: 0.0090213\ttotal: 998ms\tremaining: 84.5ms\n",
      "461:\tlearn: 0.0089973\ttotal: 1s\tremaining: 82.3ms\n",
      "462:\tlearn: 0.0089577\ttotal: 1s\tremaining: 80.1ms\n",
      "463:\tlearn: 0.0088907\ttotal: 1s\tremaining: 77.9ms\n",
      "464:\tlearn: 0.0088704\ttotal: 1.01s\tremaining: 75.7ms\n",
      "465:\tlearn: 0.0088450\ttotal: 1.01s\tremaining: 73.6ms\n",
      "466:\tlearn: 0.0088230\ttotal: 1.01s\tremaining: 71.4ms\n",
      "467:\tlearn: 0.0088230\ttotal: 1.01s\tremaining: 69.2ms\n",
      "468:\tlearn: 0.0087809\ttotal: 1.01s\tremaining: 67ms\n",
      "469:\tlearn: 0.0087484\ttotal: 1.01s\tremaining: 64.8ms\n",
      "470:\tlearn: 0.0087182\ttotal: 1.02s\tremaining: 62.6ms\n",
      "471:\tlearn: 0.0087181\ttotal: 1.02s\tremaining: 60.4ms\n",
      "472:\tlearn: 0.0086931\ttotal: 1.02s\tremaining: 58.2ms\n",
      "473:\tlearn: 0.0086732\ttotal: 1.02s\tremaining: 56.1ms\n",
      "474:\tlearn: 0.0086052\ttotal: 1.02s\tremaining: 53.9ms\n",
      "475:\tlearn: 0.0085670\ttotal: 1.03s\tremaining: 51.7ms\n",
      "476:\tlearn: 0.0085532\ttotal: 1.03s\tremaining: 49.6ms\n",
      "477:\tlearn: 0.0085162\ttotal: 1.03s\tremaining: 47.4ms\n",
      "478:\tlearn: 0.0085087\ttotal: 1.03s\tremaining: 45.2ms\n",
      "479:\tlearn: 0.0084873\ttotal: 1.03s\tremaining: 43ms\n",
      "480:\tlearn: 0.0084607\ttotal: 1.03s\tremaining: 40.9ms\n",
      "481:\tlearn: 0.0084535\ttotal: 1.04s\tremaining: 38.7ms\n",
      "482:\tlearn: 0.0084453\ttotal: 1.04s\tremaining: 36.6ms\n",
      "483:\tlearn: 0.0084371\ttotal: 1.04s\tremaining: 34.4ms\n",
      "484:\tlearn: 0.0084169\ttotal: 1.04s\tremaining: 32.2ms\n",
      "485:\tlearn: 0.0083979\ttotal: 1.04s\tremaining: 30.1ms\n",
      "486:\tlearn: 0.0083790\ttotal: 1.05s\tremaining: 27.9ms\n",
      "487:\tlearn: 0.0083522\ttotal: 1.05s\tremaining: 25.8ms\n",
      "488:\tlearn: 0.0083520\ttotal: 1.05s\tremaining: 23.6ms\n",
      "489:\tlearn: 0.0083080\ttotal: 1.05s\tremaining: 21.5ms\n",
      "490:\tlearn: 0.0082690\ttotal: 1.05s\tremaining: 19.3ms\n",
      "491:\tlearn: 0.0082285\ttotal: 1.05s\tremaining: 17.2ms\n",
      "492:\tlearn: 0.0082153\ttotal: 1.06s\tremaining: 15ms\n",
      "493:\tlearn: 0.0082035\ttotal: 1.06s\tremaining: 12.9ms\n",
      "494:\tlearn: 0.0081828\ttotal: 1.06s\tremaining: 10.7ms\n",
      "495:\tlearn: 0.0081465\ttotal: 1.06s\tremaining: 8.58ms\n",
      "496:\tlearn: 0.0081277\ttotal: 1.07s\tremaining: 6.43ms\n",
      "497:\tlearn: 0.0080938\ttotal: 1.07s\tremaining: 4.29ms\n",
      "498:\tlearn: 0.0080797\ttotal: 1.07s\tremaining: 2.14ms\n",
      "499:\tlearn: 0.0080540\ttotal: 1.07s\tremaining: 0us\n",
      "0:\tlearn: 0.6340393\ttotal: 1.69ms\tremaining: 841ms\n",
      "1:\tlearn: 0.5974946\ttotal: 4.15ms\tremaining: 1.03s\n",
      "2:\tlearn: 0.5643295\ttotal: 6.17ms\tremaining: 1.02s\n",
      "3:\tlearn: 0.5419024\ttotal: 8.01ms\tremaining: 993ms\n",
      "4:\tlearn: 0.5154359\ttotal: 10ms\tremaining: 990ms\n",
      "5:\tlearn: 0.4926015\ttotal: 12.4ms\tremaining: 1.02s\n",
      "6:\tlearn: 0.4757567\ttotal: 14.5ms\tremaining: 1.02s\n",
      "7:\tlearn: 0.4443022\ttotal: 16.7ms\tremaining: 1.02s\n",
      "8:\tlearn: 0.4412438\ttotal: 18.4ms\tremaining: 1s\n",
      "9:\tlearn: 0.4294297\ttotal: 20.6ms\tremaining: 1.01s\n",
      "10:\tlearn: 0.4148057\ttotal: 22.5ms\tremaining: 1s\n",
      "11:\tlearn: 0.4017133\ttotal: 24.7ms\tremaining: 1s\n",
      "12:\tlearn: 0.3930795\ttotal: 26.7ms\tremaining: 1s\n",
      "13:\tlearn: 0.3847654\ttotal: 28.7ms\tremaining: 996ms\n",
      "14:\tlearn: 0.3685397\ttotal: 30.6ms\tremaining: 990ms\n",
      "15:\tlearn: 0.3547782\ttotal: 32.7ms\tremaining: 990ms\n",
      "16:\tlearn: 0.3478117\ttotal: 34.8ms\tremaining: 988ms\n",
      "17:\tlearn: 0.3401582\ttotal: 36.7ms\tremaining: 984ms\n",
      "18:\tlearn: 0.3305251\ttotal: 38.8ms\tremaining: 982ms\n",
      "19:\tlearn: 0.3168127\ttotal: 40.8ms\tremaining: 980ms\n",
      "20:\tlearn: 0.3096076\ttotal: 42.8ms\tremaining: 975ms\n",
      "21:\tlearn: 0.3088852\ttotal: 44.4ms\tremaining: 965ms\n",
      "22:\tlearn: 0.3052972\ttotal: 46.4ms\tremaining: 962ms\n",
      "23:\tlearn: 0.2986907\ttotal: 48.5ms\tremaining: 961ms\n",
      "24:\tlearn: 0.2937514\ttotal: 50.5ms\tremaining: 960ms\n",
      "25:\tlearn: 0.2848143\ttotal: 52.6ms\tremaining: 959ms\n",
      "26:\tlearn: 0.2795052\ttotal: 54.6ms\tremaining: 957ms\n",
      "27:\tlearn: 0.2767384\ttotal: 56.6ms\tremaining: 954ms\n",
      "28:\tlearn: 0.2732930\ttotal: 58.6ms\tremaining: 952ms\n",
      "29:\tlearn: 0.2719171\ttotal: 60.6ms\tremaining: 949ms\n",
      "30:\tlearn: 0.2676200\ttotal: 62.7ms\tremaining: 948ms\n",
      "31:\tlearn: 0.2570429\ttotal: 64.8ms\tremaining: 947ms\n",
      "32:\tlearn: 0.2515536\ttotal: 66.7ms\tremaining: 944ms\n",
      "33:\tlearn: 0.2414743\ttotal: 68.6ms\tremaining: 940ms\n",
      "34:\tlearn: 0.2346088\ttotal: 70.6ms\tremaining: 938ms\n",
      "35:\tlearn: 0.2309055\ttotal: 72.5ms\tremaining: 935ms\n",
      "36:\tlearn: 0.2211573\ttotal: 74.5ms\tremaining: 932ms\n",
      "37:\tlearn: 0.2166156\ttotal: 76.3ms\tremaining: 928ms\n",
      "38:\tlearn: 0.2093150\ttotal: 78.6ms\tremaining: 929ms\n",
      "39:\tlearn: 0.2077468\ttotal: 80.5ms\tremaining: 926ms\n",
      "40:\tlearn: 0.2006483\ttotal: 82.3ms\tremaining: 921ms\n",
      "41:\tlearn: 0.1997808\ttotal: 83.8ms\tremaining: 914ms\n",
      "42:\tlearn: 0.1975635\ttotal: 85.8ms\tremaining: 911ms\n",
      "43:\tlearn: 0.1951259\ttotal: 87.6ms\tremaining: 908ms\n",
      "44:\tlearn: 0.1940650\ttotal: 89.6ms\tremaining: 906ms\n",
      "45:\tlearn: 0.1873907\ttotal: 91.6ms\tremaining: 904ms\n",
      "46:\tlearn: 0.1825390\ttotal: 93.7ms\tremaining: 903ms\n",
      "47:\tlearn: 0.1788606\ttotal: 95.6ms\tremaining: 901ms\n",
      "48:\tlearn: 0.1736035\ttotal: 97.6ms\tremaining: 898ms\n",
      "49:\tlearn: 0.1686718\ttotal: 99.4ms\tremaining: 895ms\n",
      "50:\tlearn: 0.1650247\ttotal: 101ms\tremaining: 891ms\n",
      "51:\tlearn: 0.1622848\ttotal: 103ms\tremaining: 890ms\n",
      "52:\tlearn: 0.1610042\ttotal: 105ms\tremaining: 885ms\n",
      "53:\tlearn: 0.1592471\ttotal: 107ms\tremaining: 884ms\n",
      "54:\tlearn: 0.1588994\ttotal: 109ms\tremaining: 882ms\n",
      "55:\tlearn: 0.1582339\ttotal: 111ms\tremaining: 879ms\n",
      "56:\tlearn: 0.1552742\ttotal: 113ms\tremaining: 876ms\n",
      "57:\tlearn: 0.1548952\ttotal: 114ms\tremaining: 872ms\n",
      "58:\tlearn: 0.1506633\ttotal: 116ms\tremaining: 869ms\n",
      "59:\tlearn: 0.1494566\ttotal: 118ms\tremaining: 866ms\n",
      "60:\tlearn: 0.1482388\ttotal: 120ms\tremaining: 863ms\n",
      "61:\tlearn: 0.1472336\ttotal: 122ms\tremaining: 860ms\n",
      "62:\tlearn: 0.1420373\ttotal: 124ms\tremaining: 858ms\n",
      "63:\tlearn: 0.1389615\ttotal: 125ms\tremaining: 854ms\n",
      "64:\tlearn: 0.1362655\ttotal: 127ms\tremaining: 852ms\n",
      "65:\tlearn: 0.1333544\ttotal: 129ms\tremaining: 849ms\n",
      "66:\tlearn: 0.1330047\ttotal: 131ms\tremaining: 845ms\n",
      "67:\tlearn: 0.1296865\ttotal: 133ms\tremaining: 845ms\n",
      "68:\tlearn: 0.1272923\ttotal: 135ms\tremaining: 842ms\n",
      "69:\tlearn: 0.1259874\ttotal: 137ms\tremaining: 840ms\n",
      "70:\tlearn: 0.1255834\ttotal: 139ms\tremaining: 838ms\n",
      "71:\tlearn: 0.1221075\ttotal: 141ms\tremaining: 835ms\n",
      "72:\tlearn: 0.1181095\ttotal: 142ms\tremaining: 833ms\n",
      "73:\tlearn: 0.1160103\ttotal: 144ms\tremaining: 831ms\n",
      "74:\tlearn: 0.1150238\ttotal: 147ms\tremaining: 830ms\n",
      "75:\tlearn: 0.1137342\ttotal: 149ms\tremaining: 830ms\n",
      "76:\tlearn: 0.1130482\ttotal: 151ms\tremaining: 828ms\n",
      "77:\tlearn: 0.1128891\ttotal: 153ms\tremaining: 827ms\n",
      "78:\tlearn: 0.1119535\ttotal: 155ms\tremaining: 825ms\n",
      "79:\tlearn: 0.1098228\ttotal: 157ms\tremaining: 825ms\n",
      "80:\tlearn: 0.1061416\ttotal: 159ms\tremaining: 823ms\n",
      "81:\tlearn: 0.1055362\ttotal: 161ms\tremaining: 821ms\n",
      "82:\tlearn: 0.1029229\ttotal: 163ms\tremaining: 818ms\n",
      "83:\tlearn: 0.1022347\ttotal: 165ms\tremaining: 815ms\n",
      "84:\tlearn: 0.1016981\ttotal: 166ms\tremaining: 813ms\n",
      "85:\tlearn: 0.0990205\ttotal: 168ms\tremaining: 810ms\n",
      "86:\tlearn: 0.0963925\ttotal: 170ms\tremaining: 808ms\n",
      "87:\tlearn: 0.0946952\ttotal: 172ms\tremaining: 805ms\n",
      "88:\tlearn: 0.0945327\ttotal: 174ms\tremaining: 803ms\n",
      "89:\tlearn: 0.0939344\ttotal: 176ms\tremaining: 801ms\n",
      "90:\tlearn: 0.0936433\ttotal: 178ms\tremaining: 799ms\n",
      "91:\tlearn: 0.0914459\ttotal: 180ms\tremaining: 796ms\n",
      "92:\tlearn: 0.0889100\ttotal: 181ms\tremaining: 794ms\n",
      "93:\tlearn: 0.0888481\ttotal: 183ms\tremaining: 791ms\n",
      "94:\tlearn: 0.0878215\ttotal: 185ms\tremaining: 788ms\n",
      "95:\tlearn: 0.0873039\ttotal: 187ms\tremaining: 786ms\n",
      "96:\tlearn: 0.0872459\ttotal: 189ms\tremaining: 783ms\n"
     ]
    },
    {
     "name": "stdout",
     "output_type": "stream",
     "text": [
      "97:\tlearn: 0.0858426\ttotal: 191ms\tremaining: 784ms\n",
      "98:\tlearn: 0.0851311\ttotal: 194ms\tremaining: 784ms\n",
      "99:\tlearn: 0.0839170\ttotal: 196ms\tremaining: 782ms\n",
      "100:\tlearn: 0.0819072\ttotal: 197ms\tremaining: 780ms\n",
      "101:\tlearn: 0.0797991\ttotal: 199ms\tremaining: 777ms\n",
      "102:\tlearn: 0.0778323\ttotal: 202ms\tremaining: 777ms\n",
      "103:\tlearn: 0.0761519\ttotal: 204ms\tremaining: 775ms\n",
      "104:\tlearn: 0.0760218\ttotal: 206ms\tremaining: 773ms\n",
      "105:\tlearn: 0.0746645\ttotal: 207ms\tremaining: 771ms\n",
      "106:\tlearn: 0.0729505\ttotal: 210ms\tremaining: 770ms\n",
      "107:\tlearn: 0.0716781\ttotal: 212ms\tremaining: 768ms\n",
      "108:\tlearn: 0.0704089\ttotal: 214ms\tremaining: 767ms\n",
      "109:\tlearn: 0.0698014\ttotal: 216ms\tremaining: 766ms\n",
      "110:\tlearn: 0.0687052\ttotal: 218ms\tremaining: 763ms\n",
      "111:\tlearn: 0.0674601\ttotal: 220ms\tremaining: 761ms\n",
      "112:\tlearn: 0.0663357\ttotal: 222ms\tremaining: 759ms\n",
      "113:\tlearn: 0.0652735\ttotal: 223ms\tremaining: 757ms\n",
      "114:\tlearn: 0.0652237\ttotal: 225ms\tremaining: 754ms\n",
      "115:\tlearn: 0.0651361\ttotal: 227ms\tremaining: 752ms\n",
      "116:\tlearn: 0.0650515\ttotal: 229ms\tremaining: 749ms\n",
      "117:\tlearn: 0.0646914\ttotal: 231ms\tremaining: 747ms\n",
      "118:\tlearn: 0.0646154\ttotal: 233ms\tremaining: 745ms\n",
      "119:\tlearn: 0.0645886\ttotal: 235ms\tremaining: 743ms\n",
      "120:\tlearn: 0.0634339\ttotal: 236ms\tremaining: 741ms\n",
      "121:\tlearn: 0.0621836\ttotal: 238ms\tremaining: 739ms\n",
      "122:\tlearn: 0.0609812\ttotal: 240ms\tremaining: 736ms\n",
      "123:\tlearn: 0.0600966\ttotal: 242ms\tremaining: 734ms\n",
      "124:\tlearn: 0.0593454\ttotal: 244ms\tremaining: 731ms\n",
      "125:\tlearn: 0.0578460\ttotal: 246ms\tremaining: 729ms\n",
      "126:\tlearn: 0.0572302\ttotal: 248ms\tremaining: 727ms\n",
      "127:\tlearn: 0.0565107\ttotal: 249ms\tremaining: 725ms\n",
      "128:\tlearn: 0.0558849\ttotal: 251ms\tremaining: 723ms\n",
      "129:\tlearn: 0.0552355\ttotal: 253ms\tremaining: 720ms\n",
      "130:\tlearn: 0.0543795\ttotal: 255ms\tremaining: 718ms\n",
      "131:\tlearn: 0.0534877\ttotal: 257ms\tremaining: 716ms\n",
      "132:\tlearn: 0.0519197\ttotal: 259ms\tremaining: 714ms\n",
      "133:\tlearn: 0.0512784\ttotal: 261ms\tremaining: 712ms\n",
      "134:\tlearn: 0.0504453\ttotal: 265ms\tremaining: 716ms\n",
      "135:\tlearn: 0.0493287\ttotal: 267ms\tremaining: 714ms\n",
      "136:\tlearn: 0.0488004\ttotal: 269ms\tremaining: 712ms\n",
      "137:\tlearn: 0.0478398\ttotal: 271ms\tremaining: 710ms\n",
      "138:\tlearn: 0.0472019\ttotal: 273ms\tremaining: 708ms\n",
      "139:\tlearn: 0.0466287\ttotal: 275ms\tremaining: 706ms\n",
      "140:\tlearn: 0.0464144\ttotal: 276ms\tremaining: 704ms\n",
      "141:\tlearn: 0.0459214\ttotal: 278ms\tremaining: 701ms\n",
      "142:\tlearn: 0.0452910\ttotal: 280ms\tremaining: 699ms\n",
      "143:\tlearn: 0.0442551\ttotal: 282ms\tremaining: 698ms\n",
      "144:\tlearn: 0.0439458\ttotal: 284ms\tremaining: 695ms\n",
      "145:\tlearn: 0.0435074\ttotal: 286ms\tremaining: 693ms\n",
      "146:\tlearn: 0.0428581\ttotal: 288ms\tremaining: 691ms\n",
      "147:\tlearn: 0.0424555\ttotal: 290ms\tremaining: 689ms\n",
      "148:\tlearn: 0.0417321\ttotal: 292ms\tremaining: 687ms\n",
      "149:\tlearn: 0.0410280\ttotal: 294ms\tremaining: 685ms\n",
      "150:\tlearn: 0.0405841\ttotal: 295ms\tremaining: 683ms\n",
      "151:\tlearn: 0.0401847\ttotal: 297ms\tremaining: 681ms\n",
      "152:\tlearn: 0.0401700\ttotal: 299ms\tremaining: 678ms\n",
      "153:\tlearn: 0.0395877\ttotal: 301ms\tremaining: 676ms\n",
      "154:\tlearn: 0.0391475\ttotal: 303ms\tremaining: 674ms\n",
      "155:\tlearn: 0.0389957\ttotal: 305ms\tremaining: 672ms\n",
      "156:\tlearn: 0.0386948\ttotal: 306ms\tremaining: 669ms\n",
      "157:\tlearn: 0.0382685\ttotal: 308ms\tremaining: 667ms\n",
      "158:\tlearn: 0.0377140\ttotal: 310ms\tremaining: 665ms\n",
      "159:\tlearn: 0.0368797\ttotal: 312ms\tremaining: 663ms\n",
      "160:\tlearn: 0.0361819\ttotal: 314ms\tremaining: 661ms\n",
      "161:\tlearn: 0.0357121\ttotal: 316ms\tremaining: 659ms\n",
      "162:\tlearn: 0.0349583\ttotal: 318ms\tremaining: 656ms\n",
      "163:\tlearn: 0.0344997\ttotal: 320ms\tremaining: 655ms\n",
      "164:\tlearn: 0.0339700\ttotal: 321ms\tremaining: 652ms\n",
      "165:\tlearn: 0.0337167\ttotal: 323ms\tremaining: 650ms\n",
      "166:\tlearn: 0.0332018\ttotal: 325ms\tremaining: 649ms\n",
      "167:\tlearn: 0.0329256\ttotal: 327ms\tremaining: 646ms\n",
      "168:\tlearn: 0.0327659\ttotal: 329ms\tremaining: 644ms\n",
      "169:\tlearn: 0.0322035\ttotal: 331ms\tremaining: 642ms\n",
      "170:\tlearn: 0.0319131\ttotal: 332ms\tremaining: 640ms\n",
      "171:\tlearn: 0.0315296\ttotal: 334ms\tremaining: 638ms\n",
      "172:\tlearn: 0.0309520\ttotal: 336ms\tremaining: 636ms\n",
      "173:\tlearn: 0.0305686\ttotal: 338ms\tremaining: 634ms\n",
      "174:\tlearn: 0.0304128\ttotal: 340ms\tremaining: 632ms\n",
      "175:\tlearn: 0.0302246\ttotal: 342ms\tremaining: 630ms\n",
      "176:\tlearn: 0.0299669\ttotal: 344ms\tremaining: 627ms\n",
      "177:\tlearn: 0.0297121\ttotal: 346ms\tremaining: 625ms\n",
      "178:\tlearn: 0.0294537\ttotal: 348ms\tremaining: 623ms\n",
      "179:\tlearn: 0.0291137\ttotal: 349ms\tremaining: 621ms\n",
      "180:\tlearn: 0.0286610\ttotal: 351ms\tremaining: 619ms\n",
      "181:\tlearn: 0.0286267\ttotal: 353ms\tremaining: 617ms\n",
      "182:\tlearn: 0.0281695\ttotal: 355ms\tremaining: 615ms\n",
      "183:\tlearn: 0.0277489\ttotal: 357ms\tremaining: 613ms\n",
      "184:\tlearn: 0.0274989\ttotal: 359ms\tremaining: 611ms\n",
      "185:\tlearn: 0.0271313\ttotal: 360ms\tremaining: 608ms\n",
      "186:\tlearn: 0.0268414\ttotal: 362ms\tremaining: 607ms\n",
      "187:\tlearn: 0.0265584\ttotal: 365ms\tremaining: 605ms\n",
      "188:\tlearn: 0.0263395\ttotal: 366ms\tremaining: 603ms\n",
      "189:\tlearn: 0.0260915\ttotal: 368ms\tremaining: 601ms\n",
      "190:\tlearn: 0.0256761\ttotal: 370ms\tremaining: 599ms\n",
      "191:\tlearn: 0.0253611\ttotal: 372ms\tremaining: 596ms\n",
      "192:\tlearn: 0.0252117\ttotal: 374ms\tremaining: 594ms\n",
      "193:\tlearn: 0.0250628\ttotal: 376ms\tremaining: 593ms\n",
      "194:\tlearn: 0.0249265\ttotal: 378ms\tremaining: 592ms\n",
      "195:\tlearn: 0.0248624\ttotal: 381ms\tremaining: 590ms\n",
      "196:\tlearn: 0.0247294\ttotal: 383ms\tremaining: 589ms\n",
      "197:\tlearn: 0.0244897\ttotal: 385ms\tremaining: 587ms\n",
      "198:\tlearn: 0.0242972\ttotal: 387ms\tremaining: 585ms\n",
      "199:\tlearn: 0.0241780\ttotal: 389ms\tremaining: 584ms\n",
      "200:\tlearn: 0.0240521\ttotal: 391ms\tremaining: 582ms\n",
      "201:\tlearn: 0.0239340\ttotal: 393ms\tremaining: 580ms\n",
      "202:\tlearn: 0.0237422\ttotal: 395ms\tremaining: 578ms\n",
      "203:\tlearn: 0.0236632\ttotal: 397ms\tremaining: 577ms\n",
      "204:\tlearn: 0.0235962\ttotal: 399ms\tremaining: 575ms\n",
      "205:\tlearn: 0.0234166\ttotal: 401ms\tremaining: 573ms\n",
      "206:\tlearn: 0.0231399\ttotal: 403ms\tremaining: 570ms\n",
      "207:\tlearn: 0.0231313\ttotal: 405ms\tremaining: 568ms\n",
      "208:\tlearn: 0.0230626\ttotal: 407ms\tremaining: 566ms\n",
      "209:\tlearn: 0.0229711\ttotal: 408ms\tremaining: 564ms\n",
      "210:\tlearn: 0.0228163\ttotal: 410ms\tremaining: 562ms\n",
      "211:\tlearn: 0.0226636\ttotal: 413ms\tremaining: 560ms\n",
      "212:\tlearn: 0.0225641\ttotal: 415ms\tremaining: 559ms\n",
      "213:\tlearn: 0.0224028\ttotal: 417ms\tremaining: 557ms\n",
      "214:\tlearn: 0.0221598\ttotal: 418ms\tremaining: 555ms\n",
      "215:\tlearn: 0.0219740\ttotal: 420ms\tremaining: 553ms\n",
      "216:\tlearn: 0.0218047\ttotal: 422ms\tremaining: 550ms\n",
      "217:\tlearn: 0.0216111\ttotal: 424ms\tremaining: 548ms\n",
      "218:\tlearn: 0.0216003\ttotal: 426ms\tremaining: 546ms\n",
      "219:\tlearn: 0.0213877\ttotal: 427ms\tremaining: 544ms\n",
      "220:\tlearn: 0.0212079\ttotal: 430ms\tremaining: 543ms\n",
      "221:\tlearn: 0.0210517\ttotal: 432ms\tremaining: 541ms\n",
      "222:\tlearn: 0.0208037\ttotal: 434ms\tremaining: 539ms\n",
      "223:\tlearn: 0.0207064\ttotal: 436ms\tremaining: 537ms\n",
      "224:\tlearn: 0.0205390\ttotal: 438ms\tremaining: 535ms\n",
      "225:\tlearn: 0.0204421\ttotal: 440ms\tremaining: 533ms\n",
      "226:\tlearn: 0.0203010\ttotal: 441ms\tremaining: 531ms\n",
      "227:\tlearn: 0.0201545\ttotal: 443ms\tremaining: 529ms\n",
      "228:\tlearn: 0.0200045\ttotal: 445ms\tremaining: 527ms\n",
      "229:\tlearn: 0.0198984\ttotal: 447ms\tremaining: 525ms\n",
      "230:\tlearn: 0.0198057\ttotal: 449ms\tremaining: 523ms\n",
      "231:\tlearn: 0.0197912\ttotal: 451ms\tremaining: 520ms\n",
      "232:\tlearn: 0.0196647\ttotal: 452ms\tremaining: 518ms\n",
      "233:\tlearn: 0.0194333\ttotal: 454ms\tremaining: 516ms\n",
      "234:\tlearn: 0.0193313\ttotal: 456ms\tremaining: 514ms\n",
      "235:\tlearn: 0.0191663\ttotal: 458ms\tremaining: 512ms\n",
      "236:\tlearn: 0.0190416\ttotal: 460ms\tremaining: 510ms\n",
      "237:\tlearn: 0.0189686\ttotal: 462ms\tremaining: 508ms\n",
      "238:\tlearn: 0.0188975\ttotal: 464ms\tremaining: 506ms\n",
      "239:\tlearn: 0.0187384\ttotal: 466ms\tremaining: 504ms\n",
      "240:\tlearn: 0.0187383\ttotal: 467ms\tremaining: 502ms\n",
      "241:\tlearn: 0.0186563\ttotal: 469ms\tremaining: 500ms\n",
      "242:\tlearn: 0.0185418\ttotal: 471ms\tremaining: 498ms\n",
      "243:\tlearn: 0.0183352\ttotal: 472ms\tremaining: 496ms\n",
      "244:\tlearn: 0.0182289\ttotal: 474ms\tremaining: 494ms\n",
      "245:\tlearn: 0.0180736\ttotal: 476ms\tremaining: 492ms\n",
      "246:\tlearn: 0.0178455\ttotal: 478ms\tremaining: 490ms\n",
      "247:\tlearn: 0.0177047\ttotal: 480ms\tremaining: 488ms\n",
      "248:\tlearn: 0.0175758\ttotal: 482ms\tremaining: 486ms\n",
      "249:\tlearn: 0.0175110\ttotal: 484ms\tremaining: 484ms\n",
      "250:\tlearn: 0.0173566\ttotal: 486ms\tremaining: 482ms\n",
      "251:\tlearn: 0.0172304\ttotal: 487ms\tremaining: 480ms\n",
      "252:\tlearn: 0.0170777\ttotal: 489ms\tremaining: 478ms\n",
      "253:\tlearn: 0.0170777\ttotal: 491ms\tremaining: 476ms\n",
      "254:\tlearn: 0.0169691\ttotal: 493ms\tremaining: 474ms\n",
      "255:\tlearn: 0.0169689\ttotal: 494ms\tremaining: 471ms\n",
      "256:\tlearn: 0.0168415\ttotal: 496ms\tremaining: 469ms\n",
      "257:\tlearn: 0.0167407\ttotal: 498ms\tremaining: 467ms\n",
      "258:\tlearn: 0.0166449\ttotal: 500ms\tremaining: 465ms\n",
      "259:\tlearn: 0.0166064\ttotal: 502ms\tremaining: 463ms\n",
      "260:\tlearn: 0.0165051\ttotal: 503ms\tremaining: 461ms\n",
      "261:\tlearn: 0.0163429\ttotal: 505ms\tremaining: 459ms\n",
      "262:\tlearn: 0.0162225\ttotal: 507ms\tremaining: 457ms\n",
      "263:\tlearn: 0.0161603\ttotal: 509ms\tremaining: 455ms\n",
      "264:\tlearn: 0.0160840\ttotal: 511ms\tremaining: 453ms\n",
      "265:\tlearn: 0.0160807\ttotal: 512ms\tremaining: 451ms\n",
      "266:\tlearn: 0.0159488\ttotal: 514ms\tremaining: 449ms\n",
      "267:\tlearn: 0.0158842\ttotal: 516ms\tremaining: 447ms\n",
      "268:\tlearn: 0.0157803\ttotal: 518ms\tremaining: 445ms\n",
      "269:\tlearn: 0.0157175\ttotal: 520ms\tremaining: 443ms\n",
      "270:\tlearn: 0.0156436\ttotal: 522ms\tremaining: 441ms\n",
      "271:\tlearn: 0.0156287\ttotal: 524ms\tremaining: 439ms\n",
      "272:\tlearn: 0.0155550\ttotal: 526ms\tremaining: 437ms\n",
      "273:\tlearn: 0.0154788\ttotal: 528ms\tremaining: 435ms\n",
      "274:\tlearn: 0.0154787\ttotal: 529ms\tremaining: 433ms\n",
      "275:\tlearn: 0.0154233\ttotal: 531ms\tremaining: 431ms\n",
      "276:\tlearn: 0.0153926\ttotal: 533ms\tremaining: 429ms\n",
      "277:\tlearn: 0.0153926\ttotal: 535ms\tremaining: 427ms\n",
      "278:\tlearn: 0.0153164\ttotal: 537ms\tremaining: 425ms\n",
      "279:\tlearn: 0.0152483\ttotal: 539ms\tremaining: 423ms\n",
      "280:\tlearn: 0.0151126\ttotal: 541ms\tremaining: 421ms\n",
      "281:\tlearn: 0.0150820\ttotal: 543ms\tremaining: 420ms\n",
      "282:\tlearn: 0.0150020\ttotal: 545ms\tremaining: 418ms\n",
      "283:\tlearn: 0.0149410\ttotal: 546ms\tremaining: 416ms\n",
      "284:\tlearn: 0.0148834\ttotal: 548ms\tremaining: 414ms\n",
      "285:\tlearn: 0.0148481\ttotal: 550ms\tremaining: 412ms\n",
      "286:\tlearn: 0.0148480\ttotal: 552ms\tremaining: 410ms\n",
      "287:\tlearn: 0.0147964\ttotal: 554ms\tremaining: 408ms\n",
      "288:\tlearn: 0.0147474\ttotal: 556ms\tremaining: 406ms\n",
      "289:\tlearn: 0.0146348\ttotal: 557ms\tremaining: 404ms\n",
      "290:\tlearn: 0.0145592\ttotal: 559ms\tremaining: 402ms\n"
     ]
    },
    {
     "name": "stdout",
     "output_type": "stream",
     "text": [
      "291:\tlearn: 0.0144617\ttotal: 561ms\tremaining: 400ms\n",
      "292:\tlearn: 0.0143357\ttotal: 564ms\tremaining: 398ms\n",
      "293:\tlearn: 0.0142211\ttotal: 566ms\tremaining: 397ms\n",
      "294:\tlearn: 0.0141061\ttotal: 568ms\tremaining: 395ms\n",
      "295:\tlearn: 0.0140292\ttotal: 570ms\tremaining: 393ms\n",
      "296:\tlearn: 0.0139601\ttotal: 572ms\tremaining: 391ms\n",
      "297:\tlearn: 0.0138660\ttotal: 574ms\tremaining: 389ms\n",
      "298:\tlearn: 0.0137460\ttotal: 576ms\tremaining: 388ms\n",
      "299:\tlearn: 0.0136894\ttotal: 579ms\tremaining: 386ms\n",
      "300:\tlearn: 0.0136040\ttotal: 581ms\tremaining: 384ms\n",
      "301:\tlearn: 0.0135110\ttotal: 583ms\tremaining: 382ms\n",
      "302:\tlearn: 0.0134177\ttotal: 585ms\tremaining: 381ms\n",
      "303:\tlearn: 0.0133128\ttotal: 587ms\tremaining: 379ms\n",
      "304:\tlearn: 0.0131874\ttotal: 589ms\tremaining: 377ms\n",
      "305:\tlearn: 0.0130856\ttotal: 591ms\tremaining: 375ms\n",
      "306:\tlearn: 0.0129788\ttotal: 593ms\tremaining: 373ms\n",
      "307:\tlearn: 0.0129304\ttotal: 595ms\tremaining: 371ms\n",
      "308:\tlearn: 0.0128733\ttotal: 597ms\tremaining: 369ms\n",
      "309:\tlearn: 0.0128159\ttotal: 599ms\tremaining: 367ms\n",
      "310:\tlearn: 0.0127437\ttotal: 601ms\tremaining: 365ms\n",
      "311:\tlearn: 0.0126818\ttotal: 602ms\tremaining: 363ms\n",
      "312:\tlearn: 0.0126538\ttotal: 604ms\tremaining: 361ms\n",
      "313:\tlearn: 0.0125923\ttotal: 606ms\tremaining: 359ms\n",
      "314:\tlearn: 0.0125066\ttotal: 608ms\tremaining: 357ms\n",
      "315:\tlearn: 0.0124938\ttotal: 610ms\tremaining: 355ms\n",
      "316:\tlearn: 0.0124665\ttotal: 611ms\tremaining: 353ms\n",
      "317:\tlearn: 0.0124068\ttotal: 613ms\tremaining: 351ms\n",
      "318:\tlearn: 0.0123449\ttotal: 615ms\tremaining: 349ms\n",
      "319:\tlearn: 0.0123448\ttotal: 617ms\tremaining: 347ms\n",
      "320:\tlearn: 0.0123008\ttotal: 618ms\tremaining: 345ms\n",
      "321:\tlearn: 0.0121705\ttotal: 620ms\tremaining: 343ms\n",
      "322:\tlearn: 0.0120983\ttotal: 622ms\tremaining: 341ms\n",
      "323:\tlearn: 0.0120783\ttotal: 624ms\tremaining: 339ms\n",
      "324:\tlearn: 0.0120172\ttotal: 626ms\tremaining: 337ms\n",
      "325:\tlearn: 0.0120019\ttotal: 628ms\tremaining: 335ms\n",
      "326:\tlearn: 0.0119066\ttotal: 630ms\tremaining: 333ms\n",
      "327:\tlearn: 0.0118554\ttotal: 631ms\tremaining: 331ms\n",
      "328:\tlearn: 0.0118554\ttotal: 633ms\tremaining: 329ms\n",
      "329:\tlearn: 0.0118010\ttotal: 635ms\tremaining: 327ms\n",
      "330:\tlearn: 0.0117391\ttotal: 637ms\tremaining: 325ms\n",
      "331:\tlearn: 0.0117104\ttotal: 638ms\tremaining: 323ms\n",
      "332:\tlearn: 0.0116738\ttotal: 640ms\tremaining: 321ms\n",
      "333:\tlearn: 0.0116273\ttotal: 642ms\tremaining: 319ms\n",
      "334:\tlearn: 0.0115697\ttotal: 644ms\tremaining: 317ms\n",
      "335:\tlearn: 0.0115384\ttotal: 646ms\tremaining: 315ms\n",
      "336:\tlearn: 0.0115095\ttotal: 648ms\tremaining: 313ms\n",
      "337:\tlearn: 0.0114565\ttotal: 649ms\tremaining: 311ms\n",
      "338:\tlearn: 0.0114107\ttotal: 651ms\tremaining: 309ms\n",
      "339:\tlearn: 0.0114106\ttotal: 653ms\tremaining: 307ms\n",
      "340:\tlearn: 0.0113897\ttotal: 655ms\tremaining: 305ms\n",
      "341:\tlearn: 0.0112744\ttotal: 656ms\tremaining: 303ms\n",
      "342:\tlearn: 0.0112174\ttotal: 658ms\tremaining: 301ms\n",
      "343:\tlearn: 0.0111608\ttotal: 660ms\tremaining: 299ms\n",
      "344:\tlearn: 0.0110857\ttotal: 662ms\tremaining: 297ms\n",
      "345:\tlearn: 0.0110150\ttotal: 664ms\tremaining: 295ms\n",
      "346:\tlearn: 0.0109056\ttotal: 666ms\tremaining: 294ms\n",
      "347:\tlearn: 0.0108117\ttotal: 667ms\tremaining: 292ms\n",
      "348:\tlearn: 0.0107637\ttotal: 669ms\tremaining: 290ms\n",
      "349:\tlearn: 0.0106894\ttotal: 671ms\tremaining: 288ms\n",
      "350:\tlearn: 0.0106388\ttotal: 673ms\tremaining: 286ms\n",
      "351:\tlearn: 0.0106073\ttotal: 675ms\tremaining: 284ms\n",
      "352:\tlearn: 0.0105393\ttotal: 678ms\tremaining: 282ms\n",
      "353:\tlearn: 0.0104771\ttotal: 680ms\tremaining: 280ms\n",
      "354:\tlearn: 0.0104275\ttotal: 681ms\tremaining: 278ms\n",
      "355:\tlearn: 0.0103750\ttotal: 683ms\tremaining: 276ms\n",
      "356:\tlearn: 0.0103256\ttotal: 685ms\tremaining: 274ms\n",
      "357:\tlearn: 0.0102886\ttotal: 687ms\tremaining: 273ms\n",
      "358:\tlearn: 0.0102234\ttotal: 689ms\tremaining: 271ms\n",
      "359:\tlearn: 0.0101655\ttotal: 691ms\tremaining: 269ms\n",
      "360:\tlearn: 0.0101363\ttotal: 694ms\tremaining: 267ms\n",
      "361:\tlearn: 0.0101361\ttotal: 696ms\tremaining: 265ms\n",
      "362:\tlearn: 0.0100940\ttotal: 698ms\tremaining: 263ms\n",
      "363:\tlearn: 0.0100488\ttotal: 700ms\tremaining: 262ms\n",
      "364:\tlearn: 0.0100099\ttotal: 702ms\tremaining: 260ms\n",
      "365:\tlearn: 0.0099418\ttotal: 704ms\tremaining: 258ms\n",
      "366:\tlearn: 0.0098825\ttotal: 706ms\tremaining: 256ms\n",
      "367:\tlearn: 0.0098326\ttotal: 708ms\tremaining: 254ms\n",
      "368:\tlearn: 0.0098014\ttotal: 710ms\tremaining: 252ms\n",
      "369:\tlearn: 0.0097643\ttotal: 712ms\tremaining: 250ms\n",
      "370:\tlearn: 0.0097203\ttotal: 715ms\tremaining: 249ms\n",
      "371:\tlearn: 0.0096554\ttotal: 717ms\tremaining: 247ms\n",
      "372:\tlearn: 0.0096063\ttotal: 721ms\tremaining: 245ms\n",
      "373:\tlearn: 0.0095624\ttotal: 724ms\tremaining: 244ms\n",
      "374:\tlearn: 0.0095445\ttotal: 726ms\tremaining: 242ms\n",
      "375:\tlearn: 0.0095121\ttotal: 728ms\tremaining: 240ms\n",
      "376:\tlearn: 0.0094752\ttotal: 730ms\tremaining: 238ms\n",
      "377:\tlearn: 0.0094554\ttotal: 732ms\tremaining: 236ms\n",
      "378:\tlearn: 0.0094089\ttotal: 734ms\tremaining: 234ms\n",
      "379:\tlearn: 0.0093672\ttotal: 736ms\tremaining: 232ms\n",
      "380:\tlearn: 0.0093308\ttotal: 739ms\tremaining: 231ms\n",
      "381:\tlearn: 0.0092863\ttotal: 741ms\tremaining: 229ms\n",
      "382:\tlearn: 0.0092641\ttotal: 743ms\tremaining: 227ms\n",
      "383:\tlearn: 0.0092225\ttotal: 745ms\tremaining: 225ms\n",
      "384:\tlearn: 0.0091737\ttotal: 748ms\tremaining: 223ms\n",
      "385:\tlearn: 0.0091402\ttotal: 750ms\tremaining: 221ms\n",
      "386:\tlearn: 0.0091030\ttotal: 752ms\tremaining: 220ms\n",
      "387:\tlearn: 0.0090585\ttotal: 754ms\tremaining: 218ms\n",
      "388:\tlearn: 0.0090246\ttotal: 756ms\tremaining: 216ms\n",
      "389:\tlearn: 0.0089783\ttotal: 758ms\tremaining: 214ms\n",
      "390:\tlearn: 0.0089322\ttotal: 760ms\tremaining: 212ms\n",
      "391:\tlearn: 0.0088750\ttotal: 762ms\tremaining: 210ms\n",
      "392:\tlearn: 0.0088235\ttotal: 764ms\tremaining: 208ms\n",
      "393:\tlearn: 0.0087991\ttotal: 766ms\tremaining: 206ms\n",
      "394:\tlearn: 0.0087710\ttotal: 768ms\tremaining: 204ms\n",
      "395:\tlearn: 0.0087412\ttotal: 771ms\tremaining: 202ms\n",
      "396:\tlearn: 0.0087201\ttotal: 773ms\tremaining: 200ms\n",
      "397:\tlearn: 0.0087034\ttotal: 775ms\tremaining: 199ms\n",
      "398:\tlearn: 0.0086730\ttotal: 777ms\tremaining: 197ms\n",
      "399:\tlearn: 0.0086396\ttotal: 779ms\tremaining: 195ms\n",
      "400:\tlearn: 0.0086081\ttotal: 781ms\tremaining: 193ms\n",
      "401:\tlearn: 0.0085947\ttotal: 783ms\tremaining: 191ms\n",
      "402:\tlearn: 0.0085743\ttotal: 785ms\tremaining: 189ms\n",
      "403:\tlearn: 0.0085495\ttotal: 787ms\tremaining: 187ms\n",
      "404:\tlearn: 0.0085032\ttotal: 789ms\tremaining: 185ms\n",
      "405:\tlearn: 0.0084878\ttotal: 792ms\tremaining: 183ms\n",
      "406:\tlearn: 0.0084454\ttotal: 794ms\tremaining: 181ms\n",
      "407:\tlearn: 0.0084416\ttotal: 796ms\tremaining: 179ms\n",
      "408:\tlearn: 0.0084206\ttotal: 798ms\tremaining: 178ms\n",
      "409:\tlearn: 0.0083872\ttotal: 800ms\tremaining: 176ms\n",
      "410:\tlearn: 0.0083848\ttotal: 802ms\tremaining: 174ms\n",
      "411:\tlearn: 0.0083705\ttotal: 804ms\tremaining: 172ms\n",
      "412:\tlearn: 0.0083472\ttotal: 806ms\tremaining: 170ms\n",
      "413:\tlearn: 0.0083135\ttotal: 809ms\tremaining: 168ms\n",
      "414:\tlearn: 0.0082805\ttotal: 811ms\tremaining: 166ms\n",
      "415:\tlearn: 0.0082395\ttotal: 813ms\tremaining: 164ms\n",
      "416:\tlearn: 0.0081996\ttotal: 815ms\tremaining: 162ms\n",
      "417:\tlearn: 0.0081662\ttotal: 817ms\tremaining: 160ms\n",
      "418:\tlearn: 0.0081391\ttotal: 819ms\tremaining: 158ms\n",
      "419:\tlearn: 0.0080924\ttotal: 821ms\tremaining: 156ms\n",
      "420:\tlearn: 0.0080738\ttotal: 823ms\tremaining: 154ms\n",
      "421:\tlearn: 0.0080555\ttotal: 825ms\tremaining: 152ms\n",
      "422:\tlearn: 0.0080221\ttotal: 827ms\tremaining: 150ms\n",
      "423:\tlearn: 0.0080049\ttotal: 829ms\tremaining: 149ms\n",
      "424:\tlearn: 0.0079905\ttotal: 831ms\tremaining: 147ms\n",
      "425:\tlearn: 0.0079705\ttotal: 833ms\tremaining: 145ms\n",
      "426:\tlearn: 0.0079542\ttotal: 835ms\tremaining: 143ms\n",
      "427:\tlearn: 0.0079132\ttotal: 837ms\tremaining: 141ms\n",
      "428:\tlearn: 0.0078997\ttotal: 839ms\tremaining: 139ms\n",
      "429:\tlearn: 0.0078739\ttotal: 841ms\tremaining: 137ms\n",
      "430:\tlearn: 0.0078478\ttotal: 842ms\tremaining: 135ms\n",
      "431:\tlearn: 0.0078207\ttotal: 844ms\tremaining: 133ms\n",
      "432:\tlearn: 0.0078016\ttotal: 847ms\tremaining: 131ms\n",
      "433:\tlearn: 0.0078016\ttotal: 848ms\tremaining: 129ms\n",
      "434:\tlearn: 0.0077790\ttotal: 850ms\tremaining: 127ms\n",
      "435:\tlearn: 0.0077373\ttotal: 852ms\tremaining: 125ms\n",
      "436:\tlearn: 0.0077203\ttotal: 854ms\tremaining: 123ms\n",
      "437:\tlearn: 0.0077067\ttotal: 856ms\tremaining: 121ms\n",
      "438:\tlearn: 0.0076774\ttotal: 859ms\tremaining: 119ms\n",
      "439:\tlearn: 0.0076642\ttotal: 861ms\tremaining: 117ms\n",
      "440:\tlearn: 0.0076370\ttotal: 863ms\tremaining: 115ms\n",
      "441:\tlearn: 0.0076111\ttotal: 864ms\tremaining: 113ms\n",
      "442:\tlearn: 0.0075876\ttotal: 866ms\tremaining: 111ms\n",
      "443:\tlearn: 0.0075449\ttotal: 868ms\tremaining: 110ms\n",
      "444:\tlearn: 0.0075170\ttotal: 870ms\tremaining: 108ms\n",
      "445:\tlearn: 0.0074986\ttotal: 872ms\tremaining: 106ms\n",
      "446:\tlearn: 0.0074725\ttotal: 875ms\tremaining: 104ms\n",
      "447:\tlearn: 0.0074364\ttotal: 877ms\tremaining: 102ms\n",
      "448:\tlearn: 0.0074145\ttotal: 879ms\tremaining: 99.8ms\n",
      "449:\tlearn: 0.0073808\ttotal: 881ms\tremaining: 97.9ms\n",
      "450:\tlearn: 0.0073807\ttotal: 883ms\tremaining: 95.9ms\n",
      "451:\tlearn: 0.0073663\ttotal: 884ms\tremaining: 93.9ms\n",
      "452:\tlearn: 0.0073254\ttotal: 886ms\tremaining: 91.9ms\n",
      "453:\tlearn: 0.0073119\ttotal: 888ms\tremaining: 90ms\n",
      "454:\tlearn: 0.0072910\ttotal: 890ms\tremaining: 88ms\n",
      "455:\tlearn: 0.0072678\ttotal: 892ms\tremaining: 86.1ms\n",
      "456:\tlearn: 0.0072458\ttotal: 894ms\tremaining: 84.1ms\n",
      "457:\tlearn: 0.0072247\ttotal: 896ms\tremaining: 82.2ms\n",
      "458:\tlearn: 0.0072048\ttotal: 898ms\tremaining: 80.2ms\n",
      "459:\tlearn: 0.0071861\ttotal: 900ms\tremaining: 78.2ms\n",
      "460:\tlearn: 0.0071557\ttotal: 901ms\tremaining: 76.2ms\n",
      "461:\tlearn: 0.0071346\ttotal: 903ms\tremaining: 74.3ms\n",
      "462:\tlearn: 0.0071238\ttotal: 905ms\tremaining: 72.4ms\n",
      "463:\tlearn: 0.0071125\ttotal: 907ms\tremaining: 70.4ms\n",
      "464:\tlearn: 0.0070718\ttotal: 909ms\tremaining: 68.5ms\n",
      "465:\tlearn: 0.0070400\ttotal: 911ms\tremaining: 66.5ms\n",
      "466:\tlearn: 0.0070262\ttotal: 913ms\tremaining: 64.5ms\n",
      "467:\tlearn: 0.0070145\ttotal: 915ms\tremaining: 62.6ms\n",
      "468:\tlearn: 0.0069730\ttotal: 917ms\tremaining: 60.6ms\n",
      "469:\tlearn: 0.0069582\ttotal: 919ms\tremaining: 58.7ms\n",
      "470:\tlearn: 0.0069292\ttotal: 921ms\tremaining: 56.7ms\n"
     ]
    },
    {
     "name": "stdout",
     "output_type": "stream",
     "text": [
      "471:\tlearn: 0.0068942\ttotal: 923ms\tremaining: 54.8ms\n",
      "472:\tlearn: 0.0068745\ttotal: 925ms\tremaining: 52.8ms\n",
      "473:\tlearn: 0.0068562\ttotal: 927ms\tremaining: 50.9ms\n",
      "474:\tlearn: 0.0068371\ttotal: 929ms\tremaining: 48.9ms\n",
      "475:\tlearn: 0.0068230\ttotal: 931ms\tremaining: 46.9ms\n",
      "476:\tlearn: 0.0068021\ttotal: 933ms\tremaining: 45ms\n",
      "477:\tlearn: 0.0067922\ttotal: 935ms\tremaining: 43ms\n",
      "478:\tlearn: 0.0067913\ttotal: 937ms\tremaining: 41.1ms\n",
      "479:\tlearn: 0.0067807\ttotal: 939ms\tremaining: 39.1ms\n",
      "480:\tlearn: 0.0067612\ttotal: 940ms\tremaining: 37.1ms\n",
      "481:\tlearn: 0.0067416\ttotal: 942ms\tremaining: 35.2ms\n",
      "482:\tlearn: 0.0067139\ttotal: 944ms\tremaining: 33.2ms\n",
      "483:\tlearn: 0.0066891\ttotal: 946ms\tremaining: 31.3ms\n",
      "484:\tlearn: 0.0066696\ttotal: 948ms\tremaining: 29.3ms\n",
      "485:\tlearn: 0.0066431\ttotal: 950ms\tremaining: 27.4ms\n",
      "486:\tlearn: 0.0066262\ttotal: 953ms\tremaining: 25.4ms\n",
      "487:\tlearn: 0.0065933\ttotal: 955ms\tremaining: 23.5ms\n",
      "488:\tlearn: 0.0065686\ttotal: 957ms\tremaining: 21.5ms\n",
      "489:\tlearn: 0.0065354\ttotal: 958ms\tremaining: 19.6ms\n",
      "490:\tlearn: 0.0065240\ttotal: 961ms\tremaining: 17.6ms\n",
      "491:\tlearn: 0.0065004\ttotal: 963ms\tremaining: 15.7ms\n",
      "492:\tlearn: 0.0064761\ttotal: 965ms\tremaining: 13.7ms\n",
      "493:\tlearn: 0.0064344\ttotal: 967ms\tremaining: 11.7ms\n",
      "494:\tlearn: 0.0064345\ttotal: 969ms\tremaining: 9.78ms\n",
      "495:\tlearn: 0.0064164\ttotal: 971ms\tremaining: 7.83ms\n",
      "496:\tlearn: 0.0063998\ttotal: 972ms\tremaining: 5.87ms\n",
      "497:\tlearn: 0.0063763\ttotal: 974ms\tremaining: 3.91ms\n",
      "498:\tlearn: 0.0063559\ttotal: 976ms\tremaining: 1.96ms\n",
      "499:\tlearn: 0.0063330\ttotal: 979ms\tremaining: 0us\n",
      "0:\tlearn: 0.6278343\ttotal: 2.19ms\tremaining: 1.09s\n",
      "1:\tlearn: 0.5844567\ttotal: 4.21ms\tremaining: 1.05s\n",
      "2:\tlearn: 0.5492502\ttotal: 6.28ms\tremaining: 1.04s\n",
      "3:\tlearn: 0.5156866\ttotal: 8.27ms\tremaining: 1.03s\n",
      "4:\tlearn: 0.4960189\ttotal: 10.5ms\tremaining: 1.03s\n",
      "5:\tlearn: 0.4720387\ttotal: 12.8ms\tremaining: 1.05s\n",
      "6:\tlearn: 0.4416565\ttotal: 14.9ms\tremaining: 1.05s\n",
      "7:\tlearn: 0.4224201\ttotal: 17.2ms\tremaining: 1.05s\n",
      "8:\tlearn: 0.4064056\ttotal: 19.4ms\tremaining: 1.06s\n",
      "9:\tlearn: 0.3903274\ttotal: 21.4ms\tremaining: 1.05s\n",
      "10:\tlearn: 0.3842145\ttotal: 23.6ms\tremaining: 1.05s\n",
      "11:\tlearn: 0.3737148\ttotal: 25.8ms\tremaining: 1.05s\n",
      "12:\tlearn: 0.3603675\ttotal: 27.8ms\tremaining: 1.04s\n",
      "13:\tlearn: 0.3501844\ttotal: 29.7ms\tremaining: 1.03s\n",
      "14:\tlearn: 0.3448036\ttotal: 32ms\tremaining: 1.03s\n",
      "15:\tlearn: 0.3375679\ttotal: 34ms\tremaining: 1.03s\n",
      "16:\tlearn: 0.3333240\ttotal: 36ms\tremaining: 1.02s\n",
      "17:\tlearn: 0.3206770\ttotal: 38.1ms\tremaining: 1.02s\n",
      "18:\tlearn: 0.3119755\ttotal: 40.2ms\tremaining: 1.02s\n",
      "19:\tlearn: 0.3052678\ttotal: 42.2ms\tremaining: 1.01s\n",
      "20:\tlearn: 0.3013719\ttotal: 44.3ms\tremaining: 1.01s\n",
      "21:\tlearn: 0.2946633\ttotal: 46.3ms\tremaining: 1s\n",
      "22:\tlearn: 0.2917194\ttotal: 48.2ms\tremaining: 1000ms\n",
      "23:\tlearn: 0.2836782\ttotal: 50.1ms\tremaining: 993ms\n",
      "24:\tlearn: 0.2774377\ttotal: 52.4ms\tremaining: 996ms\n",
      "25:\tlearn: 0.2729874\ttotal: 54.4ms\tremaining: 992ms\n",
      "26:\tlearn: 0.2672952\ttotal: 56.3ms\tremaining: 987ms\n",
      "27:\tlearn: 0.2569126\ttotal: 58.4ms\tremaining: 985ms\n",
      "28:\tlearn: 0.2548239\ttotal: 60.6ms\tremaining: 984ms\n",
      "29:\tlearn: 0.2527866\ttotal: 63ms\tremaining: 987ms\n",
      "30:\tlearn: 0.2468865\ttotal: 65ms\tremaining: 983ms\n",
      "31:\tlearn: 0.2404480\ttotal: 67.3ms\tremaining: 985ms\n",
      "32:\tlearn: 0.2380144\ttotal: 69ms\tremaining: 976ms\n",
      "33:\tlearn: 0.2360868\ttotal: 70.9ms\tremaining: 972ms\n",
      "34:\tlearn: 0.2330557\ttotal: 73.9ms\tremaining: 981ms\n",
      "35:\tlearn: 0.2289803\ttotal: 76.2ms\tremaining: 982ms\n",
      "36:\tlearn: 0.2276955\ttotal: 78ms\tremaining: 977ms\n",
      "37:\tlearn: 0.2237060\ttotal: 80.1ms\tremaining: 974ms\n",
      "38:\tlearn: 0.2170958\ttotal: 82.1ms\tremaining: 971ms\n",
      "39:\tlearn: 0.2141242\ttotal: 84ms\tremaining: 965ms\n",
      "40:\tlearn: 0.2124988\ttotal: 86.3ms\tremaining: 966ms\n",
      "41:\tlearn: 0.2101875\ttotal: 88.3ms\tremaining: 963ms\n",
      "42:\tlearn: 0.2096251\ttotal: 90.4ms\tremaining: 961ms\n",
      "43:\tlearn: 0.2094831\ttotal: 92.1ms\tremaining: 955ms\n",
      "44:\tlearn: 0.2048978\ttotal: 94.3ms\tremaining: 954ms\n",
      "45:\tlearn: 0.2038221\ttotal: 96.7ms\tremaining: 954ms\n",
      "46:\tlearn: 0.2024405\ttotal: 98.9ms\tremaining: 953ms\n",
      "47:\tlearn: 0.1977015\ttotal: 101ms\tremaining: 955ms\n",
      "48:\tlearn: 0.1944950\ttotal: 104ms\tremaining: 953ms\n",
      "49:\tlearn: 0.1887953\ttotal: 106ms\tremaining: 954ms\n",
      "50:\tlearn: 0.1845398\ttotal: 108ms\tremaining: 953ms\n",
      "51:\tlearn: 0.1798896\ttotal: 110ms\tremaining: 949ms\n",
      "52:\tlearn: 0.1783469\ttotal: 113ms\tremaining: 950ms\n",
      "53:\tlearn: 0.1747699\ttotal: 115ms\tremaining: 948ms\n",
      "54:\tlearn: 0.1726749\ttotal: 117ms\tremaining: 943ms\n",
      "55:\tlearn: 0.1679991\ttotal: 118ms\tremaining: 938ms\n",
      "56:\tlearn: 0.1634187\ttotal: 121ms\tremaining: 937ms\n",
      "57:\tlearn: 0.1613003\ttotal: 122ms\tremaining: 932ms\n",
      "58:\tlearn: 0.1575984\ttotal: 125ms\tremaining: 931ms\n",
      "59:\tlearn: 0.1557139\ttotal: 127ms\tremaining: 930ms\n",
      "60:\tlearn: 0.1521975\ttotal: 129ms\tremaining: 928ms\n",
      "61:\tlearn: 0.1491105\ttotal: 131ms\tremaining: 925ms\n",
      "62:\tlearn: 0.1472841\ttotal: 133ms\tremaining: 922ms\n",
      "63:\tlearn: 0.1456780\ttotal: 135ms\tremaining: 921ms\n",
      "64:\tlearn: 0.1433760\ttotal: 137ms\tremaining: 918ms\n",
      "65:\tlearn: 0.1398836\ttotal: 139ms\tremaining: 915ms\n",
      "66:\tlearn: 0.1358647\ttotal: 141ms\tremaining: 913ms\n",
      "67:\tlearn: 0.1353242\ttotal: 143ms\tremaining: 910ms\n",
      "68:\tlearn: 0.1322054\ttotal: 145ms\tremaining: 908ms\n",
      "69:\tlearn: 0.1305034\ttotal: 147ms\tremaining: 906ms\n",
      "70:\tlearn: 0.1290326\ttotal: 149ms\tremaining: 901ms\n",
      "71:\tlearn: 0.1234093\ttotal: 151ms\tremaining: 899ms\n",
      "72:\tlearn: 0.1199658\ttotal: 154ms\tremaining: 898ms\n",
      "73:\tlearn: 0.1195340\ttotal: 156ms\tremaining: 895ms\n",
      "74:\tlearn: 0.1164447\ttotal: 158ms\tremaining: 894ms\n",
      "75:\tlearn: 0.1141266\ttotal: 160ms\tremaining: 894ms\n",
      "76:\tlearn: 0.1135312\ttotal: 163ms\tremaining: 893ms\n",
      "77:\tlearn: 0.1134015\ttotal: 164ms\tremaining: 890ms\n",
      "78:\tlearn: 0.1109128\ttotal: 166ms\tremaining: 887ms\n",
      "79:\tlearn: 0.1084768\ttotal: 168ms\tremaining: 884ms\n",
      "80:\tlearn: 0.1072980\ttotal: 170ms\tremaining: 881ms\n",
      "81:\tlearn: 0.1052862\ttotal: 173ms\tremaining: 880ms\n",
      "82:\tlearn: 0.1015547\ttotal: 175ms\tremaining: 878ms\n",
      "83:\tlearn: 0.1000025\ttotal: 177ms\tremaining: 877ms\n",
      "84:\tlearn: 0.0994716\ttotal: 179ms\tremaining: 874ms\n",
      "85:\tlearn: 0.0992593\ttotal: 181ms\tremaining: 872ms\n",
      "86:\tlearn: 0.0985207\ttotal: 183ms\tremaining: 869ms\n",
      "87:\tlearn: 0.0982970\ttotal: 185ms\tremaining: 867ms\n",
      "88:\tlearn: 0.0955357\ttotal: 187ms\tremaining: 866ms\n",
      "89:\tlearn: 0.0931288\ttotal: 190ms\tremaining: 864ms\n",
      "90:\tlearn: 0.0928879\ttotal: 192ms\tremaining: 861ms\n",
      "91:\tlearn: 0.0909418\ttotal: 194ms\tremaining: 859ms\n",
      "92:\tlearn: 0.0907782\ttotal: 196ms\tremaining: 856ms\n",
      "93:\tlearn: 0.0899260\ttotal: 197ms\tremaining: 853ms\n",
      "94:\tlearn: 0.0889303\ttotal: 199ms\tremaining: 849ms\n",
      "95:\tlearn: 0.0878487\ttotal: 201ms\tremaining: 848ms\n",
      "96:\tlearn: 0.0868633\ttotal: 204ms\tremaining: 846ms\n",
      "97:\tlearn: 0.0865809\ttotal: 206ms\tremaining: 844ms\n",
      "98:\tlearn: 0.0865137\ttotal: 208ms\tremaining: 841ms\n",
      "99:\tlearn: 0.0862478\ttotal: 209ms\tremaining: 838ms\n",
      "100:\tlearn: 0.0845676\ttotal: 211ms\tremaining: 835ms\n",
      "101:\tlearn: 0.0834116\ttotal: 213ms\tremaining: 831ms\n",
      "102:\tlearn: 0.0833522\ttotal: 215ms\tremaining: 828ms\n",
      "103:\tlearn: 0.0821243\ttotal: 217ms\tremaining: 826ms\n",
      "104:\tlearn: 0.0806947\ttotal: 219ms\tremaining: 824ms\n",
      "105:\tlearn: 0.0797959\ttotal: 221ms\tremaining: 823ms\n",
      "106:\tlearn: 0.0770393\ttotal: 223ms\tremaining: 820ms\n",
      "107:\tlearn: 0.0764707\ttotal: 225ms\tremaining: 817ms\n",
      "108:\tlearn: 0.0760508\ttotal: 227ms\tremaining: 814ms\n",
      "109:\tlearn: 0.0758121\ttotal: 229ms\tremaining: 810ms\n",
      "110:\tlearn: 0.0756052\ttotal: 231ms\tremaining: 809ms\n",
      "111:\tlearn: 0.0737403\ttotal: 233ms\tremaining: 806ms\n",
      "112:\tlearn: 0.0720161\ttotal: 234ms\tremaining: 803ms\n",
      "113:\tlearn: 0.0714074\ttotal: 236ms\tremaining: 799ms\n",
      "114:\tlearn: 0.0708767\ttotal: 238ms\tremaining: 796ms\n",
      "115:\tlearn: 0.0700580\ttotal: 240ms\tremaining: 793ms\n",
      "116:\tlearn: 0.0683614\ttotal: 241ms\tremaining: 790ms\n",
      "117:\tlearn: 0.0678522\ttotal: 243ms\tremaining: 788ms\n",
      "118:\tlearn: 0.0669383\ttotal: 245ms\tremaining: 785ms\n",
      "119:\tlearn: 0.0656816\ttotal: 247ms\tremaining: 783ms\n",
      "120:\tlearn: 0.0648032\ttotal: 249ms\tremaining: 780ms\n",
      "121:\tlearn: 0.0640364\ttotal: 251ms\tremaining: 777ms\n",
      "122:\tlearn: 0.0634827\ttotal: 253ms\tremaining: 774ms\n",
      "123:\tlearn: 0.0630042\ttotal: 255ms\tremaining: 772ms\n",
      "124:\tlearn: 0.0618646\ttotal: 256ms\tremaining: 769ms\n",
      "125:\tlearn: 0.0611087\ttotal: 259ms\tremaining: 768ms\n",
      "126:\tlearn: 0.0601671\ttotal: 261ms\tremaining: 767ms\n",
      "127:\tlearn: 0.0594627\ttotal: 263ms\tremaining: 765ms\n",
      "128:\tlearn: 0.0579582\ttotal: 265ms\tremaining: 763ms\n",
      "129:\tlearn: 0.0577669\ttotal: 267ms\tremaining: 760ms\n",
      "130:\tlearn: 0.0570685\ttotal: 269ms\tremaining: 758ms\n",
      "131:\tlearn: 0.0560884\ttotal: 271ms\tremaining: 756ms\n",
      "132:\tlearn: 0.0552328\ttotal: 273ms\tremaining: 754ms\n",
      "133:\tlearn: 0.0544167\ttotal: 275ms\tremaining: 751ms\n",
      "134:\tlearn: 0.0540435\ttotal: 277ms\tremaining: 749ms\n",
      "135:\tlearn: 0.0536936\ttotal: 279ms\tremaining: 747ms\n",
      "136:\tlearn: 0.0531301\ttotal: 281ms\tremaining: 745ms\n",
      "137:\tlearn: 0.0527925\ttotal: 283ms\tremaining: 743ms\n",
      "138:\tlearn: 0.0520585\ttotal: 285ms\tremaining: 740ms\n",
      "139:\tlearn: 0.0513911\ttotal: 287ms\tremaining: 738ms\n",
      "140:\tlearn: 0.0510012\ttotal: 289ms\tremaining: 735ms\n",
      "141:\tlearn: 0.0503518\ttotal: 290ms\tremaining: 732ms\n",
      "142:\tlearn: 0.0495948\ttotal: 292ms\tremaining: 730ms\n",
      "143:\tlearn: 0.0493674\ttotal: 294ms\tremaining: 728ms\n",
      "144:\tlearn: 0.0489821\ttotal: 296ms\tremaining: 725ms\n",
      "145:\tlearn: 0.0483203\ttotal: 298ms\tremaining: 723ms\n",
      "146:\tlearn: 0.0476035\ttotal: 300ms\tremaining: 720ms\n",
      "147:\tlearn: 0.0468007\ttotal: 302ms\tremaining: 718ms\n",
      "148:\tlearn: 0.0466644\ttotal: 304ms\tremaining: 715ms\n",
      "149:\tlearn: 0.0460167\ttotal: 305ms\tremaining: 713ms\n",
      "150:\tlearn: 0.0457500\ttotal: 307ms\tremaining: 710ms\n",
      "151:\tlearn: 0.0452815\ttotal: 309ms\tremaining: 708ms\n",
      "152:\tlearn: 0.0449898\ttotal: 311ms\tremaining: 705ms\n",
      "153:\tlearn: 0.0444489\ttotal: 313ms\tremaining: 703ms\n",
      "154:\tlearn: 0.0438680\ttotal: 315ms\tremaining: 700ms\n",
      "155:\tlearn: 0.0429312\ttotal: 316ms\tremaining: 698ms\n",
      "156:\tlearn: 0.0424885\ttotal: 318ms\tremaining: 695ms\n",
      "157:\tlearn: 0.0417235\ttotal: 320ms\tremaining: 692ms\n",
      "158:\tlearn: 0.0412865\ttotal: 322ms\tremaining: 690ms\n",
      "159:\tlearn: 0.0408955\ttotal: 324ms\tremaining: 687ms\n",
      "160:\tlearn: 0.0405601\ttotal: 325ms\tremaining: 685ms\n",
      "161:\tlearn: 0.0402571\ttotal: 327ms\tremaining: 683ms\n",
      "162:\tlearn: 0.0399229\ttotal: 329ms\tremaining: 680ms\n",
      "163:\tlearn: 0.0399011\ttotal: 331ms\tremaining: 677ms\n",
      "164:\tlearn: 0.0396695\ttotal: 333ms\tremaining: 675ms\n",
      "165:\tlearn: 0.0392667\ttotal: 334ms\tremaining: 673ms\n",
      "166:\tlearn: 0.0390727\ttotal: 336ms\tremaining: 670ms\n",
      "167:\tlearn: 0.0388679\ttotal: 338ms\tremaining: 668ms\n",
      "168:\tlearn: 0.0387888\ttotal: 340ms\tremaining: 666ms\n",
      "169:\tlearn: 0.0382094\ttotal: 342ms\tremaining: 663ms\n",
      "170:\tlearn: 0.0377650\ttotal: 344ms\tremaining: 661ms\n",
      "171:\tlearn: 0.0373866\ttotal: 345ms\tremaining: 659ms\n",
      "172:\tlearn: 0.0370099\ttotal: 347ms\tremaining: 656ms\n",
      "173:\tlearn: 0.0367845\ttotal: 349ms\tremaining: 654ms\n",
      "174:\tlearn: 0.0363863\ttotal: 351ms\tremaining: 651ms\n",
      "175:\tlearn: 0.0359400\ttotal: 352ms\tremaining: 649ms\n",
      "176:\tlearn: 0.0352884\ttotal: 354ms\tremaining: 647ms\n",
      "177:\tlearn: 0.0349714\ttotal: 356ms\tremaining: 644ms\n",
      "178:\tlearn: 0.0346894\ttotal: 358ms\tremaining: 642ms\n",
      "179:\tlearn: 0.0343671\ttotal: 360ms\tremaining: 639ms\n",
      "180:\tlearn: 0.0342520\ttotal: 361ms\tremaining: 637ms\n",
      "181:\tlearn: 0.0340977\ttotal: 363ms\tremaining: 635ms\n",
      "182:\tlearn: 0.0339194\ttotal: 365ms\tremaining: 632ms\n",
      "183:\tlearn: 0.0337099\ttotal: 367ms\tremaining: 630ms\n",
      "184:\tlearn: 0.0332804\ttotal: 369ms\tremaining: 628ms\n",
      "185:\tlearn: 0.0329829\ttotal: 371ms\tremaining: 626ms\n",
      "186:\tlearn: 0.0324352\ttotal: 372ms\tremaining: 623ms\n",
      "187:\tlearn: 0.0323366\ttotal: 374ms\tremaining: 621ms\n",
      "188:\tlearn: 0.0322353\ttotal: 376ms\tremaining: 619ms\n",
      "189:\tlearn: 0.0318616\ttotal: 378ms\tremaining: 616ms\n",
      "190:\tlearn: 0.0316836\ttotal: 380ms\tremaining: 614ms\n",
      "191:\tlearn: 0.0315470\ttotal: 381ms\tremaining: 612ms\n",
      "192:\tlearn: 0.0313125\ttotal: 383ms\tremaining: 609ms\n",
      "193:\tlearn: 0.0310371\ttotal: 385ms\tremaining: 607ms\n",
      "194:\tlearn: 0.0305656\ttotal: 387ms\tremaining: 605ms\n",
      "195:\tlearn: 0.0303986\ttotal: 388ms\tremaining: 602ms\n",
      "196:\tlearn: 0.0302610\ttotal: 390ms\tremaining: 600ms\n",
      "197:\tlearn: 0.0299753\ttotal: 392ms\tremaining: 598ms\n",
      "198:\tlearn: 0.0296996\ttotal: 394ms\tremaining: 595ms\n",
      "199:\tlearn: 0.0294909\ttotal: 395ms\tremaining: 593ms\n",
      "200:\tlearn: 0.0292475\ttotal: 397ms\tremaining: 591ms\n",
      "201:\tlearn: 0.0290001\ttotal: 399ms\tremaining: 589ms\n",
      "202:\tlearn: 0.0288399\ttotal: 401ms\tremaining: 587ms\n",
      "203:\tlearn: 0.0286911\ttotal: 403ms\tremaining: 584ms\n",
      "204:\tlearn: 0.0282932\ttotal: 405ms\tremaining: 582ms\n",
      "205:\tlearn: 0.0280522\ttotal: 406ms\tremaining: 580ms\n",
      "206:\tlearn: 0.0277782\ttotal: 408ms\tremaining: 578ms\n",
      "207:\tlearn: 0.0276128\ttotal: 410ms\tremaining: 576ms\n",
      "208:\tlearn: 0.0274279\ttotal: 412ms\tremaining: 573ms\n",
      "209:\tlearn: 0.0273124\ttotal: 414ms\tremaining: 571ms\n",
      "210:\tlearn: 0.0272274\ttotal: 416ms\tremaining: 569ms\n",
      "211:\tlearn: 0.0270386\ttotal: 417ms\tremaining: 567ms\n",
      "212:\tlearn: 0.0267755\ttotal: 419ms\tremaining: 565ms\n",
      "213:\tlearn: 0.0266588\ttotal: 421ms\tremaining: 563ms\n",
      "214:\tlearn: 0.0264084\ttotal: 423ms\tremaining: 560ms\n",
      "215:\tlearn: 0.0264003\ttotal: 425ms\tremaining: 558ms\n",
      "216:\tlearn: 0.0262951\ttotal: 426ms\tremaining: 556ms\n",
      "217:\tlearn: 0.0261590\ttotal: 428ms\tremaining: 554ms\n",
      "218:\tlearn: 0.0261424\ttotal: 430ms\tremaining: 552ms\n",
      "219:\tlearn: 0.0258436\ttotal: 432ms\tremaining: 550ms\n",
      "220:\tlearn: 0.0258372\ttotal: 434ms\tremaining: 548ms\n",
      "221:\tlearn: 0.0255350\ttotal: 436ms\tremaining: 545ms\n",
      "222:\tlearn: 0.0253509\ttotal: 437ms\tremaining: 543ms\n",
      "223:\tlearn: 0.0250615\ttotal: 439ms\tremaining: 541ms\n",
      "224:\tlearn: 0.0249401\ttotal: 441ms\tremaining: 539ms\n",
      "225:\tlearn: 0.0249067\ttotal: 443ms\tremaining: 537ms\n"
     ]
    },
    {
     "name": "stdout",
     "output_type": "stream",
     "text": [
      "226:\tlearn: 0.0247811\ttotal: 445ms\tremaining: 536ms\n",
      "227:\tlearn: 0.0246865\ttotal: 448ms\tremaining: 534ms\n",
      "228:\tlearn: 0.0245016\ttotal: 450ms\tremaining: 532ms\n",
      "229:\tlearn: 0.0241825\ttotal: 452ms\tremaining: 530ms\n",
      "230:\tlearn: 0.0240585\ttotal: 453ms\tremaining: 528ms\n",
      "231:\tlearn: 0.0237497\ttotal: 455ms\tremaining: 526ms\n",
      "232:\tlearn: 0.0233156\ttotal: 457ms\tremaining: 524ms\n",
      "233:\tlearn: 0.0231621\ttotal: 459ms\tremaining: 522ms\n",
      "234:\tlearn: 0.0230785\ttotal: 461ms\tremaining: 520ms\n",
      "235:\tlearn: 0.0228908\ttotal: 463ms\tremaining: 518ms\n",
      "236:\tlearn: 0.0227609\ttotal: 465ms\tremaining: 516ms\n",
      "237:\tlearn: 0.0225984\ttotal: 467ms\tremaining: 515ms\n",
      "238:\tlearn: 0.0224941\ttotal: 469ms\tremaining: 513ms\n",
      "239:\tlearn: 0.0222758\ttotal: 471ms\tremaining: 511ms\n",
      "240:\tlearn: 0.0221274\ttotal: 473ms\tremaining: 509ms\n",
      "241:\tlearn: 0.0220673\ttotal: 475ms\tremaining: 506ms\n",
      "242:\tlearn: 0.0220000\ttotal: 477ms\tremaining: 504ms\n",
      "243:\tlearn: 0.0216950\ttotal: 479ms\tremaining: 502ms\n",
      "244:\tlearn: 0.0214402\ttotal: 481ms\tremaining: 500ms\n",
      "245:\tlearn: 0.0213319\ttotal: 482ms\tremaining: 498ms\n",
      "246:\tlearn: 0.0211971\ttotal: 484ms\tremaining: 496ms\n",
      "247:\tlearn: 0.0208803\ttotal: 486ms\tremaining: 494ms\n",
      "248:\tlearn: 0.0206168\ttotal: 488ms\tremaining: 492ms\n",
      "249:\tlearn: 0.0204213\ttotal: 490ms\tremaining: 490ms\n",
      "250:\tlearn: 0.0203107\ttotal: 492ms\tremaining: 488ms\n",
      "251:\tlearn: 0.0203106\ttotal: 493ms\tremaining: 485ms\n",
      "252:\tlearn: 0.0200973\ttotal: 495ms\tremaining: 483ms\n",
      "253:\tlearn: 0.0200748\ttotal: 497ms\tremaining: 481ms\n",
      "254:\tlearn: 0.0198454\ttotal: 499ms\tremaining: 479ms\n",
      "255:\tlearn: 0.0196791\ttotal: 501ms\tremaining: 477ms\n",
      "256:\tlearn: 0.0195380\ttotal: 503ms\tremaining: 475ms\n",
      "257:\tlearn: 0.0194174\ttotal: 505ms\tremaining: 473ms\n",
      "258:\tlearn: 0.0193637\ttotal: 506ms\tremaining: 471ms\n",
      "259:\tlearn: 0.0192909\ttotal: 508ms\tremaining: 469ms\n",
      "260:\tlearn: 0.0191707\ttotal: 510ms\tremaining: 467ms\n",
      "261:\tlearn: 0.0190173\ttotal: 512ms\tremaining: 465ms\n",
      "262:\tlearn: 0.0189314\ttotal: 514ms\tremaining: 463ms\n",
      "263:\tlearn: 0.0188724\ttotal: 516ms\tremaining: 461ms\n",
      "264:\tlearn: 0.0187568\ttotal: 517ms\tremaining: 459ms\n",
      "265:\tlearn: 0.0186049\ttotal: 519ms\tremaining: 457ms\n",
      "266:\tlearn: 0.0184847\ttotal: 521ms\tremaining: 455ms\n",
      "267:\tlearn: 0.0184759\ttotal: 523ms\tremaining: 453ms\n",
      "268:\tlearn: 0.0183867\ttotal: 525ms\tremaining: 451ms\n",
      "269:\tlearn: 0.0183347\ttotal: 527ms\tremaining: 449ms\n",
      "270:\tlearn: 0.0182390\ttotal: 529ms\tremaining: 447ms\n",
      "271:\tlearn: 0.0181918\ttotal: 531ms\tremaining: 445ms\n",
      "272:\tlearn: 0.0180837\ttotal: 533ms\tremaining: 443ms\n",
      "273:\tlearn: 0.0179599\ttotal: 535ms\tremaining: 441ms\n",
      "274:\tlearn: 0.0178747\ttotal: 537ms\tremaining: 439ms\n",
      "275:\tlearn: 0.0178254\ttotal: 539ms\tremaining: 437ms\n",
      "276:\tlearn: 0.0178254\ttotal: 541ms\tremaining: 435ms\n",
      "277:\tlearn: 0.0176549\ttotal: 543ms\tremaining: 433ms\n",
      "278:\tlearn: 0.0175367\ttotal: 545ms\tremaining: 431ms\n",
      "279:\tlearn: 0.0174830\ttotal: 546ms\tremaining: 429ms\n",
      "280:\tlearn: 0.0173129\ttotal: 548ms\tremaining: 427ms\n",
      "281:\tlearn: 0.0172290\ttotal: 550ms\tremaining: 426ms\n",
      "282:\tlearn: 0.0172227\ttotal: 553ms\tremaining: 424ms\n",
      "283:\tlearn: 0.0171537\ttotal: 554ms\tremaining: 422ms\n",
      "284:\tlearn: 0.0171074\ttotal: 556ms\tremaining: 420ms\n",
      "285:\tlearn: 0.0169281\ttotal: 559ms\tremaining: 418ms\n",
      "286:\tlearn: 0.0168137\ttotal: 560ms\tremaining: 416ms\n",
      "287:\tlearn: 0.0166842\ttotal: 562ms\tremaining: 414ms\n",
      "288:\tlearn: 0.0166205\ttotal: 564ms\tremaining: 412ms\n",
      "289:\tlearn: 0.0165304\ttotal: 566ms\tremaining: 410ms\n",
      "290:\tlearn: 0.0164336\ttotal: 568ms\tremaining: 408ms\n",
      "291:\tlearn: 0.0162687\ttotal: 570ms\tremaining: 406ms\n",
      "292:\tlearn: 0.0161749\ttotal: 572ms\tremaining: 404ms\n",
      "293:\tlearn: 0.0160265\ttotal: 574ms\tremaining: 402ms\n",
      "294:\tlearn: 0.0159170\ttotal: 576ms\tremaining: 400ms\n",
      "295:\tlearn: 0.0158402\ttotal: 578ms\tremaining: 398ms\n",
      "296:\tlearn: 0.0157697\ttotal: 580ms\tremaining: 396ms\n",
      "297:\tlearn: 0.0156162\ttotal: 582ms\tremaining: 395ms\n",
      "298:\tlearn: 0.0155413\ttotal: 584ms\tremaining: 393ms\n",
      "299:\tlearn: 0.0154420\ttotal: 586ms\tremaining: 391ms\n",
      "300:\tlearn: 0.0153725\ttotal: 588ms\tremaining: 389ms\n",
      "301:\tlearn: 0.0153053\ttotal: 590ms\tremaining: 387ms\n",
      "302:\tlearn: 0.0152533\ttotal: 592ms\tremaining: 385ms\n",
      "303:\tlearn: 0.0152173\ttotal: 594ms\tremaining: 383ms\n",
      "304:\tlearn: 0.0151532\ttotal: 596ms\tremaining: 381ms\n",
      "305:\tlearn: 0.0151325\ttotal: 597ms\tremaining: 379ms\n",
      "306:\tlearn: 0.0151131\ttotal: 599ms\tremaining: 377ms\n",
      "307:\tlearn: 0.0150390\ttotal: 601ms\tremaining: 375ms\n",
      "308:\tlearn: 0.0149186\ttotal: 603ms\tremaining: 373ms\n",
      "309:\tlearn: 0.0148585\ttotal: 605ms\tremaining: 371ms\n",
      "310:\tlearn: 0.0148353\ttotal: 606ms\tremaining: 369ms\n",
      "311:\tlearn: 0.0147539\ttotal: 608ms\tremaining: 366ms\n",
      "312:\tlearn: 0.0146909\ttotal: 610ms\tremaining: 364ms\n",
      "313:\tlearn: 0.0145997\ttotal: 612ms\tremaining: 362ms\n",
      "314:\tlearn: 0.0145391\ttotal: 614ms\tremaining: 360ms\n",
      "315:\tlearn: 0.0144521\ttotal: 616ms\tremaining: 358ms\n",
      "316:\tlearn: 0.0144382\ttotal: 617ms\tremaining: 356ms\n",
      "317:\tlearn: 0.0143991\ttotal: 619ms\tremaining: 354ms\n",
      "318:\tlearn: 0.0143160\ttotal: 621ms\tremaining: 352ms\n",
      "319:\tlearn: 0.0142632\ttotal: 623ms\tremaining: 350ms\n",
      "320:\tlearn: 0.0142568\ttotal: 624ms\tremaining: 348ms\n",
      "321:\tlearn: 0.0142352\ttotal: 626ms\tremaining: 346ms\n",
      "322:\tlearn: 0.0142054\ttotal: 628ms\tremaining: 344ms\n",
      "323:\tlearn: 0.0141224\ttotal: 631ms\tremaining: 343ms\n",
      "324:\tlearn: 0.0141099\ttotal: 633ms\tremaining: 341ms\n",
      "325:\tlearn: 0.0140301\ttotal: 635ms\tremaining: 339ms\n",
      "326:\tlearn: 0.0139796\ttotal: 637ms\tremaining: 337ms\n",
      "327:\tlearn: 0.0138833\ttotal: 639ms\tremaining: 335ms\n",
      "328:\tlearn: 0.0138297\ttotal: 641ms\tremaining: 333ms\n",
      "329:\tlearn: 0.0137285\ttotal: 643ms\tremaining: 331ms\n",
      "330:\tlearn: 0.0136855\ttotal: 645ms\tremaining: 329ms\n",
      "331:\tlearn: 0.0136017\ttotal: 647ms\tremaining: 327ms\n",
      "332:\tlearn: 0.0135485\ttotal: 650ms\tremaining: 326ms\n",
      "333:\tlearn: 0.0134504\ttotal: 652ms\tremaining: 324ms\n",
      "334:\tlearn: 0.0134501\ttotal: 654ms\tremaining: 322ms\n",
      "335:\tlearn: 0.0133214\ttotal: 656ms\tremaining: 320ms\n",
      "336:\tlearn: 0.0132947\ttotal: 658ms\tremaining: 318ms\n",
      "337:\tlearn: 0.0132184\ttotal: 660ms\tremaining: 316ms\n",
      "338:\tlearn: 0.0131705\ttotal: 662ms\tremaining: 314ms\n",
      "339:\tlearn: 0.0131083\ttotal: 664ms\tremaining: 312ms\n",
      "340:\tlearn: 0.0130341\ttotal: 666ms\tremaining: 310ms\n",
      "341:\tlearn: 0.0129468\ttotal: 668ms\tremaining: 308ms\n",
      "342:\tlearn: 0.0129154\ttotal: 669ms\tremaining: 306ms\n",
      "343:\tlearn: 0.0127862\ttotal: 671ms\tremaining: 304ms\n",
      "344:\tlearn: 0.0127088\ttotal: 673ms\tremaining: 303ms\n",
      "345:\tlearn: 0.0126331\ttotal: 675ms\tremaining: 301ms\n",
      "346:\tlearn: 0.0126024\ttotal: 677ms\tremaining: 299ms\n",
      "347:\tlearn: 0.0126024\ttotal: 679ms\tremaining: 296ms\n",
      "348:\tlearn: 0.0125200\ttotal: 680ms\tremaining: 294ms\n",
      "349:\tlearn: 0.0124416\ttotal: 682ms\tremaining: 292ms\n",
      "350:\tlearn: 0.0123346\ttotal: 684ms\tremaining: 290ms\n",
      "351:\tlearn: 0.0122904\ttotal: 686ms\tremaining: 288ms\n",
      "352:\tlearn: 0.0122225\ttotal: 688ms\tremaining: 286ms\n",
      "353:\tlearn: 0.0121948\ttotal: 689ms\tremaining: 284ms\n",
      "354:\tlearn: 0.0121737\ttotal: 691ms\tremaining: 282ms\n",
      "355:\tlearn: 0.0121337\ttotal: 693ms\tremaining: 280ms\n",
      "356:\tlearn: 0.0120829\ttotal: 695ms\tremaining: 278ms\n",
      "357:\tlearn: 0.0120364\ttotal: 696ms\tremaining: 276ms\n",
      "358:\tlearn: 0.0119530\ttotal: 698ms\tremaining: 274ms\n",
      "359:\tlearn: 0.0119145\ttotal: 700ms\tremaining: 272ms\n",
      "360:\tlearn: 0.0118893\ttotal: 702ms\tremaining: 270ms\n",
      "361:\tlearn: 0.0118669\ttotal: 704ms\tremaining: 268ms\n",
      "362:\tlearn: 0.0118397\ttotal: 706ms\tremaining: 266ms\n",
      "363:\tlearn: 0.0118051\ttotal: 708ms\tremaining: 264ms\n",
      "364:\tlearn: 0.0117735\ttotal: 709ms\tremaining: 262ms\n",
      "365:\tlearn: 0.0117481\ttotal: 711ms\tremaining: 260ms\n",
      "366:\tlearn: 0.0117039\ttotal: 713ms\tremaining: 258ms\n",
      "367:\tlearn: 0.0116450\ttotal: 715ms\tremaining: 256ms\n",
      "368:\tlearn: 0.0116031\ttotal: 717ms\tremaining: 254ms\n",
      "369:\tlearn: 0.0115648\ttotal: 718ms\tremaining: 252ms\n",
      "370:\tlearn: 0.0115334\ttotal: 720ms\tremaining: 250ms\n",
      "371:\tlearn: 0.0115057\ttotal: 722ms\tremaining: 248ms\n",
      "372:\tlearn: 0.0114889\ttotal: 724ms\tremaining: 246ms\n",
      "373:\tlearn: 0.0114628\ttotal: 725ms\tremaining: 244ms\n",
      "374:\tlearn: 0.0114578\ttotal: 727ms\tremaining: 242ms\n",
      "375:\tlearn: 0.0113758\ttotal: 729ms\tremaining: 240ms\n",
      "376:\tlearn: 0.0113306\ttotal: 731ms\tremaining: 238ms\n",
      "377:\tlearn: 0.0112800\ttotal: 733ms\tremaining: 236ms\n",
      "378:\tlearn: 0.0112381\ttotal: 734ms\tremaining: 234ms\n",
      "379:\tlearn: 0.0111837\ttotal: 736ms\tremaining: 232ms\n",
      "380:\tlearn: 0.0110743\ttotal: 738ms\tremaining: 230ms\n",
      "381:\tlearn: 0.0109986\ttotal: 740ms\tremaining: 228ms\n",
      "382:\tlearn: 0.0109597\ttotal: 741ms\tremaining: 227ms\n",
      "383:\tlearn: 0.0109398\ttotal: 743ms\tremaining: 225ms\n",
      "384:\tlearn: 0.0108884\ttotal: 745ms\tremaining: 223ms\n",
      "385:\tlearn: 0.0108643\ttotal: 747ms\tremaining: 221ms\n",
      "386:\tlearn: 0.0108331\ttotal: 749ms\tremaining: 219ms\n",
      "387:\tlearn: 0.0107777\ttotal: 751ms\tremaining: 217ms\n",
      "388:\tlearn: 0.0107587\ttotal: 752ms\tremaining: 215ms\n",
      "389:\tlearn: 0.0107089\ttotal: 754ms\tremaining: 213ms\n",
      "390:\tlearn: 0.0106562\ttotal: 756ms\tremaining: 211ms\n",
      "391:\tlearn: 0.0105900\ttotal: 758ms\tremaining: 209ms\n",
      "392:\tlearn: 0.0105383\ttotal: 760ms\tremaining: 207ms\n",
      "393:\tlearn: 0.0105029\ttotal: 761ms\tremaining: 205ms\n",
      "394:\tlearn: 0.0104776\ttotal: 763ms\tremaining: 203ms\n",
      "395:\tlearn: 0.0104480\ttotal: 765ms\tremaining: 201ms\n",
      "396:\tlearn: 0.0104128\ttotal: 767ms\tremaining: 199ms\n",
      "397:\tlearn: 0.0103534\ttotal: 769ms\tremaining: 197ms\n",
      "398:\tlearn: 0.0102965\ttotal: 770ms\tremaining: 195ms\n",
      "399:\tlearn: 0.0102488\ttotal: 772ms\tremaining: 193ms\n",
      "400:\tlearn: 0.0102032\ttotal: 774ms\tremaining: 191ms\n",
      "401:\tlearn: 0.0101664\ttotal: 776ms\tremaining: 189ms\n",
      "402:\tlearn: 0.0101444\ttotal: 778ms\tremaining: 187ms\n",
      "403:\tlearn: 0.0100916\ttotal: 779ms\tremaining: 185ms\n",
      "404:\tlearn: 0.0100273\ttotal: 781ms\tremaining: 183ms\n",
      "405:\tlearn: 0.0099916\ttotal: 783ms\tremaining: 181ms\n",
      "406:\tlearn: 0.0099505\ttotal: 785ms\tremaining: 179ms\n",
      "407:\tlearn: 0.0098405\ttotal: 787ms\tremaining: 177ms\n",
      "408:\tlearn: 0.0098163\ttotal: 788ms\tremaining: 175ms\n",
      "409:\tlearn: 0.0097880\ttotal: 790ms\tremaining: 173ms\n",
      "410:\tlearn: 0.0097449\ttotal: 792ms\tremaining: 172ms\n",
      "411:\tlearn: 0.0097085\ttotal: 794ms\tremaining: 170ms\n",
      "412:\tlearn: 0.0096896\ttotal: 796ms\tremaining: 168ms\n",
      "413:\tlearn: 0.0096708\ttotal: 797ms\tremaining: 166ms\n",
      "414:\tlearn: 0.0096478\ttotal: 799ms\tremaining: 164ms\n",
      "415:\tlearn: 0.0096249\ttotal: 801ms\tremaining: 162ms\n",
      "416:\tlearn: 0.0095975\ttotal: 803ms\tremaining: 160ms\n",
      "417:\tlearn: 0.0095689\ttotal: 805ms\tremaining: 158ms\n",
      "418:\tlearn: 0.0095415\ttotal: 807ms\tremaining: 156ms\n",
      "419:\tlearn: 0.0094923\ttotal: 808ms\tremaining: 154ms\n",
      "420:\tlearn: 0.0094353\ttotal: 810ms\tremaining: 152ms\n",
      "421:\tlearn: 0.0094091\ttotal: 812ms\tremaining: 150ms\n",
      "422:\tlearn: 0.0093669\ttotal: 814ms\tremaining: 148ms\n"
     ]
    },
    {
     "name": "stdout",
     "output_type": "stream",
     "text": [
      "423:\tlearn: 0.0093571\ttotal: 816ms\tremaining: 146ms\n",
      "424:\tlearn: 0.0093080\ttotal: 819ms\tremaining: 144ms\n",
      "425:\tlearn: 0.0092925\ttotal: 821ms\tremaining: 143ms\n",
      "426:\tlearn: 0.0092580\ttotal: 823ms\tremaining: 141ms\n",
      "427:\tlearn: 0.0092119\ttotal: 824ms\tremaining: 139ms\n",
      "428:\tlearn: 0.0091546\ttotal: 827ms\tremaining: 137ms\n",
      "429:\tlearn: 0.0090839\ttotal: 829ms\tremaining: 135ms\n",
      "430:\tlearn: 0.0090540\ttotal: 831ms\tremaining: 133ms\n",
      "431:\tlearn: 0.0090391\ttotal: 833ms\tremaining: 131ms\n",
      "432:\tlearn: 0.0090140\ttotal: 835ms\tremaining: 129ms\n",
      "433:\tlearn: 0.0090001\ttotal: 837ms\tremaining: 127ms\n",
      "434:\tlearn: 0.0089879\ttotal: 839ms\tremaining: 125ms\n",
      "435:\tlearn: 0.0089325\ttotal: 841ms\tremaining: 123ms\n",
      "436:\tlearn: 0.0089185\ttotal: 843ms\tremaining: 121ms\n",
      "437:\tlearn: 0.0089070\ttotal: 844ms\tremaining: 120ms\n",
      "438:\tlearn: 0.0088803\ttotal: 846ms\tremaining: 118ms\n",
      "439:\tlearn: 0.0088671\ttotal: 848ms\tremaining: 116ms\n",
      "440:\tlearn: 0.0087821\ttotal: 850ms\tremaining: 114ms\n",
      "441:\tlearn: 0.0087519\ttotal: 852ms\tremaining: 112ms\n",
      "442:\tlearn: 0.0087053\ttotal: 854ms\tremaining: 110ms\n",
      "443:\tlearn: 0.0086601\ttotal: 855ms\tremaining: 108ms\n",
      "444:\tlearn: 0.0086278\ttotal: 857ms\tremaining: 106ms\n",
      "445:\tlearn: 0.0085959\ttotal: 859ms\tremaining: 104ms\n",
      "446:\tlearn: 0.0085701\ttotal: 861ms\tremaining: 102ms\n",
      "447:\tlearn: 0.0085327\ttotal: 863ms\tremaining: 100ms\n",
      "448:\tlearn: 0.0085183\ttotal: 865ms\tremaining: 98.2ms\n",
      "449:\tlearn: 0.0085102\ttotal: 866ms\tremaining: 96.3ms\n",
      "450:\tlearn: 0.0084800\ttotal: 868ms\tremaining: 94.3ms\n",
      "451:\tlearn: 0.0084494\ttotal: 870ms\tremaining: 92.4ms\n",
      "452:\tlearn: 0.0084491\ttotal: 872ms\tremaining: 90.4ms\n",
      "453:\tlearn: 0.0084313\ttotal: 873ms\tremaining: 88.5ms\n",
      "454:\tlearn: 0.0083928\ttotal: 875ms\tremaining: 86.6ms\n",
      "455:\tlearn: 0.0083491\ttotal: 877ms\tremaining: 84.6ms\n",
      "456:\tlearn: 0.0083197\ttotal: 879ms\tremaining: 82.7ms\n",
      "457:\tlearn: 0.0083055\ttotal: 881ms\tremaining: 80.8ms\n",
      "458:\tlearn: 0.0082869\ttotal: 882ms\tremaining: 78.8ms\n",
      "459:\tlearn: 0.0082868\ttotal: 884ms\tremaining: 76.9ms\n",
      "460:\tlearn: 0.0082639\ttotal: 886ms\tremaining: 74.9ms\n",
      "461:\tlearn: 0.0082399\ttotal: 888ms\tremaining: 73ms\n",
      "462:\tlearn: 0.0082097\ttotal: 889ms\tremaining: 71.1ms\n",
      "463:\tlearn: 0.0081810\ttotal: 891ms\tremaining: 69.1ms\n",
      "464:\tlearn: 0.0081648\ttotal: 893ms\tremaining: 67.2ms\n",
      "465:\tlearn: 0.0081521\ttotal: 895ms\tremaining: 65.3ms\n",
      "466:\tlearn: 0.0080945\ttotal: 897ms\tremaining: 63.4ms\n",
      "467:\tlearn: 0.0080689\ttotal: 898ms\tremaining: 61.4ms\n",
      "468:\tlearn: 0.0080551\ttotal: 900ms\tremaining: 59.5ms\n",
      "469:\tlearn: 0.0080203\ttotal: 902ms\tremaining: 57.6ms\n",
      "470:\tlearn: 0.0079864\ttotal: 904ms\tremaining: 55.6ms\n",
      "471:\tlearn: 0.0079577\ttotal: 906ms\tremaining: 53.7ms\n",
      "472:\tlearn: 0.0078989\ttotal: 907ms\tremaining: 51.8ms\n",
      "473:\tlearn: 0.0078818\ttotal: 909ms\tremaining: 49.9ms\n",
      "474:\tlearn: 0.0078572\ttotal: 911ms\tremaining: 47.9ms\n",
      "475:\tlearn: 0.0078381\ttotal: 913ms\tremaining: 46ms\n",
      "476:\tlearn: 0.0078381\ttotal: 914ms\tremaining: 44.1ms\n",
      "477:\tlearn: 0.0078146\ttotal: 917ms\tremaining: 42.2ms\n",
      "478:\tlearn: 0.0077962\ttotal: 919ms\tremaining: 40.3ms\n",
      "479:\tlearn: 0.0077659\ttotal: 921ms\tremaining: 38.4ms\n",
      "480:\tlearn: 0.0077470\ttotal: 923ms\tremaining: 36.4ms\n",
      "481:\tlearn: 0.0076976\ttotal: 924ms\tremaining: 34.5ms\n",
      "482:\tlearn: 0.0076813\ttotal: 926ms\tremaining: 32.6ms\n",
      "483:\tlearn: 0.0076669\ttotal: 928ms\tremaining: 30.7ms\n",
      "484:\tlearn: 0.0076467\ttotal: 930ms\tremaining: 28.8ms\n",
      "485:\tlearn: 0.0076377\ttotal: 932ms\tremaining: 26.8ms\n",
      "486:\tlearn: 0.0076033\ttotal: 934ms\tremaining: 24.9ms\n",
      "487:\tlearn: 0.0075907\ttotal: 936ms\tremaining: 23ms\n",
      "488:\tlearn: 0.0075454\ttotal: 938ms\tremaining: 21.1ms\n",
      "489:\tlearn: 0.0075185\ttotal: 940ms\tremaining: 19.2ms\n",
      "490:\tlearn: 0.0075059\ttotal: 942ms\tremaining: 17.3ms\n",
      "491:\tlearn: 0.0074942\ttotal: 944ms\tremaining: 15.4ms\n",
      "492:\tlearn: 0.0074803\ttotal: 952ms\tremaining: 13.5ms\n",
      "493:\tlearn: 0.0074534\ttotal: 954ms\tremaining: 11.6ms\n",
      "494:\tlearn: 0.0074251\ttotal: 956ms\tremaining: 9.65ms\n",
      "495:\tlearn: 0.0074092\ttotal: 957ms\tremaining: 7.72ms\n",
      "496:\tlearn: 0.0073749\ttotal: 959ms\tremaining: 5.79ms\n",
      "497:\tlearn: 0.0073570\ttotal: 961ms\tremaining: 3.86ms\n",
      "498:\tlearn: 0.0073328\ttotal: 963ms\tremaining: 1.93ms\n",
      "499:\tlearn: 0.0073218\ttotal: 965ms\tremaining: 0us\n",
      "0:\tlearn: 0.6329395\ttotal: 1.8ms\tremaining: 898ms\n",
      "1:\tlearn: 0.5915742\ttotal: 3.86ms\tremaining: 962ms\n",
      "2:\tlearn: 0.5550817\ttotal: 6.13ms\tremaining: 1.02s\n",
      "3:\tlearn: 0.5253605\ttotal: 8.29ms\tremaining: 1.03s\n",
      "4:\tlearn: 0.5049975\ttotal: 10.3ms\tremaining: 1.02s\n",
      "5:\tlearn: 0.4797010\ttotal: 12.4ms\tremaining: 1.02s\n",
      "6:\tlearn: 0.4579213\ttotal: 14.5ms\tremaining: 1.02s\n",
      "7:\tlearn: 0.4376004\ttotal: 16.8ms\tremaining: 1.03s\n",
      "8:\tlearn: 0.4202861\ttotal: 19ms\tremaining: 1.04s\n",
      "9:\tlearn: 0.4051595\ttotal: 20.9ms\tremaining: 1.02s\n",
      "10:\tlearn: 0.3939964\ttotal: 23ms\tremaining: 1.02s\n",
      "11:\tlearn: 0.3815661\ttotal: 25ms\tremaining: 1.02s\n",
      "12:\tlearn: 0.3733052\ttotal: 27.1ms\tremaining: 1.01s\n",
      "13:\tlearn: 0.3609222\ttotal: 29.1ms\tremaining: 1.01s\n",
      "14:\tlearn: 0.3532781\ttotal: 30.9ms\tremaining: 998ms\n",
      "15:\tlearn: 0.3349151\ttotal: 32.7ms\tremaining: 989ms\n",
      "16:\tlearn: 0.3249580\ttotal: 34.7ms\tremaining: 986ms\n",
      "17:\tlearn: 0.3195324\ttotal: 36.5ms\tremaining: 979ms\n",
      "18:\tlearn: 0.3118406\ttotal: 38.3ms\tremaining: 970ms\n",
      "19:\tlearn: 0.3046369\ttotal: 40.4ms\tremaining: 969ms\n",
      "20:\tlearn: 0.3026133\ttotal: 42.5ms\tremaining: 969ms\n",
      "21:\tlearn: 0.2976997\ttotal: 44.6ms\tremaining: 969ms\n",
      "22:\tlearn: 0.2938915\ttotal: 46.6ms\tremaining: 967ms\n",
      "23:\tlearn: 0.2887931\ttotal: 48.9ms\tremaining: 969ms\n",
      "24:\tlearn: 0.2840593\ttotal: 50.7ms\tremaining: 964ms\n",
      "25:\tlearn: 0.2747979\ttotal: 52.6ms\tremaining: 960ms\n",
      "26:\tlearn: 0.2714616\ttotal: 54.8ms\tremaining: 961ms\n",
      "27:\tlearn: 0.2648209\ttotal: 56.9ms\tremaining: 959ms\n",
      "28:\tlearn: 0.2607802\ttotal: 59.1ms\tremaining: 960ms\n",
      "29:\tlearn: 0.2586409\ttotal: 60.9ms\tremaining: 955ms\n",
      "30:\tlearn: 0.2572698\ttotal: 63.1ms\tremaining: 954ms\n",
      "31:\tlearn: 0.2515087\ttotal: 65.2ms\tremaining: 953ms\n",
      "32:\tlearn: 0.2497781\ttotal: 67.2ms\tremaining: 951ms\n",
      "33:\tlearn: 0.2456152\ttotal: 69.2ms\tremaining: 949ms\n",
      "34:\tlearn: 0.2455426\ttotal: 70.8ms\tremaining: 941ms\n",
      "35:\tlearn: 0.2433868\ttotal: 73.2ms\tremaining: 943ms\n",
      "36:\tlearn: 0.2406174\ttotal: 75.3ms\tremaining: 942ms\n",
      "37:\tlearn: 0.2321735\ttotal: 77.5ms\tremaining: 942ms\n",
      "38:\tlearn: 0.2269698\ttotal: 79.7ms\tremaining: 942ms\n",
      "39:\tlearn: 0.2209174\ttotal: 81.7ms\tremaining: 939ms\n",
      "40:\tlearn: 0.2145041\ttotal: 84.1ms\tremaining: 941ms\n",
      "41:\tlearn: 0.2101189\ttotal: 86.8ms\tremaining: 947ms\n",
      "42:\tlearn: 0.2080181\ttotal: 89.3ms\tremaining: 949ms\n",
      "43:\tlearn: 0.2039120\ttotal: 91.6ms\tremaining: 950ms\n",
      "44:\tlearn: 0.2037686\ttotal: 93.4ms\tremaining: 944ms\n",
      "45:\tlearn: 0.1987616\ttotal: 95.4ms\tremaining: 941ms\n",
      "46:\tlearn: 0.1927824\ttotal: 97.6ms\tremaining: 941ms\n",
      "47:\tlearn: 0.1909973\ttotal: 99.7ms\tremaining: 939ms\n",
      "48:\tlearn: 0.1871864\ttotal: 102ms\tremaining: 938ms\n",
      "49:\tlearn: 0.1803480\ttotal: 105ms\tremaining: 941ms\n",
      "50:\tlearn: 0.1789425\ttotal: 107ms\tremaining: 939ms\n",
      "51:\tlearn: 0.1735094\ttotal: 109ms\tremaining: 937ms\n",
      "52:\tlearn: 0.1705836\ttotal: 111ms\tremaining: 936ms\n",
      "53:\tlearn: 0.1653973\ttotal: 113ms\tremaining: 934ms\n",
      "54:\tlearn: 0.1648064\ttotal: 115ms\tremaining: 931ms\n",
      "55:\tlearn: 0.1632143\ttotal: 117ms\tremaining: 930ms\n",
      "56:\tlearn: 0.1603109\ttotal: 119ms\tremaining: 927ms\n",
      "57:\tlearn: 0.1585559\ttotal: 121ms\tremaining: 924ms\n",
      "58:\tlearn: 0.1547375\ttotal: 123ms\tremaining: 921ms\n",
      "59:\tlearn: 0.1496297\ttotal: 125ms\tremaining: 920ms\n",
      "60:\tlearn: 0.1462930\ttotal: 128ms\tremaining: 919ms\n",
      "61:\tlearn: 0.1453863\ttotal: 130ms\tremaining: 916ms\n",
      "62:\tlearn: 0.1426362\ttotal: 132ms\tremaining: 915ms\n",
      "63:\tlearn: 0.1393964\ttotal: 134ms\tremaining: 914ms\n",
      "64:\tlearn: 0.1371062\ttotal: 136ms\tremaining: 911ms\n",
      "65:\tlearn: 0.1342858\ttotal: 138ms\tremaining: 910ms\n",
      "66:\tlearn: 0.1315790\ttotal: 141ms\tremaining: 913ms\n",
      "67:\tlearn: 0.1267398\ttotal: 143ms\tremaining: 911ms\n",
      "68:\tlearn: 0.1245761\ttotal: 146ms\tremaining: 909ms\n",
      "69:\tlearn: 0.1226832\ttotal: 148ms\tremaining: 907ms\n",
      "70:\tlearn: 0.1205639\ttotal: 150ms\tremaining: 905ms\n",
      "71:\tlearn: 0.1184078\ttotal: 152ms\tremaining: 903ms\n",
      "72:\tlearn: 0.1157606\ttotal: 154ms\tremaining: 899ms\n",
      "73:\tlearn: 0.1134900\ttotal: 156ms\tremaining: 896ms\n",
      "74:\tlearn: 0.1125760\ttotal: 157ms\tremaining: 892ms\n",
      "75:\tlearn: 0.1089829\ttotal: 159ms\tremaining: 888ms\n",
      "76:\tlearn: 0.1060511\ttotal: 161ms\tremaining: 885ms\n",
      "77:\tlearn: 0.1047728\ttotal: 163ms\tremaining: 884ms\n",
      "78:\tlearn: 0.1028082\ttotal: 165ms\tremaining: 881ms\n",
      "79:\tlearn: 0.1010480\ttotal: 167ms\tremaining: 877ms\n",
      "80:\tlearn: 0.0999881\ttotal: 169ms\tremaining: 874ms\n",
      "81:\tlearn: 0.0985676\ttotal: 171ms\tremaining: 873ms\n",
      "82:\tlearn: 0.0976593\ttotal: 173ms\tremaining: 870ms\n",
      "83:\tlearn: 0.0952847\ttotal: 175ms\tremaining: 867ms\n",
      "84:\tlearn: 0.0927507\ttotal: 177ms\tremaining: 864ms\n",
      "85:\tlearn: 0.0912195\ttotal: 179ms\tremaining: 862ms\n",
      "86:\tlearn: 0.0906173\ttotal: 181ms\tremaining: 859ms\n",
      "87:\tlearn: 0.0900710\ttotal: 183ms\tremaining: 856ms\n",
      "88:\tlearn: 0.0883580\ttotal: 185ms\tremaining: 854ms\n",
      "89:\tlearn: 0.0869055\ttotal: 187ms\tremaining: 852ms\n",
      "90:\tlearn: 0.0854581\ttotal: 189ms\tremaining: 849ms\n",
      "91:\tlearn: 0.0846912\ttotal: 191ms\tremaining: 847ms\n",
      "92:\tlearn: 0.0838505\ttotal: 193ms\tremaining: 845ms\n"
     ]
    },
    {
     "name": "stdout",
     "output_type": "stream",
     "text": [
      "93:\tlearn: 0.0827551\ttotal: 196ms\tremaining: 845ms\n",
      "94:\tlearn: 0.0826286\ttotal: 198ms\tremaining: 844ms\n",
      "95:\tlearn: 0.0814944\ttotal: 200ms\tremaining: 842ms\n",
      "96:\tlearn: 0.0807206\ttotal: 202ms\tremaining: 840ms\n",
      "97:\tlearn: 0.0806175\ttotal: 204ms\tremaining: 837ms\n",
      "98:\tlearn: 0.0803064\ttotal: 206ms\tremaining: 834ms\n",
      "99:\tlearn: 0.0792574\ttotal: 208ms\tremaining: 832ms\n",
      "100:\tlearn: 0.0780186\ttotal: 210ms\tremaining: 830ms\n",
      "101:\tlearn: 0.0765467\ttotal: 212ms\tremaining: 827ms\n",
      "102:\tlearn: 0.0763294\ttotal: 214ms\tremaining: 824ms\n",
      "103:\tlearn: 0.0759918\ttotal: 216ms\tremaining: 821ms\n",
      "104:\tlearn: 0.0740975\ttotal: 218ms\tremaining: 820ms\n",
      "105:\tlearn: 0.0727597\ttotal: 220ms\tremaining: 817ms\n",
      "106:\tlearn: 0.0715498\ttotal: 223ms\tremaining: 818ms\n",
      "107:\tlearn: 0.0702259\ttotal: 229ms\tremaining: 831ms\n",
      "108:\tlearn: 0.0692493\ttotal: 232ms\tremaining: 831ms\n",
      "109:\tlearn: 0.0674987\ttotal: 234ms\tremaining: 829ms\n",
      "110:\tlearn: 0.0665704\ttotal: 236ms\tremaining: 826ms\n",
      "111:\tlearn: 0.0658498\ttotal: 238ms\tremaining: 824ms\n",
      "112:\tlearn: 0.0649873\ttotal: 240ms\tremaining: 822ms\n",
      "113:\tlearn: 0.0636933\ttotal: 242ms\tremaining: 820ms\n",
      "114:\tlearn: 0.0633330\ttotal: 244ms\tremaining: 817ms\n",
      "115:\tlearn: 0.0620550\ttotal: 246ms\tremaining: 815ms\n",
      "116:\tlearn: 0.0619214\ttotal: 248ms\tremaining: 812ms\n",
      "117:\tlearn: 0.0607890\ttotal: 250ms\tremaining: 810ms\n",
      "118:\tlearn: 0.0602423\ttotal: 252ms\tremaining: 808ms\n",
      "119:\tlearn: 0.0592222\ttotal: 254ms\tremaining: 805ms\n",
      "120:\tlearn: 0.0583389\ttotal: 257ms\tremaining: 804ms\n",
      "121:\tlearn: 0.0575531\ttotal: 259ms\tremaining: 801ms\n",
      "122:\tlearn: 0.0567987\ttotal: 261ms\tremaining: 799ms\n",
      "123:\tlearn: 0.0558939\ttotal: 263ms\tremaining: 797ms\n",
      "124:\tlearn: 0.0557479\ttotal: 265ms\tremaining: 794ms\n",
      "125:\tlearn: 0.0548511\ttotal: 267ms\tremaining: 793ms\n",
      "126:\tlearn: 0.0547478\ttotal: 269ms\tremaining: 791ms\n",
      "127:\tlearn: 0.0536851\ttotal: 272ms\tremaining: 790ms\n",
      "128:\tlearn: 0.0532051\ttotal: 274ms\tremaining: 787ms\n",
      "129:\tlearn: 0.0522396\ttotal: 276ms\tremaining: 785ms\n",
      "130:\tlearn: 0.0513921\ttotal: 278ms\tremaining: 782ms\n",
      "131:\tlearn: 0.0504641\ttotal: 280ms\tremaining: 780ms\n",
      "132:\tlearn: 0.0498094\ttotal: 282ms\tremaining: 778ms\n",
      "133:\tlearn: 0.0488110\ttotal: 284ms\tremaining: 777ms\n",
      "134:\tlearn: 0.0479561\ttotal: 287ms\tremaining: 775ms\n",
      "135:\tlearn: 0.0478959\ttotal: 289ms\tremaining: 773ms\n",
      "136:\tlearn: 0.0470531\ttotal: 291ms\tremaining: 771ms\n",
      "137:\tlearn: 0.0468027\ttotal: 293ms\tremaining: 769ms\n",
      "138:\tlearn: 0.0462680\ttotal: 295ms\tremaining: 766ms\n",
      "139:\tlearn: 0.0461837\ttotal: 297ms\tremaining: 763ms\n",
      "140:\tlearn: 0.0461650\ttotal: 299ms\tremaining: 761ms\n",
      "141:\tlearn: 0.0455001\ttotal: 301ms\tremaining: 758ms\n",
      "142:\tlearn: 0.0449931\ttotal: 303ms\tremaining: 756ms\n",
      "143:\tlearn: 0.0445927\ttotal: 305ms\tremaining: 753ms\n",
      "144:\tlearn: 0.0445511\ttotal: 307ms\tremaining: 751ms\n",
      "145:\tlearn: 0.0439886\ttotal: 309ms\tremaining: 748ms\n",
      "146:\tlearn: 0.0432994\ttotal: 310ms\tremaining: 746ms\n",
      "147:\tlearn: 0.0426804\ttotal: 313ms\tremaining: 744ms\n",
      "148:\tlearn: 0.0423985\ttotal: 315ms\tremaining: 742ms\n",
      "149:\tlearn: 0.0419088\ttotal: 317ms\tremaining: 739ms\n",
      "150:\tlearn: 0.0416427\ttotal: 319ms\tremaining: 737ms\n",
      "151:\tlearn: 0.0412420\ttotal: 321ms\tremaining: 736ms\n",
      "152:\tlearn: 0.0409435\ttotal: 323ms\tremaining: 733ms\n",
      "153:\tlearn: 0.0408930\ttotal: 325ms\tremaining: 730ms\n",
      "154:\tlearn: 0.0403759\ttotal: 327ms\tremaining: 728ms\n",
      "155:\tlearn: 0.0400332\ttotal: 330ms\tremaining: 727ms\n",
      "156:\tlearn: 0.0398837\ttotal: 332ms\tremaining: 725ms\n",
      "157:\tlearn: 0.0393616\ttotal: 334ms\tremaining: 723ms\n",
      "158:\tlearn: 0.0391496\ttotal: 336ms\tremaining: 720ms\n",
      "159:\tlearn: 0.0388698\ttotal: 338ms\tremaining: 717ms\n",
      "160:\tlearn: 0.0386290\ttotal: 339ms\tremaining: 715ms\n",
      "161:\tlearn: 0.0382046\ttotal: 341ms\tremaining: 712ms\n",
      "162:\tlearn: 0.0378902\ttotal: 344ms\tremaining: 711ms\n",
      "163:\tlearn: 0.0376746\ttotal: 346ms\tremaining: 709ms\n",
      "164:\tlearn: 0.0371135\ttotal: 348ms\tremaining: 707ms\n",
      "165:\tlearn: 0.0368711\ttotal: 350ms\tremaining: 704ms\n",
      "166:\tlearn: 0.0365563\ttotal: 352ms\tremaining: 702ms\n",
      "167:\tlearn: 0.0361553\ttotal: 354ms\tremaining: 699ms\n",
      "168:\tlearn: 0.0355540\ttotal: 356ms\tremaining: 697ms\n",
      "169:\tlearn: 0.0355288\ttotal: 358ms\tremaining: 695ms\n",
      "170:\tlearn: 0.0353151\ttotal: 360ms\tremaining: 692ms\n",
      "171:\tlearn: 0.0347143\ttotal: 362ms\tremaining: 690ms\n",
      "172:\tlearn: 0.0344756\ttotal: 364ms\tremaining: 688ms\n",
      "173:\tlearn: 0.0342545\ttotal: 368ms\tremaining: 690ms\n",
      "174:\tlearn: 0.0342437\ttotal: 370ms\tremaining: 687ms\n",
      "175:\tlearn: 0.0338051\ttotal: 372ms\tremaining: 685ms\n",
      "176:\tlearn: 0.0332587\ttotal: 374ms\tremaining: 683ms\n",
      "177:\tlearn: 0.0330772\ttotal: 376ms\tremaining: 680ms\n",
      "178:\tlearn: 0.0328862\ttotal: 378ms\tremaining: 678ms\n",
      "179:\tlearn: 0.0325326\ttotal: 381ms\tremaining: 676ms\n",
      "180:\tlearn: 0.0324616\ttotal: 383ms\tremaining: 675ms\n",
      "181:\tlearn: 0.0320756\ttotal: 385ms\tremaining: 672ms\n",
      "182:\tlearn: 0.0317642\ttotal: 387ms\tremaining: 670ms\n",
      "183:\tlearn: 0.0316348\ttotal: 389ms\tremaining: 668ms\n",
      "184:\tlearn: 0.0310798\ttotal: 391ms\tremaining: 666ms\n",
      "185:\tlearn: 0.0307269\ttotal: 393ms\tremaining: 663ms\n",
      "186:\tlearn: 0.0304679\ttotal: 395ms\tremaining: 661ms\n",
      "187:\tlearn: 0.0300890\ttotal: 397ms\tremaining: 659ms\n",
      "188:\tlearn: 0.0299705\ttotal: 399ms\tremaining: 656ms\n",
      "189:\tlearn: 0.0296454\ttotal: 401ms\tremaining: 654ms\n",
      "190:\tlearn: 0.0294667\ttotal: 403ms\tremaining: 652ms\n",
      "191:\tlearn: 0.0291967\ttotal: 405ms\tremaining: 650ms\n",
      "192:\tlearn: 0.0290207\ttotal: 407ms\tremaining: 648ms\n",
      "193:\tlearn: 0.0286893\ttotal: 409ms\tremaining: 646ms\n",
      "194:\tlearn: 0.0285436\ttotal: 411ms\tremaining: 643ms\n",
      "195:\tlearn: 0.0284644\ttotal: 413ms\tremaining: 641ms\n",
      "196:\tlearn: 0.0282614\ttotal: 415ms\tremaining: 638ms\n",
      "197:\tlearn: 0.0281763\ttotal: 417ms\tremaining: 637ms\n",
      "198:\tlearn: 0.0279790\ttotal: 420ms\tremaining: 635ms\n",
      "199:\tlearn: 0.0277592\ttotal: 422ms\tremaining: 633ms\n",
      "200:\tlearn: 0.0272880\ttotal: 424ms\tremaining: 631ms\n",
      "201:\tlearn: 0.0270332\ttotal: 426ms\tremaining: 629ms\n",
      "202:\tlearn: 0.0268486\ttotal: 428ms\tremaining: 626ms\n",
      "203:\tlearn: 0.0265796\ttotal: 430ms\tremaining: 624ms\n",
      "204:\tlearn: 0.0263193\ttotal: 432ms\tremaining: 621ms\n",
      "205:\tlearn: 0.0261922\ttotal: 434ms\tremaining: 619ms\n",
      "206:\tlearn: 0.0260613\ttotal: 436ms\tremaining: 618ms\n",
      "207:\tlearn: 0.0258293\ttotal: 438ms\tremaining: 615ms\n",
      "208:\tlearn: 0.0256184\ttotal: 440ms\tremaining: 613ms\n",
      "209:\tlearn: 0.0253996\ttotal: 442ms\tremaining: 610ms\n",
      "210:\tlearn: 0.0251006\ttotal: 444ms\tremaining: 608ms\n",
      "211:\tlearn: 0.0247852\ttotal: 446ms\tremaining: 605ms\n",
      "212:\tlearn: 0.0245191\ttotal: 448ms\tremaining: 603ms\n",
      "213:\tlearn: 0.0244443\ttotal: 450ms\tremaining: 601ms\n",
      "214:\tlearn: 0.0240972\ttotal: 452ms\tremaining: 599ms\n",
      "215:\tlearn: 0.0239563\ttotal: 454ms\tremaining: 597ms\n",
      "216:\tlearn: 0.0238892\ttotal: 456ms\tremaining: 595ms\n",
      "217:\tlearn: 0.0236940\ttotal: 458ms\tremaining: 592ms\n",
      "218:\tlearn: 0.0235045\ttotal: 460ms\tremaining: 590ms\n",
      "219:\tlearn: 0.0233565\ttotal: 461ms\tremaining: 587ms\n",
      "220:\tlearn: 0.0230632\ttotal: 464ms\tremaining: 585ms\n",
      "221:\tlearn: 0.0230586\ttotal: 466ms\tremaining: 583ms\n",
      "222:\tlearn: 0.0228093\ttotal: 468ms\tremaining: 581ms\n",
      "223:\tlearn: 0.0226475\ttotal: 470ms\tremaining: 579ms\n",
      "224:\tlearn: 0.0224128\ttotal: 472ms\tremaining: 576ms\n",
      "225:\tlearn: 0.0222900\ttotal: 473ms\tremaining: 574ms\n",
      "226:\tlearn: 0.0221955\ttotal: 475ms\tremaining: 571ms\n",
      "227:\tlearn: 0.0220270\ttotal: 477ms\tremaining: 569ms\n",
      "228:\tlearn: 0.0218299\ttotal: 479ms\tremaining: 567ms\n",
      "229:\tlearn: 0.0215976\ttotal: 482ms\tremaining: 565ms\n",
      "230:\tlearn: 0.0214524\ttotal: 484ms\tremaining: 563ms\n",
      "231:\tlearn: 0.0212816\ttotal: 486ms\tremaining: 561ms\n",
      "232:\tlearn: 0.0211074\ttotal: 488ms\tremaining: 559ms\n",
      "233:\tlearn: 0.0210527\ttotal: 490ms\tremaining: 556ms\n",
      "234:\tlearn: 0.0209710\ttotal: 491ms\tremaining: 554ms\n",
      "235:\tlearn: 0.0208816\ttotal: 494ms\tremaining: 552ms\n",
      "236:\tlearn: 0.0207724\ttotal: 496ms\tremaining: 550ms\n",
      "237:\tlearn: 0.0206151\ttotal: 498ms\tremaining: 548ms\n",
      "238:\tlearn: 0.0205282\ttotal: 500ms\tremaining: 546ms\n",
      "239:\tlearn: 0.0204194\ttotal: 502ms\tremaining: 543ms\n",
      "240:\tlearn: 0.0203446\ttotal: 503ms\tremaining: 541ms\n",
      "241:\tlearn: 0.0201137\ttotal: 505ms\tremaining: 539ms\n",
      "242:\tlearn: 0.0199333\ttotal: 507ms\tremaining: 537ms\n",
      "243:\tlearn: 0.0197810\ttotal: 509ms\tremaining: 534ms\n",
      "244:\tlearn: 0.0195969\ttotal: 512ms\tremaining: 533ms\n",
      "245:\tlearn: 0.0194640\ttotal: 514ms\tremaining: 530ms\n",
      "246:\tlearn: 0.0193849\ttotal: 516ms\tremaining: 528ms\n",
      "247:\tlearn: 0.0192462\ttotal: 518ms\tremaining: 526ms\n",
      "248:\tlearn: 0.0190658\ttotal: 519ms\tremaining: 523ms\n",
      "249:\tlearn: 0.0189539\ttotal: 521ms\tremaining: 521ms\n",
      "250:\tlearn: 0.0188387\ttotal: 523ms\tremaining: 519ms\n",
      "251:\tlearn: 0.0186614\ttotal: 526ms\tremaining: 517ms\n",
      "252:\tlearn: 0.0185000\ttotal: 528ms\tremaining: 515ms\n",
      "253:\tlearn: 0.0183842\ttotal: 530ms\tremaining: 513ms\n",
      "254:\tlearn: 0.0182671\ttotal: 532ms\tremaining: 511ms\n",
      "255:\tlearn: 0.0181304\ttotal: 534ms\tremaining: 509ms\n",
      "256:\tlearn: 0.0180519\ttotal: 535ms\tremaining: 506ms\n",
      "257:\tlearn: 0.0178884\ttotal: 538ms\tremaining: 504ms\n",
      "258:\tlearn: 0.0177874\ttotal: 540ms\tremaining: 502ms\n",
      "259:\tlearn: 0.0176528\ttotal: 542ms\tremaining: 500ms\n",
      "260:\tlearn: 0.0175741\ttotal: 544ms\tremaining: 498ms\n",
      "261:\tlearn: 0.0174824\ttotal: 546ms\tremaining: 496ms\n",
      "262:\tlearn: 0.0174091\ttotal: 548ms\tremaining: 494ms\n",
      "263:\tlearn: 0.0172044\ttotal: 550ms\tremaining: 492ms\n",
      "264:\tlearn: 0.0170854\ttotal: 552ms\tremaining: 489ms\n",
      "265:\tlearn: 0.0169981\ttotal: 554ms\tremaining: 487ms\n",
      "266:\tlearn: 0.0169251\ttotal: 556ms\tremaining: 485ms\n",
      "267:\tlearn: 0.0167735\ttotal: 558ms\tremaining: 483ms\n",
      "268:\tlearn: 0.0167375\ttotal: 560ms\tremaining: 481ms\n",
      "269:\tlearn: 0.0166774\ttotal: 562ms\tremaining: 478ms\n"
     ]
    },
    {
     "name": "stdout",
     "output_type": "stream",
     "text": [
      "270:\tlearn: 0.0165435\ttotal: 564ms\tremaining: 477ms\n",
      "271:\tlearn: 0.0164988\ttotal: 567ms\tremaining: 475ms\n",
      "272:\tlearn: 0.0164208\ttotal: 569ms\tremaining: 473ms\n",
      "273:\tlearn: 0.0163433\ttotal: 572ms\tremaining: 471ms\n",
      "274:\tlearn: 0.0162667\ttotal: 574ms\tremaining: 469ms\n",
      "275:\tlearn: 0.0161768\ttotal: 576ms\tremaining: 467ms\n",
      "276:\tlearn: 0.0160966\ttotal: 578ms\tremaining: 465ms\n",
      "277:\tlearn: 0.0159914\ttotal: 580ms\tremaining: 463ms\n",
      "278:\tlearn: 0.0159057\ttotal: 582ms\tremaining: 461ms\n",
      "279:\tlearn: 0.0158373\ttotal: 584ms\tremaining: 459ms\n",
      "280:\tlearn: 0.0157695\ttotal: 586ms\tremaining: 456ms\n",
      "281:\tlearn: 0.0156809\ttotal: 588ms\tremaining: 454ms\n",
      "282:\tlearn: 0.0156208\ttotal: 590ms\tremaining: 452ms\n",
      "283:\tlearn: 0.0155599\ttotal: 592ms\tremaining: 450ms\n",
      "284:\tlearn: 0.0155227\ttotal: 594ms\tremaining: 448ms\n",
      "285:\tlearn: 0.0154145\ttotal: 596ms\tremaining: 446ms\n",
      "286:\tlearn: 0.0152651\ttotal: 597ms\tremaining: 443ms\n",
      "287:\tlearn: 0.0151823\ttotal: 600ms\tremaining: 442ms\n",
      "288:\tlearn: 0.0151201\ttotal: 602ms\tremaining: 440ms\n",
      "289:\tlearn: 0.0150712\ttotal: 604ms\tremaining: 438ms\n",
      "290:\tlearn: 0.0150305\ttotal: 606ms\tremaining: 435ms\n",
      "291:\tlearn: 0.0149550\ttotal: 608ms\tremaining: 433ms\n",
      "292:\tlearn: 0.0149160\ttotal: 610ms\tremaining: 431ms\n",
      "293:\tlearn: 0.0148726\ttotal: 612ms\tremaining: 429ms\n",
      "294:\tlearn: 0.0148216\ttotal: 614ms\tremaining: 427ms\n",
      "295:\tlearn: 0.0147238\ttotal: 617ms\tremaining: 425ms\n",
      "296:\tlearn: 0.0146565\ttotal: 619ms\tremaining: 423ms\n",
      "297:\tlearn: 0.0145779\ttotal: 621ms\tremaining: 421ms\n",
      "298:\tlearn: 0.0145132\ttotal: 623ms\tremaining: 418ms\n",
      "299:\tlearn: 0.0144283\ttotal: 624ms\tremaining: 416ms\n",
      "300:\tlearn: 0.0144105\ttotal: 626ms\tremaining: 414ms\n",
      "301:\tlearn: 0.0142642\ttotal: 628ms\tremaining: 412ms\n",
      "302:\tlearn: 0.0142239\ttotal: 630ms\tremaining: 410ms\n",
      "303:\tlearn: 0.0141416\ttotal: 633ms\tremaining: 408ms\n",
      "304:\tlearn: 0.0140223\ttotal: 635ms\tremaining: 406ms\n",
      "305:\tlearn: 0.0139319\ttotal: 637ms\tremaining: 404ms\n",
      "306:\tlearn: 0.0138640\ttotal: 638ms\tremaining: 401ms\n",
      "307:\tlearn: 0.0137946\ttotal: 640ms\tremaining: 399ms\n",
      "308:\tlearn: 0.0137284\ttotal: 642ms\tremaining: 397ms\n",
      "309:\tlearn: 0.0136507\ttotal: 644ms\tremaining: 395ms\n",
      "310:\tlearn: 0.0136149\ttotal: 647ms\tremaining: 393ms\n",
      "311:\tlearn: 0.0135352\ttotal: 649ms\tremaining: 391ms\n",
      "312:\tlearn: 0.0134692\ttotal: 651ms\tremaining: 389ms\n",
      "313:\tlearn: 0.0133948\ttotal: 653ms\tremaining: 387ms\n",
      "314:\tlearn: 0.0133068\ttotal: 655ms\tremaining: 384ms\n",
      "315:\tlearn: 0.0132647\ttotal: 657ms\tremaining: 382ms\n",
      "316:\tlearn: 0.0131553\ttotal: 659ms\tremaining: 380ms\n",
      "317:\tlearn: 0.0131152\ttotal: 661ms\tremaining: 378ms\n",
      "318:\tlearn: 0.0130646\ttotal: 663ms\tremaining: 376ms\n",
      "319:\tlearn: 0.0130031\ttotal: 665ms\tremaining: 374ms\n",
      "320:\tlearn: 0.0129512\ttotal: 667ms\tremaining: 372ms\n",
      "321:\tlearn: 0.0128411\ttotal: 669ms\tremaining: 370ms\n",
      "322:\tlearn: 0.0127939\ttotal: 671ms\tremaining: 368ms\n",
      "323:\tlearn: 0.0127605\ttotal: 673ms\tremaining: 365ms\n",
      "324:\tlearn: 0.0127212\ttotal: 675ms\tremaining: 363ms\n",
      "325:\tlearn: 0.0126332\ttotal: 677ms\tremaining: 362ms\n",
      "326:\tlearn: 0.0125610\ttotal: 680ms\tremaining: 360ms\n",
      "327:\tlearn: 0.0125201\ttotal: 682ms\tremaining: 358ms\n",
      "328:\tlearn: 0.0124832\ttotal: 684ms\tremaining: 356ms\n",
      "329:\tlearn: 0.0124571\ttotal: 686ms\tremaining: 353ms\n",
      "330:\tlearn: 0.0124098\ttotal: 688ms\tremaining: 351ms\n",
      "331:\tlearn: 0.0123438\ttotal: 690ms\tremaining: 349ms\n",
      "332:\tlearn: 0.0122568\ttotal: 693ms\tremaining: 347ms\n",
      "333:\tlearn: 0.0122202\ttotal: 695ms\tremaining: 345ms\n",
      "334:\tlearn: 0.0121691\ttotal: 697ms\tremaining: 343ms\n",
      "335:\tlearn: 0.0121135\ttotal: 699ms\tremaining: 341ms\n",
      "336:\tlearn: 0.0120614\ttotal: 701ms\tremaining: 339ms\n",
      "337:\tlearn: 0.0120137\ttotal: 703ms\tremaining: 337ms\n",
      "338:\tlearn: 0.0119797\ttotal: 705ms\tremaining: 335ms\n",
      "339:\tlearn: 0.0119378\ttotal: 707ms\tremaining: 333ms\n",
      "340:\tlearn: 0.0118625\ttotal: 709ms\tremaining: 330ms\n",
      "341:\tlearn: 0.0117819\ttotal: 711ms\tremaining: 328ms\n",
      "342:\tlearn: 0.0117475\ttotal: 712ms\tremaining: 326ms\n",
      "343:\tlearn: 0.0117070\ttotal: 714ms\tremaining: 324ms\n",
      "344:\tlearn: 0.0116489\ttotal: 716ms\tremaining: 322ms\n",
      "345:\tlearn: 0.0115932\ttotal: 718ms\tremaining: 320ms\n",
      "346:\tlearn: 0.0115520\ttotal: 721ms\tremaining: 318ms\n",
      "347:\tlearn: 0.0114968\ttotal: 723ms\tremaining: 316ms\n",
      "348:\tlearn: 0.0114138\ttotal: 725ms\tremaining: 314ms\n",
      "349:\tlearn: 0.0113443\ttotal: 727ms\tremaining: 311ms\n",
      "350:\tlearn: 0.0112859\ttotal: 729ms\tremaining: 309ms\n",
      "351:\tlearn: 0.0112146\ttotal: 731ms\tremaining: 307ms\n",
      "352:\tlearn: 0.0111821\ttotal: 733ms\tremaining: 305ms\n",
      "353:\tlearn: 0.0111530\ttotal: 735ms\tremaining: 303ms\n",
      "354:\tlearn: 0.0111144\ttotal: 737ms\tremaining: 301ms\n",
      "355:\tlearn: 0.0110884\ttotal: 739ms\tremaining: 299ms\n",
      "356:\tlearn: 0.0110507\ttotal: 741ms\tremaining: 297ms\n",
      "357:\tlearn: 0.0110269\ttotal: 743ms\tremaining: 295ms\n",
      "358:\tlearn: 0.0110064\ttotal: 745ms\tremaining: 293ms\n",
      "359:\tlearn: 0.0109900\ttotal: 747ms\tremaining: 290ms\n",
      "360:\tlearn: 0.0109458\ttotal: 749ms\tremaining: 289ms\n",
      "361:\tlearn: 0.0109213\ttotal: 752ms\tremaining: 287ms\n",
      "362:\tlearn: 0.0108756\ttotal: 754ms\tremaining: 284ms\n",
      "363:\tlearn: 0.0108487\ttotal: 756ms\tremaining: 282ms\n",
      "364:\tlearn: 0.0108086\ttotal: 758ms\tremaining: 280ms\n",
      "365:\tlearn: 0.0107616\ttotal: 759ms\tremaining: 278ms\n",
      "366:\tlearn: 0.0107440\ttotal: 761ms\tremaining: 276ms\n",
      "367:\tlearn: 0.0107229\ttotal: 763ms\tremaining: 274ms\n",
      "368:\tlearn: 0.0106959\ttotal: 766ms\tremaining: 272ms\n",
      "369:\tlearn: 0.0106424\ttotal: 768ms\tremaining: 270ms\n",
      "370:\tlearn: 0.0106087\ttotal: 770ms\tremaining: 268ms\n",
      "371:\tlearn: 0.0105821\ttotal: 772ms\tremaining: 266ms\n",
      "372:\tlearn: 0.0105592\ttotal: 774ms\tremaining: 264ms\n",
      "373:\tlearn: 0.0105056\ttotal: 776ms\tremaining: 261ms\n",
      "374:\tlearn: 0.0104459\ttotal: 778ms\tremaining: 259ms\n",
      "375:\tlearn: 0.0104322\ttotal: 780ms\tremaining: 257ms\n",
      "376:\tlearn: 0.0104079\ttotal: 783ms\tremaining: 255ms\n",
      "377:\tlearn: 0.0103943\ttotal: 785ms\tremaining: 253ms\n",
      "378:\tlearn: 0.0103512\ttotal: 787ms\tremaining: 251ms\n",
      "379:\tlearn: 0.0103270\ttotal: 789ms\tremaining: 249ms\n",
      "380:\tlearn: 0.0102428\ttotal: 791ms\tremaining: 247ms\n",
      "381:\tlearn: 0.0102152\ttotal: 793ms\tremaining: 245ms\n",
      "382:\tlearn: 0.0101563\ttotal: 795ms\tremaining: 243ms\n",
      "383:\tlearn: 0.0101053\ttotal: 797ms\tremaining: 241ms\n",
      "384:\tlearn: 0.0100756\ttotal: 799ms\tremaining: 239ms\n",
      "385:\tlearn: 0.0100166\ttotal: 801ms\tremaining: 237ms\n",
      "386:\tlearn: 0.0099827\ttotal: 803ms\tremaining: 234ms\n",
      "387:\tlearn: 0.0099369\ttotal: 805ms\tremaining: 232ms\n",
      "388:\tlearn: 0.0099078\ttotal: 806ms\tremaining: 230ms\n",
      "389:\tlearn: 0.0098819\ttotal: 808ms\tremaining: 228ms\n",
      "390:\tlearn: 0.0098397\ttotal: 810ms\tremaining: 226ms\n",
      "391:\tlearn: 0.0098261\ttotal: 812ms\tremaining: 224ms\n",
      "392:\tlearn: 0.0097642\ttotal: 814ms\tremaining: 222ms\n",
      "393:\tlearn: 0.0097184\ttotal: 816ms\tremaining: 219ms\n",
      "394:\tlearn: 0.0097183\ttotal: 817ms\tremaining: 217ms\n",
      "395:\tlearn: 0.0097100\ttotal: 819ms\tremaining: 215ms\n",
      "396:\tlearn: 0.0096937\ttotal: 821ms\tremaining: 213ms\n",
      "397:\tlearn: 0.0096647\ttotal: 823ms\tremaining: 211ms\n",
      "398:\tlearn: 0.0096647\ttotal: 825ms\tremaining: 209ms\n",
      "399:\tlearn: 0.0096322\ttotal: 828ms\tremaining: 207ms\n",
      "400:\tlearn: 0.0095898\ttotal: 830ms\tremaining: 205ms\n",
      "401:\tlearn: 0.0095438\ttotal: 832ms\tremaining: 203ms\n",
      "402:\tlearn: 0.0095011\ttotal: 834ms\tremaining: 201ms\n",
      "403:\tlearn: 0.0094836\ttotal: 836ms\tremaining: 199ms\n",
      "404:\tlearn: 0.0094436\ttotal: 838ms\tremaining: 196ms\n",
      "405:\tlearn: 0.0093895\ttotal: 840ms\tremaining: 194ms\n",
      "406:\tlearn: 0.0093366\ttotal: 842ms\tremaining: 192ms\n",
      "407:\tlearn: 0.0092835\ttotal: 844ms\tremaining: 190ms\n",
      "408:\tlearn: 0.0092526\ttotal: 846ms\tremaining: 188ms\n",
      "409:\tlearn: 0.0092188\ttotal: 848ms\tremaining: 186ms\n",
      "410:\tlearn: 0.0091601\ttotal: 850ms\tremaining: 184ms\n",
      "411:\tlearn: 0.0091298\ttotal: 851ms\tremaining: 182ms\n",
      "412:\tlearn: 0.0091031\ttotal: 853ms\tremaining: 180ms\n",
      "413:\tlearn: 0.0090316\ttotal: 855ms\tremaining: 178ms\n",
      "414:\tlearn: 0.0089794\ttotal: 857ms\tremaining: 176ms\n",
      "415:\tlearn: 0.0089443\ttotal: 859ms\tremaining: 173ms\n",
      "416:\tlearn: 0.0089237\ttotal: 861ms\tremaining: 171ms\n",
      "417:\tlearn: 0.0088968\ttotal: 862ms\tremaining: 169ms\n",
      "418:\tlearn: 0.0088355\ttotal: 864ms\tremaining: 167ms\n",
      "419:\tlearn: 0.0088084\ttotal: 866ms\tremaining: 165ms\n",
      "420:\tlearn: 0.0087811\ttotal: 868ms\tremaining: 163ms\n",
      "421:\tlearn: 0.0087577\ttotal: 870ms\tremaining: 161ms\n",
      "422:\tlearn: 0.0087239\ttotal: 872ms\tremaining: 159ms\n",
      "423:\tlearn: 0.0086988\ttotal: 874ms\tremaining: 157ms\n",
      "424:\tlearn: 0.0086835\ttotal: 876ms\tremaining: 155ms\n",
      "425:\tlearn: 0.0086752\ttotal: 878ms\tremaining: 152ms\n",
      "426:\tlearn: 0.0086153\ttotal: 879ms\tremaining: 150ms\n",
      "427:\tlearn: 0.0085632\ttotal: 881ms\tremaining: 148ms\n",
      "428:\tlearn: 0.0085268\ttotal: 883ms\tremaining: 146ms\n",
      "429:\tlearn: 0.0084940\ttotal: 885ms\tremaining: 144ms\n",
      "430:\tlearn: 0.0084731\ttotal: 887ms\tremaining: 142ms\n",
      "431:\tlearn: 0.0084462\ttotal: 888ms\tremaining: 140ms\n",
      "432:\tlearn: 0.0084257\ttotal: 890ms\tremaining: 138ms\n",
      "433:\tlearn: 0.0084215\ttotal: 892ms\tremaining: 136ms\n",
      "434:\tlearn: 0.0083903\ttotal: 894ms\tremaining: 134ms\n",
      "435:\tlearn: 0.0083372\ttotal: 896ms\tremaining: 131ms\n",
      "436:\tlearn: 0.0083136\ttotal: 897ms\tremaining: 129ms\n",
      "437:\tlearn: 0.0082963\ttotal: 899ms\tremaining: 127ms\n",
      "438:\tlearn: 0.0082683\ttotal: 901ms\tremaining: 125ms\n",
      "439:\tlearn: 0.0082533\ttotal: 903ms\tremaining: 123ms\n",
      "440:\tlearn: 0.0082306\ttotal: 905ms\tremaining: 121ms\n",
      "441:\tlearn: 0.0082084\ttotal: 907ms\tremaining: 119ms\n",
      "442:\tlearn: 0.0081933\ttotal: 908ms\tremaining: 117ms\n",
      "443:\tlearn: 0.0081629\ttotal: 910ms\tremaining: 115ms\n",
      "444:\tlearn: 0.0081472\ttotal: 912ms\tremaining: 113ms\n",
      "445:\tlearn: 0.0081279\ttotal: 914ms\tremaining: 111ms\n",
      "446:\tlearn: 0.0081016\ttotal: 916ms\tremaining: 109ms\n",
      "447:\tlearn: 0.0080676\ttotal: 918ms\tremaining: 107ms\n",
      "448:\tlearn: 0.0080206\ttotal: 920ms\tremaining: 104ms\n",
      "449:\tlearn: 0.0079993\ttotal: 921ms\tremaining: 102ms\n",
      "450:\tlearn: 0.0079885\ttotal: 923ms\tremaining: 100ms\n",
      "451:\tlearn: 0.0079723\ttotal: 925ms\tremaining: 98.2ms\n",
      "452:\tlearn: 0.0079571\ttotal: 927ms\tremaining: 96.2ms\n",
      "453:\tlearn: 0.0079118\ttotal: 929ms\tremaining: 94.1ms\n",
      "454:\tlearn: 0.0079043\ttotal: 930ms\tremaining: 92ms\n",
      "455:\tlearn: 0.0078906\ttotal: 932ms\tremaining: 89.9ms\n"
     ]
    },
    {
     "name": "stdout",
     "output_type": "stream",
     "text": [
      "456:\tlearn: 0.0078473\ttotal: 935ms\tremaining: 87.9ms\n",
      "457:\tlearn: 0.0078211\ttotal: 937ms\tremaining: 85.9ms\n",
      "458:\tlearn: 0.0078054\ttotal: 939ms\tremaining: 83.9ms\n",
      "459:\tlearn: 0.0077902\ttotal: 941ms\tremaining: 81.8ms\n",
      "460:\tlearn: 0.0077748\ttotal: 943ms\tremaining: 79.8ms\n",
      "461:\tlearn: 0.0077442\ttotal: 945ms\tremaining: 77.7ms\n",
      "462:\tlearn: 0.0077188\ttotal: 947ms\tremaining: 75.7ms\n",
      "463:\tlearn: 0.0077188\ttotal: 949ms\tremaining: 73.6ms\n",
      "464:\tlearn: 0.0076988\ttotal: 951ms\tremaining: 71.6ms\n",
      "465:\tlearn: 0.0076934\ttotal: 953ms\tremaining: 69.5ms\n",
      "466:\tlearn: 0.0076831\ttotal: 955ms\tremaining: 67.5ms\n",
      "467:\tlearn: 0.0076678\ttotal: 957ms\tremaining: 65.4ms\n",
      "468:\tlearn: 0.0076497\ttotal: 959ms\tremaining: 63.4ms\n",
      "469:\tlearn: 0.0076230\ttotal: 961ms\tremaining: 61.3ms\n",
      "470:\tlearn: 0.0075807\ttotal: 963ms\tremaining: 59.3ms\n",
      "471:\tlearn: 0.0075586\ttotal: 964ms\tremaining: 57.2ms\n",
      "472:\tlearn: 0.0075300\ttotal: 966ms\tremaining: 55.1ms\n",
      "473:\tlearn: 0.0075161\ttotal: 968ms\tremaining: 53.1ms\n",
      "474:\tlearn: 0.0074849\ttotal: 970ms\tremaining: 51ms\n",
      "475:\tlearn: 0.0074722\ttotal: 972ms\tremaining: 49ms\n",
      "476:\tlearn: 0.0074376\ttotal: 973ms\tremaining: 46.9ms\n",
      "477:\tlearn: 0.0074075\ttotal: 975ms\tremaining: 44.9ms\n",
      "478:\tlearn: 0.0073938\ttotal: 977ms\tremaining: 42.8ms\n",
      "479:\tlearn: 0.0073631\ttotal: 979ms\tremaining: 40.8ms\n",
      "480:\tlearn: 0.0073481\ttotal: 981ms\tremaining: 38.7ms\n",
      "481:\tlearn: 0.0073340\ttotal: 983ms\tremaining: 36.7ms\n",
      "482:\tlearn: 0.0073194\ttotal: 984ms\tremaining: 34.6ms\n",
      "483:\tlearn: 0.0073060\ttotal: 986ms\tremaining: 32.6ms\n",
      "484:\tlearn: 0.0072862\ttotal: 988ms\tremaining: 30.6ms\n",
      "485:\tlearn: 0.0072707\ttotal: 990ms\tremaining: 28.5ms\n",
      "486:\tlearn: 0.0072693\ttotal: 991ms\tremaining: 26.5ms\n",
      "487:\tlearn: 0.0072628\ttotal: 993ms\tremaining: 24.4ms\n",
      "488:\tlearn: 0.0072427\ttotal: 995ms\tremaining: 22.4ms\n",
      "489:\tlearn: 0.0072183\ttotal: 997ms\tremaining: 20.3ms\n",
      "490:\tlearn: 0.0072092\ttotal: 999ms\tremaining: 18.3ms\n",
      "491:\tlearn: 0.0071943\ttotal: 1s\tremaining: 16.3ms\n",
      "492:\tlearn: 0.0071940\ttotal: 1s\tremaining: 14.2ms\n",
      "493:\tlearn: 0.0071647\ttotal: 1s\tremaining: 12.2ms\n",
      "494:\tlearn: 0.0071521\ttotal: 1s\tremaining: 10.2ms\n",
      "495:\tlearn: 0.0071244\ttotal: 1.01s\tremaining: 8.12ms\n",
      "496:\tlearn: 0.0070997\ttotal: 1.01s\tremaining: 6.09ms\n",
      "497:\tlearn: 0.0070813\ttotal: 1.01s\tremaining: 4.06ms\n",
      "498:\tlearn: 0.0070414\ttotal: 1.01s\tremaining: 2.03ms\n",
      "499:\tlearn: 0.0070126\ttotal: 1.01s\tremaining: 0us\n"
     ]
    }
   ],
   "source": [
    "cv_scores = cross_val_score(cat_boost, x_sm,y_sm,cv = 5)"
   ]
  },
  {
   "cell_type": "code",
   "execution_count": 146,
   "id": "c75ea62a",
   "metadata": {},
   "outputs": [
    {
     "data": {
      "text/plain": [
       "0.868904428904429"
      ]
     },
     "execution_count": 146,
     "metadata": {},
     "output_type": "execute_result"
    }
   ],
   "source": [
    "cv_scores.mean()"
   ]
  },
  {
   "cell_type": "code",
   "execution_count": 140,
   "id": "5fd9f7fa",
   "metadata": {},
   "outputs": [],
   "source": [
    "y_pred_proba = cat_boost.predict_proba(x_test)[:,1]"
   ]
  },
  {
   "cell_type": "code",
   "execution_count": 141,
   "id": "69e5e7bf",
   "metadata": {},
   "outputs": [],
   "source": [
    "pcos_submission_catboost_1202 = pd.DataFrame({'ID': test['ID'], 'PCOS' : y_pred_proba})"
   ]
  },
  {
   "cell_type": "code",
   "execution_count": 142,
   "id": "ce9b9299",
   "metadata": {},
   "outputs": [],
   "source": [
    "pcos_submission_catboost_1202.to_csv('pcos_submission_catboost_1202.csv', index = False)"
   ]
  },
  {
   "cell_type": "markdown",
   "id": "411baa10",
   "metadata": {},
   "source": [
    "# LR"
   ]
  },
  {
   "cell_type": "code",
   "execution_count": 147,
   "id": "1b6550e8",
   "metadata": {},
   "outputs": [],
   "source": [
    "from sklearn.linear_model import LogisticRegression"
   ]
  },
  {
   "cell_type": "code",
   "execution_count": 148,
   "id": "e1385ff5",
   "metadata": {},
   "outputs": [],
   "source": [
    "lr = LogisticRegression()"
   ]
  },
  {
   "cell_type": "code",
   "execution_count": 149,
   "id": "88c95953",
   "metadata": {},
   "outputs": [
    {
     "name": "stderr",
     "output_type": "stream",
     "text": [
      "C:\\Users\\mdsmb\\anaconda3\\Lib\\site-packages\\sklearn\\linear_model\\_logistic.py:458: ConvergenceWarning: lbfgs failed to converge (status=1):\n",
      "STOP: TOTAL NO. of ITERATIONS REACHED LIMIT.\n",
      "\n",
      "Increase the number of iterations (max_iter) or scale the data as shown in:\n",
      "    https://scikit-learn.org/stable/modules/preprocessing.html\n",
      "Please also refer to the documentation for alternative solver options:\n",
      "    https://scikit-learn.org/stable/modules/linear_model.html#logistic-regression\n",
      "  n_iter_i = _check_optimize_result(\n"
     ]
    },
    {
     "data": {
      "text/html": [
       "<style>#sk-container-id-1 {color: black;background-color: white;}#sk-container-id-1 pre{padding: 0;}#sk-container-id-1 div.sk-toggleable {background-color: white;}#sk-container-id-1 label.sk-toggleable__label {cursor: pointer;display: block;width: 100%;margin-bottom: 0;padding: 0.3em;box-sizing: border-box;text-align: center;}#sk-container-id-1 label.sk-toggleable__label-arrow:before {content: \"▸\";float: left;margin-right: 0.25em;color: #696969;}#sk-container-id-1 label.sk-toggleable__label-arrow:hover:before {color: black;}#sk-container-id-1 div.sk-estimator:hover label.sk-toggleable__label-arrow:before {color: black;}#sk-container-id-1 div.sk-toggleable__content {max-height: 0;max-width: 0;overflow: hidden;text-align: left;background-color: #f0f8ff;}#sk-container-id-1 div.sk-toggleable__content pre {margin: 0.2em;color: black;border-radius: 0.25em;background-color: #f0f8ff;}#sk-container-id-1 input.sk-toggleable__control:checked~div.sk-toggleable__content {max-height: 200px;max-width: 100%;overflow: auto;}#sk-container-id-1 input.sk-toggleable__control:checked~label.sk-toggleable__label-arrow:before {content: \"▾\";}#sk-container-id-1 div.sk-estimator input.sk-toggleable__control:checked~label.sk-toggleable__label {background-color: #d4ebff;}#sk-container-id-1 div.sk-label input.sk-toggleable__control:checked~label.sk-toggleable__label {background-color: #d4ebff;}#sk-container-id-1 input.sk-hidden--visually {border: 0;clip: rect(1px 1px 1px 1px);clip: rect(1px, 1px, 1px, 1px);height: 1px;margin: -1px;overflow: hidden;padding: 0;position: absolute;width: 1px;}#sk-container-id-1 div.sk-estimator {font-family: monospace;background-color: #f0f8ff;border: 1px dotted black;border-radius: 0.25em;box-sizing: border-box;margin-bottom: 0.5em;}#sk-container-id-1 div.sk-estimator:hover {background-color: #d4ebff;}#sk-container-id-1 div.sk-parallel-item::after {content: \"\";width: 100%;border-bottom: 1px solid gray;flex-grow: 1;}#sk-container-id-1 div.sk-label:hover label.sk-toggleable__label {background-color: #d4ebff;}#sk-container-id-1 div.sk-serial::before {content: \"\";position: absolute;border-left: 1px solid gray;box-sizing: border-box;top: 0;bottom: 0;left: 50%;z-index: 0;}#sk-container-id-1 div.sk-serial {display: flex;flex-direction: column;align-items: center;background-color: white;padding-right: 0.2em;padding-left: 0.2em;position: relative;}#sk-container-id-1 div.sk-item {position: relative;z-index: 1;}#sk-container-id-1 div.sk-parallel {display: flex;align-items: stretch;justify-content: center;background-color: white;position: relative;}#sk-container-id-1 div.sk-item::before, #sk-container-id-1 div.sk-parallel-item::before {content: \"\";position: absolute;border-left: 1px solid gray;box-sizing: border-box;top: 0;bottom: 0;left: 50%;z-index: -1;}#sk-container-id-1 div.sk-parallel-item {display: flex;flex-direction: column;z-index: 1;position: relative;background-color: white;}#sk-container-id-1 div.sk-parallel-item:first-child::after {align-self: flex-end;width: 50%;}#sk-container-id-1 div.sk-parallel-item:last-child::after {align-self: flex-start;width: 50%;}#sk-container-id-1 div.sk-parallel-item:only-child::after {width: 0;}#sk-container-id-1 div.sk-dashed-wrapped {border: 1px dashed gray;margin: 0 0.4em 0.5em 0.4em;box-sizing: border-box;padding-bottom: 0.4em;background-color: white;}#sk-container-id-1 div.sk-label label {font-family: monospace;font-weight: bold;display: inline-block;line-height: 1.2em;}#sk-container-id-1 div.sk-label-container {text-align: center;}#sk-container-id-1 div.sk-container {/* jupyter's `normalize.less` sets `[hidden] { display: none; }` but bootstrap.min.css set `[hidden] { display: none !important; }` so we also need the `!important` here to be able to override the default hidden behavior on the sphinx rendered scikit-learn.org. See: https://github.com/scikit-learn/scikit-learn/issues/21755 */display: inline-block !important;position: relative;}#sk-container-id-1 div.sk-text-repr-fallback {display: none;}</style><div id=\"sk-container-id-1\" class=\"sk-top-container\"><div class=\"sk-text-repr-fallback\"><pre>LogisticRegression()</pre><b>In a Jupyter environment, please rerun this cell to show the HTML representation or trust the notebook. <br />On GitHub, the HTML representation is unable to render, please try loading this page with nbviewer.org.</b></div><div class=\"sk-container\" hidden><div class=\"sk-item\"><div class=\"sk-estimator sk-toggleable\"><input class=\"sk-toggleable__control sk-hidden--visually\" id=\"sk-estimator-id-1\" type=\"checkbox\" checked><label for=\"sk-estimator-id-1\" class=\"sk-toggleable__label sk-toggleable__label-arrow\">LogisticRegression</label><div class=\"sk-toggleable__content\"><pre>LogisticRegression()</pre></div></div></div></div></div>"
      ],
      "text/plain": [
       "LogisticRegression()"
      ]
     },
     "execution_count": 149,
     "metadata": {},
     "output_type": "execute_result"
    }
   ],
   "source": [
    "lr.fit(x_sm,y_sm)"
   ]
  },
  {
   "cell_type": "code",
   "execution_count": 151,
   "id": "82e342d9",
   "metadata": {},
   "outputs": [
    {
     "name": "stderr",
     "output_type": "stream",
     "text": [
      "C:\\Users\\mdsmb\\anaconda3\\Lib\\site-packages\\sklearn\\linear_model\\_logistic.py:458: ConvergenceWarning: lbfgs failed to converge (status=1):\n",
      "STOP: TOTAL NO. of ITERATIONS REACHED LIMIT.\n",
      "\n",
      "Increase the number of iterations (max_iter) or scale the data as shown in:\n",
      "    https://scikit-learn.org/stable/modules/preprocessing.html\n",
      "Please also refer to the documentation for alternative solver options:\n",
      "    https://scikit-learn.org/stable/modules/linear_model.html#logistic-regression\n",
      "  n_iter_i = _check_optimize_result(\n",
      "C:\\Users\\mdsmb\\anaconda3\\Lib\\site-packages\\sklearn\\linear_model\\_logistic.py:458: ConvergenceWarning: lbfgs failed to converge (status=1):\n",
      "STOP: TOTAL NO. of ITERATIONS REACHED LIMIT.\n",
      "\n",
      "Increase the number of iterations (max_iter) or scale the data as shown in:\n",
      "    https://scikit-learn.org/stable/modules/preprocessing.html\n",
      "Please also refer to the documentation for alternative solver options:\n",
      "    https://scikit-learn.org/stable/modules/linear_model.html#logistic-regression\n",
      "  n_iter_i = _check_optimize_result(\n",
      "C:\\Users\\mdsmb\\anaconda3\\Lib\\site-packages\\sklearn\\linear_model\\_logistic.py:458: ConvergenceWarning: lbfgs failed to converge (status=1):\n",
      "STOP: TOTAL NO. of ITERATIONS REACHED LIMIT.\n",
      "\n",
      "Increase the number of iterations (max_iter) or scale the data as shown in:\n",
      "    https://scikit-learn.org/stable/modules/preprocessing.html\n",
      "Please also refer to the documentation for alternative solver options:\n",
      "    https://scikit-learn.org/stable/modules/linear_model.html#logistic-regression\n",
      "  n_iter_i = _check_optimize_result(\n",
      "C:\\Users\\mdsmb\\anaconda3\\Lib\\site-packages\\sklearn\\linear_model\\_logistic.py:458: ConvergenceWarning: lbfgs failed to converge (status=1):\n",
      "STOP: TOTAL NO. of ITERATIONS REACHED LIMIT.\n",
      "\n",
      "Increase the number of iterations (max_iter) or scale the data as shown in:\n",
      "    https://scikit-learn.org/stable/modules/preprocessing.html\n",
      "Please also refer to the documentation for alternative solver options:\n",
      "    https://scikit-learn.org/stable/modules/linear_model.html#logistic-regression\n",
      "  n_iter_i = _check_optimize_result(\n",
      "C:\\Users\\mdsmb\\anaconda3\\Lib\\site-packages\\sklearn\\linear_model\\_logistic.py:458: ConvergenceWarning: lbfgs failed to converge (status=1):\n",
      "STOP: TOTAL NO. of ITERATIONS REACHED LIMIT.\n",
      "\n",
      "Increase the number of iterations (max_iter) or scale the data as shown in:\n",
      "    https://scikit-learn.org/stable/modules/preprocessing.html\n",
      "Please also refer to the documentation for alternative solver options:\n",
      "    https://scikit-learn.org/stable/modules/linear_model.html#logistic-regression\n",
      "  n_iter_i = _check_optimize_result(\n"
     ]
    }
   ],
   "source": [
    "cv_scores = cross_val_score(lr, x_sm,y_sm,cv = 5)"
   ]
  },
  {
   "cell_type": "code",
   "execution_count": 152,
   "id": "a911be76",
   "metadata": {},
   "outputs": [
    {
     "data": {
      "text/plain": [
       "0.7802797202797203"
      ]
     },
     "execution_count": 152,
     "metadata": {},
     "output_type": "execute_result"
    }
   ],
   "source": [
    "cv_scores.mean()"
   ]
  },
  {
   "cell_type": "code",
   "execution_count": 153,
   "id": "9afb8a0a",
   "metadata": {},
   "outputs": [],
   "source": [
    "y_pred_proba = lr.predict_proba(x_test)[:,1]"
   ]
  },
  {
   "cell_type": "code",
   "execution_count": 154,
   "id": "8db287a7",
   "metadata": {},
   "outputs": [],
   "source": [
    "pcos_submission_lr_1202 = pd.DataFrame({'ID': test['ID'], 'PCOS' : y_pred_proba})"
   ]
  },
  {
   "cell_type": "code",
   "execution_count": 155,
   "id": "5ba38a44",
   "metadata": {},
   "outputs": [],
   "source": [
    "pcos_submission_lr_1202.to_csv('pcos_submission_lr_1202.csv', index = False)"
   ]
  },
  {
   "cell_type": "code",
   "execution_count": null,
   "id": "e253c70b",
   "metadata": {},
   "outputs": [],
   "source": []
  }
 ],
 "metadata": {
  "kernelspec": {
   "display_name": "Python 3 (ipykernel)",
   "language": "python",
   "name": "python3"
  },
  "language_info": {
   "codemirror_mode": {
    "name": "ipython",
    "version": 3
   },
   "file_extension": ".py",
   "mimetype": "text/x-python",
   "name": "python",
   "nbconvert_exporter": "python",
   "pygments_lexer": "ipython3",
   "version": "3.11.5"
  }
 },
 "nbformat": 4,
 "nbformat_minor": 5
}
